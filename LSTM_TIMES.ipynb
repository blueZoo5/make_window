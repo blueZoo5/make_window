{
 "cells": [
  {
   "cell_type": "code",
   "execution_count": 1,
   "id": "92188abf-bcd7-4358-96fc-2eff4424830c",
   "metadata": {
    "tags": []
   },
   "outputs": [],
   "source": [
    "# \n",
    "\n",
    "import pandas as pd\n",
    "import numpy as np\n",
    "from string import punctuation\n",
    "\n",
    "from tensorflow.keras.preprocessing.text import Tokenizer\n",
    "from tensorflow.keras.preprocessing.sequence import pad_sequences\n",
    "from tensorflow.keras.utils import to_categorical"
   ]
  },
  {
   "cell_type": "code",
   "execution_count": 2,
   "id": "92c0ec8a-8dbb-40b2-87ab-b18d9bf1203d",
   "metadata": {
    "tags": []
   },
   "outputs": [
    {
     "data": {
      "text/html": [
       "<div>\n",
       "<style scoped>\n",
       "    .dataframe tbody tr th:only-of-type {\n",
       "        vertical-align: middle;\n",
       "    }\n",
       "\n",
       "    .dataframe tbody tr th {\n",
       "        vertical-align: top;\n",
       "    }\n",
       "\n",
       "    .dataframe thead th {\n",
       "        text-align: right;\n",
       "    }\n",
       "</style>\n",
       "<table border=\"1\" class=\"dataframe\">\n",
       "  <thead>\n",
       "    <tr style=\"text-align: right;\">\n",
       "      <th></th>\n",
       "      <th>articleID</th>\n",
       "      <th>articleWordCount</th>\n",
       "      <th>byline</th>\n",
       "      <th>documentType</th>\n",
       "      <th>headline</th>\n",
       "      <th>keywords</th>\n",
       "      <th>multimedia</th>\n",
       "      <th>newDesk</th>\n",
       "      <th>printPage</th>\n",
       "      <th>pubDate</th>\n",
       "      <th>sectionName</th>\n",
       "      <th>snippet</th>\n",
       "      <th>source</th>\n",
       "      <th>typeOfMaterial</th>\n",
       "      <th>webURL</th>\n",
       "    </tr>\n",
       "  </thead>\n",
       "  <tbody>\n",
       "    <tr>\n",
       "      <th>0</th>\n",
       "      <td>5adf6684068401528a2aa69b</td>\n",
       "      <td>781</td>\n",
       "      <td>By JOHN BRANCH</td>\n",
       "      <td>article</td>\n",
       "      <td>Former N.F.L. Cheerleaders’ Settlement Offer: ...</td>\n",
       "      <td>['Workplace Hazards and Violations', 'Football...</td>\n",
       "      <td>68</td>\n",
       "      <td>Sports</td>\n",
       "      <td>0</td>\n",
       "      <td>2018-04-24 17:16:49</td>\n",
       "      <td>Pro Football</td>\n",
       "      <td>“I understand that they could meet with us, pa...</td>\n",
       "      <td>The New York Times</td>\n",
       "      <td>News</td>\n",
       "      <td>https://www.nytimes.com/2018/04/24/sports/foot...</td>\n",
       "    </tr>\n",
       "    <tr>\n",
       "      <th>1</th>\n",
       "      <td>5adf653f068401528a2aa697</td>\n",
       "      <td>656</td>\n",
       "      <td>By LISA FRIEDMAN</td>\n",
       "      <td>article</td>\n",
       "      <td>E.P.A. to Unveil a New Rule. Its Effect: Less ...</td>\n",
       "      <td>['Environmental Protection Agency', 'Pruitt, S...</td>\n",
       "      <td>68</td>\n",
       "      <td>Climate</td>\n",
       "      <td>0</td>\n",
       "      <td>2018-04-24 17:11:21</td>\n",
       "      <td>Unknown</td>\n",
       "      <td>The agency plans to publish a new regulation T...</td>\n",
       "      <td>The New York Times</td>\n",
       "      <td>News</td>\n",
       "      <td>https://www.nytimes.com/2018/04/24/climate/epa...</td>\n",
       "    </tr>\n",
       "    <tr>\n",
       "      <th>2</th>\n",
       "      <td>5adf4626068401528a2aa628</td>\n",
       "      <td>2427</td>\n",
       "      <td>By PETE WELLS</td>\n",
       "      <td>article</td>\n",
       "      <td>The New Noma, Explained</td>\n",
       "      <td>['Restaurants', 'Noma (Copenhagen, Restaurant)...</td>\n",
       "      <td>66</td>\n",
       "      <td>Dining</td>\n",
       "      <td>0</td>\n",
       "      <td>2018-04-24 14:58:44</td>\n",
       "      <td>Unknown</td>\n",
       "      <td>What’s it like to eat at the second incarnatio...</td>\n",
       "      <td>The New York Times</td>\n",
       "      <td>News</td>\n",
       "      <td>https://www.nytimes.com/2018/04/24/dining/noma...</td>\n",
       "    </tr>\n",
       "    <tr>\n",
       "      <th>3</th>\n",
       "      <td>5adf40d2068401528a2aa619</td>\n",
       "      <td>626</td>\n",
       "      <td>By JULIE HIRSCHFELD DAVIS and PETER BAKER</td>\n",
       "      <td>article</td>\n",
       "      <td>Unknown</td>\n",
       "      <td>['Macron, Emmanuel (1977- )', 'Trump, Donald J...</td>\n",
       "      <td>68</td>\n",
       "      <td>Washington</td>\n",
       "      <td>0</td>\n",
       "      <td>2018-04-24 14:35:57</td>\n",
       "      <td>Europe</td>\n",
       "      <td>President Trump welcomed President Emmanuel Ma...</td>\n",
       "      <td>The New York Times</td>\n",
       "      <td>News</td>\n",
       "      <td>https://www.nytimes.com/2018/04/24/world/europ...</td>\n",
       "    </tr>\n",
       "    <tr>\n",
       "      <th>4</th>\n",
       "      <td>5adf3d64068401528a2aa60f</td>\n",
       "      <td>815</td>\n",
       "      <td>By IAN AUSTEN and DAN BILEFSKY</td>\n",
       "      <td>article</td>\n",
       "      <td>Unknown</td>\n",
       "      <td>['Toronto, Ontario, Attack (April, 2018)', 'Mu...</td>\n",
       "      <td>68</td>\n",
       "      <td>Foreign</td>\n",
       "      <td>0</td>\n",
       "      <td>2018-04-24 14:21:21</td>\n",
       "      <td>Canada</td>\n",
       "      <td>Alek Minassian, 25, a resident of Toronto’s Ri...</td>\n",
       "      <td>The New York Times</td>\n",
       "      <td>News</td>\n",
       "      <td>https://www.nytimes.com/2018/04/24/world/canad...</td>\n",
       "    </tr>\n",
       "  </tbody>\n",
       "</table>\n",
       "</div>"
      ],
      "text/plain": [
       "                  articleID  articleWordCount  \\\n",
       "0  5adf6684068401528a2aa69b               781   \n",
       "1  5adf653f068401528a2aa697               656   \n",
       "2  5adf4626068401528a2aa628              2427   \n",
       "3  5adf40d2068401528a2aa619               626   \n",
       "4  5adf3d64068401528a2aa60f               815   \n",
       "\n",
       "                                      byline documentType  \\\n",
       "0                             By JOHN BRANCH      article   \n",
       "1                           By LISA FRIEDMAN      article   \n",
       "2                              By PETE WELLS      article   \n",
       "3  By JULIE HIRSCHFELD DAVIS and PETER BAKER      article   \n",
       "4             By IAN AUSTEN and DAN BILEFSKY      article   \n",
       "\n",
       "                                            headline  \\\n",
       "0  Former N.F.L. Cheerleaders’ Settlement Offer: ...   \n",
       "1  E.P.A. to Unveil a New Rule. Its Effect: Less ...   \n",
       "2                            The New Noma, Explained   \n",
       "3                                            Unknown   \n",
       "4                                            Unknown   \n",
       "\n",
       "                                            keywords  multimedia     newDesk  \\\n",
       "0  ['Workplace Hazards and Violations', 'Football...          68      Sports   \n",
       "1  ['Environmental Protection Agency', 'Pruitt, S...          68     Climate   \n",
       "2  ['Restaurants', 'Noma (Copenhagen, Restaurant)...          66      Dining   \n",
       "3  ['Macron, Emmanuel (1977- )', 'Trump, Donald J...          68  Washington   \n",
       "4  ['Toronto, Ontario, Attack (April, 2018)', 'Mu...          68     Foreign   \n",
       "\n",
       "   printPage              pubDate   sectionName  \\\n",
       "0          0  2018-04-24 17:16:49  Pro Football   \n",
       "1          0  2018-04-24 17:11:21       Unknown   \n",
       "2          0  2018-04-24 14:58:44       Unknown   \n",
       "3          0  2018-04-24 14:35:57        Europe   \n",
       "4          0  2018-04-24 14:21:21        Canada   \n",
       "\n",
       "                                             snippet              source  \\\n",
       "0  “I understand that they could meet with us, pa...  The New York Times   \n",
       "1  The agency plans to publish a new regulation T...  The New York Times   \n",
       "2  What’s it like to eat at the second incarnatio...  The New York Times   \n",
       "3  President Trump welcomed President Emmanuel Ma...  The New York Times   \n",
       "4  Alek Minassian, 25, a resident of Toronto’s Ri...  The New York Times   \n",
       "\n",
       "  typeOfMaterial                                             webURL  \n",
       "0           News  https://www.nytimes.com/2018/04/24/sports/foot...  \n",
       "1           News  https://www.nytimes.com/2018/04/24/climate/epa...  \n",
       "2           News  https://www.nytimes.com/2018/04/24/dining/noma...  \n",
       "3           News  https://www.nytimes.com/2018/04/24/world/europ...  \n",
       "4           News  https://www.nytimes.com/2018/04/24/world/canad...  "
      ]
     },
     "execution_count": 2,
     "metadata": {},
     "output_type": "execute_result"
    }
   ],
   "source": [
    "df = pd.read_csv('C:/Users/USER/Desktop/project/ML_study/archive/ArticlesApril2018.csv')\n",
    "df.head()"
   ]
  },
  {
   "cell_type": "code",
   "execution_count": 3,
   "id": "530abc4c-e267-4bbd-a2bd-f2ee60c57a23",
   "metadata": {
    "tags": []
   },
   "outputs": [
    {
     "name": "stdout",
     "output_type": "stream",
     "text": [
      "열의 개수:  15\n",
      "Index(['articleID', 'articleWordCount', 'byline', 'documentType', 'headline',\n",
      "       'keywords', 'multimedia', 'newDesk', 'printPage', 'pubDate',\n",
      "       'sectionName', 'snippet', 'source', 'typeOfMaterial', 'webURL'],\n",
      "      dtype='object')\n"
     ]
    }
   ],
   "source": [
    "print('열의 개수: ',len(df.columns))\n",
    "print(df.columns)"
   ]
  },
  {
   "cell_type": "code",
   "execution_count": 4,
   "id": "556d2636-ebf1-4440-ac0b-c2e27f044c0e",
   "metadata": {
    "tags": []
   },
   "outputs": [
    {
     "name": "stdout",
     "output_type": "stream",
     "text": [
      "False\n"
     ]
    }
   ],
   "source": [
    "# Null값 확인\n",
    "print(df['headline'].isnull().values.any())"
   ]
  },
  {
   "cell_type": "code",
   "execution_count": 5,
   "id": "e21b1f4b-bf26-46ab-b48f-24c531aaf784",
   "metadata": {
    "tags": []
   },
   "outputs": [
    {
     "data": {
      "text/plain": [
       "['Former N.F.L. Cheerleaders’ Settlement Offer: $1 and a Meeting With Goodell',\n",
       " 'E.P.A. to Unveil a New Rule. Its Effect: Less Science in Policymaking.',\n",
       " 'The New Noma, Explained',\n",
       " 'Unknown',\n",
       " 'Unknown']"
      ]
     },
     "execution_count": 5,
     "metadata": {},
     "output_type": "execute_result"
    }
   ],
   "source": [
    "headline = []\n",
    "# 헤드라인의 값들을 리스트로 저장\n",
    "headline.extend(list(df.headline.values)) \n",
    "headline[:5]"
   ]
  },
  {
   "cell_type": "code",
   "execution_count": 6,
   "id": "db389b88-04f9-4639-a195-003216eec906",
   "metadata": {
    "tags": []
   },
   "outputs": [
    {
     "name": "stdout",
     "output_type": "stream",
     "text": [
      "총 샘플의 개수 : 1324\n"
     ]
    }
   ],
   "source": [
    "print('총 샘플의 개수 : {}'.format(len(headline)))"
   ]
  },
  {
   "cell_type": "code",
   "execution_count": 7,
   "id": "29a4437b-8b25-480f-b526-04dc3ffd4817",
   "metadata": {
    "tags": []
   },
   "outputs": [
    {
     "name": "stdout",
     "output_type": "stream",
     "text": [
      "노이즈값 제거 후 샘플의 개수 : 1214\n"
     ]
    }
   ],
   "source": [
    "#헤드라인에서 'unknown' value 제거\n",
    "headline = [word for word in headline if word != \"Unknown\"]\n",
    "print('노이즈값 제거 후 샘플의 개수 : {}'.format(len(headline)))"
   ]
  },
  {
   "cell_type": "code",
   "execution_count": 8,
   "id": "dbb4e6c9-f8bf-4b9a-8c07-0c824d746123",
   "metadata": {
    "tags": []
   },
   "outputs": [
    {
     "data": {
      "text/plain": [
       "['Former N.F.L. Cheerleaders’ Settlement Offer: $1 and a Meeting With Goodell',\n",
       " 'E.P.A. to Unveil a New Rule. Its Effect: Less Science in Policymaking.',\n",
       " 'The New Noma, Explained',\n",
       " 'How a Bag of Texas Dirt  Became a Times Tradition',\n",
       " 'Is School a Place for Self-Expression?']"
      ]
     },
     "execution_count": 8,
     "metadata": {},
     "output_type": "execute_result"
    }
   ],
   "source": [
    "headline[:5]"
   ]
  },
  {
   "cell_type": "code",
   "execution_count": 9,
   "id": "088fae3e-c481-4d27-8668-fb5a97556bab",
   "metadata": {
    "tags": []
   },
   "outputs": [
    {
     "data": {
      "text/plain": [
       "['former nfl cheerleaders settlement offer 1 and a meeting with goodell',\n",
       " 'epa to unveil a new rule its effect less science in policymaking',\n",
       " 'the new noma explained',\n",
       " 'how a bag of texas dirt  became a times tradition',\n",
       " 'is school a place for selfexpression']"
      ]
     },
     "execution_count": 9,
     "metadata": {},
     "output_type": "execute_result"
    }
   ],
   "source": [
    "# 구두점 제거와 동시에 소문자화 후 concatenation\n",
    "def repreprocessing(raw_sentence):\n",
    "    preproceseed_sentence = raw_sentence.encode(\"utf8\").decode(\"ascii\",'ignore')\n",
    "    return ''.join(word for word in preproceseed_sentence if word not in punctuation).lower()\n",
    "\n",
    "preprocessed_headline = [repreprocessing(x) for x in headline]\n",
    "preprocessed_headline[:5]"
   ]
  },
  {
   "cell_type": "code",
   "execution_count": 10,
   "id": "d7b46e21-03b4-483d-942e-a5c3b43dae7f",
   "metadata": {
    "tags": []
   },
   "outputs": [
    {
     "name": "stdout",
     "output_type": "stream",
     "text": [
      "단어 집합의 크기 : 3494\n"
     ]
    }
   ],
   "source": [
    "#단어 토크나이징\n",
    "\n",
    "tokenizer = Tokenizer()\n",
    "tokenizer.fit_on_texts(preprocessed_headline)\n",
    "vocab_size = len(tokenizer.word_index) + 1\n",
    "print('단어 집합의 크기 : %d' % vocab_size)"
   ]
  },
  {
   "cell_type": "code",
   "execution_count": 11,
   "id": "f8a88304-b6a4-4a1f-a8f4-fc94459e3d32",
   "metadata": {
    "tags": []
   },
   "outputs": [
    {
     "data": {
      "text/plain": [
       "[[99, 269],\n",
       " [99, 269, 371],\n",
       " [99, 269, 371, 1115],\n",
       " [99, 269, 371, 1115, 582],\n",
       " [99, 269, 371, 1115, 582, 52],\n",
       " [99, 269, 371, 1115, 582, 52, 7],\n",
       " [99, 269, 371, 1115, 582, 52, 7, 2],\n",
       " [99, 269, 371, 1115, 582, 52, 7, 2, 372],\n",
       " [99, 269, 371, 1115, 582, 52, 7, 2, 372, 10],\n",
       " [99, 269, 371, 1115, 582, 52, 7, 2, 372, 10, 1116],\n",
       " [100, 3]]"
      ]
     },
     "execution_count": 11,
     "metadata": {},
     "output_type": "execute_result"
    }
   ],
   "source": [
    "sequences = list()\n",
    "\n",
    "for sentence in preprocessed_headline:\n",
    "\n",
    "    # 각 샘플에 대한 정수 인코딩\n",
    "    encoded = tokenizer.texts_to_sequences([sentence])[0] \n",
    "    for i in range(1, len(encoded)):\n",
    "        sequence = encoded[:i+1]\n",
    "        sequences.append(sequence)\n",
    "\n",
    "sequences[:11]"
   ]
  },
  {
   "cell_type": "code",
   "execution_count": 20,
   "id": "1ffa909c-d7b2-425f-9cf6-67cab32046b6",
   "metadata": {
    "tags": []
   },
   "outputs": [
    {
     "name": "stdout",
     "output_type": "stream",
     "text": [
      "빈도수 상위 33번 단어 : are\n"
     ]
    }
   ],
   "source": [
    "# 인덱스를 단어로 바꾸기 위해 index_to_word를 생성\n",
    "index_to_word = {}\n",
    "for key, value in tokenizer.word_index.items(): \n",
    "    index_to_word[value] = key\n",
    "\n",
    "print('빈도수 상위 33번 단어 : {}'.format(index_to_word[33]))"
   ]
  },
  {
   "cell_type": "code",
   "execution_count": 13,
   "id": "c4a83a45-715c-44ff-b3a3-664c23eb5db0",
   "metadata": {
    "tags": []
   },
   "outputs": [
    {
     "name": "stdout",
     "output_type": "stream",
     "text": [
      "샘플의 최대 길이 : 24\n"
     ]
    }
   ],
   "source": [
    "# 문서 최대길이\n",
    "max_len = max(len(l) for l in sequences)\n",
    "print('샘플의 최대 길이 : {}'.format(max_len))"
   ]
  },
  {
   "cell_type": "code",
   "execution_count": 14,
   "id": "24bf22bd-8efe-4e5c-8ab5-f3d8294e740a",
   "metadata": {
    "tags": []
   },
   "outputs": [
    {
     "name": "stdout",
     "output_type": "stream",
     "text": [
      "[[   0    0    0    0    0    0    0    0    0    0    0    0    0    0\n",
      "     0    0    0    0    0    0    0    0   99  269]\n",
      " [   0    0    0    0    0    0    0    0    0    0    0    0    0    0\n",
      "     0    0    0    0    0    0    0   99  269  371]\n",
      " [   0    0    0    0    0    0    0    0    0    0    0    0    0    0\n",
      "     0    0    0    0    0    0   99  269  371 1115]]\n"
     ]
    }
   ],
   "source": [
    "# 패딩 수행\n",
    "sequences = pad_sequences(sequences, maxlen=max_len, padding='pre')\n",
    "print(sequences[:3])"
   ]
  },
  {
   "cell_type": "code",
   "execution_count": 15,
   "id": "715e319c-be0c-41e6-941b-e6541d43fd9b",
   "metadata": {
    "tags": []
   },
   "outputs": [],
   "source": [
    "# 입력값과 출력값 분리\n",
    "sequences = np.array(sequences)\n",
    "X = sequences[:,:-1]\n",
    "y = sequences[:,-1]"
   ]
  },
  {
   "cell_type": "code",
   "execution_count": 16,
   "id": "63a444df-5d82-40d4-99e7-ed5be80f573f",
   "metadata": {
    "tags": []
   },
   "outputs": [],
   "source": [
    "# 출력값은 원핫코딩\n",
    "y = to_categorical(y, num_classes=vocab_size)"
   ]
  },
  {
   "cell_type": "code",
   "execution_count": 17,
   "id": "12e2c08a-7b95-44f2-8535-c65cfa82c16e",
   "metadata": {
    "tags": []
   },
   "outputs": [],
   "source": [
    "from tensorflow.keras.models import Sequential\n",
    "from tensorflow.keras.layers import Embedding, Dense, LSTM"
   ]
  },
  {
   "cell_type": "code",
   "execution_count": 18,
   "id": "1eefa1fe-aead-4060-ae17-230a9d3cbbcc",
   "metadata": {
    "tags": []
   },
   "outputs": [
    {
     "name": "stdout",
     "output_type": "stream",
     "text": [
      "Epoch 1/200\n",
      "244/244 - 5s - loss: 7.6548 - accuracy: 0.0302 - 5s/epoch - 22ms/step\n",
      "Epoch 2/200\n",
      "244/244 - 4s - loss: 7.1213 - accuracy: 0.0293 - 4s/epoch - 14ms/step\n",
      "Epoch 3/200\n",
      "244/244 - 4s - loss: 6.9841 - accuracy: 0.0351 - 4s/epoch - 15ms/step\n",
      "Epoch 4/200\n",
      "244/244 - 4s - loss: 6.8612 - accuracy: 0.0413 - 4s/epoch - 15ms/step\n",
      "Epoch 5/200\n",
      "244/244 - 4s - loss: 6.7168 - accuracy: 0.0433 - 4s/epoch - 16ms/step\n",
      "Epoch 6/200\n",
      "244/244 - 4s - loss: 6.5501 - accuracy: 0.0479 - 4s/epoch - 14ms/step\n",
      "Epoch 7/200\n",
      "244/244 - 4s - loss: 6.3732 - accuracy: 0.0496 - 4s/epoch - 16ms/step\n",
      "Epoch 8/200\n",
      "244/244 - 4s - loss: 6.1812 - accuracy: 0.0550 - 4s/epoch - 17ms/step\n",
      "Epoch 9/200\n",
      "244/244 - 4s - loss: 5.9985 - accuracy: 0.0607 - 4s/epoch - 15ms/step\n",
      "Epoch 10/200\n",
      "244/244 - 4s - loss: 5.8252 - accuracy: 0.0636 - 4s/epoch - 15ms/step\n",
      "Epoch 11/200\n",
      "244/244 - 4s - loss: 5.6579 - accuracy: 0.0684 - 4s/epoch - 15ms/step\n",
      "Epoch 12/200\n",
      "244/244 - 4s - loss: 5.4987 - accuracy: 0.0701 - 4s/epoch - 15ms/step\n",
      "Epoch 13/200\n",
      "244/244 - 4s - loss: 5.3441 - accuracy: 0.0779 - 4s/epoch - 14ms/step\n",
      "Epoch 14/200\n",
      "244/244 - 4s - loss: 5.1991 - accuracy: 0.0859 - 4s/epoch - 14ms/step\n",
      "Epoch 15/200\n",
      "244/244 - 3s - loss: 5.0555 - accuracy: 0.0919 - 3s/epoch - 14ms/step\n",
      "Epoch 16/200\n",
      "244/244 - 4s - loss: 4.9232 - accuracy: 0.0978 - 4s/epoch - 15ms/step\n",
      "Epoch 17/200\n",
      "244/244 - 4s - loss: 4.7916 - accuracy: 0.1100 - 4s/epoch - 15ms/step\n",
      "Epoch 18/200\n",
      "244/244 - 3s - loss: 4.6629 - accuracy: 0.1253 - 3s/epoch - 14ms/step\n",
      "Epoch 19/200\n",
      "244/244 - 3s - loss: 4.5397 - accuracy: 0.1382 - 3s/epoch - 14ms/step\n",
      "Epoch 20/200\n",
      "244/244 - 4s - loss: 4.4211 - accuracy: 0.1494 - 4s/epoch - 14ms/step\n",
      "Epoch 21/200\n",
      "244/244 - 4s - loss: 4.3066 - accuracy: 0.1648 - 4s/epoch - 15ms/step\n",
      "Epoch 22/200\n",
      "244/244 - 4s - loss: 4.1924 - accuracy: 0.1828 - 4s/epoch - 14ms/step\n",
      "Epoch 23/200\n",
      "244/244 - 3s - loss: 4.0838 - accuracy: 0.1984 - 3s/epoch - 14ms/step\n",
      "Epoch 24/200\n",
      "244/244 - 4s - loss: 3.9767 - accuracy: 0.2179 - 4s/epoch - 14ms/step\n",
      "Epoch 25/200\n",
      "244/244 - 4s - loss: 3.8730 - accuracy: 0.2358 - 4s/epoch - 15ms/step\n",
      "Epoch 26/200\n",
      "244/244 - 4s - loss: 3.7751 - accuracy: 0.2522 - 4s/epoch - 15ms/step\n",
      "Epoch 27/200\n",
      "244/244 - 3s - loss: 3.6773 - accuracy: 0.2664 - 3s/epoch - 14ms/step\n",
      "Epoch 28/200\n",
      "244/244 - 3s - loss: 3.5828 - accuracy: 0.2837 - 3s/epoch - 14ms/step\n",
      "Epoch 29/200\n",
      "244/244 - 4s - loss: 3.4938 - accuracy: 0.2986 - 4s/epoch - 14ms/step\n",
      "Epoch 30/200\n",
      "244/244 - 4s - loss: 3.4049 - accuracy: 0.3181 - 4s/epoch - 15ms/step\n",
      "Epoch 31/200\n",
      "244/244 - 4s - loss: 3.3195 - accuracy: 0.3300 - 4s/epoch - 15ms/step\n",
      "Epoch 32/200\n",
      "244/244 - 4s - loss: 3.2375 - accuracy: 0.3401 - 4s/epoch - 14ms/step\n",
      "Epoch 33/200\n",
      "244/244 - 4s - loss: 3.1603 - accuracy: 0.3563 - 4s/epoch - 14ms/step\n",
      "Epoch 34/200\n",
      "244/244 - 4s - loss: 3.0805 - accuracy: 0.3733 - 4s/epoch - 15ms/step\n",
      "Epoch 35/200\n",
      "244/244 - 4s - loss: 3.0059 - accuracy: 0.3892 - 4s/epoch - 15ms/step\n",
      "Epoch 36/200\n",
      "244/244 - 3s - loss: 2.9336 - accuracy: 0.4007 - 3s/epoch - 14ms/step\n",
      "Epoch 37/200\n",
      "244/244 - 4s - loss: 2.8649 - accuracy: 0.4125 - 4s/epoch - 14ms/step\n",
      "Epoch 38/200\n",
      "244/244 - 4s - loss: 2.7985 - accuracy: 0.4242 - 4s/epoch - 14ms/step\n",
      "Epoch 39/200\n",
      "244/244 - 4s - loss: 2.7312 - accuracy: 0.4396 - 4s/epoch - 15ms/step\n",
      "Epoch 40/200\n",
      "244/244 - 4s - loss: 2.6679 - accuracy: 0.4461 - 4s/epoch - 15ms/step\n",
      "Epoch 41/200\n",
      "244/244 - 4s - loss: 2.6060 - accuracy: 0.4614 - 4s/epoch - 14ms/step\n",
      "Epoch 42/200\n",
      "244/244 - 4s - loss: 2.5446 - accuracy: 0.4740 - 4s/epoch - 15ms/step\n",
      "Epoch 43/200\n",
      "244/244 - 4s - loss: 2.4883 - accuracy: 0.4844 - 4s/epoch - 15ms/step\n",
      "Epoch 44/200\n",
      "244/244 - 4s - loss: 2.4278 - accuracy: 0.4979 - 4s/epoch - 15ms/step\n",
      "Epoch 45/200\n",
      "244/244 - 4s - loss: 2.3751 - accuracy: 0.5057 - 4s/epoch - 14ms/step\n",
      "Epoch 46/200\n",
      "244/244 - 4s - loss: 2.3211 - accuracy: 0.5188 - 4s/epoch - 14ms/step\n",
      "Epoch 47/200\n",
      "244/244 - 4s - loss: 2.2709 - accuracy: 0.5238 - 4s/epoch - 15ms/step\n",
      "Epoch 48/200\n",
      "244/244 - 4s - loss: 2.2200 - accuracy: 0.5381 - 4s/epoch - 15ms/step\n",
      "Epoch 49/200\n",
      "244/244 - 4s - loss: 2.1678 - accuracy: 0.5459 - 4s/epoch - 15ms/step\n",
      "Epoch 50/200\n",
      "244/244 - 4s - loss: 2.1172 - accuracy: 0.5607 - 4s/epoch - 14ms/step\n",
      "Epoch 51/200\n",
      "244/244 - 4s - loss: 2.0716 - accuracy: 0.5697 - 4s/epoch - 14ms/step\n",
      "Epoch 52/200\n",
      "244/244 - 4s - loss: 2.0240 - accuracy: 0.5793 - 4s/epoch - 15ms/step\n",
      "Epoch 53/200\n",
      "244/244 - 4s - loss: 1.9806 - accuracy: 0.5911 - 4s/epoch - 15ms/step\n",
      "Epoch 54/200\n",
      "244/244 - 4s - loss: 1.9377 - accuracy: 0.6000 - 4s/epoch - 14ms/step\n",
      "Epoch 55/200\n",
      "244/244 - 4s - loss: 1.8930 - accuracy: 0.6076 - 4s/epoch - 14ms/step\n",
      "Epoch 56/200\n",
      "244/244 - 4s - loss: 1.8484 - accuracy: 0.6173 - 4s/epoch - 15ms/step\n",
      "Epoch 57/200\n",
      "244/244 - 4s - loss: 1.8074 - accuracy: 0.6318 - 4s/epoch - 15ms/step\n",
      "Epoch 58/200\n",
      "244/244 - 4s - loss: 1.7670 - accuracy: 0.6359 - 4s/epoch - 15ms/step\n",
      "Epoch 59/200\n",
      "244/244 - 4s - loss: 1.7261 - accuracy: 0.6463 - 4s/epoch - 14ms/step\n",
      "Epoch 60/200\n",
      "244/244 - 4s - loss: 1.6884 - accuracy: 0.6537 - 4s/epoch - 14ms/step\n",
      "Epoch 61/200\n",
      "244/244 - 4s - loss: 1.6511 - accuracy: 0.6655 - 4s/epoch - 15ms/step\n",
      "Epoch 62/200\n",
      "244/244 - 4s - loss: 1.6131 - accuracy: 0.6688 - 4s/epoch - 15ms/step\n",
      "Epoch 63/200\n",
      "244/244 - 4s - loss: 1.5768 - accuracy: 0.6803 - 4s/epoch - 14ms/step\n",
      "Epoch 64/200\n",
      "244/244 - 4s - loss: 1.5411 - accuracy: 0.6863 - 4s/epoch - 14ms/step\n",
      "Epoch 65/200\n",
      "244/244 - 4s - loss: 1.5102 - accuracy: 0.6940 - 4s/epoch - 15ms/step\n",
      "Epoch 66/200\n",
      "244/244 - 4s - loss: 1.4700 - accuracy: 0.7032 - 4s/epoch - 15ms/step\n",
      "Epoch 67/200\n",
      "244/244 - 4s - loss: 1.4380 - accuracy: 0.7127 - 4s/epoch - 15ms/step\n",
      "Epoch 68/200\n",
      "244/244 - 4s - loss: 1.4077 - accuracy: 0.7201 - 4s/epoch - 15ms/step\n",
      "Epoch 69/200\n",
      "244/244 - 4s - loss: 1.3725 - accuracy: 0.7275 - 4s/epoch - 14ms/step\n",
      "Epoch 70/200\n",
      "244/244 - 4s - loss: 1.3421 - accuracy: 0.7338 - 4s/epoch - 15ms/step\n",
      "Epoch 71/200\n",
      "244/244 - 4s - loss: 1.3097 - accuracy: 0.7389 - 4s/epoch - 15ms/step\n",
      "Epoch 72/200\n",
      "244/244 - 4s - loss: 1.2797 - accuracy: 0.7480 - 4s/epoch - 14ms/step\n",
      "Epoch 73/200\n",
      "244/244 - 4s - loss: 1.2492 - accuracy: 0.7501 - 4s/epoch - 14ms/step\n",
      "Epoch 74/200\n",
      "244/244 - 4s - loss: 1.2217 - accuracy: 0.7584 - 4s/epoch - 15ms/step\n",
      "Epoch 75/200\n",
      "244/244 - 4s - loss: 1.1913 - accuracy: 0.7641 - 4s/epoch - 15ms/step\n",
      "Epoch 76/200\n",
      "244/244 - 4s - loss: 1.1640 - accuracy: 0.7706 - 4s/epoch - 15ms/step\n",
      "Epoch 77/200\n",
      "244/244 - 4s - loss: 1.1381 - accuracy: 0.7734 - 4s/epoch - 15ms/step\n",
      "Epoch 78/200\n",
      "244/244 - 4s - loss: 1.1097 - accuracy: 0.7803 - 4s/epoch - 15ms/step\n",
      "Epoch 79/200\n",
      "244/244 - 4s - loss: 1.0854 - accuracy: 0.7882 - 4s/epoch - 15ms/step\n",
      "Epoch 80/200\n",
      "244/244 - 4s - loss: 1.0594 - accuracy: 0.7924 - 4s/epoch - 15ms/step\n",
      "Epoch 81/200\n",
      "244/244 - 4s - loss: 1.0323 - accuracy: 0.7978 - 4s/epoch - 14ms/step\n",
      "Epoch 82/200\n",
      "244/244 - 4s - loss: 1.0083 - accuracy: 0.8019 - 4s/epoch - 15ms/step\n",
      "Epoch 83/200\n",
      "244/244 - 4s - loss: 0.9842 - accuracy: 0.8075 - 4s/epoch - 16ms/step\n",
      "Epoch 84/200\n",
      "244/244 - 4s - loss: 0.9646 - accuracy: 0.8097 - 4s/epoch - 17ms/step\n",
      "Epoch 85/200\n",
      "244/244 - 4s - loss: 0.9406 - accuracy: 0.8138 - 4s/epoch - 16ms/step\n",
      "Epoch 86/200\n",
      "244/244 - 4s - loss: 0.9193 - accuracy: 0.8202 - 4s/epoch - 16ms/step\n",
      "Epoch 87/200\n",
      "244/244 - 4s - loss: 0.8965 - accuracy: 0.8256 - 4s/epoch - 16ms/step\n",
      "Epoch 88/200\n",
      "244/244 - 4s - loss: 0.8754 - accuracy: 0.8276 - 4s/epoch - 16ms/step\n",
      "Epoch 89/200\n",
      "244/244 - 4s - loss: 0.8552 - accuracy: 0.8316 - 4s/epoch - 15ms/step\n",
      "Epoch 90/200\n",
      "244/244 - 4s - loss: 0.8362 - accuracy: 0.8337 - 4s/epoch - 15ms/step\n",
      "Epoch 91/200\n",
      "244/244 - 4s - loss: 0.8150 - accuracy: 0.8383 - 4s/epoch - 16ms/step\n",
      "Epoch 92/200\n",
      "244/244 - 4s - loss: 0.7949 - accuracy: 0.8436 - 4s/epoch - 16ms/step\n",
      "Epoch 93/200\n",
      "244/244 - 4s - loss: 0.7794 - accuracy: 0.8452 - 4s/epoch - 15ms/step\n",
      "Epoch 94/200\n",
      "244/244 - 4s - loss: 0.7611 - accuracy: 0.8469 - 4s/epoch - 15ms/step\n",
      "Epoch 95/200\n",
      "244/244 - 4s - loss: 0.7438 - accuracy: 0.8516 - 4s/epoch - 15ms/step\n",
      "Epoch 96/200\n",
      "244/244 - 4s - loss: 0.7258 - accuracy: 0.8571 - 4s/epoch - 15ms/step\n",
      "Epoch 97/200\n",
      "244/244 - 4s - loss: 0.7074 - accuracy: 0.8581 - 4s/epoch - 15ms/step\n",
      "Epoch 98/200\n",
      "244/244 - 4s - loss: 0.6928 - accuracy: 0.8620 - 4s/epoch - 15ms/step\n",
      "Epoch 99/200\n",
      "244/244 - 4s - loss: 0.6766 - accuracy: 0.8652 - 4s/epoch - 15ms/step\n",
      "Epoch 100/200\n",
      "244/244 - 4s - loss: 0.6615 - accuracy: 0.8681 - 4s/epoch - 16ms/step\n",
      "Epoch 101/200\n",
      "244/244 - 4s - loss: 0.6650 - accuracy: 0.8670 - 4s/epoch - 16ms/step\n",
      "Epoch 102/200\n",
      "244/244 - 4s - loss: 0.6357 - accuracy: 0.8753 - 4s/epoch - 15ms/step\n",
      "Epoch 103/200\n",
      "244/244 - 4s - loss: 0.6181 - accuracy: 0.8767 - 4s/epoch - 15ms/step\n",
      "Epoch 104/200\n",
      "244/244 - 4s - loss: 0.6023 - accuracy: 0.8794 - 4s/epoch - 15ms/step\n",
      "Epoch 105/200\n",
      "244/244 - 4s - loss: 0.5902 - accuracy: 0.8816 - 4s/epoch - 15ms/step\n",
      "Epoch 106/200\n",
      "244/244 - 4s - loss: 0.5770 - accuracy: 0.8831 - 4s/epoch - 15ms/step\n",
      "Epoch 107/200\n",
      "244/244 - 4s - loss: 0.5670 - accuracy: 0.8852 - 4s/epoch - 15ms/step\n",
      "Epoch 108/200\n",
      "244/244 - 4s - loss: 0.5543 - accuracy: 0.8879 - 4s/epoch - 15ms/step\n",
      "Epoch 109/200\n",
      "244/244 - 4s - loss: 0.5418 - accuracy: 0.8891 - 4s/epoch - 16ms/step\n",
      "Epoch 110/200\n",
      "244/244 - 4s - loss: 0.5313 - accuracy: 0.8923 - 4s/epoch - 15ms/step\n",
      "Epoch 111/200\n",
      "244/244 - 4s - loss: 0.5212 - accuracy: 0.8947 - 4s/epoch - 15ms/step\n",
      "Epoch 112/200\n",
      "244/244 - 4s - loss: 0.5128 - accuracy: 0.8923 - 4s/epoch - 15ms/step\n",
      "Epoch 113/200\n",
      "244/244 - 4s - loss: 0.5015 - accuracy: 0.8950 - 4s/epoch - 15ms/step\n",
      "Epoch 114/200\n",
      "244/244 - 4s - loss: 0.4942 - accuracy: 0.8988 - 4s/epoch - 15ms/step\n",
      "Epoch 115/200\n",
      "244/244 - 4s - loss: 0.4813 - accuracy: 0.8989 - 4s/epoch - 15ms/step\n",
      "Epoch 116/200\n",
      "244/244 - 4s - loss: 0.4711 - accuracy: 0.8998 - 4s/epoch - 15ms/step\n",
      "Epoch 117/200\n",
      "244/244 - 4s - loss: 0.4629 - accuracy: 0.9020 - 4s/epoch - 15ms/step\n",
      "Epoch 118/200\n",
      "244/244 - 4s - loss: 0.4536 - accuracy: 0.9045 - 4s/epoch - 15ms/step\n",
      "Epoch 119/200\n",
      "244/244 - 4s - loss: 0.4457 - accuracy: 0.9036 - 4s/epoch - 15ms/step\n",
      "Epoch 120/200\n",
      "244/244 - 4s - loss: 0.4377 - accuracy: 0.9032 - 4s/epoch - 15ms/step\n",
      "Epoch 121/200\n",
      "244/244 - 4s - loss: 0.4307 - accuracy: 0.9072 - 4s/epoch - 15ms/step\n",
      "Epoch 122/200\n",
      "244/244 - 4s - loss: 0.4264 - accuracy: 0.9062 - 4s/epoch - 15ms/step\n",
      "Epoch 123/200\n",
      "244/244 - 4s - loss: 0.4166 - accuracy: 0.9082 - 4s/epoch - 15ms/step\n",
      "Epoch 124/200\n",
      "244/244 - 4s - loss: 0.4103 - accuracy: 0.9088 - 4s/epoch - 15ms/step\n",
      "Epoch 125/200\n",
      "244/244 - 4s - loss: 0.4015 - accuracy: 0.9095 - 4s/epoch - 15ms/step\n",
      "Epoch 126/200\n",
      "244/244 - 4s - loss: 0.3957 - accuracy: 0.9085 - 4s/epoch - 15ms/step\n",
      "Epoch 127/200\n",
      "244/244 - 4s - loss: 0.3888 - accuracy: 0.9117 - 4s/epoch - 15ms/step\n",
      "Epoch 128/200\n",
      "244/244 - 4s - loss: 0.3834 - accuracy: 0.9109 - 4s/epoch - 15ms/step\n",
      "Epoch 129/200\n",
      "244/244 - 4s - loss: 0.3777 - accuracy: 0.9123 - 4s/epoch - 15ms/step\n",
      "Epoch 130/200\n",
      "244/244 - 4s - loss: 0.3753 - accuracy: 0.9108 - 4s/epoch - 15ms/step\n",
      "Epoch 131/200\n",
      "244/244 - 4s - loss: 0.3694 - accuracy: 0.9148 - 4s/epoch - 15ms/step\n",
      "Epoch 132/200\n",
      "244/244 - 4s - loss: 0.3644 - accuracy: 0.9121 - 4s/epoch - 15ms/step\n",
      "Epoch 133/200\n",
      "244/244 - 4s - loss: 0.3575 - accuracy: 0.9129 - 4s/epoch - 15ms/step\n",
      "Epoch 134/200\n",
      "244/244 - 4s - loss: 0.3526 - accuracy: 0.9135 - 4s/epoch - 15ms/step\n",
      "Epoch 135/200\n",
      "244/244 - 4s - loss: 0.3481 - accuracy: 0.9136 - 4s/epoch - 15ms/step\n",
      "Epoch 136/200\n",
      "244/244 - 4s - loss: 0.3433 - accuracy: 0.9149 - 4s/epoch - 15ms/step\n",
      "Epoch 137/200\n",
      "244/244 - 4s - loss: 0.3425 - accuracy: 0.9141 - 4s/epoch - 15ms/step\n",
      "Epoch 138/200\n",
      "244/244 - 4s - loss: 0.3377 - accuracy: 0.9152 - 4s/epoch - 15ms/step\n",
      "Epoch 139/200\n",
      "244/244 - 4s - loss: 0.3347 - accuracy: 0.9157 - 4s/epoch - 15ms/step\n",
      "Epoch 140/200\n",
      "244/244 - 4s - loss: 0.3303 - accuracy: 0.9154 - 4s/epoch - 15ms/step\n",
      "Epoch 141/200\n",
      "244/244 - 4s - loss: 0.3261 - accuracy: 0.9163 - 4s/epoch - 15ms/step\n",
      "Epoch 142/200\n",
      "244/244 - 4s - loss: 0.3237 - accuracy: 0.9157 - 4s/epoch - 15ms/step\n",
      "Epoch 143/200\n",
      "244/244 - 4s - loss: 0.3280 - accuracy: 0.9152 - 4s/epoch - 14ms/step\n",
      "Epoch 144/200\n",
      "244/244 - 4s - loss: 0.3424 - accuracy: 0.9122 - 4s/epoch - 15ms/step\n",
      "Epoch 145/200\n",
      "244/244 - 4s - loss: 0.3290 - accuracy: 0.9135 - 4s/epoch - 15ms/step\n",
      "Epoch 146/200\n",
      "244/244 - 4s - loss: 0.3160 - accuracy: 0.9167 - 4s/epoch - 15ms/step\n",
      "Epoch 147/200\n",
      "244/244 - 4s - loss: 0.3089 - accuracy: 0.9168 - 4s/epoch - 15ms/step\n",
      "Epoch 148/200\n",
      "244/244 - 4s - loss: 0.3076 - accuracy: 0.9175 - 4s/epoch - 15ms/step\n",
      "Epoch 149/200\n",
      "244/244 - 4s - loss: 0.3057 - accuracy: 0.9153 - 4s/epoch - 15ms/step\n",
      "Epoch 150/200\n",
      "244/244 - 4s - loss: 0.3028 - accuracy: 0.9173 - 4s/epoch - 15ms/step\n",
      "Epoch 151/200\n",
      "244/244 - 4s - loss: 0.3004 - accuracy: 0.9180 - 4s/epoch - 15ms/step\n",
      "Epoch 152/200\n",
      "244/244 - 4s - loss: 0.2995 - accuracy: 0.9173 - 4s/epoch - 15ms/step\n",
      "Epoch 153/200\n",
      "244/244 - 4s - loss: 0.2975 - accuracy: 0.9172 - 4s/epoch - 15ms/step\n",
      "Epoch 154/200\n",
      "244/244 - 4s - loss: 0.2969 - accuracy: 0.9161 - 4s/epoch - 15ms/step\n",
      "Epoch 155/200\n",
      "244/244 - 4s - loss: 0.2964 - accuracy: 0.9181 - 4s/epoch - 15ms/step\n",
      "Epoch 156/200\n",
      "244/244 - 4s - loss: 0.2949 - accuracy: 0.9163 - 4s/epoch - 15ms/step\n",
      "Epoch 157/200\n",
      "244/244 - 4s - loss: 0.2908 - accuracy: 0.9155 - 4s/epoch - 15ms/step\n",
      "Epoch 158/200\n",
      "244/244 - 4s - loss: 0.2901 - accuracy: 0.9158 - 4s/epoch - 15ms/step\n",
      "Epoch 159/200\n",
      "244/244 - 4s - loss: 0.2881 - accuracy: 0.9167 - 4s/epoch - 15ms/step\n",
      "Epoch 160/200\n",
      "244/244 - 4s - loss: 0.2879 - accuracy: 0.9173 - 4s/epoch - 15ms/step\n",
      "Epoch 161/200\n",
      "244/244 - 4s - loss: 0.2856 - accuracy: 0.9166 - 4s/epoch - 15ms/step\n",
      "Epoch 162/200\n",
      "244/244 - 4s - loss: 0.3011 - accuracy: 0.9145 - 4s/epoch - 15ms/step\n",
      "Epoch 163/200\n",
      "244/244 - 4s - loss: 0.3263 - accuracy: 0.9098 - 4s/epoch - 15ms/step\n",
      "Epoch 164/200\n",
      "244/244 - 4s - loss: 0.2908 - accuracy: 0.9159 - 4s/epoch - 15ms/step\n",
      "Epoch 165/200\n",
      "244/244 - 4s - loss: 0.2828 - accuracy: 0.9168 - 4s/epoch - 15ms/step\n",
      "Epoch 166/200\n",
      "244/244 - 4s - loss: 0.2793 - accuracy: 0.9187 - 4s/epoch - 16ms/step\n",
      "Epoch 167/200\n",
      "244/244 - 4s - loss: 0.2775 - accuracy: 0.9176 - 4s/epoch - 15ms/step\n",
      "Epoch 168/200\n",
      "244/244 - 4s - loss: 0.2771 - accuracy: 0.9166 - 4s/epoch - 15ms/step\n",
      "Epoch 169/200\n",
      "244/244 - 4s - loss: 0.2770 - accuracy: 0.9158 - 4s/epoch - 15ms/step\n",
      "Epoch 170/200\n",
      "244/244 - 4s - loss: 0.2769 - accuracy: 0.9172 - 4s/epoch - 15ms/step\n",
      "Epoch 171/200\n",
      "244/244 - 4s - loss: 0.2745 - accuracy: 0.9179 - 4s/epoch - 15ms/step\n",
      "Epoch 172/200\n",
      "244/244 - 4s - loss: 0.2748 - accuracy: 0.9180 - 4s/epoch - 15ms/step\n",
      "Epoch 173/200\n",
      "244/244 - 4s - loss: 0.2724 - accuracy: 0.9162 - 4s/epoch - 15ms/step\n",
      "Epoch 174/200\n",
      "244/244 - 4s - loss: 0.2739 - accuracy: 0.9171 - 4s/epoch - 15ms/step\n",
      "Epoch 175/200\n",
      "244/244 - 4s - loss: 0.2724 - accuracy: 0.9157 - 4s/epoch - 15ms/step\n",
      "Epoch 176/200\n",
      "244/244 - 4s - loss: 0.2717 - accuracy: 0.9176 - 4s/epoch - 15ms/step\n",
      "Epoch 177/200\n",
      "244/244 - 4s - loss: 0.2703 - accuracy: 0.9184 - 4s/epoch - 15ms/step\n",
      "Epoch 178/200\n",
      "244/244 - 4s - loss: 0.2705 - accuracy: 0.9179 - 4s/epoch - 15ms/step\n",
      "Epoch 179/200\n",
      "244/244 - 4s - loss: 0.2713 - accuracy: 0.9155 - 4s/epoch - 15ms/step\n",
      "Epoch 180/200\n",
      "244/244 - 4s - loss: 0.2713 - accuracy: 0.9172 - 4s/epoch - 15ms/step\n",
      "Epoch 181/200\n",
      "244/244 - 4s - loss: 0.2689 - accuracy: 0.9170 - 4s/epoch - 15ms/step\n",
      "Epoch 182/200\n",
      "244/244 - 4s - loss: 0.2704 - accuracy: 0.9170 - 4s/epoch - 15ms/step\n",
      "Epoch 183/200\n",
      "244/244 - 4s - loss: 0.2874 - accuracy: 0.9123 - 4s/epoch - 15ms/step\n",
      "Epoch 184/200\n",
      "244/244 - 4s - loss: 0.2927 - accuracy: 0.9102 - 4s/epoch - 15ms/step\n",
      "Epoch 185/200\n",
      "244/244 - 4s - loss: 0.2703 - accuracy: 0.9170 - 4s/epoch - 15ms/step\n",
      "Epoch 186/200\n",
      "244/244 - 4s - loss: 0.2668 - accuracy: 0.9154 - 4s/epoch - 15ms/step\n",
      "Epoch 187/200\n",
      "244/244 - 4s - loss: 0.2653 - accuracy: 0.9163 - 4s/epoch - 15ms/step\n",
      "Epoch 188/200\n",
      "244/244 - 4s - loss: 0.2646 - accuracy: 0.9161 - 4s/epoch - 15ms/step\n",
      "Epoch 189/200\n",
      "244/244 - 4s - loss: 0.2646 - accuracy: 0.9172 - 4s/epoch - 15ms/step\n",
      "Epoch 190/200\n",
      "244/244 - 4s - loss: 0.2633 - accuracy: 0.9179 - 4s/epoch - 15ms/step\n",
      "Epoch 191/200\n",
      "244/244 - 4s - loss: 0.2634 - accuracy: 0.9180 - 4s/epoch - 15ms/step\n",
      "Epoch 192/200\n",
      "244/244 - 4s - loss: 0.2634 - accuracy: 0.9168 - 4s/epoch - 15ms/step\n",
      "Epoch 193/200\n",
      "244/244 - 4s - loss: 0.2634 - accuracy: 0.9171 - 4s/epoch - 15ms/step\n",
      "Epoch 194/200\n",
      "244/244 - 4s - loss: 0.2634 - accuracy: 0.9168 - 4s/epoch - 15ms/step\n",
      "Epoch 195/200\n",
      "244/244 - 4s - loss: 0.2630 - accuracy: 0.9175 - 4s/epoch - 15ms/step\n",
      "Epoch 196/200\n",
      "244/244 - 4s - loss: 0.2628 - accuracy: 0.9163 - 4s/epoch - 15ms/step\n",
      "Epoch 197/200\n",
      "244/244 - 4s - loss: 0.2637 - accuracy: 0.9167 - 4s/epoch - 15ms/step\n",
      "Epoch 198/200\n",
      "244/244 - 4s - loss: 0.2691 - accuracy: 0.9153 - 4s/epoch - 15ms/step\n",
      "Epoch 199/200\n",
      "244/244 - 4s - loss: 0.2683 - accuracy: 0.9150 - 4s/epoch - 15ms/step\n",
      "Epoch 200/200\n",
      "244/244 - 4s - loss: 0.2633 - accuracy: 0.9185 - 4s/epoch - 15ms/step\n"
     ]
    },
    {
     "data": {
      "text/plain": [
       "<keras.src.callbacks.History at 0x2521e2f6090>"
      ]
     },
     "execution_count": 18,
     "metadata": {},
     "output_type": "execute_result"
    }
   ],
   "source": [
    "#임베딩 벡터차원 10, 은닉층 128개 모델 생성 및 학습\n",
    "\n",
    "embedding_dim = 10\n",
    "hidden_units = 128\n",
    "\n",
    "model = Sequential()\n",
    "model.add(Embedding(vocab_size, embedding_dim))\n",
    "model.add(LSTM(hidden_units))\n",
    "model.add(Dense(vocab_size, activation='softmax'))\n",
    "model.compile(loss='categorical_crossentropy', optimizer='adam', metrics=['accuracy'])\n",
    "model.fit(X, y, epochs=200, verbose=2)"
   ]
  },
  {
   "cell_type": "code",
   "execution_count": 21,
   "id": "b59b42c6-7aa7-49be-aa57-f9ab2fd66d0f",
   "metadata": {
    "tags": []
   },
   "outputs": [],
   "source": [
    "# 학습된 모델로 주어진 단어에 대한 단어 단어 출력 함수\n",
    "\n",
    "def sentence_generation(model, tokenizer, current_word, n): # 모델, 토크나이저, 현재 단어, 반복할 횟수\n",
    "    init_word = current_word\n",
    "    sentence = ''\n",
    "\n",
    "    # n번 반복\n",
    "    for _ in range(n):\n",
    "        encoded = tokenizer.texts_to_sequences([current_word])[0]\n",
    "        encoded = pad_sequences([encoded], maxlen=max_len-1, padding='pre')\n",
    "\n",
    "        # 입력한 X(현재 단어)에 대해서 y를 예측하고 y(예측한 단어)를 result에 저장.\n",
    "        result = model.predict(encoded, verbose=0)\n",
    "        result = np.argmax(result, axis=1)\n",
    "\n",
    "        for word, index in tokenizer.word_index.items(): \n",
    "            # 만약 예측한 단어와 인덱스와 동일한 단어가 있다면\n",
    "            if index == result:\n",
    "                break\n",
    "\n",
    "        # 현재 단어 + ' ' + 예측 단어를 현재 단어로 변경\n",
    "        current_word = current_word + ' '  + word\n",
    "\n",
    "        # 예측 단어를 문장에 저장\n",
    "        sentence = sentence + ' ' + word\n",
    "\n",
    "    sentence = init_word + sentence\n",
    "    return sentence"
   ]
  },
  {
   "cell_type": "code",
   "execution_count": 23,
   "id": "884f57e7-1ab2-4a09-9781-263232ba1203",
   "metadata": {
    "tags": []
   },
   "outputs": [
    {
     "name": "stdout",
     "output_type": "stream",
     "text": [
      "how to make a crossword\n"
     ]
    }
   ],
   "source": [
    "#'how' 를 기반으로 4개 단어 생성\n",
    "print(sentence_generation(model, tokenizer, 'how', 4))"
   ]
  },
  {
   "cell_type": "code",
   "execution_count": 28,
   "id": "fe87fc7f-aebe-4062-b822-4ffef517f03d",
   "metadata": {
    "tags": []
   },
   "outputs": [
    {
     "name": "stdout",
     "output_type": "stream",
     "text": [
      "I wonder ronny jackson only so far you about it\n"
     ]
    }
   ],
   "source": [
    "#'I wonder' 를 기반으로 8개 단어 생성\n",
    "print(sentence_generation(model, tokenizer, 'I wonder', 8))"
   ]
  }
 ],
 "metadata": {
  "kernelspec": {
   "display_name": "Python 3 (ipykernel)",
   "language": "python",
   "name": "python3"
  },
  "language_info": {
   "codemirror_mode": {
    "name": "ipython",
    "version": 3
   },
   "file_extension": ".py",
   "mimetype": "text/x-python",
   "name": "python",
   "nbconvert_exporter": "python",
   "pygments_lexer": "ipython3",
   "version": "3.11.4"
  }
 },
 "nbformat": 4,
 "nbformat_minor": 5
}
