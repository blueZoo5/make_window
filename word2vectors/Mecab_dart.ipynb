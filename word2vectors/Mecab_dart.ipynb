{
 "cells": [
  {
   "cell_type": "code",
   "execution_count": 4,
   "id": "8e092942-4fce-4c53-a284-577c80c4a3d8",
   "metadata": {
    "tags": []
   },
   "outputs": [],
   "source": [
    "import pandas as pd\n",
    "from konlpy.tag import Mecab\n",
    "from gensim.models.doc2vec import TaggedDocument\n",
    "from tqdm import tqdm"
   ]
  },
  {
   "cell_type": "code",
   "execution_count": 6,
   "id": "6d0a693e-6272-497d-ac9b-c57d80e246e7",
   "metadata": {
    "collapsed": true,
    "jupyter": {
     "outputs_hidden": true
    },
    "tags": []
   },
   "outputs": [
    {
     "data": {
      "text/html": [
       "<div>\n",
       "<style scoped>\n",
       "    .dataframe tbody tr th:only-of-type {\n",
       "        vertical-align: middle;\n",
       "    }\n",
       "\n",
       "    .dataframe tbody tr th {\n",
       "        vertical-align: top;\n",
       "    }\n",
       "\n",
       "    .dataframe thead th {\n",
       "        text-align: right;\n",
       "    }\n",
       "</style>\n",
       "<table border=\"1\" class=\"dataframe\">\n",
       "  <thead>\n",
       "    <tr style=\"text-align: right;\">\n",
       "      <th></th>\n",
       "      <th>code</th>\n",
       "      <th>market</th>\n",
       "      <th>name</th>\n",
       "      <th>business</th>\n",
       "    </tr>\n",
       "  </thead>\n",
       "  <tbody>\n",
       "    <tr>\n",
       "      <th>0</th>\n",
       "      <td>000020</td>\n",
       "      <td>KOSPI</td>\n",
       "      <td>동화약품</td>\n",
       "      <td>II. 사업의 내용\\n1. 사업의 개요\\n가. 일반적인 사항\\n기업회계기준서 제11...</td>\n",
       "    </tr>\n",
       "    <tr>\n",
       "      <th>1</th>\n",
       "      <td>000040</td>\n",
       "      <td>KOSPI</td>\n",
       "      <td>KR모터스</td>\n",
       "      <td>II. 사업의 내용\\n1. 사업의 개요\\n가. 업계의 현황\\n수출주력시장인 유럽 불...</td>\n",
       "    </tr>\n",
       "    <tr>\n",
       "      <th>2</th>\n",
       "      <td>000050</td>\n",
       "      <td>KOSPI</td>\n",
       "      <td>경방</td>\n",
       "      <td>II. 사업의 내용\\n1. 사업의 개요\\n(1) 산업의 특성\\n[섬유사업부문]\\n면...</td>\n",
       "    </tr>\n",
       "    <tr>\n",
       "      <th>3</th>\n",
       "      <td>000060</td>\n",
       "      <td>KOSPI</td>\n",
       "      <td>메리츠화재</td>\n",
       "      <td>II. 사업의 내용\\n1. 사업의 개요\\n가. 산업의 특성, 성장성, 경기변동의 특...</td>\n",
       "    </tr>\n",
       "    <tr>\n",
       "      <th>4</th>\n",
       "      <td>000070</td>\n",
       "      <td>KOSPI</td>\n",
       "      <td>삼양홀딩스</td>\n",
       "      <td>II. 사업의 내용\\n1. 사업의 개요\\n가. 업계의 현황\\n지주회사(持株會社, H...</td>\n",
       "    </tr>\n",
       "    <tr>\n",
       "      <th>...</th>\n",
       "      <td>...</td>\n",
       "      <td>...</td>\n",
       "      <td>...</td>\n",
       "      <td>...</td>\n",
       "    </tr>\n",
       "    <tr>\n",
       "      <th>2582</th>\n",
       "      <td>950130</td>\n",
       "      <td>KOSDAQ</td>\n",
       "      <td>엑세스바이오</td>\n",
       "      <td>II. 사업의 내용\\n1. 사업의 개\\n요\\n당사는 체외진단 기술을 토대로 말라리아...</td>\n",
       "    </tr>\n",
       "    <tr>\n",
       "      <th>2583</th>\n",
       "      <td>950140</td>\n",
       "      <td>KOSDAQ</td>\n",
       "      <td>잉글우드랩</td>\n",
       "      <td>II. 사업의 내용\\n1. 사업의 개요\\n가. 화장품 ODM산업 개요\\nODM은 O...</td>\n",
       "    </tr>\n",
       "    <tr>\n",
       "      <th>2584</th>\n",
       "      <td>950160</td>\n",
       "      <td>KOSDAQ</td>\n",
       "      <td>코오롱티슈진</td>\n",
       "      <td>II. 사업의 내용\\n당사는 1999년 6월 9일 세포 유전자 기술 Platform...</td>\n",
       "    </tr>\n",
       "    <tr>\n",
       "      <th>2585</th>\n",
       "      <td>950170</td>\n",
       "      <td>KOSDAQ</td>\n",
       "      <td>JTC</td>\n",
       "      <td>II. 사업의 내용\\n1. 사업의 개요\\n가. 업계의 현황\\n(1) 산업의 특성\\n...</td>\n",
       "    </tr>\n",
       "    <tr>\n",
       "      <th>2586</th>\n",
       "      <td>950180</td>\n",
       "      <td>KOSDAQ</td>\n",
       "      <td>SNK</td>\n",
       "      <td>II. 사업의 내용\\n1. 사업의 개요\\n당사는 연결실체 기준으로 모바일, 콘솔, ...</td>\n",
       "    </tr>\n",
       "  </tbody>\n",
       "</table>\n",
       "<p>2295 rows × 4 columns</p>\n",
       "</div>"
      ],
      "text/plain": [
       "        code  market    name  \\\n",
       "0     000020   KOSPI    동화약품   \n",
       "1     000040   KOSPI   KR모터스   \n",
       "2     000050   KOSPI      경방   \n",
       "3     000060   KOSPI   메리츠화재   \n",
       "4     000070   KOSPI   삼양홀딩스   \n",
       "...      ...     ...     ...   \n",
       "2582  950130  KOSDAQ  엑세스바이오   \n",
       "2583  950140  KOSDAQ   잉글우드랩   \n",
       "2584  950160  KOSDAQ  코오롱티슈진   \n",
       "2585  950170  KOSDAQ     JTC   \n",
       "2586  950180  KOSDAQ     SNK   \n",
       "\n",
       "                                               business  \n",
       "0     II. 사업의 내용\\n1. 사업의 개요\\n가. 일반적인 사항\\n기업회계기준서 제11...  \n",
       "1     II. 사업의 내용\\n1. 사업의 개요\\n가. 업계의 현황\\n수출주력시장인 유럽 불...  \n",
       "2     II. 사업의 내용\\n1. 사업의 개요\\n(1) 산업의 특성\\n[섬유사업부문]\\n면...  \n",
       "3     II. 사업의 내용\\n1. 사업의 개요\\n가. 산업의 특성, 성장성, 경기변동의 특...  \n",
       "4     II. 사업의 내용\\n1. 사업의 개요\\n가. 업계의 현황\\n지주회사(持株會社, H...  \n",
       "...                                                 ...  \n",
       "2582  II. 사업의 내용\\n1. 사업의 개\\n요\\n당사는 체외진단 기술을 토대로 말라리아...  \n",
       "2583  II. 사업의 내용\\n1. 사업의 개요\\n가. 화장품 ODM산업 개요\\nODM은 O...  \n",
       "2584  II. 사업의 내용\\n당사는 1999년 6월 9일 세포 유전자 기술 Platform...  \n",
       "2585  II. 사업의 내용\\n1. 사업의 개요\\n가. 업계의 현황\\n(1) 산업의 특성\\n...  \n",
       "2586  II. 사업의 내용\\n1. 사업의 개요\\n당사는 연결실체 기준으로 모바일, 콘솔, ...  \n",
       "\n",
       "[2295 rows x 4 columns]"
      ]
     },
     "execution_count": 6,
     "metadata": {},
     "output_type": "execute_result"
    }
   ],
   "source": [
    "df = pd.read_csv('dart.csv',  sep=',')\n",
    "df = df.dropna()\n",
    "df"
   ]
  },
  {
   "cell_type": "code",
   "execution_count": 7,
   "id": "a988147c-a7dd-43fd-9cef-9a161662f802",
   "metadata": {
    "tags": []
   },
   "outputs": [
    {
     "name": "stderr",
     "output_type": "stream",
     "text": [
      "100%|██████████| 2295/2295 [01:13<00:00, 31.32it/s]"
     ]
    },
    {
     "name": "stdout",
     "output_type": "stream",
     "text": [
      "문서의 수: 2295\n"
     ]
    },
    {
     "name": "stderr",
     "output_type": "stream",
     "text": [
      "\n"
     ]
    }
   ],
   "source": [
    "# Mecab 객체 생성 시 사전 경로 지정\n",
    "mecab = Mecab('C:\\mecab\\mecab-ko-dic')\n",
    "\n",
    "tagged_corpus_list = []\n",
    "\n",
    "# gensim의 TaggedDocument 클래스를 사용하여 태그명(회사명)과 본문내용 저장\n",
    "for index, row in tqdm(df.iterrows(), total=len(df)):\n",
    "    text = row['business']\n",
    "    tag = row['name']\n",
    "    tagged_corpus_list.append(TaggedDocument(words=mecab.morphs(text), tags=[tag]))\n",
    "\n",
    "print('문서의 수:', len(tagged_corpus_list))"
   ]
  },
  {
   "cell_type": "code",
   "execution_count": 8,
   "id": "885ccfca-6315-41b3-baa0-663e31e91492",
   "metadata": {
    "tags": []
   },
   "outputs": [],
   "source": [
    "from gensim.models import doc2vec"
   ]
  },
  {
   "cell_type": "code",
   "execution_count": 9,
   "id": "26f773bb-65ab-4772-812a-74d7cb74fbde",
   "metadata": {
    "tags": []
   },
   "outputs": [],
   "source": [
    "model = doc2vec.Doc2Vec(vector_size=300, alpha=0.025, min_alpha=0.025, workers=8, window=8)\n",
    "\n",
    "# Vocabulary 빌드\n",
    "model.build_vocab(tagged_corpus_list)\n",
    "\n",
    "# Doc2Vec 학습\n",
    "model.train(tagged_corpus_list, total_examples=model.corpus_count, epochs=20)\n",
    "\n",
    "# 모델 저장\n",
    "model.save('dart.doc2vec')"
   ]
  },
  {
   "cell_type": "code",
   "execution_count": 10,
   "id": "2b12fe82-4943-486c-8b5d-12f69fdae4ff",
   "metadata": {
    "tags": []
   },
   "outputs": [
    {
     "name": "stdout",
     "output_type": "stream",
     "text": [
      "[('종근당', 0.5618821382522583), ('삼일제약', 0.5258223414421082), ('동국제약', 0.5211503505706787), ('제일약품', 0.5121228098869324), ('비씨월드제약', 0.5042028427124023), ('삼아제약', 0.4993698000907898), ('한독', 0.49644485116004944), ('동아에스티', 0.49148866534233093), ('일양약품', 0.48961523175239563), ('영진약품', 0.4775065779685974)]\n"
     ]
    }
   ],
   "source": [
    "similar_doc = model.dv.most_similar('동화약품')\n",
    "print(similar_doc)"
   ]
  },
  {
   "cell_type": "code",
   "execution_count": 11,
   "id": "96d02d1f-c78f-4830-96db-0909c03dfc8f",
   "metadata": {
    "tags": []
   },
   "outputs": [
    {
     "name": "stdout",
     "output_type": "stream",
     "text": [
      "[('하이트진로홀딩스', 0.8474072813987732), ('보해양조', 0.5497997999191284), ('무학', 0.528270423412323), ('롯데칠성', 0.4822022020816803), ('국순당', 0.45600858330726624), ('한국팩키지', 0.42085468769073486), ('금비', 0.41181856393814087), ('롯데제과', 0.40885019302368164), ('삼광글라스', 0.40722835063934326), ('남양유업', 0.39873623847961426)]\n"
     ]
    }
   ],
   "source": [
    "similar_doc = model.dv.most_similar('하이트진로')\n",
    "print(similar_doc)"
   ]
  }
 ],
 "metadata": {
  "kernelspec": {
   "display_name": "Python 3 (ipykernel)",
   "language": "python",
   "name": "python3"
  },
  "language_info": {
   "codemirror_mode": {
    "name": "ipython",
    "version": 3
   },
   "file_extension": ".py",
   "mimetype": "text/x-python",
   "name": "python",
   "nbconvert_exporter": "python",
   "pygments_lexer": "ipython3",
   "version": "3.11.4"
  }
 },
 "nbformat": 4,
 "nbformat_minor": 5
}
