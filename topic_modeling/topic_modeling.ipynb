{
 "cells": [
  {
   "cell_type": "code",
   "execution_count": 1,
   "id": "4073f10c-efee-4a67-b67d-0386a2dde970",
   "metadata": {
    "tags": []
   },
   "outputs": [],
   "source": [
    "import numpy as np"
   ]
  },
  {
   "cell_type": "code",
   "execution_count": 2,
   "id": "b5af0261-7753-4719-b9d5-ad7b300d7563",
   "metadata": {
    "tags": []
   },
   "outputs": [],
   "source": [
    "A = np.array([[0,0,0,1,0,1,1,0,0],\n",
    "              [0,0,0,1,1,0,1,0,0],\n",
    "              [0,1,1,0,2,0,0,0,0],\n",
    "              [1,0,0,0,0,0,0,1,1]])"
   ]
  },
  {
   "cell_type": "code",
   "execution_count": 3,
   "id": "b3ad5e11-c1f6-48a9-9f7e-745280884f70",
   "metadata": {
    "tags": []
   },
   "outputs": [
    {
     "name": "stdout",
     "output_type": "stream",
     "text": [
      "DTM의 크기(shape) : (4, 9)\n"
     ]
    }
   ],
   "source": [
    "print('DTM의 크기(shape) :', np.shape(A))"
   ]
  },
  {
   "cell_type": "code",
   "execution_count": 4,
   "id": "e07e022f-1310-4dc7-be67-19f92a6ee4f7",
   "metadata": {
    "tags": []
   },
   "outputs": [
    {
     "name": "stdout",
     "output_type": "stream",
     "text": [
      "행렬 U :\n",
      "[[ 0.24  0.75  0.    0.62]\n",
      " [ 0.51  0.44 -0.   -0.74]\n",
      " [ 0.83 -0.49  0.    0.27]\n",
      " [ 0.    0.    1.   -0.  ]]\n",
      "행렬 U의 크기(shape) : (4, 4)\n"
     ]
    }
   ],
   "source": [
    "U,s,VT = np.linalg.svd(A, full_matrices = True)\n",
    "\n",
    "print('행렬 U :')\n",
    "print(U.round(2))\n",
    "print('행렬 U의 크기(shape) :',np.shape(U))"
   ]
  },
  {
   "cell_type": "code",
   "execution_count": 5,
   "id": "ae71aebf-e7ef-43c9-b5f5-4a181d88c482",
   "metadata": {
    "tags": []
   },
   "outputs": [
    {
     "name": "stdout",
     "output_type": "stream",
     "text": [
      "특이값 벡터 :\n",
      "[2.69 2.05 1.73 0.77]\n",
      "특이값 벡터의 크기(shape) : (4,)\n"
     ]
    }
   ],
   "source": [
    "print('특이값 벡터 :')\n",
    "print(s.round(2))\n",
    "print('특이값 벡터의 크기(shape) :',np.shape(s))"
   ]
  },
  {
   "cell_type": "code",
   "execution_count": 6,
   "id": "b7bbabf8-a906-41e9-847a-d029dfdd7af3",
   "metadata": {
    "tags": []
   },
   "outputs": [
    {
     "name": "stdout",
     "output_type": "stream",
     "text": [
      "대각 행렬 S :\n",
      "[[2.69 0.   0.   0.   0.   0.   0.   0.   0.  ]\n",
      " [0.   2.05 0.   0.   0.   0.   0.   0.   0.  ]\n",
      " [0.   0.   1.73 0.   0.   0.   0.   0.   0.  ]\n",
      " [0.   0.   0.   0.77 0.   0.   0.   0.   0.  ]]\n",
      "대각 행렬의 크기(shape) :\n",
      "(4, 9)\n"
     ]
    }
   ],
   "source": [
    "S = np.zeros((4, 9))\n",
    "\n",
    "S[:4, :4] = np.diag(s)\n",
    "\n",
    "print('대각 행렬 S :')\n",
    "print(S.round(2))\n",
    "\n",
    "print('대각 행렬의 크기(shape) :')\n",
    "print(np.shape(S))"
   ]
  },
  {
   "cell_type": "code",
   "execution_count": 7,
   "id": "3b59afb2-6a1f-483b-9a12-9133b99b2305",
   "metadata": {
    "tags": []
   },
   "outputs": [
    {
     "name": "stdout",
     "output_type": "stream",
     "text": [
      "직교행렬 VT :\n",
      "[[ 0.    0.31  0.31  0.28  0.8   0.09  0.28  0.    0.  ]\n",
      " [ 0.   -0.24 -0.24  0.58 -0.26  0.37  0.58 -0.   -0.  ]\n",
      " [ 0.58 -0.    0.    0.   -0.    0.   -0.    0.58  0.58]\n",
      " [-0.    0.35  0.35 -0.16 -0.25  0.8  -0.16  0.    0.  ]\n",
      " [-0.   -0.78 -0.01 -0.2   0.4   0.4  -0.2   0.    0.  ]\n",
      " [-0.29  0.31 -0.78 -0.24  0.23  0.23  0.01  0.14  0.14]\n",
      " [-0.29 -0.1   0.26 -0.59 -0.08 -0.08  0.66  0.14  0.14]\n",
      " [-0.5  -0.06  0.15  0.24 -0.05 -0.05 -0.19  0.75 -0.25]\n",
      " [-0.5  -0.06  0.15  0.24 -0.05 -0.05 -0.19 -0.25  0.75]]\n",
      "직교 행렬 VT의 크기(shape) :\n",
      "(9, 9)\n"
     ]
    }
   ],
   "source": [
    "print('직교행렬 VT :')\n",
    "print(VT.round(2))\n",
    "\n",
    "print('직교 행렬 VT의 크기(shape) :')\n",
    "print(np.shape(VT))"
   ]
  },
  {
   "cell_type": "code",
   "execution_count": 8,
   "id": "5d960479-4af4-4b13-b021-d50621ad4e06",
   "metadata": {
    "tags": []
   },
   "outputs": [
    {
     "data": {
      "text/plain": [
       "array([[ 2.54185942e-16,  2.77555756e-16,  1.38777878e-16,\n",
       "         1.00000000e+00,  9.71445147e-17,  1.00000000e+00,\n",
       "         1.00000000e+00,  1.43925516e-16,  1.43925516e-16],\n",
       "       [ 1.94348857e-16,  2.77555756e-17,  2.77555756e-17,\n",
       "         1.00000000e+00,  1.00000000e+00,  5.55111512e-17,\n",
       "         1.00000000e+00, -2.15888274e-16, -2.15888274e-16],\n",
       "       [ 1.14194830e-16,  1.00000000e+00,  1.00000000e+00,\n",
       "         2.08166817e-16,  2.00000000e+00,  3.05311332e-16,\n",
       "         2.08166817e-16,  1.79906895e-16,  1.79906895e-16],\n",
       "       [ 1.00000000e+00, -1.08688819e-16,  1.05985365e-16,\n",
       "         3.60407161e-16, -8.32607463e-17,  1.44518887e-16,\n",
       "        -2.41853764e-17,  1.00000000e+00,  1.00000000e+00]])"
      ]
     },
     "execution_count": 8,
     "metadata": {},
     "output_type": "execute_result"
    }
   ],
   "source": [
    "np.dot(np.dot(U,S), VT)"
   ]
  },
  {
   "cell_type": "code",
   "execution_count": 9,
   "id": "fcd66245-4c3b-4d0e-8549-35b8e5ae35ab",
   "metadata": {
    "tags": []
   },
   "outputs": [
    {
     "name": "stdout",
     "output_type": "stream",
     "text": [
      "대각 행렬 S :\n",
      "[[2.69 0.  ]\n",
      " [0.   2.05]]\n"
     ]
    }
   ],
   "source": [
    "S = S[:2,:2]\n",
    "\n",
    "print('대각 행렬 S :')\n",
    "print(S.round(2))"
   ]
  },
  {
   "cell_type": "code",
   "execution_count": 10,
   "id": "8194f1ee-054c-4feb-9ccf-ddd96e55d6b3",
   "metadata": {
    "tags": []
   },
   "outputs": [
    {
     "name": "stdout",
     "output_type": "stream",
     "text": [
      "행렬 U :\n",
      "[[ 0.24  0.75]\n",
      " [ 0.51  0.44]\n",
      " [ 0.83 -0.49]\n",
      " [ 0.    0.  ]]\n"
     ]
    }
   ],
   "source": [
    "U = U[:,:2]\n",
    "print('행렬 U :')\n",
    "print(U.round(2))"
   ]
  },
  {
   "cell_type": "code",
   "execution_count": 11,
   "id": "15521ec7-29f3-449e-a72d-85227c0ef54e",
   "metadata": {
    "tags": []
   },
   "outputs": [
    {
     "name": "stdout",
     "output_type": "stream",
     "text": [
      "직교행렬 VT :\n",
      "[[ 0.    0.31  0.31  0.28  0.8   0.09  0.28  0.    0.  ]\n",
      " [ 0.   -0.24 -0.24  0.58 -0.26  0.37  0.58 -0.   -0.  ]]\n"
     ]
    }
   ],
   "source": [
    "VT = VT[:2,:]\n",
    "print('직교행렬 VT :')\n",
    "print(VT.round(2))"
   ]
  },
  {
   "cell_type": "code",
   "execution_count": 12,
   "id": "c164de9e-2db1-425a-b924-5cbe430ea394",
   "metadata": {
    "tags": []
   },
   "outputs": [
    {
     "name": "stdout",
     "output_type": "stream",
     "text": [
      "[[0 0 0 1 0 1 1 0 0]\n",
      " [0 0 0 1 1 0 1 0 0]\n",
      " [0 1 1 0 2 0 0 0 0]\n",
      " [1 0 0 0 0 0 0 1 1]]\n",
      "[[ 0.   -0.17 -0.17  1.08  0.12  0.62  1.08 -0.   -0.  ]\n",
      " [ 0.    0.2   0.2   0.91  0.86  0.45  0.91  0.    0.  ]\n",
      " [ 0.    0.93  0.93  0.03  2.05 -0.17  0.03  0.    0.  ]\n",
      " [ 0.    0.    0.    0.    0.    0.    0.    0.    0.  ]]\n"
     ]
    }
   ],
   "source": [
    "A_prime = np.dot(np.dot(U,S), VT)\n",
    "print(A)\n",
    "print(A_prime.round(2))"
   ]
  },
  {
   "cell_type": "code",
   "execution_count": 13,
   "id": "447f3e0e-fb68-485d-b444-072d3cd62d24",
   "metadata": {
    "tags": []
   },
   "outputs": [
    {
     "name": "stderr",
     "output_type": "stream",
     "text": [
      "C:\\Users\\USER\\anaconda3\\Lib\\site-packages\\pandas\\core\\arrays\\masked.py:60: UserWarning: Pandas requires version '1.3.6' or newer of 'bottleneck' (version '1.3.5' currently installed).\n",
      "  from pandas.core import (\n"
     ]
    }
   ],
   "source": [
    "import pandas as pd\n",
    "from sklearn.datasets import fetch_20newsgroups\n",
    "import nltk\n",
    "from nltk.corpus import stopwords\n",
    "from sklearn.feature_extraction.text import TfidfVectorizer\n",
    "from sklearn.decomposition import TruncatedSVD"
   ]
  },
  {
   "cell_type": "code",
   "execution_count": 14,
   "id": "3f5ea73e-81df-4846-8442-2722c3272ee7",
   "metadata": {
    "tags": []
   },
   "outputs": [
    {
     "name": "stdout",
     "output_type": "stream",
     "text": [
      "샘플의 수 : 11314\n"
     ]
    }
   ],
   "source": [
    "dataset = fetch_20newsgroups(shuffle=True, random_state=1, remove=('headers', 'footers', 'quotes'))\n",
    "documents = dataset.data\n",
    "print('샘플의 수 :',len(documents))"
   ]
  },
  {
   "cell_type": "code",
   "execution_count": 15,
   "id": "d37799e2-2fac-42f8-996d-add78cbed8e4",
   "metadata": {
    "tags": []
   },
   "outputs": [
    {
     "data": {
      "text/plain": [
       "\"\\n\\n\\n\\n\\n\\n\\nYeah, do you expect people to read the FAQ, etc. and actually accept hard\\natheism?  No, you need a little leap of faith, Jimmy.  Your logic runs out\\nof steam!\\n\\n\\n\\n\\n\\n\\n\\nJim,\\n\\nSorry I can't pity you, Jim.  And I'm sorry that you have these feelings of\\ndenial about the faith you need to get by.  Oh well, just pretend that it will\\nall end happily ever after anyway.  Maybe if you start a new newsgroup,\\nalt.atheist.hard, you won't be bummin' so much?\\n\\n\\n\\n\\n\\n\\nBye-Bye, Big Jim.  Don't forget your Flintstone's Chewables!  :) \\n--\\nBake Timmons, III\""
      ]
     },
     "execution_count": 15,
     "metadata": {},
     "output_type": "execute_result"
    }
   ],
   "source": [
    "documents[1]"
   ]
  },
  {
   "cell_type": "code",
   "execution_count": 16,
   "id": "069c99a4-2b66-4c8a-835d-64e8b6877bdd",
   "metadata": {
    "tags": []
   },
   "outputs": [
    {
     "data": {
      "text/plain": [
       "dict_keys(['data', 'filenames', 'target_names', 'target', 'DESCR'])"
      ]
     },
     "execution_count": 16,
     "metadata": {},
     "output_type": "execute_result"
    }
   ],
   "source": [
    "dataset.keys()"
   ]
  },
  {
   "cell_type": "code",
   "execution_count": 17,
   "id": "165299a7-eb1d-495a-bbc4-06f113da8c13",
   "metadata": {
    "tags": []
   },
   "outputs": [
    {
     "name": "stdout",
     "output_type": "stream",
     "text": [
      "['alt.atheism', 'comp.graphics', 'comp.os.ms-windows.misc', 'comp.sys.ibm.pc.hardware', 'comp.sys.mac.hardware', 'comp.windows.x', 'misc.forsale', 'rec.autos', 'rec.motorcycles', 'rec.sport.baseball', 'rec.sport.hockey', 'sci.crypt', 'sci.electronics', 'sci.med', 'sci.space', 'soc.religion.christian', 'talk.politics.guns', 'talk.politics.mideast', 'talk.politics.misc', 'talk.religion.misc']\n"
     ]
    }
   ],
   "source": [
    "print(dataset.target_names)"
   ]
  },
  {
   "cell_type": "code",
   "execution_count": 18,
   "id": "224d76bc-0df4-473c-a6f5-a14f61fb3c98",
   "metadata": {
    "tags": []
   },
   "outputs": [],
   "source": [
    "news_df = pd.DataFrame({'document':documents})"
   ]
  },
  {
   "cell_type": "code",
   "execution_count": 19,
   "id": "94c5f8b5-7f2c-4db0-9977-7f947b8df5e0",
   "metadata": {
    "tags": []
   },
   "outputs": [
    {
     "data": {
      "text/html": [
       "<div>\n",
       "<style scoped>\n",
       "    .dataframe tbody tr th:only-of-type {\n",
       "        vertical-align: middle;\n",
       "    }\n",
       "\n",
       "    .dataframe tbody tr th {\n",
       "        vertical-align: top;\n",
       "    }\n",
       "\n",
       "    .dataframe thead th {\n",
       "        text-align: right;\n",
       "    }\n",
       "</style>\n",
       "<table border=\"1\" class=\"dataframe\">\n",
       "  <thead>\n",
       "    <tr style=\"text-align: right;\">\n",
       "      <th></th>\n",
       "      <th>document</th>\n",
       "    </tr>\n",
       "  </thead>\n",
       "  <tbody>\n",
       "    <tr>\n",
       "      <th>0</th>\n",
       "      <td>Well i'm not sure about the story nad it did s...</td>\n",
       "    </tr>\n",
       "    <tr>\n",
       "      <th>1</th>\n",
       "      <td>\\n\\n\\n\\n\\n\\n\\nYeah, do you expect people to re...</td>\n",
       "    </tr>\n",
       "    <tr>\n",
       "      <th>2</th>\n",
       "      <td>Although I realize that principle is not one o...</td>\n",
       "    </tr>\n",
       "    <tr>\n",
       "      <th>3</th>\n",
       "      <td>Notwithstanding all the legitimate fuss about ...</td>\n",
       "    </tr>\n",
       "    <tr>\n",
       "      <th>4</th>\n",
       "      <td>Well, I will have to change the scoring on my ...</td>\n",
       "    </tr>\n",
       "    <tr>\n",
       "      <th>5</th>\n",
       "      <td>\\n \\nI read somewhere, I think in Morton Smit...</td>\n",
       "    </tr>\n",
       "    <tr>\n",
       "      <th>6</th>\n",
       "      <td>\\nOk.  I have a record that shows a IIsi with ...</td>\n",
       "    </tr>\n",
       "    <tr>\n",
       "      <th>7</th>\n",
       "      <td>\\n\\n\\nSounds like wishful guessing.\\n\\n\\n\\n\\n'...</td>\n",
       "    </tr>\n",
       "    <tr>\n",
       "      <th>8</th>\n",
       "      <td>Nobody is saying that you shouldn't be allowe...</td>\n",
       "    </tr>\n",
       "    <tr>\n",
       "      <th>9</th>\n",
       "      <td>\\n  I was wondering if anyone can shed any lig...</td>\n",
       "    </tr>\n",
       "  </tbody>\n",
       "</table>\n",
       "</div>"
      ],
      "text/plain": [
       "                                            document\n",
       "0  Well i'm not sure about the story nad it did s...\n",
       "1  \\n\\n\\n\\n\\n\\n\\nYeah, do you expect people to re...\n",
       "2  Although I realize that principle is not one o...\n",
       "3  Notwithstanding all the legitimate fuss about ...\n",
       "4  Well, I will have to change the scoring on my ...\n",
       "5   \\n \\nI read somewhere, I think in Morton Smit...\n",
       "6  \\nOk.  I have a record that shows a IIsi with ...\n",
       "7  \\n\\n\\nSounds like wishful guessing.\\n\\n\\n\\n\\n'...\n",
       "8   Nobody is saying that you shouldn't be allowe...\n",
       "9  \\n  I was wondering if anyone can shed any lig..."
      ]
     },
     "execution_count": 19,
     "metadata": {},
     "output_type": "execute_result"
    }
   ],
   "source": [
    "news_df.head(10)"
   ]
  },
  {
   "cell_type": "code",
   "execution_count": 20,
   "id": "9d801ecd-ae4c-48cf-93cb-df7e312ec916",
   "metadata": {
    "tags": []
   },
   "outputs": [],
   "source": [
    "\n",
    "# 특수 문자 제거\n",
    "news_df['clean_doc'] = news_df['document'].str.replace(\"[^a-zA-Z]\", \" \")\n",
    "# 길이가 3이하인 단어는 제거 (길이가 짧은 단어 제거)\n",
    "news_df['clean_doc'] = news_df['clean_doc'].apply(lambda x: ' '.join([w for w in x.split() if len(w)>3]))\n",
    "# 전체 단어에 대한 소문자 변환\n",
    "news_df['clean_doc'] = news_df['clean_doc'].apply(lambda x: x.lower())"
   ]
  },
  {
   "cell_type": "code",
   "execution_count": 21,
   "id": "6cea6036-011a-486f-9a14-00cb925c6e76",
   "metadata": {
    "tags": []
   },
   "outputs": [
    {
     "data": {
      "text/plain": [
       "\"yeah, expect people read faq, etc. actually accept hard atheism? need little leap faith, jimmy. your logic runs steam! jim, sorry can't pity you, jim. sorry that have these feelings denial about faith need well, just pretend that will happily ever after anyway. maybe start newsgroup, alt.atheist.hard, won't bummin' much? bye-bye, jim. don't forget your flintstone's chewables! bake timmons,\""
      ]
     },
     "execution_count": 21,
     "metadata": {},
     "output_type": "execute_result"
    }
   ],
   "source": [
    "news_df['clean_doc'][1]"
   ]
  },
  {
   "cell_type": "code",
   "execution_count": 22,
   "id": "b0470e9c-f1a2-4917-80b2-16cf7c9cea3e",
   "metadata": {
    "tags": []
   },
   "outputs": [],
   "source": [
    "# NLTK로부터 불용어를 받아온다.\n",
    "stop_words = stopwords.words('english')\n",
    "tokenized_doc = news_df['clean_doc'].apply(lambda x: x.split()) # 토큰화\n",
    "tokenized_doc = tokenized_doc.apply(lambda x: [item for item in x if item not in stop_words])\n",
    "# 불용어를 제거합니다."
   ]
  },
  {
   "cell_type": "code",
   "execution_count": 23,
   "id": "d52af88b-4498-4668-8446-9abc9da25ef0",
   "metadata": {
    "tags": []
   },
   "outputs": [
    {
     "name": "stdout",
     "output_type": "stream",
     "text": [
      "['yeah,', 'expect', 'people', 'read', 'faq,', 'etc.', 'actually', 'accept', 'hard', 'atheism?', 'need', 'little', 'leap', 'faith,', 'jimmy.', 'logic', 'runs', 'steam!', 'jim,', 'sorry', \"can't\", 'pity', 'you,', 'jim.', 'sorry', 'feelings', 'denial', 'faith', 'need', 'well,', 'pretend', 'happily', 'ever', 'anyway.', 'maybe', 'start', 'newsgroup,', 'alt.atheist.hard,', \"bummin'\", 'much?', 'bye-bye,', 'jim.', 'forget', \"flintstone's\", 'chewables!', 'bake', 'timmons,']\n"
     ]
    }
   ],
   "source": [
    "print(tokenized_doc[1])"
   ]
  },
  {
   "cell_type": "code",
   "execution_count": 24,
   "id": "6057be20-cc06-4cd7-98a3-847359cd7bd1",
   "metadata": {
    "tags": []
   },
   "outputs": [
    {
     "name": "stdout",
     "output_type": "stream",
     "text": [
      "TF-IDF 행렬의 크기 : (11314, 1000)\n"
     ]
    }
   ],
   "source": [
    "vectorizer = TfidfVectorizer(stop_words='english', max_features= 1000, # 상위 1,000개의 단어를 보존 \n",
    "max_df = 0.5, smooth_idf=True)\n",
    "\n",
    "X = vectorizer.fit_transform(news_df['clean_doc'])\n",
    "\n",
    "# TF-IDF 행렬의 크기 확인\n",
    "print('TF-IDF 행렬의 크기 :',X.shape)"
   ]
  },
  {
   "cell_type": "code",
   "execution_count": 25,
   "id": "f4be6da7-6c09-4ed6-af25-f7cd2692bc0b",
   "metadata": {
    "tags": []
   },
   "outputs": [
    {
     "data": {
      "text/plain": [
       "20"
      ]
     },
     "execution_count": 25,
     "metadata": {},
     "output_type": "execute_result"
    }
   ],
   "source": [
    "svd_model = TruncatedSVD(n_components=20, algorithm='randomized', n_iter=100, random_state=122)\n",
    "svd_model.fit(X)\n",
    "len(svd_model.components_)"
   ]
  },
  {
   "cell_type": "code",
   "execution_count": 26,
   "id": "59d88cfc-f436-4954-b42e-6e1d43b880f3",
   "metadata": {
    "tags": []
   },
   "outputs": [
    {
     "name": "stdout",
     "output_type": "stream",
     "text": [
      "Topic 1: [('just', 0.20273), ('don', 0.19949), ('like', 0.19534), ('know', 0.18819), ('people', 0.17851)]\n",
      "Topic 2: [('thanks', 0.31973), ('windows', 0.27738), ('card', 0.17369), ('drive', 0.15927), ('mail', 0.1488)]\n",
      "Topic 3: [('game', 0.31991), ('team', 0.27972), ('year', 0.26585), ('games', 0.20684), ('drive', 0.17141)]\n",
      "Topic 4: [('edu', 0.42972), ('thanks', 0.24949), ('mail', 0.17243), ('game', 0.12812), ('team', 0.12645)]\n",
      "Topic 5: [('know', 0.41918), ('does', 0.305), ('thanks', 0.26133), ('don', 0.21061), ('just', 0.19501)]\n",
      "Topic 6: [('drive', 0.45668), ('edu', 0.21787), ('thanks', 0.18804), ('scsi', 0.1573), ('drives', 0.12178)]\n",
      "Topic 7: [('just', 0.56807), ('edu', 0.43053), ('don', 0.22492), ('like', 0.19983), ('soon', 0.09527)]\n",
      "Topic 8: [('chip', 0.2163), ('government', 0.2001), ('encryption', 0.14658), ('like', 0.14639), ('clipper', 0.14265)]\n",
      "Topic 9: [('don', 0.32188), ('know', 0.31942), ('edu', 0.28677), ('does', 0.26522), ('think', 0.19896)]\n",
      "Topic 10: [('does', 0.47651), ('card', 0.29892), ('just', 0.23942), ('video', 0.15102), ('like', 0.12375)]\n",
      "Topic 11: [('just', 0.41493), ('drive', 0.23901), ('does', 0.20644), ('file', 0.15788), ('game', 0.14789)]\n",
      "Topic 12: [('like', 0.52875), ('drive', 0.19739), ('does', 0.15354), ('file', 0.12715), ('time', 0.09433)]\n",
      "Topic 13: [('like', 0.48947), ('people', 0.40204), ('windows', 0.17144), ('israel', 0.12438), ('card', 0.12266)]\n",
      "Topic 14: [('think', 0.36298), ('just', 0.18776), ('com', 0.16087), ('like', 0.14128), ('chip', 0.12567)]\n",
      "Topic 15: [('know', 0.38843), ('00', 0.26278), ('don', 0.24262), ('sale', 0.15833), ('file', 0.14316)]\n",
      "Topic 16: [('good', 0.52031), ('people', 0.24556), ('windows', 0.23767), ('file', 0.17392), ('does', 0.16211)]\n",
      "Topic 17: [('think', 0.46225), ('space', 0.38068), ('does', 0.20763), ('israel', 0.1535), ('nasa', 0.13529)]\n",
      "Topic 18: [('com', 0.53463), ('ve', 0.44137), ('does', 0.25038), ('people', 0.14719), ('think', 0.12949)]\n",
      "Topic 19: [('space', 0.35337), ('ve', 0.25933), ('card', 0.16633), ('people', 0.16342), ('know', 0.12589)]\n",
      "Topic 20: [('ve', 0.44599), ('00', 0.24318), ('people', 0.20333), ('window', 0.15806), ('does', 0.15766)]\n"
     ]
    }
   ],
   "source": [
    "terms = vectorizer.get_feature_names_out() # 단어 집합. 1,000개의 단어가 저장됨.\n",
    "\n",
    "def get_topics(components, feature_names, n=5):\n",
    "    for idx, topic in enumerate(components):\n",
    "        print(\"Topic %d:\" % (idx+1), [(feature_names[i], topic[i].round(5)) for i in topic.argsort()[:-n - 1:-1]])\n",
    "get_topics(svd_model.components_,terms)"
   ]
  },
  {
   "cell_type": "code",
   "execution_count": 27,
   "id": "a3b40bc1-d3bd-4b90-b261-4ef4f7fabe3a",
   "metadata": {
    "tags": []
   },
   "outputs": [
    {
     "data": {
      "text/plain": [
       "0    [well, sure, story, seem, biased., disagree, s...\n",
       "1    [yeah,, expect, people, read, faq,, etc., actu...\n",
       "2    [although, realize, principle, strongest, poin...\n",
       "3    [notwithstanding, legitimate, fuss, proposal,,...\n",
       "4    [well,, change, scoring, playoff, pool., unfor...\n",
       "Name: clean_doc, dtype: object"
      ]
     },
     "execution_count": 27,
     "metadata": {},
     "output_type": "execute_result"
    }
   ],
   "source": [
    "tokenized_doc[:5]"
   ]
  },
  {
   "cell_type": "code",
   "execution_count": 28,
   "id": "96701728-e7c3-42ec-b501-cfc38fd41b6f",
   "metadata": {
    "tags": []
   },
   "outputs": [],
   "source": [
    "from gensim import corpora"
   ]
  },
  {
   "cell_type": "code",
   "execution_count": 29,
   "id": "f4458390-c186-4f8a-8490-ef1a0135d6b3",
   "metadata": {
    "tags": []
   },
   "outputs": [
    {
     "name": "stdout",
     "output_type": "stream",
     "text": [
      "[(59, 1), (60, 1), (61, 1), (62, 1), (63, 1), (64, 1), (65, 1), (66, 1), (67, 1), (68, 1), (69, 1), (70, 1), (71, 1), (72, 1), (73, 1), (74, 1), (75, 1), (76, 1), (77, 1), (78, 1), (79, 1), (80, 1), (81, 1), (82, 2), (83, 1), (84, 1), (85, 1), (86, 1), (87, 1), (88, 1), (89, 2), (90, 1), (91, 1), (92, 1), (93, 1), (94, 1), (95, 1), (96, 2), (97, 1), (98, 1), (99, 1), (100, 1), (101, 1), (102, 1)]\n"
     ]
    }
   ],
   "source": [
    "dictionary = corpora.Dictionary(tokenized_doc)\n",
    "corpus = [dictionary.doc2bow(text) for text in tokenized_doc]\n",
    "print(corpus[1]) # 수행된 결과에서 두번째 뉴스 출력. 첫번째 문서의 인덱스는 0"
   ]
  },
  {
   "cell_type": "code",
   "execution_count": 30,
   "id": "08626f75-d794-4d2d-b037-7c1f2d3adb10",
   "metadata": {
    "tags": []
   },
   "outputs": [
    {
     "name": "stdout",
     "output_type": "stream",
     "text": [
      "bye-bye,\n"
     ]
    }
   ],
   "source": [
    "print(dictionary[66])"
   ]
  },
  {
   "cell_type": "code",
   "execution_count": 31,
   "id": "1b97fbec-fa74-4911-8730-2233faf1bb7d",
   "metadata": {
    "tags": []
   },
   "outputs": [
    {
     "data": {
      "text/plain": [
       "181856"
      ]
     },
     "execution_count": 31,
     "metadata": {},
     "output_type": "execute_result"
    }
   ],
   "source": [
    "len(dictionary)"
   ]
  },
  {
   "cell_type": "code",
   "execution_count": 32,
   "id": "b280713a-9f7d-4edd-9aa9-894b3412eb7d",
   "metadata": {
    "tags": []
   },
   "outputs": [
    {
     "name": "stdout",
     "output_type": "stream",
     "text": [
      "(0, '0.015*\"medical\" + 0.013*\"health\" + 0.008*\"patients\" + 0.007*\"water\"')\n",
      "(1, '0.011*\"government\" + 0.007*\"public\" + 0.005*\"state\" + 0.005*\"president\"')\n",
      "(2, '0.007*\"firearms\" + 0.006*\"guns\" + 0.004*\"weapon\" + 0.003*\"handgun\"')\n",
      "(3, '0.005*\"from:\" + 0.005*\"objective\" + 0.003*\"os/2\" + 0.003*\"memory.\"')\n",
      "(4, '0.027*\"turkish\" + 0.027*\"armenian\" + 0.016*\"armenians\" + 0.013*\"greek\"')\n",
      "(5, '0.014*\"jesus\" + 0.009*\"believe\" + 0.009*\"christian\" + 0.008*\"bible\"')\n",
      "(6, '0.009*\"file\" + 0.007*\"available\" + 0.006*\"program\" + 0.006*\"using\"')\n",
      "(7, '0.008*\"----------------------------------------------------------------------------\" + 0.008*\"surrender\" + 0.008*\"gordon\" + 0.007*\"banks\"')\n",
      "(8, '0.034*\"drive\" + 0.021*\"disk\" + 0.018*\"scsi\" + 0.016*\"hard\"')\n",
      "(9, '0.010*\"myers:\" + 0.009*\"henrik]\" + 0.004*\"lebanese\" + 0.004*\"karabakh\"')\n",
      "(10, '0.035*\"space\" + 0.011*\"nasa\" + 0.010*\"launch\" + 0.008*\"55.0\"')\n",
      "(11, '0.008*\"university\" + 0.005*\"excellent\" + 0.004*\"asking\" + 0.004*\"shipping\"')\n",
      "(12, '0.005*\"nubus\" + 0.003*\"cleveland\" + 0.003*\"powerpc\" + 0.002*\"set.\"')\n",
      "(13, '0.004*\"offense\" + 0.004*\"phillies\" + 0.004*\"dodgers\" + 0.004*\"atlanta\"')\n",
      "(14, '0.010*\"people\" + 0.006*\"said\" + 0.004*\"even\" + 0.004*\"went\"')\n",
      "(15, '0.005*\"scsi-2\" + 0.004*\"scsi-1\" + 0.004*\"plug\" + 0.003*\"francis\"')\n",
      "(16, '0.005*\"fallacy\" + 0.003*\"period:\" + 0.003*\"--------------------------------------------------------------------------------\" + 0.003*\"intentional\"')\n",
      "(17, '0.019*\"would\" + 0.011*\"like\" + 0.009*\"know\" + 0.009*\"think\"')\n",
      "(18, '0.011*\"team\" + 0.010*\"game\" + 0.007*\"last\" + 0.007*\"first\"')\n",
      "(19, '0.009*\"wire\" + 0.008*\"ground\" + 0.005*\"neutral\" + 0.005*\"sabbath\"')\n"
     ]
    }
   ],
   "source": [
    "import gensim\n",
    "NUM_TOPICS = 20 # 20개의 토픽, k=20\n",
    "ldamodel = gensim.models.ldamodel.LdaModel(corpus, num_topics = NUM_TOPICS, id2word=dictionary, passes=15)\n",
    "topics = ldamodel.print_topics(num_words=4)\n",
    "for topic in topics:\n",
    "    print(topic)"
   ]
  },
  {
   "cell_type": "code",
   "execution_count": 33,
   "id": "6cd92128-91bf-46e3-bf5d-d1d5c4e77efa",
   "metadata": {
    "tags": []
   },
   "outputs": [
    {
     "name": "stdout",
     "output_type": "stream",
     "text": [
      "[(0, '0.015*\"medical\" + 0.013*\"health\" + 0.008*\"patients\" + 0.007*\"water\" + 0.007*\"april\" + 0.006*\"radar\" + 0.005*\"newsletter\" + 0.005*\"disease\" + 0.005*\"cancer\" + 0.005*\"1993\"'), (1, '0.011*\"government\" + 0.007*\"public\" + 0.005*\"state\" + 0.005*\"president\" + 0.005*\"encryption\" + 0.005*\"states\" + 0.005*\"national\" + 0.004*\"israel\" + 0.004*\"security\" + 0.004*\"united\"'), (2, '0.007*\"firearms\" + 0.006*\"guns\" + 0.004*\"weapon\" + 0.003*\"handgun\" + 0.003*\"homicide\" + 0.003*\"quantum\" + 0.003*\"wires\" + 0.003*\"firearm\" + 0.003*\"handguns\" + 0.003*\"cable\"'), (3, '0.005*\"from:\" + 0.005*\"objective\" + 0.003*\"os/2\" + 0.003*\"memory.\" + 0.003*\"date:\" + 0.003*\"judges\" + 0.002*\"swap\" + 0.002*\"genetic\" + 0.002*\"patient\" + 0.002*\"5.25\"\"'), (4, '0.027*\"turkish\" + 0.027*\"armenian\" + 0.016*\"armenians\" + 0.013*\"greek\" + 0.012*\"jews\" + 0.012*\"turkey\" + 0.011*\"turks\" + 0.009*\"----\" + 0.009*\"genocide\" + 0.009*\"armenia\"'), (5, '0.014*\"jesus\" + 0.009*\"believe\" + 0.009*\"christian\" + 0.008*\"bible\" + 0.007*\"christians\" + 0.006*\"church\" + 0.005*\"god.\" + 0.005*\"faith\" + 0.005*\"word\" + 0.005*\"religious\"'), (6, '0.009*\"file\" + 0.007*\"available\" + 0.006*\"program\" + 0.006*\"using\" + 0.006*\"also\" + 0.005*\"data\" + 0.005*\"system\" + 0.005*\"windows\" + 0.005*\"information\" + 0.005*\"software\"'), (7, '0.008*\"----------------------------------------------------------------------------\" + 0.008*\"surrender\" + 0.008*\"gordon\" + 0.007*\"banks\" + 0.006*\"intellect,\" + 0.006*\"shameful\" + 0.006*\"\"skepticism\" + 0.006*\"n3jxp\" + 0.006*\"chastity\" + 0.006*\"soon.\"\"'), (8, '0.034*\"drive\" + 0.021*\"disk\" + 0.018*\"scsi\" + 0.016*\"hard\" + 0.011*\"controller\" + 0.011*\"drives\" + 0.009*\"floppy\" + 0.009*\"card\" + 0.008*\"tape\" + 0.007*\"apple\"'), (9, '0.010*\"myers:\" + 0.009*\"henrik]\" + 0.004*\"lebanese\" + 0.004*\"karabakh\" + 0.004*\"azeris\" + 0.003*\"friday,\" + 0.002*\"device.\" + 0.002*\"hair\" + 0.002*\"island.\" + 0.002*\"planes\"'), (10, '0.035*\"space\" + 0.011*\"nasa\" + 0.010*\"launch\" + 0.008*\"55.0\" + 0.008*\"satellite\" + 0.007*\"lunar\" + 0.006*\"shuttle\" + 0.005*\"mission\" + 0.005*\"flight\" + 0.005*\"solar\"'), (11, '0.008*\"university\" + 0.005*\"excellent\" + 0.004*\"asking\" + 0.004*\"shipping\" + 0.003*\"sale\" + 0.003*\"annual\" + 0.003*\"april\" + 0.003*\"condition.\" + 0.003*\"offer.\" + 0.003*\"great\"'), (12, '0.005*\"nubus\" + 0.003*\"cleveland\" + 0.003*\"powerpc\" + 0.002*\"set.\" + 0.002*\"lopez\" + 0.002*\"prediction\" + 0.002*\"managing\" + 0.002*\"terminals\" + 0.002*\"idle\" + 0.002*\"often.\"'), (13, '0.004*\"offense\" + 0.004*\"phillies\" + 0.004*\"dodgers\" + 0.004*\"atlanta\" + 0.004*\"milwaukee\" + 0.003*\"reds\" + 0.003*\"houston\" + 0.003*\"cincinnati\" + 0.003*\"third.\" + 0.003*\"aunt\"'), (14, '0.010*\"people\" + 0.006*\"said\" + 0.004*\"even\" + 0.004*\"went\" + 0.004*\"told\" + 0.003*\"first\" + 0.003*\"many\" + 0.003*\"children\" + 0.003*\"came\" + 0.003*\"said,\"'), (15, '0.005*\"scsi-2\" + 0.004*\"scsi-1\" + 0.004*\"plug\" + 0.003*\"francis\" + 0.003*\"powerbook\" + 0.003*\"vitamin\" + 0.002*\"ideas?\" + 0.002*\"japanese\" + 0.002*\"apps\" + 0.002*\"mild\"'), (16, '0.005*\"fallacy\" + 0.003*\"period:\" + 0.003*\"--------------------------------------------------------------------------------\" + 0.003*\"intentional\" + 0.003*\"carson\" + 0.003*\"shots\" + 0.003*\"twin\" + 0.002*\"pain,\" + 0.002*\"1980\" + 0.002*\"answer:\"'), (17, '0.019*\"would\" + 0.011*\"like\" + 0.009*\"know\" + 0.009*\"think\" + 0.007*\"could\" + 0.006*\"good\" + 0.006*\"much\" + 0.006*\"make\" + 0.006*\"people\" + 0.005*\"even\"'), (18, '0.011*\"team\" + 0.010*\"game\" + 0.007*\"last\" + 0.007*\"first\" + 0.007*\"games\" + 0.006*\"play\" + 0.006*\"hockey\" + 0.005*\"period\" + 0.005*\"players\" + 0.005*\"league\"'), (19, '0.009*\"wire\" + 0.008*\"ground\" + 0.005*\"neutral\" + 0.005*\"sabbath\" + 0.003*\"metal\" + 0.003*\"nonsense.\" + 0.002*\"connected\" + 0.002*\"controller,\" + 0.002*\"reporter\" + 0.002*\"multi\"')]\n"
     ]
    }
   ],
   "source": [
    "print(ldamodel.print_topics())"
   ]
  },
  {
   "cell_type": "code",
   "execution_count": 34,
   "id": "89900825-529b-4820-a65c-8fdc49545c37",
   "metadata": {
    "tags": []
   },
   "outputs": [],
   "source": [
    "import pyLDAvis.gensim_models"
   ]
  },
  {
   "cell_type": "code",
   "execution_count": 35,
   "id": "0a89ab0f-875e-427a-9286-a0f0c7611441",
   "metadata": {
    "tags": []
   },
   "outputs": [
    {
     "data": {
      "text/html": [
       "\n",
       "<link rel=\"stylesheet\" type=\"text/css\" href=\"https://cdn.jsdelivr.net/gh/bmabey/pyLDAvis@3.4.0/pyLDAvis/js/ldavis.v1.0.0.css\">\n",
       "\n",
       "\n",
       "<div id=\"ldavis_el1681628800774170407536517996\" style=\"background-color:white;\"></div>\n",
       "<script type=\"text/javascript\">\n",
       "\n",
       "var ldavis_el1681628800774170407536517996_data = {\"mdsDat\": {\"x\": [-0.40818244070421655, -0.30326029713578606, -0.29937086234413857, -0.23800677238831275, -0.11180977887899582, -0.1327557768904215, 0.004056610578300453, 0.09812830198361737, 0.07739881430912589, 0.08717765872424396, 0.09798690579871826, 0.11784169880338705, 0.11561785953705976, 0.11323481715183073, 0.12537324091452026, 0.12929536217560933, 0.130779642693217, 0.13258580283250085, 0.13244005584742408, 0.1314691569923162], \"y\": [0.0319090494330964, -0.259491035390964, 0.17760248725158273, -0.09104521177225278, 0.16978189680039296, 0.08018271086433063, -0.04303486249089533, -0.006563954169051994, -0.019608328571834442, -0.0681007668335016, -0.007515581150723309, 0.002020536562215183, -0.002685973633827003, 0.013941698192862902, 0.0015909548180239159, 0.003994571238134554, 0.0029435389804301896, 0.004127222413455939, 0.006227092117916591, 0.0037239553406100525], \"topics\": [1, 2, 3, 4, 5, 6, 7, 8, 9, 10, 11, 12, 13, 14, 15, 16, 17, 18, 19, 20], \"cluster\": [1, 1, 1, 1, 1, 1, 1, 1, 1, 1, 1, 1, 1, 1, 1, 1, 1, 1, 1, 1], \"Freq\": [33.72827046680451, 19.05121104906278, 12.879882540338242, 9.089082484352359, 5.5019679120251475, 4.436840821479971, 3.0781279990155648, 2.083788906627615, 1.9418898877633441, 1.4168677542528219, 1.1781481371911289, 1.0011022747043925, 0.996023217408676, 0.8978198581081932, 0.732599223188441, 0.5374295795035994, 0.40736003501858925, 0.3946746204976759, 0.36960292954346674, 0.2773103031134946]}, \"tinfo\": {\"Term\": [\"would\", \"space\", \"people\", \"file\", \"believe\", \"hard\", \"drive\", \"know\", \"government\", \"think\", \"available\", \"jesus\", \"disk\", \"system\", \"last\", \"like\", \"program\", \"armenian\", \"good\", \"team\", \"much\", \"game\", \"card\", \"windows\", \"power\", \"public\", \"using\", \"said\", \"data\", \"software\", \"difference\", \"now.\", \"jobs\", \"opinions\", \"buying\", \"wondering\", \"considering\", \"tend\", \"sounds\", \"folks\", \"advice\", \"though,\", \"btw,\", \"know.\", \"sorry,\", \"paying\", \"question,\", \"terminal\", \"familiar\", \"enjoy\", \"motorcycle\", \"reason,\", \"please,\", \"money\", \"resulting\", \"voltage\", \"before.\", \"supposedly\", \"perfectly\", \"assuming\", \"pretty\", \"seem\", \"i've\", \"this.\", \"somebody\", \"much\", \"theory\", \"guess\", \"might\", \"actually\", \"learn\", \"think\", \"actually,\", \"would\", \"know\", \"thing\", \"really\", \"good\", \"something\", \"someone\", \"sort\", \"getting\", \"seems\", \"anything\", \"like\", \"kind\", \"hope\", \"there's\", \"can't\", \"probably\", \"make\", \"could\", \"question\", \"better\", \"want\", \"since\", \"sure\", \"anyone\", \"point\", \"things\", \"even\", \"time\", \"going\", \"take\", \"still\", \"that's\", \"people\", \"need\", \"also\", \"many\", \"find\", \"used\", \"file\", \"windows\", \"server\", \"graphics\", \"output\", \"user\", \"widget\", \"keyboard\", \"motif\", \"directory\", \"char\", \"format\", \"mouse\", \"file:\", \"unix\", \"files\", \"entries\", \"jpeg\", \"applications\", \"resource\", \"functions\", \"anonymous\", \"printer\", \"font\", \"----------------------------------------------------------------------\", \"versions\", \"postscript\", \"x11r5\", \"client\", \"card.\", \"software\", \"color\", \"screen\", \"image\", \"window\", \"available\", \"entry\", \"display\", \"version\", \"video\", \"application\", \"subject:\", \"program\", \"hardware\", \"data\", \"email\", \"mail\", \"code\", \"computer\", \"using\", \"information\", \"system\", \"send\", \"source\", \"please\", \"also\", \"running\", \"number\", \"line\", \"list\", \"used\", \"need\", \"following\", \"killed\", \"women\", \"food\", \"fire\", \"killing\", \"soldiers\", \"muslims\", \"wife\", \"koresh\", \"fighting\", \"ride\", \"riding\", \"animals\", \"azerbaijan\", \"azerbaijani\", \"apartment\", \"burned\", \"daughter\", \"tanks\", \"burning\", \"foot\", \"officer\", \"sumgait\", \"children.\", \"bodies\", \"reaction\", \"x-soviet\", \"home.\", \"suffered\", \"victims\", \"troops\", \"woman\", \"says,\", \"town\", \"doctor\", \"insurance\", \"children\", \"began\", \"said,\", \"lived\", \"kill\", \"went\", \"bike\", \"brought\", \"told\", \"said\", \"started\", \"took\", \"dead\", \"people\", \"came\", \"left\", \"russian\", \"school\", \"young\", \"head\", \"three\", \"years\", \"even\", \"first\", \"never\", \"last\", \"many\", \"found\", \"right\", \"time\", \"come\", \"could\", \"would\", \"take\", \"made\", \"like\", \"well\", \"going\", \"still\", \"encryption\", \"israel\", \"israeli\", \"federal\", \"administration\", \"clipper\", \"court\", \"privacy\", \"policy\", \"arab\", \"enforcement\", \"citizens\", \"congress\", \"escrow\", \"secure\", \"ripem\", \"encrypted\", \"amendment\", \"agencies\", \"crypto\", \"palestinian\", \"states,\", \"constitution\", \"government.\", \"smokeless\", \"key.\", \"proposal\", \"arabs\", \"wiretap\", \"cryptography\", \"president\", \"united\", \"security\", \"government\", \"states\", \"civil\", \"secret\", \"rights\", \"countries\", \"u.s.\", \"private\", \"public\", \"legal\", \"political\", \"laws\", \"state\", \"national\", \"american\", \"chip\", \"keys\", \"protect\", \"military\", \"information\", \"people\", \"right\", \"number\", \"hockey\", \"players\", \"teams\", \"season\", \"chicago\", \"baseball\", \"kings\", \"game.\", \"toronto\", \"scorer\", \"puck\", \"boston\", \"season.\", \"play:\", \"team\", \"philadelphia\", \"game,\", \"detroit\", \"fans\", \"montreal\", \"scored\", \"minnesota\", \"jose\", \"louis\", \"stats\", \"sports\", \"pitching\", \"leafs\", \"games.\", \"calgary\", \"player\", \"game\", \"games\", \"league\", \"pittsburgh\", \"---------------\", \"played\", \"period\", \"play\", \"division\", \"lost\", \"he's\", \"last\", \"year\", \"year.\", \"second\", \"first\", \"power\", \"third\", \"home\", \"pick\", \"next\", \"jesus\", \"bible\", \"christians\", \"church\", \"god.\", \"faith\", \"christ\", \"god's\", \"christianity\", \"atheists\", \"matthew\", \"eternal\", \"lord\", \"islam\", \"catholic\", \"biblical\", \"morality\", \"judas\", \"religions\", \"divine\", \"atheist\", \"church.\", \"games,\", \"mary\", \"worship\", \"jesus,\", \"truth,\", \"scripture\", \"atheism\", \"pope\", \"christian\", \"belief\", \"religion\", \"beliefs\", \"god,\", \"spirit\", \"holy\", \"religious\", \"truth\", \"universe\", \"moral\", \"believe\", \"word\", \"life\", \"evidence\", \"love\", \"cannot\", \"true\", \"must\", \"\\\"the\", \"human\", \"many\", \"people\", \"annual\", \"offer.\", \"sale.\", \"sale:\", \"seattle\", \"borland\", \"24-bit\", \"copies)\", \"financial\", \"captain\", \"1982\", \"hotel\", \"------------------------------------------------------------------------\", \"tube\", \"speakers\", \"skip\", \"rumors\", \"astros\", \"paradox\", \"beach\", \"(1st\", \"formats.\", \"nolan\", \"massachusetts\", \"civic\", \"pitcher\", \"vernon\", \"disease,\", \"legislative\", \"ghost\", \"condition.\", \"shipping\", \"interested.\", \"sale\", \"display.\", \"professor\", \"excellent\", \"university\", \"press,\", \"york,\", \"washington,\", \"june\", \"francisco\", \"asking\", \"condition\", \"conference\", \"robert\", \"1988\", \"april\", \"prices\", \"center\", \"sell\", \"great\", \"offer\", \"book\", \"paid\", \"david\", \"price\", \"1993\", \"os/2\", \"memory.\", \"judges\", \"genetic\", \"patient\", \"5.25\\\"\", \"pointer\", \"exists,\", \"product.\", \"64-bit\", \"patent\", \"hong\", \"mouse,\", \"dos.\", \"512k\", \"distribution:\", \"physicians\", \"image,\", \"x-windows\", \"speedstar\", \"walls\", \"forwards\", \"christians.\", \"countersteering\", \"kong\", \"privacy.\", \"compiling\", \"command,\", \"accelerators\", \"chipset\", \"exit\", \"difference,\", \"stephen\", \"objective\", \"swap\", \"date:\", \"forum\", \"from:\", \"experiences\", \"answering\", \"label\", \"does,\", \"definitions\", \"designated\", \"wayne\", \"picture\", \"tiff\", \"1993\", \"----------\", \"newsgroup\", \"chain\", \"nasa\", \"launch\", \"55.0\", \"satellite\", \"lunar\", \"shuttle\", \"solar\", \"orbit\", \"moon\", \"launched\", \"satellites\", \"candida\", \"planetary\", \"saturn\", \"telescope\", \"orbital\", \"mars\", \"astronomy\", \"payload\", \"aerospace\", \"missions\", \"ames\", \"orbit.\", \"titan\", \"astronomical\", \"resources.\", \"observatory\", \"venus\", \"exploration\", \"probes\", \"probe\", \"spacecraft\", \"space\", \"mission\", \"flight\", \"rocket\", \"station\", \"propulsion\", \"earth\", \"vehicle\", \"center\", \"science\", \"commercial\", \"national\", \"scsi\", \"controller\", \"drives\", \"floppy\", \"drive.\", \"bios\", \"motherboard\", \"simms\", \"quadra\", \"jumper\", \"centris\", \"clone\", \"slots\", \"3.5\\\"\", \"simm\", \"jumpers\", \"baud\", \"drives.\", \"president's\", \"drives,\", \"2400\", \"floppies\", \"toshiba\", \"256k\", \"player.\", \"esdi\", \"controllers\", \"config.sys\", \"canadiens\", \"cape\", \"boot\", \"drive\", \"disk\", \"icon\", \"drive,\", \"disk,\", \"16-bit\", \"manuals\", \"disks\", \"hard\", \"tape\", \"apple\", \"card\", \"backup\", \"------\", \"connector\", \"external\", \"ports\", \"internal\", \"cable\", \"modem\", \"chips\", \"chip\", \"power\", \"port\", \"serial\", \"supply\", \"patients\", \"cancer\", \"hicnet\", \"detector\", \"diseases\", \"clinical\", \"aids\", \"prevention\", \"infections\", \"illness\", \"chronic\", \"infection\", \"infectious\", \"syndrome\", \"fleet\", \"==================================================================\", \"wales\", \"newsletter\", \"diseases,\", \"summaries\", \"empirical\", \"detectors\", \"tissue\", \"firearms,\", \"campbell\", \"ariane\", \"lyme\", \"doses\", \"keller\", \"physicist\", \"radar\", \"medical\", \"health\", \"disease\", \"sensing\", \"centers\", \"kent\", \"water\", \"medicine\", \"immune\", \"april\", \"cheers,\", \"page\", \"1993\", \"among\", \"study\", \"center\", \"volume\", \"research\", \"reported\", \"scsi-2\", \"scsi-1\", \"francis\", \"powerbook\", \"vitamin\", \"ideas?\", \"apps\", \"mild\", \"facing\", \"alomar\", \"driver,\", \"asynchronous\", \"recovery\", \"ciphertext\", \"bare\", \"environment,\", \"relates\", \"laboratories\", \"driver.\", \"studies,\", \"tension\", \"combat\", \"implementing\", \"breaker\", \"pitt\", \"sides.\", \"wipe\", \"russell\", \"documentation.\", \"outs\", \"wake\", \"anecdotal\", \"plug\", \"residents\", \"present.\", \"liberty\", \"japanese\", \"burst\", \"drag\", \"firearms\", \"handgun\", \"homicide\", \"wires\", \"firearm\", \"handguns\", \"waco\", \"homicides\", \"redesign\", \"clinton's\", \"suck\", \"firearms.\", \"(david\", \"self-defense\", \"anti-gun\", \"mounting\", \"methanol\", \"sci.crypt,\", \"neighborhood\", \"mixing\", \"connecting\", \"volt\", \"accidental\", \"motherboard,\", \"input.\", \"640x480\", \"janet\", \"sustained\", \"\\\"gun\", \"objective.\", \"quantum\", \"cables\", \"committee.\", \"weapon\", \"bolt\", \"guns\", \"recommendations\", \"assault\", \"plug\", \"cable\", \"crime\", \"batf\", \"control\", \"violent\", \"rates\", \"england\", \"plastic\", \"rate\", \"turkish\", \"turkey\", \"turks\", \"genocide\", \"ottoman\", \"serdar\", \"argic\", \"greece\", \"nazis\", \"greeks\", \"cyprus\", \"kurdish\", \"[kk]\", \"turkey.\", \"conflict.\", \"kidney\", \"creed\", \"turkey,\", \"austria\", \"ghetto\", \"5.00\", \"survivors\", \"photography\", \"kirlian\", \"cd's\", \"warsaw\", \"\\\"freedom\", \"winmarks\", \"ankara\", \"cica\", \"armenia\", \"armenian\", \"greek\", \"----\", \"german\", \"germany\", \"armenians\", \"nazi\", \"republic\", \"jews\", \"muslim\", \"million\", \"russian\", \"villages\", \"jewish\", \"population\", \"history,\", \"myers:\", \"henrik]\", \"lebanese\", \"karabakh\", \"friday,\", \"device.\", \"island.\", \"heck\", \"fixes\", \"homeland\", \"gang\", \"invading\", \"harley\", \"negotiating\", \"syrian\", \"hemisphere\", \"russia,\", \"harris\", \"bombing\", \"occupying\", \"withdraw\", \"perpetrated\", \"capitalist\", \"inflated\", \"parliament\", \"humanitarian\", \"return.\", \"printer,\", \"philosophy.\", \"didn't.\", \"stewart\", \"azeris\", \"reality,\", \"hair\", \"planes\", \"crisis\", \"defending\", \"plane\", \"cleveland\", \"powerpc\", \"set.\", \"lopez\", \"prediction\", \"managing\", \"terminals\", \"jmd@handheld.com\", \"saying.\", \"nintendo\", \"overtime\", \"range,\", \"understand,\", \"nubus\", \"*are*\", \"muscles\", \"insisted\", \"gladly\", \"homer\", \"starter\", \"brilliant\", \"viola\", \"coverage.\", \"jeep\", \"passion\", \"close.\", \"steep\", \"compensate\", \"doubled\", \"ball.\", \"often.\", \"idle\", \"chemistry\", \"deciding\", \"cool\", \"afternoon\", \"michael\", \"adams\", \"----------------------------------------------------------------------------\", \"surrender\", \"intellect,\", \"shameful\", \"\\\"skepticism\", \"chastity\", \"n3jxp\", \"geb@cadre.dsl.pitt.edu\", \"soon.\\\"\", \"quebec\", \"ottawa\", \"alan\", \"(205)\", \"intergraph\", \"office)\", \"_______________________________________________________________________________\", \"packard\", \"prospects\", \"...uunet!ingr!b30!catbyte!dtmedin\", \"35894\", \"730-3169\", \"837-1174\", \"dtmedin@catbyte.b30.ingr.com\", \"gd3004\", \"medin\", \"ssd--networking\", \"messier\", \"adapter,\", \"keenan\", \"knee\", \"*******\", \"gordon\", \"devils\", \"banks\", \"uucp:\", \"dept\", \"--------------------------------------------------------------------\", \"internet:\", \"phone:\", \"everywhere\", \"huntsville,\", \"offense\", \"phillies\", \"dodgers\", \"reds\", \"cincinnati\", \"third.\", \"aunt\", \"innings\", \"bone\", \"imho.\", \"rectangle\", \"spots\", \"bikes.\", \"pitchers\", \"chest\", \"denver\", \"them!\", \"adjective\", \"invaded\", \"oakland\", \"bullpen\", \"chicken\", \"accident,\", \"goes:\", \"todd\", \"rychel\", \"militia.\", \"hernandez\", \"(read:\", \"draft.\", \"atlanta\", \"milwaukee\", \"houston\", \"giants\", \"else's\", \"for?\", \"muscle\", \"fallacy\", \"--------------------------------------------------------------------------------\", \"intentional\", \"carson\", \"twin\", \"pain,\", \"1980\", \"answer:\", \"corn\", \"w4wg\", \"sega\", \"lawsuit\", \"everytime\", \"includes:\", \"mass.\", \"yeah\", \"quicken\", \"mitch\", \"incorrect.\", \"denis\", \"worthless.\", \"resembles\", \"liturgy\", \"0.10\", \"generated,\", \"ermeni\", \"warranty.\", \"hood\", \"semi\", \"blatant\", \"saves)\", \"period:\", \"shots\", \"(pp)\", \"smythe\", \"adams\", \"nonsense.\", \"controller,\", \"reporter\", \"multi\", \"boots\", \"padded\", \"machines:\", \"babies\", \"quebec,\", \"offense,\", \"victor\", \"flood\", \"lens\", \"desired.\", \"rosicrucian\", \"sabbath\", \"saab\", \"(frank\", \"neutral.\", \"transformer\", \"antibiotic\", \"insulated\", \"restart\", \"gender\", \"football,\", \"slots,\", \"volts\", \"heal\", \"1914,\", \"bat.\", \"wire\", \"conductor\", \"neutral\", \"ground\", \"metal\", \"comments:\", \"connected\", \"contacts\", \"electrical\", \"type:\"], \"Freq\": [7280.0, 860.0, 4011.0, 1702.0, 1382.0, 706.0, 610.0, 3533.0, 1077.0, 3330.0, 1489.0, 645.0, 487.0, 1615.0, 1439.0, 4390.0, 1417.0, 407.0, 2516.0, 623.0, 2265.0, 611.0, 513.0, 1045.0, 981.0, 805.0, 1831.0, 1478.0, 1258.0, 967.0, 399.81117393695473, 294.65945511890584, 208.4278682060761, 195.76953101325043, 195.24457101602397, 187.00795916739438, 190.91016387380776, 167.09410368015747, 261.56099411084153, 155.87145862779, 152.39118544550243, 166.55027075395188, 134.63876451178174, 197.15129314104175, 116.98127482289883, 115.81897230539275, 109.04152013663975, 108.19270191434936, 106.26178082089709, 103.09634147186901, 102.52318957411615, 99.70627100035728, 93.55202725878381, 520.0859602994212, 92.1973795136743, 89.98586782709717, 90.09100817270911, 89.47118904336482, 89.06011563449226, 176.2406647339171, 584.7525679847679, 686.8020800073225, 1492.4021602881282, 446.6428637370168, 194.2138536086983, 2187.4357630464187, 197.02190231790965, 391.28806855398574, 1372.8609457197372, 761.5120528329029, 220.34898676156283, 3101.145955573656, 202.68658310590968, 6660.460695131138, 3269.1697467405615, 793.224507364519, 1497.004682522927, 2283.138655194345, 1524.7236582483724, 1057.2937879097713, 432.91293152650013, 696.6817286697526, 967.9089589993933, 859.3786562359309, 3766.141272705493, 601.9246669560143, 565.2614063561243, 552.0920166191954, 1179.2495835839734, 1068.1652543180503, 2064.9125432847873, 2495.66497772313, 776.5337504967777, 1039.0828124920333, 1692.019069737035, 1457.2807108469356, 1052.1992508889225, 1475.2248279937805, 925.0294995297199, 988.0204136409691, 1905.6260116753149, 1641.77273963161, 1269.3270242635244, 1222.9517049622482, 1207.2106932192037, 961.6931722022952, 2063.1170601811214, 1328.5139305892276, 1705.9383905536392, 1378.6367213036494, 1070.5559352081236, 1085.1174300972407, 1701.6920942951103, 1044.30836359233, 546.7373013787467, 509.7255748117065, 479.0423654897614, 421.1832656892232, 369.3975118738112, 359.9346918039959, 342.1798415528717, 320.40500237063884, 279.5752732078007, 275.3378196153869, 269.8313993238722, 265.37438625911625, 262.22548958417246, 782.9847832622426, 227.89190910073518, 227.33177990515452, 227.04188133333, 204.5488478249456, 204.1527423335518, 481.20025361451866, 188.0388157568028, 187.57226642537472, 577.1524214393289, 184.32909161593273, 167.78009606250413, 165.97462498118284, 161.765730645905, 160.7413331353586, 961.0472592992197, 525.3456496865136, 309.2699644771254, 684.6808874647301, 815.9518952306518, 1410.7324308533744, 558.7114274709172, 481.4727187033808, 923.926556006906, 488.31097330078063, 435.308436856764, 480.07310562261387, 1290.0209465621035, 427.9327934013726, 1099.1845921304352, 640.4118509902034, 532.1951231607998, 551.9274983064068, 649.8577729176546, 1216.1671265706532, 981.9951834624875, 1068.7040674141465, 724.5154417309861, 554.2150785100246, 876.4289036596437, 1213.0943646390606, 539.8243318543651, 700.7625655893504, 572.3519524672391, 568.1418477966955, 732.2501823494533, 552.1829255988358, 532.4782019589154, 355.73402786679765, 284.9519238659954, 245.60892581982387, 232.97450669465445, 174.35741984505742, 174.17999754346684, 152.589442257128, 149.9076825317203, 153.64286651944997, 128.2738692491888, 116.19919978264727, 109.2838685629931, 104.79896323273736, 100.60867333853746, 97.79004273248809, 97.56361883026308, 97.09037729606928, 96.80464477701989, 91.34851167156933, 90.5392771454853, 88.94227186443652, 88.81795036610247, 89.72618732326916, 86.80898702345806, 83.68198780249783, 83.61414245852374, 83.54241821456367, 103.91904303226356, 75.86317186825616, 75.2648299085506, 114.93312053285791, 155.0477836377035, 195.45407235711477, 128.02463615617395, 150.47266437795608, 147.25741034737538, 397.7808316378916, 135.90217847884455, 389.8781040031416, 156.7524854360105, 277.8587769471862, 495.45911799025583, 223.69690177967627, 214.15079515897392, 476.02527830383724, 860.2764438469726, 355.25798534194456, 381.12740005015536, 207.82699225320815, 1399.4756431413564, 396.4419581027667, 363.95632021114426, 217.98854575972064, 207.3351980898724, 219.86956834643757, 206.55656989430668, 362.45769579302623, 385.00063511122016, 506.66021669301466, 443.35468061328834, 357.3860143914613, 350.7455579180762, 415.8449868919335, 299.04735860211645, 343.48340740555676, 367.9991883020225, 276.1462071975892, 331.9671500459238, 384.9169201094941, 292.6994955013057, 280.8160565908688, 336.7803220399029, 285.1794020736933, 288.03332830922983, 286.3180834561942, 472.47872555874403, 423.165949694725, 388.17525103512986, 320.7953096754421, 302.34015224215864, 265.331873297926, 257.6538304418082, 237.63360192416778, 231.32281422863272, 224.30544590944484, 187.31719951974733, 180.80278823634615, 173.8711246044654, 162.6898832217583, 162.6159715349591, 157.81888541309388, 140.37833689074134, 138.87162006031016, 138.43558996808397, 128.46727312349338, 119.33366085722645, 111.0837685216768, 108.61758782788755, 106.51533557632638, 106.40913194463354, 102.86623475814231, 98.13130063612914, 95.83401969537712, 93.59641444646087, 91.30168199310675, 511.44808498857054, 407.6263284717597, 417.60920334240103, 1025.5036890047013, 440.32007932621036, 175.78370054559727, 225.06961457512602, 359.9151575637276, 146.32236449138395, 401.7614983095564, 323.38683819383914, 624.0984237048383, 240.10111516038734, 268.11908567220877, 238.08933143532153, 518.0327989896889, 433.41679884809446, 387.9587128902103, 315.3009040998145, 246.94627457950278, 219.8411178414596, 265.59918130943896, 321.38458214714984, 371.53033028433316, 293.6072243801549, 271.2089406414473, 334.64863857957533, 314.4706252380837, 257.2072631564808, 200.3851862204983, 161.96341192376104, 156.94111804063544, 149.2956888762255, 146.61565867853048, 131.5716317923621, 128.59591473466293, 128.4201616055898, 125.97190559478537, 124.74371750791906, 122.64491082657207, 619.9977245374299, 110.11903519469097, 109.9844206393931, 109.13598460920299, 106.88220918932424, 103.83288635011546, 103.20768085856947, 101.6322146447505, 101.01035670381565, 97.21808601060219, 95.13377193792505, 90.5978341378648, 90.49405334693081, 89.92226750339003, 89.88202967616478, 89.32455494758601, 208.32083054572067, 596.5777227028822, 377.48271312940415, 309.8222083930919, 130.43125977212972, 145.62774137287695, 196.40064647079902, 316.1353393022317, 360.67470184289283, 166.39320279269634, 182.60317214593388, 233.23326186175973, 383.149941542316, 288.4088278802908, 168.00102194043365, 270.4458444130504, 378.7812669989959, 253.060252928326, 168.9822979207784, 166.14978612054782, 143.29176946931787, 161.77920253230081, 645.2371700450869, 377.8678256596984, 320.4893644173155, 298.7711364457548, 228.7541478000554, 226.84650282558567, 196.7875644655929, 194.04797552629677, 167.0681665293068, 139.06723190799678, 121.88759662328013, 118.9816253958322, 118.73166709547203, 112.11630428297768, 100.72972581127506, 100.51419965707832, 115.10321707316369, 98.1063562066363, 85.8835460138706, 80.10502203836664, 77.96478661560029, 76.68901922519508, 73.94958748555868, 73.78968832820215, 73.68375744024156, 72.86097984178201, 69.26689691750201, 69.26255495448612, 65.17752665144747, 62.79635293638391, 408.63498643161546, 159.28359601300681, 202.52530868108627, 119.464662005502, 160.15622758631918, 120.7494060385468, 159.9235504071758, 215.69545280961364, 190.7247747191576, 90.96008135706103, 157.0933927811513, 420.4888815470128, 217.26189863293249, 194.69483586413895, 175.38405021285396, 153.62874480430364, 171.4579941312471, 166.50095763285714, 202.09369262218885, 157.32094199898003, 154.33900539112682, 179.71709079287862, 176.52565582467844, 110.09075334858386, 95.82225791860601, 82.30750062622529, 70.01725849147377, 67.21365618173755, 64.76696500971198, 55.281848260274316, 54.59093605008532, 52.856491428377204, 52.18574022601982, 46.560221092811176, 45.818720209361445, 45.75995205614664, 44.308100005320526, 39.35205720380057, 38.204869157350906, 37.08880826289195, 36.0632142970652, 35.04641280210401, 34.97635508621238, 34.58479303894001, 34.33697548007422, 33.35048506944856, 32.97089702869286, 31.78394730796534, 31.039840272971624, 30.741319340091714, 28.939129820961735, 28.780380217604954, 28.743322472562486, 97.12502531480268, 128.86488992666617, 47.033115375930244, 111.21555782506266, 41.06825124333991, 86.58842607539859, 160.67896780630596, 269.0656440277238, 60.00364203795113, 60.37113573041613, 91.1050559317448, 84.14599199362956, 72.52624909564604, 132.31086158348924, 82.82873093502234, 91.36039109080745, 73.65758963472723, 55.3860529545489, 100.97603729759027, 58.26894168997319, 77.06389363428342, 77.04463142907665, 93.68305502196631, 70.69883669281403, 75.95762931236716, 63.42173953136294, 65.46114149052173, 64.21839455412594, 61.087928943383915, 71.70651084121187, 57.44518209078711, 55.37278063833814, 49.12758716318451, 48.21265818761714, 47.842251719891614, 47.101245299543955, 46.94615187978892, 40.23288279778497, 39.01256337146029, 38.963359653082, 34.4528397433474, 34.10302414198725, 32.51010626772678, 31.550092765395757, 30.71292435143373, 30.00760571109471, 29.560861814095468, 29.48435381261027, 27.856893792597404, 27.82644537992061, 27.080253055173067, 26.97546316268231, 26.81982747604599, 26.562192152796317, 26.435899978243004, 25.946584312282113, 25.801226237851164, 25.724560393423992, 25.64639504104811, 42.46536245193054, 28.934291526676056, 46.62977352358738, 108.34545241815859, 53.47556957635246, 56.5624378002582, 42.55426112436038, 113.01079079542673, 40.04757263805829, 34.81132906895419, 30.659558161924455, 34.87997801944162, 32.729151537518696, 33.05499028682282, 32.69633802656626, 45.81130186068709, 33.28341448239243, 47.00347941797086, 34.62409933538484, 36.74340814599183, 34.45642685149636, 215.01286780526382, 198.82639473972674, 159.92139578122104, 158.82268625974137, 135.27807839446623, 129.30548713436983, 97.98064057212495, 85.43735337055382, 73.49534524172826, 72.48894455381888, 70.42868389181886, 63.518764612173435, 63.46300635663296, 54.37311057911941, 54.264716264629875, 53.630023045384775, 49.54414481760642, 44.49732755167898, 40.60621650245307, 40.282561442422804, 38.66113784829215, 34.965640956481245, 34.49916200982276, 34.485581878144025, 33.09038704995081, 32.841731137829036, 32.15890247280653, 31.53454619166839, 30.508845299145705, 30.406723847716716, 55.581766023425075, 72.20567876033277, 707.1402134340801, 107.19034234011943, 103.01552895928218, 70.13650228162265, 96.45997899276152, 39.29048347550303, 95.09891005801117, 55.3395632835895, 68.82045845850735, 67.0381776826943, 50.97907410515594, 50.528865693621974, 261.69324947856717, 167.78286511331075, 167.1559072796472, 137.31423494969317, 93.92185775039087, 88.31583852311051, 78.77993215430837, 74.57489149530241, 46.000266561647884, 44.76030660206883, 42.7581074195302, 34.287996824256496, 34.245267639184405, 33.67412571232143, 33.43934715483651, 31.07146411447584, 29.66672571027629, 29.517447068083904, 29.26346426577685, 27.224682849073233, 25.60965675233772, 23.904387669207047, 23.32955168623712, 23.000597201647118, 22.11555744437324, 22.062422930688758, 21.75039809404905, 21.369898197698728, 21.176799810290213, 20.063116329103597, 61.96727534175207, 506.24452760203576, 314.7948732539468, 39.298057822729554, 63.36235449896157, 30.407371842383927, 29.697455271668275, 35.88034619418742, 77.03229394405791, 232.92270801160814, 113.72584140984057, 105.36177826781133, 129.51914646262162, 47.75448275371951, 56.72516737929774, 37.67497889140664, 57.88721287525279, 42.09130778860452, 66.55709331633996, 54.33769926358843, 55.348610434058386, 51.31080976971233, 62.058979332530676, 69.85276607162076, 46.1915681213905, 46.726489603088666, 45.31559559274277, 94.64966018708255, 64.37139927844198, 45.144090765110015, 41.356633757670885, 41.286408608265255, 37.30123357646244, 36.28234709191768, 35.33049893869246, 30.303257423041188, 29.6704912299279, 29.350398815300867, 27.290286452943015, 23.347020813820652, 23.052148019648154, 20.823124222970364, 19.85407819147388, 18.098498395725624, 67.14899767985304, 17.925618552433985, 17.508898186164142, 17.047215472760094, 16.723612376420334, 16.69865760444269, 16.691276392543205, 16.233157618426038, 16.187694362215968, 15.943325581677875, 15.92585133977855, 15.608174228109263, 15.550286123787583, 72.92280387004764, 187.4005410372639, 163.09422176741154, 65.71186651090241, 19.523252216563215, 33.449562328528025, 33.365124603791756, 83.73744233306101, 37.83471613619451, 21.597584351221187, 82.2278981359826, 30.04697333983072, 46.840001926287044, 63.924605655499775, 57.576291300744884, 46.04907513186421, 48.858751865644976, 41.74922268527168, 44.66179593111302, 33.054313401007136, 53.72861989557724, 46.433331909379184, 30.78681393042371, 30.186198755047766, 28.817192338310548, 24.923678020743072, 23.330041450137536, 21.628271545272128, 19.848135856075785, 19.814740622972842, 18.549986677814726, 18.530153060029882, 17.936630580111164, 17.725955876349218, 17.690622046539996, 17.65089365650008, 17.254938031194303, 17.22551539247747, 16.835187201522217, 15.918519608553005, 15.917002977691313, 14.971717538833488, 14.759222878037514, 14.646511520136263, 14.290411486168482, 13.828911722760093, 13.783875124704254, 13.010488786214633, 12.668504427065233, 12.55700148149572, 17.162041944736828, 16.3587865398977, 38.138371367769366, 17.16896952312443, 18.4131694508384, 16.655006562795528, 23.88058823764715, 18.912109204010715, 17.657212136364198, 77.02256250215781, 35.002084416670684, 34.1161173426003, 28.448411485627982, 28.10042400612265, 28.043140403840443, 27.03946899798714, 24.657754225645856, 22.6144281510025, 20.517203845652514, 19.94747087729403, 18.89307609135981, 18.892182898427933, 16.677120404043663, 16.514362155217444, 15.917089882715514, 15.867443445066078, 15.812379439388422, 15.787326229468167, 15.096632547466141, 15.005556073633247, 14.329884825887369, 14.000024051985887, 13.305696754051189, 13.003127039936068, 12.653115882166823, 12.633140729609947, 12.597997116704516, 12.220497763924167, 12.189822549446324, 31.555094697626913, 19.812804397994192, 18.97564654531012, 44.018153969876536, 15.276122952713747, 57.54829404483806, 15.948529300410273, 22.10643988204919, 21.382430347065004, 27.834843918097775, 24.806946650487667, 19.23212434024176, 24.644872290527545, 18.58253578636759, 19.538706121245703, 17.732981535322452, 18.324850842405404, 18.5252229788669, 251.59173358502954, 109.51228774294479, 100.91672183828608, 86.56382698004708, 50.949076667257145, 48.61357754161538, 48.34105372166685, 36.697507299035884, 34.191391203041874, 32.714371507288355, 31.514204018081436, 21.507636733885967, 21.304081904241585, 21.095836709393616, 20.390691416801562, 19.85835032286295, 16.32823404663216, 15.491824342631684, 15.193970795536021, 13.841163509812576, 13.535030524794404, 12.84745106671362, 12.761217890736138, 12.691930798021088, 12.620808583466564, 12.502717999489157, 10.794102198117352, 10.32827851210917, 10.10795200707592, 9.764402500201005, 84.05832953839705, 251.5236377309981, 122.86795567489673, 86.84481013031602, 66.44456905975805, 52.38618877020506, 152.6066875400726, 57.30708388787782, 31.05383085234842, 113.1717905294548, 50.08117921219631, 49.74761483030929, 40.13211606865395, 24.231459926095134, 36.44240013453696, 27.47795389895133, 21.128087906240143, 78.05196676416229, 70.64289030047303, 31.620877350251643, 30.1371244581247, 20.563294434538502, 17.583315264712553, 16.467724157468343, 16.224421534992477, 16.161655415831586, 15.286291546962667, 15.099708100986609, 13.976992413579252, 13.628410693476537, 13.317415608973208, 12.310455553214005, 12.1057357544935, 12.02737790336754, 11.870899388771804, 11.805492878721308, 11.671925796665292, 11.544013626351832, 11.488795444944184, 11.477814999034454, 11.362738708635524, 11.32814153255183, 11.129028312994887, 10.835892116430655, 10.583826976392329, 10.333542981394789, 10.237064888384046, 14.663496730020496, 30.126702522016704, 15.202194649604786, 17.097134272398677, 16.4532458649157, 12.85763673545989, 14.382757839968791, 13.736250522742425, 17.913942844905954, 15.52060713838298, 13.961214690142267, 13.356046863737175, 12.751571094438363, 12.572873282467997, 11.786969555612561, 9.533084012605697, 9.386856416972867, 9.068007191970727, 8.438616053644491, 8.374606024118943, 8.099663685926055, 28.10941611911418, 7.936279771384314, 7.8824240712217835, 7.634230331127225, 7.587177013906879, 7.236362498482507, 6.957590865181625, 6.760713093857668, 6.737560041028779, 6.720733992256926, 6.6816130677319965, 6.646991827599229, 6.602409298700451, 6.5244694859588375, 6.46371488255562, 6.436982042873373, 6.432092337683176, 10.371960311722383, 11.738772440024912, 8.143745228513552, 7.963893769165828, 8.3266722054, 6.987413667617338, 8.199055299160342, 7.111668778426111, 35.79557164121393, 34.1914159832935, 27.32657848236419, 27.049471134510064, 26.704831350171997, 26.704831350171997, 26.704831350171997, 26.349453424679126, 26.349453424679126, 21.59187559217114, 16.057955436779828, 13.737979443057602, 13.042667881852905, 7.861781038356936, 6.939625747567868, 6.758372832800227, 6.388600741638129, 6.197419425966837, 6.121276967144271, 6.121276967144271, 6.121276967144271, 6.121276967144271, 6.121276967144271, 6.121276967144271, 6.121276967144271, 6.121276967144271, 6.048664617480542, 5.769679986143106, 5.678946276746917, 5.53901798538059, 17.249722876786045, 32.17142511238851, 16.547181882951822, 29.937380127740642, 8.630256388806355, 10.96375459680259, 7.1404169430851985, 7.556010776830795, 6.821603244249775, 6.281540837282625, 6.124859333664121, 17.856626193876956, 17.833265012069056, 15.74010736536087, 14.265241816164796, 11.362417278289255, 10.519745388517483, 10.462891230975261, 10.10785700875631, 9.812722461423922, 9.093453815762135, 8.896125893998402, 8.488332278849033, 8.071921431201131, 7.77463149081472, 7.685251632362866, 7.565125357200338, 7.1538310365538305, 7.15291583833984, 6.989455554592976, 6.815981613675443, 6.62314674615721, 6.042728810350081, 5.867220506279321, 5.85762490856678, 5.842321135692378, 5.666368733858138, 5.570285940541861, 5.390488548950848, 5.272590959849996, 5.207837551969742, 15.72427028941762, 14.85241235249285, 12.95163631391346, 8.952692665800088, 6.224772729063845, 7.118070799490644, 6.073279939770626, 18.001497254457096, 11.852529560025921, 11.527204288654122, 11.141429625476114, 9.844308176425992, 8.50528560115839, 8.264072352164922, 7.862440719116094, 7.613830922495221, 7.5057483058401315, 7.380143367198847, 7.139369034218435, 6.893703858298314, 6.005479637616005, 5.800632296230939, 5.658886356677463, 5.2191299910502265, 5.210913411036289, 5.099967002863922, 4.796802926114238, 4.571784413635382, 4.457341127268471, 4.357634039636162, 4.355150912932675, 4.308365265611063, 4.236336528822583, 4.092896337333942, 4.063790154768633, 3.997266382090391, 3.9931757029111066, 7.745684544046644, 12.453010015614732, 10.65717972948433, 5.900314999640299, 5.931275737828671, 6.048161058967806, 7.5205064294112365, 6.38966787478948, 5.827229714876004, 5.762559219499706, 5.511086602365388, 5.4580475129863855, 5.4490157335137255, 5.270063311605734, 5.122204767441115, 4.828613660663042, 4.53026780885086, 4.302145075784224, 4.144316948651547, 4.053835173833988, 3.8350037424500827, 13.95069974758892, 3.7836041151788224, 3.763686632560519, 3.6709142184971557, 3.470392993798689, 3.261996659112132, 3.2064948191521867, 3.0645670012111754, 2.9900753180731, 2.8893071805663135, 2.7946208749041412, 2.774432181412259, 2.745582696463418, 2.7206069023616264, 2.6805220707674122, 26.910065308929692, 5.575797076358903, 14.64632226633729, 23.601055489979434, 9.00934604757177, 4.910118541906154, 7.256237605550874, 4.260098750932564, 4.028948145814493, 3.357748496563693], \"Total\": [7280.0, 860.0, 4011.0, 1702.0, 1382.0, 706.0, 610.0, 3533.0, 1077.0, 3330.0, 1489.0, 645.0, 487.0, 1615.0, 1439.0, 4390.0, 1417.0, 407.0, 2516.0, 623.0, 2265.0, 611.0, 513.0, 1045.0, 981.0, 805.0, 1831.0, 1478.0, 1258.0, 967.0, 400.56218900593586, 295.4064084918794, 209.15277388269297, 196.4948287477009, 195.96947667017332, 187.73286554305687, 191.67088314312795, 167.83187675095192, 262.76963745658475, 156.59639028337014, 153.11609109293877, 167.43241420991845, 135.40878126948044, 198.34653778832563, 117.70674941842333, 116.54605953996469, 109.76653150849378, 108.91760757969462, 106.98762112722136, 103.82274381377643, 103.24930986146603, 100.43401677108639, 94.27970088642688, 524.1684540433165, 92.92228517798011, 90.7115349918072, 90.82015287970569, 90.19609618675408, 89.78515313043833, 177.7130598937249, 589.6912679255772, 694.4393350226758, 1529.9277622465095, 452.4470005080411, 195.85137646394776, 2265.2144976844465, 199.1486448850872, 399.04321072574396, 1432.564556608547, 790.4789990882257, 223.8662882014126, 3330.767807843481, 206.19755919104665, 7280.252116024625, 3533.6339371252625, 835.8648398115624, 1613.1717302980844, 2516.8954780519525, 1659.2549958820002, 1141.085414679558, 450.65717462630977, 741.2035191824608, 1047.2477164366358, 926.9801585928438, 4390.971382010941, 637.6146456531394, 597.2531720479078, 583.1082796832787, 1301.962010169988, 1173.426118209141, 2390.728730876262, 2976.7353753881184, 845.7021675396244, 1161.8148345809068, 2006.0317050638648, 1760.6142367441164, 1221.9666634439886, 1824.5111203230972, 1064.870242998312, 1155.7633068093494, 2634.7362924882364, 2237.371847713954, 1607.7113711310817, 1567.8841216536098, 1599.820807301832, 1138.0867437856373, 4011.2108169498924, 1956.1576623114308, 3481.4694553326162, 2464.4487182067173, 1593.7592232166025, 2077.768574722465, 1702.4121188888769, 1045.028378454898, 547.4573160468996, 510.4456019663374, 479.7623847756235, 421.90328439718303, 370.11752652687375, 360.65470645705847, 342.89985620593427, 321.12501753880366, 280.2952878645358, 276.0578342734796, 270.5514139769347, 266.09440091455554, 262.9455042472954, 785.1820609907812, 228.61192375379767, 228.05179457330755, 227.76189599633724, 205.2688624780081, 204.8727570117652, 482.93129352590205, 188.75884625106025, 188.29228108210975, 579.3752799148375, 185.05546185500256, 168.50011071556662, 166.69463963424533, 162.4857452989675, 161.46139189810583, 967.525836458735, 529.1662934716705, 311.6209947658098, 696.5591319069928, 840.6594610049137, 1489.082825268034, 573.5794491383632, 493.4159494705262, 971.9971356644048, 504.4471016601599, 451.11962011567033, 500.31403208795433, 1417.1631027066862, 445.9221647250881, 1258.3277830313182, 713.1241686528425, 584.8979778353884, 634.614909508606, 788.8340993317349, 1831.4628752933002, 1402.4987003036083, 1615.056196985672, 942.1212585893311, 674.601254738768, 1609.8247739843484, 3481.4694553326162, 677.5803013484403, 1435.3614848863965, 827.5598365829289, 834.7005003927121, 2077.768574722465, 1956.1576623114308, 863.6154255885843, 356.46153758051537, 285.6794335343112, 246.33643571710826, 233.72710683649157, 175.0849437744514, 174.9077573251017, 153.31695192041357, 150.63519241760477, 154.43487831604142, 129.00505342551688, 116.92674916038024, 110.01137826076287, 105.52647290170553, 101.33626691639184, 98.51755241452592, 98.29328897758963, 97.81788698031905, 97.53215443676002, 92.07602132956133, 91.2667868034773, 89.66978184432323, 89.5454600295166, 90.47520020452033, 87.5364977714335, 84.40949746617237, 84.34165212018829, 84.26992787469807, 104.87015531604904, 76.5918562842251, 75.99233957196473, 116.3426980756962, 157.71697348206368, 200.49527220805373, 130.21806561209468, 154.59716675080506, 152.0471849762783, 436.49513527120536, 142.11034107364165, 446.8526042549146, 167.31534038354525, 317.74010867951284, 659.6493808726908, 265.46795509754384, 252.13774505843594, 676.6097159109472, 1478.6497786149953, 495.2304088159527, 558.0582655927304, 259.11319809676235, 4011.2108169498924, 669.9577215123421, 626.796285765893, 295.893206329847, 277.0765767705564, 314.6211564720627, 281.44787254580206, 852.0539381553028, 1100.8064878092732, 2634.7362924882364, 2197.2433014145245, 1322.8426138276031, 1439.2636860874884, 2464.4487182067173, 941.7808700814015, 1549.5397683760493, 2237.371847713954, 1119.0321165337766, 2976.7353753881184, 7280.252116024625, 1567.8841216536098, 1235.534559335361, 4390.971382010941, 1395.3562802922422, 1607.7113711310817, 1599.820807301832, 473.20667958311896, 423.8939440242193, 388.90320519236343, 321.5295103671414, 303.06810694275566, 266.0598273223009, 258.38178459122014, 238.361555953515, 232.0507685131351, 225.03339993381968, 188.04515354412217, 181.5307656703576, 174.6001181818489, 163.41783724613313, 163.34392555933394, 158.546839799642, 141.10629091511618, 139.599574084685, 139.1635439924588, 129.19522715355077, 120.06161488160137, 111.81183223298794, 109.34554212485912, 107.24328960454307, 107.13708598025373, 103.59418914554735, 98.85926730112556, 96.56197371975205, 94.3243684708358, 92.02963601748168, 516.1001314526932, 410.99651992149046, 423.98362698710173, 1077.6075941569727, 461.69117030554054, 179.75105541368546, 234.19744620573672, 384.975937473935, 149.82650033313774, 442.38561530710973, 365.51932519380057, 805.6849353632614, 265.35822596907934, 303.2694888743536, 265.63782059902815, 767.924116896414, 639.5837124445168, 556.6135274475445, 457.88091425834176, 310.36525257903344, 264.97863593417395, 386.42556641383703, 1402.4987003036083, 4011.2108169498924, 1549.5397683760493, 1435.3614848863965, 335.37830290269847, 315.20028956120683, 257.9369274796039, 201.11485054362132, 162.69307666156536, 157.67078236375846, 150.02535319934853, 147.3453230016535, 132.30129611742922, 129.32557905778594, 129.14982592871283, 126.70156992957305, 125.47338183104216, 123.37457514969518, 623.8236164148104, 110.84869953531096, 110.7140849625162, 109.86564893427018, 107.61187351244735, 104.56255067712675, 103.93734518169258, 102.36187896787361, 101.74002102693875, 97.94775034502446, 95.86343626104815, 91.3274984609879, 91.22371767005392, 90.65193182651313, 90.61169399928788, 90.0542192726532, 210.15564645546488, 611.3834370385364, 387.1826543175442, 318.04707722056264, 134.66375081379812, 151.80621346328962, 214.3502199069938, 379.2167586592595, 444.32479898003606, 205.3416497420813, 308.2589730017349, 500.1746167210018, 1439.2636860874884, 850.0710563032114, 298.80462618369666, 943.1963269451632, 2197.2433014145245, 981.2793429509877, 400.5752461804041, 433.26751356682433, 268.5201458617678, 782.5833110623421, 645.9716103826145, 378.60226599722614, 321.2238058920081, 299.5055767921545, 229.48858813758306, 227.58094317317372, 197.52200480312058, 194.78241586382444, 167.80260686683448, 139.80167224552446, 122.62203898456282, 119.71606573335993, 119.46610790520174, 112.85074466870697, 101.46416614880279, 101.24863999460605, 115.94631425331576, 98.84079657874, 86.61798636292366, 80.83946239126146, 78.69922695312802, 77.42345956272281, 74.68402786941199, 74.52412876672551, 74.4181977777693, 73.59542017930974, 70.00133726429364, 69.99699529201385, 65.9119669889752, 63.53079327391166, 415.2309944993756, 164.74054666390086, 215.9343151381267, 128.91969752685682, 179.32387807448453, 131.0041129020116, 182.41731241230414, 273.1998647762391, 248.31142135673753, 98.48294516405927, 235.02445696666857, 1382.355618132847, 531.5605119400532, 518.3027297209311, 449.42242727939606, 380.04477510092715, 698.2199429113682, 615.4635528666481, 1554.9088494606747, 562.4953058036504, 544.3993475629959, 2464.4487182067173, 4011.2108169498924, 110.82494067712493, 96.5564461034668, 83.04168795092458, 70.75144581617306, 67.94952707143469, 65.50115234009381, 56.01603560136889, 55.32512337478463, 53.59067877480663, 52.91992765218401, 47.29490255464944, 46.552907539743295, 46.49417047873066, 45.079879393540594, 40.086244538515366, 38.93905649844548, 37.822995630600694, 36.797401628328956, 35.780600143622266, 35.71054241091169, 35.31898036363933, 35.07116281894992, 34.084672400712314, 33.70508435907471, 32.518134632664655, 31.77402760926555, 31.475506718111692, 29.67331718102525, 29.514567788052513, 29.47750979726178, 105.32214389650693, 154.47445652481318, 50.84810753492206, 147.13440522830174, 44.67174678838969, 112.68954617908042, 250.3061037120113, 546.6066270266108, 74.43543316213533, 75.50281756482669, 134.69454652892324, 122.06469458171382, 101.94365957625786, 327.4070471355883, 159.63725648807724, 197.2184414396506, 141.34576616543703, 81.07573568197776, 499.69192828819183, 111.90769232954578, 352.3064729428172, 352.1670921035585, 802.2198187340425, 251.96937463488172, 496.7737927137469, 202.0995644242436, 374.18797116913254, 444.0370168740767, 543.8911321670153, 72.43978730056142, 58.17845815351751, 56.135156719738326, 49.860863103772765, 48.94593414080231, 48.57552767457354, 47.83452124581475, 47.67942783612312, 40.96615874686707, 39.74583932857534, 39.69663559909239, 35.186115683935654, 34.83630008825804, 33.24338221737853, 32.28336872952002, 31.4462002974441, 30.740881654494267, 30.294137760366247, 30.21762976959377, 28.590169802391753, 28.55972135994447, 27.813529027834008, 27.7087391280234, 27.553103420476006, 27.29546809338456, 27.169175924253373, 26.679860274687744, 26.534502215181057, 26.457836334012235, 26.379670989695615, 46.263553560125445, 30.330171654507552, 55.37033823029105, 167.605300660322, 72.01769825996783, 79.61309659790696, 56.093586708041904, 273.4688845086822, 53.58109905395121, 43.81134160482616, 34.88802112781219, 46.89774398447709, 43.26723343379966, 46.26541054300351, 44.87044115986683, 206.1003096502237, 52.76553204362691, 543.8911321670153, 72.44481385121516, 200.70559759231745, 82.93371305800115, 215.75169493266606, 199.56522214947162, 160.66022290294072, 159.5615134376341, 136.01690551618591, 130.04431436974028, 98.7194678412432, 86.17618049227352, 74.23423936605866, 73.22777168210303, 71.16751101353856, 64.25759173670446, 64.20183347835267, 55.11193770652167, 55.0035433863496, 54.3688501671045, 50.282971939326146, 45.236155349620795, 41.345043624172796, 41.021388564142526, 39.399965015472176, 35.70446820448246, 35.237989131542484, 35.224409005546285, 33.82921417735307, 33.58055831880314, 32.897729594526254, 32.273373313388106, 31.24767242086541, 31.14555111718243, 57.403791405966054, 75.39461193919372, 860.0288290751947, 121.6132049270543, 120.14615061700248, 99.69206370885179, 165.10471934706595, 43.49319986634643, 211.6315619290809, 116.73251196643817, 352.3064729428172, 343.0445650759607, 245.75853495982332, 639.5837124445168, 262.44066476409836, 168.53028016325092, 167.9033223339652, 138.0616500691145, 94.66927279967872, 89.0632536234834, 79.52734720094276, 75.32230867976506, 46.750431473822076, 45.507721646326516, 43.517124275593716, 35.03545494372987, 34.99268268344209, 34.421542086293144, 34.18676220412438, 31.818879158733512, 30.4141407602165, 30.26486211737176, 30.01087937378797, 27.972097893330904, 26.35707184628797, 24.651802744950533, 24.076966730494792, 23.748012255965158, 22.862972547981098, 22.80983797494643, 22.49781313830672, 22.117314378778016, 21.924214896074794, 20.81053162453113, 65.86287230841613, 610.44371606942, 487.57160954485227, 45.27734651409421, 81.42241057534874, 33.64401766272364, 32.75265767306155, 41.646581160893454, 115.89285131299538, 706.6780660836068, 249.6302485422349, 278.9277313211032, 513.4084975013959, 78.40710901910468, 116.5048850841734, 51.02982550725286, 137.77184833125787, 66.64035722904795, 210.62174828829933, 183.27900753200427, 221.74460322474434, 186.12787759783265, 457.88091425834176, 981.2793429509877, 216.19485036286335, 334.68857454116625, 179.42328178727533, 95.40086057658715, 65.12216497088069, 45.89485645754873, 42.1073994501096, 42.037208249416764, 38.05199926890115, 37.035045030604415, 36.081264635451994, 31.054031384532706, 30.421256922366606, 30.101172198924573, 28.041052180188316, 24.097786506259357, 23.80294076944737, 21.57388994054596, 20.60484388775436, 18.84926413529494, 69.93969702360289, 18.67638424487269, 18.259663889707515, 17.79798118331666, 17.474378078253867, 17.449423367928837, 17.442042251988063, 16.983923341677052, 16.938460074238517, 16.69409127606068, 16.676617041089212, 16.358939920547968, 16.301051816226288, 83.8319116177714, 235.45988680143265, 316.10423178097784, 106.69423297047659, 21.841622084635954, 45.8113633214022, 45.65578748440009, 192.1623705848301, 65.01922505633962, 28.40758564630223, 499.69192828819183, 64.99835321770037, 212.76454861495833, 543.8911321670153, 502.2764545248377, 268.36884164610876, 352.3064729428172, 242.5950868050677, 438.9238893603435, 217.23703407816663, 54.482262816368966, 47.18697483017091, 31.540456861452412, 30.93984167583949, 29.570835261913587, 25.677320947217332, 24.083687350089598, 22.381914488462883, 20.601778799868423, 20.56838354376456, 19.303629617378434, 19.2837959808216, 18.690273532183088, 18.479598821074646, 18.444265351248898, 18.404536608244598, 18.00858098684094, 17.979158343133435, 17.588830136407616, 16.672162541812746, 16.67064590893535, 15.725360504303723, 15.512865841261652, 15.400154455340877, 15.044054413524645, 14.582554670736243, 14.537518115796987, 13.764131722442754, 13.422147361772936, 13.31064442997082, 19.021760210174822, 18.00908125696786, 60.24158772935533, 22.00262675695685, 27.63975257729184, 22.40960636246919, 81.90818800639902, 52.70912822584117, 38.37167377830647, 77.77542410903368, 35.75494545801207, 34.86897845939444, 29.201272526969362, 28.85328505288616, 28.796001449023596, 27.79233004147091, 25.410615266987236, 23.36728919234388, 21.270064901287977, 20.70033191863541, 19.64593713926563, 19.64504396936393, 17.429981445385042, 17.267223196558824, 16.66995095098441, 16.620304500961954, 16.56524049183447, 16.540187270809547, 15.849493608395234, 15.758417120657162, 15.082745870496288, 14.752885123488097, 14.058557804456056, 13.755988112710321, 13.405976960710875, 13.386001802689096, 13.350858186587967, 12.973358805265542, 12.942683610375417, 36.69020338922533, 22.361783992593587, 23.64088791725541, 83.9876696590956, 18.068320745432647, 177.91548673615696, 21.314301435164992, 55.54790368910322, 60.24158772935533, 183.27900753200427, 215.91459380528153, 85.26211870464425, 622.3710605980117, 71.12570929052129, 129.5368771275316, 56.028355478461314, 89.39270158802194, 284.78004649800505, 252.34692344770028, 110.2674767570041, 101.67191085227444, 87.31910833844002, 51.704265665583215, 49.368782321945304, 49.09625236284338, 37.452699630225275, 34.9465802122122, 33.47138912699469, 32.269393637223196, 22.262825764715025, 22.059270902567643, 21.851025712964095, 21.145880420810162, 20.61353933526113, 17.083423050251852, 16.247013340957743, 15.949159801749966, 14.596352508138635, 14.290219540702523, 13.602640071692768, 13.516406889062194, 13.447119796347147, 13.3759975911477, 13.257907039635901, 11.549291204242266, 11.083467516117766, 10.863141005401976, 10.5195915042096, 97.14447801200483, 407.93634392331614, 193.26949774119777, 137.70466520036368, 109.74250826380285, 83.32045185630354, 346.549573054453, 102.69336128174194, 49.529508082001215, 355.4416632442731, 137.1348153968928, 282.2148897806181, 295.893206329847, 63.971351315883524, 297.59629178972693, 187.23619727331126, 83.1918310337647, 78.81118631457468, 71.40210985088542, 32.38009691150832, 30.896344014521276, 21.322514031444708, 18.342534864719884, 17.22694372746847, 16.983641104513826, 16.9208750484884, 16.045511099517473, 15.858927663474237, 14.736211985497672, 14.387630246265674, 14.076635181244226, 13.069675109048545, 12.864955339165245, 12.786597477168705, 12.630118959230051, 12.564712434555847, 12.431145354888677, 12.303233176764243, 12.248015024298628, 12.23703456903458, 12.121958290380629, 12.087361460196682, 11.888247868829426, 11.595146174825153, 11.343046558324877, 11.092762553537309, 10.996284454232855, 16.846859018037023, 42.71174376257212, 18.74263058808678, 23.8442218851739, 27.292075981611177, 16.202376773179648, 38.94992370316889, 74.31547405118894, 18.677442444108586, 16.284106709559246, 14.724714310539614, 14.119546426842055, 13.515070691231664, 13.33637287736684, 12.550469154138161, 10.296583575710576, 10.150356016352127, 9.83150677969785, 9.20211567536176, 9.13810567299147, 8.863170575609637, 30.787980190450313, 8.699779350235136, 8.645923651692476, 8.397729913819822, 8.350676611200424, 7.999862068151829, 7.721090454918749, 7.524212679569218, 7.501059610698102, 7.484233577799241, 7.445112656768139, 7.410491399839513, 7.365908893378171, 7.287969113952159, 7.227214477495199, 7.200481621897774, 7.195591912382683, 14.325097910068813, 28.71274130350214, 15.149902727006717, 15.774702403264493, 24.09210270384271, 11.927336592460426, 163.63777281561016, 34.15989696447654, 36.563093918025736, 34.96253716107561, 28.094100750304033, 27.8169934045923, 27.47235361811184, 27.47235361811184, 27.47235361811184, 27.11697569261897, 27.11697569261897, 22.359397866675423, 16.825477711284112, 14.50550180520356, 13.810190158226694, 8.62930332902693, 7.70714801550771, 7.525895100740068, 7.156123061369678, 6.964941751150477, 6.888799235084113, 6.888799235084113, 6.888799235084113, 6.888799235084113, 6.888799235084113, 6.888799235084113, 6.888799235084113, 6.888799235084113, 6.816186891984826, 6.537202271557575, 6.446468557815643, 6.306540278993813, 21.18636293855728, 51.334101874652504, 23.56122621143141, 56.08485466596643, 14.020747487339406, 57.96989122400575, 20.087082295805807, 105.7431452075067, 74.04089692776485, 35.79440541548025, 12.148414745355675, 18.624500453237854, 18.601139271429954, 16.50798162472177, 15.033116079198232, 12.130291537650153, 11.287619657013785, 11.23076551841698, 10.875731268117208, 10.580596719250561, 9.861328094231972, 9.664000170620797, 9.256206538209929, 8.83979568783936, 8.542505750175616, 8.453125912798386, 8.33299967055969, 7.921705313715695, 7.920790151287672, 7.757329868057884, 7.583855883714864, 7.391021005518107, 6.810603109182694, 6.63509477032446, 6.625499248631665, 6.610195403679524, 6.4342430716694885, 6.338160227442831, 6.158362808311745, 6.040465241381883, 5.975711828301298, 19.566619385311835, 19.07517672550508, 19.285497986090306, 21.71615985107422, 10.408959928184343, 35.45041243397976, 21.803436827230424, 18.76942987333697, 12.620462173612163, 12.295136952863276, 11.909362258755683, 10.612240825667202, 9.273218398995542, 9.03200505621094, 8.630373356243682, 8.381763542312083, 8.273680919426374, 8.14807599102207, 7.9073017626896505, 7.661636494455352, 6.773412260557325, 6.5685649985027155, 6.426818975685834, 5.987062609666652, 5.978846119267722, 5.867899625322121, 5.564735552829365, 5.339717075700251, 5.225274132211382, 5.125568667019998, 5.12308353308336, 5.076297927996842, 5.004269144551217, 4.860828972650525, 4.831722772027414, 4.7651989995184065, 4.761108356909309, 9.34378059588854, 24.198677123644412, 76.93643639530305, 14.764794703297252, 20.188452204713037, 34.15989696447654, 8.292446750817216, 7.161608173817259, 6.599170019868735, 6.534499577558576, 6.283026874767786, 6.229987817790022, 6.2209560152712005, 6.042003689666317, 5.894145083481781, 5.600554075632246, 5.302208081253258, 5.0740854236122805, 4.916257221053945, 4.825775486283849, 4.6069440238186505, 16.759442223323536, 4.55554438758122, 4.535626918545381, 4.442854490899553, 4.242333268145185, 4.033936931514529, 3.978435091554584, 3.8365073450409817, 3.7620156285885002, 3.6612474859551165, 3.5665611831074115, 3.546372459497195, 3.517522994605482, 3.4925472158014372, 3.4524626813945165, 83.81638993840194, 11.276333628965569, 65.41526415607511, 213.56112532035218, 47.26240621482272, 20.106813713386636, 130.6663183615979, 20.408346254112825, 124.16798721947245, 24.114290369378363], \"Category\": [\"Default\", \"Default\", \"Default\", \"Default\", \"Default\", \"Default\", \"Default\", \"Default\", \"Default\", \"Default\", \"Default\", \"Default\", \"Default\", \"Default\", \"Default\", \"Default\", \"Default\", \"Default\", \"Default\", \"Default\", \"Default\", \"Default\", \"Default\", \"Default\", \"Default\", \"Default\", \"Default\", \"Default\", \"Default\", \"Default\", \"Topic1\", \"Topic1\", \"Topic1\", \"Topic1\", \"Topic1\", \"Topic1\", \"Topic1\", \"Topic1\", \"Topic1\", \"Topic1\", \"Topic1\", \"Topic1\", \"Topic1\", \"Topic1\", \"Topic1\", \"Topic1\", \"Topic1\", \"Topic1\", \"Topic1\", \"Topic1\", \"Topic1\", \"Topic1\", \"Topic1\", \"Topic1\", \"Topic1\", \"Topic1\", \"Topic1\", \"Topic1\", \"Topic1\", \"Topic1\", \"Topic1\", \"Topic1\", \"Topic1\", \"Topic1\", \"Topic1\", \"Topic1\", \"Topic1\", \"Topic1\", \"Topic1\", \"Topic1\", \"Topic1\", \"Topic1\", \"Topic1\", \"Topic1\", \"Topic1\", \"Topic1\", \"Topic1\", \"Topic1\", \"Topic1\", \"Topic1\", \"Topic1\", \"Topic1\", \"Topic1\", \"Topic1\", \"Topic1\", \"Topic1\", \"Topic1\", \"Topic1\", \"Topic1\", \"Topic1\", \"Topic1\", \"Topic1\", \"Topic1\", \"Topic1\", \"Topic1\", \"Topic1\", \"Topic1\", \"Topic1\", \"Topic1\", \"Topic1\", \"Topic1\", \"Topic1\", \"Topic1\", \"Topic1\", \"Topic1\", \"Topic1\", \"Topic1\", \"Topic1\", \"Topic1\", \"Topic1\", \"Topic1\", \"Topic1\", \"Topic2\", \"Topic2\", \"Topic2\", \"Topic2\", \"Topic2\", \"Topic2\", \"Topic2\", \"Topic2\", \"Topic2\", \"Topic2\", \"Topic2\", \"Topic2\", \"Topic2\", \"Topic2\", \"Topic2\", \"Topic2\", \"Topic2\", \"Topic2\", \"Topic2\", \"Topic2\", \"Topic2\", \"Topic2\", \"Topic2\", \"Topic2\", \"Topic2\", \"Topic2\", \"Topic2\", \"Topic2\", \"Topic2\", \"Topic2\", \"Topic2\", \"Topic2\", \"Topic2\", \"Topic2\", \"Topic2\", \"Topic2\", \"Topic2\", \"Topic2\", \"Topic2\", \"Topic2\", \"Topic2\", \"Topic2\", \"Topic2\", \"Topic2\", \"Topic2\", \"Topic2\", \"Topic2\", \"Topic2\", \"Topic2\", \"Topic2\", \"Topic2\", \"Topic2\", \"Topic2\", \"Topic2\", \"Topic2\", \"Topic2\", \"Topic2\", \"Topic2\", \"Topic2\", \"Topic2\", \"Topic2\", \"Topic2\", \"Topic2\", \"Topic3\", \"Topic3\", \"Topic3\", \"Topic3\", \"Topic3\", \"Topic3\", \"Topic3\", \"Topic3\", \"Topic3\", \"Topic3\", \"Topic3\", \"Topic3\", \"Topic3\", \"Topic3\", \"Topic3\", \"Topic3\", \"Topic3\", \"Topic3\", \"Topic3\", \"Topic3\", \"Topic3\", \"Topic3\", \"Topic3\", \"Topic3\", \"Topic3\", \"Topic3\", \"Topic3\", \"Topic3\", \"Topic3\", \"Topic3\", \"Topic3\", \"Topic3\", \"Topic3\", \"Topic3\", \"Topic3\", \"Topic3\", \"Topic3\", \"Topic3\", \"Topic3\", \"Topic3\", \"Topic3\", \"Topic3\", \"Topic3\", \"Topic3\", \"Topic3\", \"Topic3\", \"Topic3\", \"Topic3\", \"Topic3\", \"Topic3\", \"Topic3\", \"Topic3\", \"Topic3\", \"Topic3\", \"Topic3\", \"Topic3\", \"Topic3\", \"Topic3\", \"Topic3\", \"Topic3\", \"Topic3\", \"Topic3\", \"Topic3\", \"Topic3\", \"Topic3\", \"Topic3\", \"Topic3\", \"Topic3\", \"Topic3\", \"Topic3\", \"Topic3\", \"Topic3\", \"Topic3\", \"Topic3\", \"Topic3\", \"Topic4\", \"Topic4\", \"Topic4\", \"Topic4\", \"Topic4\", \"Topic4\", \"Topic4\", \"Topic4\", \"Topic4\", \"Topic4\", \"Topic4\", \"Topic4\", \"Topic4\", \"Topic4\", \"Topic4\", \"Topic4\", \"Topic4\", \"Topic4\", \"Topic4\", \"Topic4\", \"Topic4\", \"Topic4\", \"Topic4\", \"Topic4\", \"Topic4\", \"Topic4\", \"Topic4\", \"Topic4\", \"Topic4\", \"Topic4\", \"Topic4\", \"Topic4\", \"Topic4\", \"Topic4\", \"Topic4\", \"Topic4\", \"Topic4\", \"Topic4\", \"Topic4\", \"Topic4\", \"Topic4\", \"Topic4\", \"Topic4\", \"Topic4\", \"Topic4\", \"Topic4\", \"Topic4\", \"Topic4\", \"Topic4\", \"Topic4\", \"Topic4\", \"Topic4\", \"Topic4\", \"Topic4\", \"Topic4\", \"Topic4\", \"Topic5\", \"Topic5\", \"Topic5\", \"Topic5\", \"Topic5\", \"Topic5\", \"Topic5\", \"Topic5\", \"Topic5\", \"Topic5\", \"Topic5\", \"Topic5\", \"Topic5\", \"Topic5\", \"Topic5\", \"Topic5\", \"Topic5\", \"Topic5\", \"Topic5\", \"Topic5\", \"Topic5\", \"Topic5\", \"Topic5\", \"Topic5\", \"Topic5\", \"Topic5\", \"Topic5\", \"Topic5\", \"Topic5\", \"Topic5\", \"Topic5\", \"Topic5\", \"Topic5\", \"Topic5\", \"Topic5\", \"Topic5\", \"Topic5\", \"Topic5\", \"Topic5\", \"Topic5\", \"Topic5\", \"Topic5\", \"Topic5\", \"Topic5\", \"Topic5\", \"Topic5\", \"Topic5\", \"Topic5\", \"Topic5\", \"Topic5\", \"Topic5\", \"Topic5\", \"Topic6\", \"Topic6\", \"Topic6\", \"Topic6\", \"Topic6\", \"Topic6\", \"Topic6\", \"Topic6\", \"Topic6\", \"Topic6\", \"Topic6\", \"Topic6\", \"Topic6\", \"Topic6\", \"Topic6\", \"Topic6\", \"Topic6\", \"Topic6\", \"Topic6\", \"Topic6\", \"Topic6\", \"Topic6\", \"Topic6\", \"Topic6\", \"Topic6\", \"Topic6\", \"Topic6\", \"Topic6\", \"Topic6\", \"Topic6\", \"Topic6\", \"Topic6\", \"Topic6\", \"Topic6\", \"Topic6\", \"Topic6\", \"Topic6\", \"Topic6\", \"Topic6\", \"Topic6\", \"Topic6\", \"Topic6\", \"Topic6\", \"Topic6\", \"Topic6\", \"Topic6\", \"Topic6\", \"Topic6\", \"Topic6\", \"Topic6\", \"Topic6\", \"Topic6\", \"Topic6\", \"Topic7\", \"Topic7\", \"Topic7\", \"Topic7\", \"Topic7\", \"Topic7\", \"Topic7\", \"Topic7\", \"Topic7\", \"Topic7\", \"Topic7\", \"Topic7\", \"Topic7\", \"Topic7\", \"Topic7\", \"Topic7\", \"Topic7\", \"Topic7\", \"Topic7\", \"Topic7\", \"Topic7\", \"Topic7\", \"Topic7\", \"Topic7\", \"Topic7\", \"Topic7\", \"Topic7\", \"Topic7\", \"Topic7\", \"Topic7\", \"Topic7\", \"Topic7\", \"Topic7\", \"Topic7\", \"Topic7\", \"Topic7\", \"Topic7\", \"Topic7\", \"Topic7\", \"Topic7\", \"Topic7\", \"Topic7\", \"Topic7\", \"Topic7\", \"Topic7\", \"Topic7\", \"Topic7\", \"Topic7\", \"Topic7\", \"Topic7\", \"Topic7\", \"Topic7\", \"Topic7\", \"Topic7\", \"Topic7\", \"Topic7\", \"Topic7\", \"Topic7\", \"Topic7\", \"Topic8\", \"Topic8\", \"Topic8\", \"Topic8\", \"Topic8\", \"Topic8\", \"Topic8\", \"Topic8\", \"Topic8\", \"Topic8\", \"Topic8\", \"Topic8\", \"Topic8\", \"Topic8\", \"Topic8\", \"Topic8\", \"Topic8\", \"Topic8\", \"Topic8\", \"Topic8\", \"Topic8\", \"Topic8\", \"Topic8\", \"Topic8\", \"Topic8\", \"Topic8\", \"Topic8\", \"Topic8\", \"Topic8\", \"Topic8\", \"Topic8\", \"Topic8\", \"Topic8\", \"Topic8\", \"Topic8\", \"Topic8\", \"Topic8\", \"Topic8\", \"Topic8\", \"Topic8\", \"Topic8\", \"Topic8\", \"Topic8\", \"Topic8\", \"Topic8\", \"Topic8\", \"Topic8\", \"Topic8\", \"Topic8\", \"Topic8\", \"Topic8\", \"Topic9\", \"Topic9\", \"Topic9\", \"Topic9\", \"Topic9\", \"Topic9\", \"Topic9\", \"Topic9\", \"Topic9\", \"Topic9\", \"Topic9\", \"Topic9\", \"Topic9\", \"Topic9\", \"Topic9\", \"Topic9\", \"Topic9\", \"Topic9\", \"Topic9\", \"Topic9\", \"Topic9\", \"Topic9\", \"Topic9\", \"Topic9\", \"Topic9\", \"Topic9\", \"Topic9\", \"Topic9\", \"Topic9\", \"Topic9\", \"Topic9\", \"Topic9\", \"Topic9\", \"Topic9\", \"Topic9\", \"Topic9\", \"Topic9\", \"Topic9\", \"Topic9\", \"Topic9\", \"Topic9\", \"Topic9\", \"Topic9\", \"Topic9\", \"Topic10\", \"Topic10\", \"Topic10\", \"Topic10\", \"Topic10\", \"Topic10\", \"Topic10\", \"Topic10\", \"Topic10\", \"Topic10\", \"Topic10\", \"Topic10\", \"Topic10\", \"Topic10\", \"Topic10\", \"Topic10\", \"Topic10\", \"Topic10\", \"Topic10\", \"Topic10\", \"Topic10\", \"Topic10\", \"Topic10\", \"Topic10\", \"Topic10\", \"Topic10\", \"Topic10\", \"Topic10\", \"Topic10\", \"Topic10\", \"Topic10\", \"Topic10\", \"Topic10\", \"Topic10\", \"Topic10\", \"Topic10\", \"Topic10\", \"Topic10\", \"Topic10\", \"Topic10\", \"Topic10\", \"Topic10\", \"Topic10\", \"Topic10\", \"Topic10\", \"Topic10\", \"Topic10\", \"Topic10\", \"Topic10\", \"Topic10\", \"Topic10\", \"Topic10\", \"Topic10\", \"Topic10\", \"Topic10\", \"Topic10\", \"Topic10\", \"Topic11\", \"Topic11\", \"Topic11\", \"Topic11\", \"Topic11\", \"Topic11\", \"Topic11\", \"Topic11\", \"Topic11\", \"Topic11\", \"Topic11\", \"Topic11\", \"Topic11\", \"Topic11\", \"Topic11\", \"Topic11\", \"Topic11\", \"Topic11\", \"Topic11\", \"Topic11\", \"Topic11\", \"Topic11\", \"Topic11\", \"Topic11\", \"Topic11\", \"Topic11\", \"Topic11\", \"Topic11\", \"Topic11\", \"Topic11\", \"Topic11\", \"Topic11\", \"Topic11\", \"Topic11\", \"Topic11\", \"Topic11\", \"Topic11\", \"Topic11\", \"Topic11\", \"Topic11\", \"Topic11\", \"Topic11\", \"Topic11\", \"Topic11\", \"Topic11\", \"Topic11\", \"Topic11\", \"Topic11\", \"Topic11\", \"Topic11\", \"Topic12\", \"Topic12\", \"Topic12\", \"Topic12\", \"Topic12\", \"Topic12\", \"Topic12\", \"Topic12\", \"Topic12\", \"Topic12\", \"Topic12\", \"Topic12\", \"Topic12\", \"Topic12\", \"Topic12\", \"Topic12\", \"Topic12\", \"Topic12\", \"Topic12\", \"Topic12\", \"Topic12\", \"Topic12\", \"Topic12\", \"Topic12\", \"Topic12\", \"Topic12\", \"Topic12\", \"Topic12\", \"Topic12\", \"Topic12\", \"Topic12\", \"Topic12\", \"Topic12\", \"Topic12\", \"Topic12\", \"Topic12\", \"Topic12\", \"Topic12\", \"Topic12\", \"Topic13\", \"Topic13\", \"Topic13\", \"Topic13\", \"Topic13\", \"Topic13\", \"Topic13\", \"Topic13\", \"Topic13\", \"Topic13\", \"Topic13\", \"Topic13\", \"Topic13\", \"Topic13\", \"Topic13\", \"Topic13\", \"Topic13\", \"Topic13\", \"Topic13\", \"Topic13\", \"Topic13\", \"Topic13\", \"Topic13\", \"Topic13\", \"Topic13\", \"Topic13\", \"Topic13\", \"Topic13\", \"Topic13\", \"Topic13\", \"Topic13\", \"Topic13\", \"Topic13\", \"Topic13\", \"Topic13\", \"Topic13\", \"Topic13\", \"Topic13\", \"Topic13\", \"Topic13\", \"Topic13\", \"Topic13\", \"Topic13\", \"Topic13\", \"Topic13\", \"Topic13\", \"Topic13\", \"Topic13\", \"Topic14\", \"Topic14\", \"Topic14\", \"Topic14\", \"Topic14\", \"Topic14\", \"Topic14\", \"Topic14\", \"Topic14\", \"Topic14\", \"Topic14\", \"Topic14\", \"Topic14\", \"Topic14\", \"Topic14\", \"Topic14\", \"Topic14\", \"Topic14\", \"Topic14\", \"Topic14\", \"Topic14\", \"Topic14\", \"Topic14\", \"Topic14\", \"Topic14\", \"Topic14\", \"Topic14\", \"Topic14\", \"Topic14\", \"Topic14\", \"Topic14\", \"Topic14\", \"Topic14\", \"Topic14\", \"Topic14\", \"Topic14\", \"Topic14\", \"Topic14\", \"Topic14\", \"Topic14\", \"Topic14\", \"Topic14\", \"Topic14\", \"Topic14\", \"Topic14\", \"Topic14\", \"Topic14\", \"Topic15\", \"Topic15\", \"Topic15\", \"Topic15\", \"Topic15\", \"Topic15\", \"Topic15\", \"Topic15\", \"Topic15\", \"Topic15\", \"Topic15\", \"Topic15\", \"Topic15\", \"Topic15\", \"Topic15\", \"Topic15\", \"Topic15\", \"Topic15\", \"Topic15\", \"Topic15\", \"Topic15\", \"Topic15\", \"Topic15\", \"Topic15\", \"Topic15\", \"Topic15\", \"Topic15\", \"Topic15\", \"Topic15\", \"Topic15\", \"Topic15\", \"Topic15\", \"Topic15\", \"Topic15\", \"Topic15\", \"Topic15\", \"Topic15\", \"Topic15\", \"Topic16\", \"Topic16\", \"Topic16\", \"Topic16\", \"Topic16\", \"Topic16\", \"Topic16\", \"Topic16\", \"Topic16\", \"Topic16\", \"Topic16\", \"Topic16\", \"Topic16\", \"Topic16\", \"Topic16\", \"Topic16\", \"Topic16\", \"Topic16\", \"Topic16\", \"Topic16\", \"Topic16\", \"Topic16\", \"Topic16\", \"Topic16\", \"Topic16\", \"Topic16\", \"Topic16\", \"Topic16\", \"Topic16\", \"Topic16\", \"Topic16\", \"Topic16\", \"Topic16\", \"Topic16\", \"Topic16\", \"Topic16\", \"Topic16\", \"Topic16\", \"Topic17\", \"Topic17\", \"Topic17\", \"Topic17\", \"Topic17\", \"Topic17\", \"Topic17\", \"Topic17\", \"Topic17\", \"Topic17\", \"Topic17\", \"Topic17\", \"Topic17\", \"Topic17\", \"Topic17\", \"Topic17\", \"Topic17\", \"Topic17\", \"Topic17\", \"Topic17\", \"Topic17\", \"Topic17\", \"Topic17\", \"Topic17\", \"Topic17\", \"Topic17\", \"Topic17\", \"Topic17\", \"Topic17\", \"Topic17\", \"Topic17\", \"Topic17\", \"Topic17\", \"Topic17\", \"Topic17\", \"Topic17\", \"Topic17\", \"Topic17\", \"Topic17\", \"Topic17\", \"Topic17\", \"Topic18\", \"Topic18\", \"Topic18\", \"Topic18\", \"Topic18\", \"Topic18\", \"Topic18\", \"Topic18\", \"Topic18\", \"Topic18\", \"Topic18\", \"Topic18\", \"Topic18\", \"Topic18\", \"Topic18\", \"Topic18\", \"Topic18\", \"Topic18\", \"Topic18\", \"Topic18\", \"Topic18\", \"Topic18\", \"Topic18\", \"Topic18\", \"Topic18\", \"Topic18\", \"Topic18\", \"Topic18\", \"Topic18\", \"Topic18\", \"Topic18\", \"Topic18\", \"Topic18\", \"Topic18\", \"Topic18\", \"Topic18\", \"Topic18\", \"Topic19\", \"Topic19\", \"Topic19\", \"Topic19\", \"Topic19\", \"Topic19\", \"Topic19\", \"Topic19\", \"Topic19\", \"Topic19\", \"Topic19\", \"Topic19\", \"Topic19\", \"Topic19\", \"Topic19\", \"Topic19\", \"Topic19\", \"Topic19\", \"Topic19\", \"Topic19\", \"Topic19\", \"Topic19\", \"Topic19\", \"Topic19\", \"Topic19\", \"Topic19\", \"Topic19\", \"Topic19\", \"Topic19\", \"Topic19\", \"Topic19\", \"Topic19\", \"Topic19\", \"Topic19\", \"Topic19\", \"Topic19\", \"Topic20\", \"Topic20\", \"Topic20\", \"Topic20\", \"Topic20\", \"Topic20\", \"Topic20\", \"Topic20\", \"Topic20\", \"Topic20\", \"Topic20\", \"Topic20\", \"Topic20\", \"Topic20\", \"Topic20\", \"Topic20\", \"Topic20\", \"Topic20\", \"Topic20\", \"Topic20\", \"Topic20\", \"Topic20\", \"Topic20\", \"Topic20\", \"Topic20\", \"Topic20\", \"Topic20\", \"Topic20\", \"Topic20\", \"Topic20\", \"Topic20\", \"Topic20\", \"Topic20\", \"Topic20\", \"Topic20\", \"Topic20\", \"Topic20\", \"Topic20\", \"Topic20\", \"Topic20\"], \"logprob\": [30.0, 29.0, 28.0, 27.0, 26.0, 25.0, 24.0, 23.0, 22.0, 21.0, 20.0, 19.0, 18.0, 17.0, 16.0, 15.0, 14.0, 13.0, 12.0, 11.0, 10.0, 9.0, 8.0, 7.0, 6.0, 5.0, 4.0, 3.0, 2.0, 1.0, -6.786, -7.0911, -7.4374, -7.5, -7.5027, -7.5458, -7.5252, -7.6584, -7.2103, -7.7279, -7.7505, -7.6617, -7.8744, -7.493, -8.0149, -8.0249, -8.0852, -8.093, -8.1111, -8.1413, -8.1469, -8.1747, -8.2384, -6.523, -8.253, -8.2773, -8.2761, -8.283, -8.2876, -7.6051, -6.4058, -6.2449, -5.4688, -6.6752, -7.508, -5.0865, -7.4936, -6.8075, -5.5523, -6.1417, -7.3817, -4.7374, -7.4653, -3.973, -4.6847, -6.1009, -5.4657, -5.0437, -5.4474, -5.8135, -6.7064, -6.2306, -5.9018, -6.0208, -4.5432, -6.3768, -6.4397, -6.4632, -5.7043, -5.8033, -5.1441, -4.9547, -6.1221, -5.8309, -5.3433, -5.4926, -5.8183, -5.4804, -5.9471, -5.8813, -5.2244, -5.3734, -5.6307, -5.6679, -5.6809, -5.9083, -5.145, -5.5851, -5.3351, -5.5481, -5.801, -5.7875, -4.7664, -5.2546, -5.9018, -5.9719, -6.034, -6.1627, -6.2939, -6.3198, -6.3704, -6.4362, -6.5725, -6.5878, -6.608, -6.6246, -6.6366, -5.5426, -6.7769, -6.7793, -6.7806, -6.8849, -6.8869, -6.0295, -6.9691, -6.9716, -5.8476, -6.989, -7.0831, -7.0939, -7.1196, -7.126, -5.3377, -5.9417, -6.4715, -5.6768, -5.5014, -4.9539, -5.8801, -6.0289, -5.3771, -6.0148, -6.1297, -6.0318, -5.0433, -6.1468, -5.2034, -5.7436, -5.9287, -5.8923, -5.729, -5.1023, -5.3162, -5.2316, -5.6203, -5.8882, -5.4299, -5.1048, -5.9145, -5.6536, -5.856, -5.8634, -5.6096, -5.8919, -5.9282, -5.9401, -6.162, -6.3106, -6.3634, -6.6532, -6.6542, -6.7865, -6.8043, -6.7797, -6.9601, -7.059, -7.1203, -7.1622, -7.2031, -7.2315, -7.2338, -7.2386, -7.2416, -7.2996, -7.3085, -7.3263, -7.3277, -7.3175, -7.3506, -7.3873, -7.3881, -7.3889, -7.1707, -7.4854, -7.4933, -7.0699, -6.7706, -6.539, -6.9621, -6.8005, -6.8221, -5.8284, -6.9024, -5.8485, -6.7596, -6.1872, -5.6088, -6.404, -6.4476, -5.6488, -5.057, -5.9414, -5.8712, -6.4776, -4.5704, -5.8318, -5.9173, -6.4298, -6.48, -6.4213, -6.4837, -5.9214, -5.861, -5.5865, -5.7199, -5.9355, -5.9542, -5.784, -6.1137, -5.9752, -5.9062, -6.1934, -6.0093, -5.8613, -6.1351, -6.1766, -5.9949, -6.1612, -6.1512, -6.1572, -5.3077, -5.4179, -5.5042, -5.6949, -5.7541, -5.8847, -5.9141, -5.995, -6.0219, -6.0527, -6.2329, -6.2683, -6.3074, -6.3739, -6.3743, -6.4043, -6.5214, -6.5321, -6.5353, -6.61, -6.6838, -6.7554, -6.7779, -6.7974, -6.7984, -6.8323, -6.8794, -6.9031, -6.9267, -6.9515, -5.2285, -5.4553, -5.4312, -4.5328, -5.3782, -6.2964, -6.0493, -5.5798, -6.4799, -5.4698, -5.6868, -5.0294, -5.9846, -5.8743, -5.9931, -5.2157, -5.394, -5.5048, -5.7122, -5.9565, -6.0728, -5.8837, -5.6931, -5.5481, -5.7835, -5.8628, -5.1506, -5.2128, -5.4138, -5.6635, -5.8764, -5.9079, -5.9578, -5.9759, -6.0842, -6.1071, -6.1084, -6.1277, -6.1375, -6.1544, -4.534, -6.2622, -6.2634, -6.2711, -6.292, -6.3209, -6.327, -6.3424, -6.3485, -6.3868, -6.4084, -6.4573, -6.4584, -6.4648, -6.4652, -6.4715, -5.6247, -4.5725, -5.0302, -5.2277, -6.0929, -5.9827, -5.6836, -5.2076, -5.0758, -5.8494, -5.7564, -5.5117, -5.0153, -5.2994, -5.8398, -5.3637, -5.0268, -5.4301, -5.8339, -5.8508, -5.9988, -5.8775, -4.2789, -4.814, -4.9787, -5.0489, -5.3159, -5.3243, -5.4664, -5.4805, -5.6302, -5.8136, -5.9455, -5.9696, -5.9717, -6.029, -6.1361, -6.1383, -6.0027, -6.1625, -6.2956, -6.3652, -6.3923, -6.4088, -6.4452, -6.4473, -6.4488, -6.46, -6.5106, -6.5107, -6.5715, -6.6087, -4.7357, -5.6779, -5.4377, -5.9655, -5.6724, -5.9548, -5.6739, -5.3747, -5.4977, -6.2381, -5.6917, -4.7071, -5.3675, -5.4771, -5.5816, -5.714, -5.6042, -5.6336, -5.4398, -5.6903, -5.7094, -5.5572, -5.5751, -5.6816, -5.8205, -5.9725, -6.1342, -6.1751, -6.2122, -6.3705, -6.3831, -6.4154, -6.4281, -6.5422, -6.5583, -6.5595, -6.5918, -6.7104, -6.74, -6.7696, -6.7977, -6.8263, -6.8283, -6.8395, -6.8467, -6.8759, -6.8873, -6.924, -6.9477, -6.9573, -7.0178, -7.0233, -7.0245, -5.8069, -5.5242, -6.5321, -5.6715, -6.6677, -5.9218, -5.3035, -4.788, -6.2885, -6.2824, -5.8709, -5.9504, -6.099, -5.4978, -5.9662, -5.8681, -6.0835, -6.3686, -5.7681, -6.3179, -6.0383, -6.0386, -5.843, -6.1245, -6.0528, -6.2331, -6.2015, -6.2207, -6.2706, -5.7202, -5.942, -5.9787, -6.0984, -6.1172, -6.1249, -6.1405, -6.1438, -6.2981, -6.3289, -6.3302, -6.4532, -6.4634, -6.5113, -6.5412, -6.5681, -6.5914, -6.6064, -6.609, -6.6657, -6.6668, -6.694, -6.6979, -6.7037, -6.7133, -6.7181, -6.7368, -6.7424, -6.7454, -6.7484, -6.2441, -6.6278, -6.1506, -5.3075, -6.0136, -5.9575, -6.242, -5.2653, -6.3027, -6.4429, -6.5699, -6.4409, -6.5045, -6.4946, -6.5055, -6.1683, -6.4878, -6.1426, -6.4483, -6.3889, -6.4531, -4.5516, -4.6299, -4.8476, -4.8545, -5.015, -5.0601, -5.3375, -5.4745, -5.6251, -5.6389, -5.6677, -5.771, -5.7718, -5.9264, -5.9284, -5.9402, -6.0194, -6.1269, -6.2184, -6.2264, -6.2675, -6.3679, -6.3814, -6.3817, -6.423, -6.4306, -6.4516, -6.4712, -6.5043, -6.5076, -5.9044, -5.6428, -3.3611, -5.2477, -5.2874, -5.6718, -5.3532, -6.2513, -5.3674, -5.9088, -5.6908, -5.717, -5.9909, -5.9997, -4.0399, -4.4844, -4.4881, -4.6848, -5.0646, -5.1262, -5.2404, -5.2953, -5.7784, -5.8058, -5.8515, -6.0723, -6.0735, -6.0903, -6.0973, -6.1708, -6.217, -6.2221, -6.2307, -6.3029, -6.3641, -6.433, -6.4574, -6.4716, -6.5108, -6.5132, -6.5274, -6.5451, -6.5542, -6.6082, -5.4805, -3.3801, -3.8552, -5.9359, -5.4582, -6.1924, -6.216, -6.0269, -5.2628, -4.1564, -4.8733, -4.9497, -4.7432, -5.741, -5.5689, -5.9781, -5.5486, -5.8672, -5.409, -5.6119, -5.5934, -5.6692, -5.479, -5.3607, -5.7743, -5.7628, -5.7934, -4.8724, -5.2579, -5.6127, -5.7003, -5.702, -5.8035, -5.8312, -5.8578, -6.0113, -6.0324, -6.0433, -6.116, -6.2721, -6.2848, -6.3865, -6.4342, -6.5267, -5.2157, -6.5363, -6.5599, -6.5866, -6.6057, -6.6072, -6.6077, -6.6355, -6.6383, -6.6535, -6.6546, -6.6748, -6.6785, -5.1332, -4.1893, -4.3282, -5.2373, -6.451, -5.9125, -5.9151, -4.9949, -5.7893, -6.35, -5.0131, -6.0198, -5.5758, -5.2649, -5.3695, -5.5929, -5.5336, -5.6909, -5.6235, -5.9244, -5.2758, -5.4217, -5.8326, -5.8523, -5.8988, -6.0439, -6.11, -6.1857, -6.2716, -6.2733, -6.3393, -6.3403, -6.3729, -6.3847, -6.3867, -6.3889, -6.4116, -6.4133, -6.4363, -6.4922, -6.4923, -6.5536, -6.5679, -6.5755, -6.6001, -6.633, -6.6362, -6.694, -6.7206, -6.7294, -6.417, -6.465, -5.6185, -6.4166, -6.3467, -6.447, -6.0867, -6.3199, -6.3886, -4.9105, -5.6992, -5.7249, -5.9065, -5.9189, -5.9209, -5.9573, -6.0495, -6.1361, -6.2334, -6.2615, -6.3158, -6.3159, -6.4406, -6.4504, -6.4872, -6.4904, -6.4938, -6.4954, -6.5402, -6.5462, -6.5923, -6.6156, -6.6664, -6.6895, -6.7167, -6.7183, -6.7211, -6.7515, -6.754, -5.8029, -6.2683, -6.3115, -5.47, -6.5283, -5.202, -6.4853, -6.1588, -6.1921, -5.9284, -6.0435, -6.2981, -6.0501, -6.3324, -6.2822, -6.3792, -6.3464, -6.3355, -3.623, -4.4548, -4.5365, -4.69, -5.22, -5.2669, -5.2726, -5.5481, -5.6189, -5.663, -5.7004, -6.0824, -6.0919, -6.1018, -6.1358, -6.1622, -6.3579, -6.4105, -6.4299, -6.5232, -6.5456, -6.5977, -6.6044, -6.6099, -6.6155, -6.6249, -6.7718, -6.816, -6.8375, -6.8721, -4.7193, -3.6233, -4.3397, -4.6867, -4.9545, -5.1922, -4.123, -5.1024, -5.7151, -4.4219, -5.2372, -5.2439, -5.4587, -5.9632, -5.5551, -5.8375, -6.1002, -4.5901, -4.6898, -5.4937, -5.5417, -5.924, -6.0805, -6.1461, -6.161, -6.1648, -6.2205, -6.2328, -6.3101, -6.3353, -6.3584, -6.437, -6.4538, -6.4603, -6.4734, -6.4789, -6.4903, -6.5013, -6.5061, -6.5071, -6.5171, -6.5202, -6.5379, -6.5646, -6.5881, -6.6121, -6.6215, -6.2621, -5.5421, -6.226, -6.1086, -6.1469, -6.3935, -6.2814, -6.3274, -5.7521, -5.8955, -6.0014, -6.0457, -6.092, -6.1061, -6.1707, -6.3829, -6.3984, -6.4329, -6.5048, -6.5125, -6.5458, -5.3016, -6.5662, -6.573, -6.605, -6.6112, -6.6585, -6.6978, -6.7265, -6.73, -6.7325, -6.7383, -6.7435, -6.7502, -6.7621, -6.7715, -6.7756, -6.7764, -6.2986, -6.1748, -6.5404, -6.5627, -6.5182, -6.6936, -6.5336, -6.6759, -4.7827, -4.8286, -5.0527, -5.0629, -5.0757, -5.0757, -5.0757, -5.0891, -5.0891, -5.2882, -5.5844, -5.7404, -5.7923, -6.2986, -6.4233, -6.4498, -6.5061, -6.5364, -6.5488, -6.5488, -6.5488, -6.5488, -6.5488, -6.5488, -6.5488, -6.5488, -6.5607, -6.608, -6.6238, -6.6487, -5.5128, -4.8895, -5.5544, -4.9615, -6.2053, -5.966, -6.3948, -6.3382, -6.4405, -6.523, -6.5482, -5.4466, -5.4479, -5.5727, -5.6711, -5.8986, -5.9757, -5.9811, -6.0156, -6.0453, -6.1214, -6.1433, -6.1902, -6.2405, -6.2781, -6.2896, -6.3054, -6.3613, -6.3614, -6.3845, -6.4097, -6.4384, -6.5301, -6.5596, -6.5612, -6.5638, -6.5944, -6.6115, -6.6443, -6.6664, -6.6788, -5.5737, -5.6308, -5.7677, -6.137, -6.5004, -6.3663, -6.525, -5.3728, -5.7908, -5.8186, -5.8526, -5.9764, -6.1226, -6.1514, -6.2012, -6.2333, -6.2476, -6.2645, -6.2977, -6.3327, -6.4706, -6.5053, -6.5301, -6.611, -6.6125, -6.6341, -6.6953, -6.7434, -6.7687, -6.7914, -6.7919, -6.8027, -6.8196, -6.854, -6.8612, -6.8777, -6.8787, -6.2162, -5.7413, -5.8971, -6.4883, -6.4831, -6.4635, -5.9584, -6.1213, -6.2135, -6.2246, -6.2692, -6.2789, -6.2806, -6.314, -6.3424, -6.4014, -6.4652, -6.5169, -6.5543, -6.5763, -6.6318, -5.3405, -6.6453, -6.6506, -6.6756, -6.7317, -6.7937, -6.8108, -6.8561, -6.8807, -6.915, -6.9483, -6.9556, -6.966, -6.9752, -6.99, -4.6835, -6.2576, -5.2918, -4.8147, -5.7777, -6.3847, -5.9941, -6.5267, -6.5825, -6.7647], \"loglift\": [30.0, 29.0, 28.0, 27.0, 26.0, 25.0, 24.0, 23.0, 22.0, 21.0, 20.0, 19.0, 18.0, 17.0, 16.0, 15.0, 14.0, 13.0, 12.0, 11.0, 10.0, 9.0, 8.0, 7.0, 6.0, 5.0, 4.0, 3.0, 2.0, 1.0, 1.085, 1.0843, 1.0834, 1.0831, 1.0831, 1.083, 1.0829, 1.0824, 1.0822, 1.0822, 1.0821, 1.0816, 1.0811, 1.0808, 1.0807, 1.0806, 1.0802, 1.0802, 1.08, 1.0798, 1.0798, 1.0796, 1.0791, 1.079, 1.079, 1.0788, 1.0788, 1.0788, 1.0787, 1.0785, 1.0784, 1.0758, 1.062, 1.0739, 1.0784, 1.0519, 1.0761, 1.0672, 1.0443, 1.0495, 1.071, 1.0154, 1.0697, 0.9979, 1.009, 1.0345, 1.0121, 0.9894, 1.0023, 1.0106, 1.0467, 1.0249, 1.0081, 1.0111, 0.9333, 1.0292, 1.0318, 1.0322, 0.9878, 0.9928, 0.9403, 0.9106, 1.0015, 0.9752, 0.9166, 0.8977, 0.9373, 0.8743, 0.9461, 0.93, 0.7629, 0.7773, 0.8505, 0.8384, 0.8053, 0.9184, 0.422, 0.6999, 0.3735, 0.506, 0.6889, 0.4372, 1.6576, 1.6574, 1.6567, 1.6566, 1.6565, 1.6563, 1.6561, 1.656, 1.6559, 1.6558, 1.6555, 1.6554, 1.6554, 1.6553, 1.6553, 1.6552, 1.6549, 1.6549, 1.6549, 1.6545, 1.6545, 1.6544, 1.6542, 1.6542, 1.6542, 1.6541, 1.6538, 1.6537, 1.6536, 1.6536, 1.6513, 1.6508, 1.6505, 1.6408, 1.6282, 1.604, 1.6318, 1.6335, 1.6073, 1.6255, 1.6224, 1.6167, 1.564, 1.6169, 1.5228, 1.5505, 1.5636, 1.5184, 1.4642, 1.2486, 1.3016, 1.2451, 1.3954, 1.4615, 1.05, 0.6038, 1.4308, 0.941, 1.2893, 1.2733, 0.6151, 0.3932, 1.1745, 2.0475, 2.047, 2.0465, 2.0463, 2.0453, 2.0453, 2.0447, 2.0447, 2.0444, 2.0438, 2.0433, 2.0429, 2.0426, 2.0423, 2.0421, 2.0421, 2.042, 2.042, 2.0416, 2.0415, 2.0414, 2.0413, 2.0412, 2.0412, 2.0408, 2.0408, 2.0408, 2.0404, 2.0399, 2.0399, 2.0373, 2.0324, 2.024, 2.0325, 2.0225, 2.0175, 1.9566, 2.0048, 1.9131, 1.9843, 1.9154, 1.7633, 1.8783, 1.8862, 1.6979, 1.5079, 1.7173, 1.6682, 1.8289, 0.9965, 1.5248, 1.5059, 1.7439, 1.7595, 1.6912, 1.7401, 1.1948, 0.999, 0.4008, 0.4489, 0.7408, 0.6377, 0.2701, 0.9023, 0.5429, 0.2445, 0.6502, -0.144, -0.8904, 0.3712, 0.5679, -0.5184, 0.4617, 0.33, 0.329, 2.3966, 2.3964, 2.3962, 2.3958, 2.3957, 2.3954, 2.3953, 2.395, 2.395, 2.3949, 2.3942, 2.3941, 2.3939, 2.3936, 2.3936, 2.3935, 2.3929, 2.3929, 2.3929, 2.3924, 2.392, 2.3916, 2.3914, 2.3913, 2.3913, 2.391, 2.3907, 2.3905, 2.3903, 2.3902, 2.389, 2.3899, 2.3829, 2.3485, 2.3507, 2.3758, 2.3583, 2.3308, 2.3744, 2.3018, 2.2756, 2.1427, 2.2981, 2.2749, 2.2886, 2.0044, 2.009, 2.0371, 2.025, 2.1695, 2.2114, 2.0231, 0.9247, 0.0189, 0.7346, 0.7318, 2.8979, 2.8977, 2.8972, 2.8964, 2.8956, 2.8954, 2.8952, 2.8951, 2.8945, 2.8944, 2.8944, 2.8943, 2.8942, 2.8941, 2.8939, 2.8935, 2.8935, 2.8934, 2.8933, 2.8931, 2.893, 2.8929, 2.8929, 2.8926, 2.8924, 2.892, 2.892, 2.892, 2.892, 2.8919, 2.8913, 2.8755, 2.8747, 2.8739, 2.8681, 2.8585, 2.8126, 2.7181, 2.6915, 2.6897, 2.3764, 2.1371, 1.5766, 1.8191, 2.3242, 1.6509, 1.1421, 1.5448, 2.037, 1.9416, 2.272, 1.3237, 3.1141, 3.1133, 3.1129, 3.1128, 3.112, 3.112, 3.1115, 3.1115, 3.1108, 3.11, 3.1092, 3.1091, 3.1091, 3.1087, 3.108, 3.1079, 3.1079, 3.1078, 3.1067, 3.1061, 3.1059, 3.1057, 3.1053, 3.1053, 3.1053, 3.1052, 3.1047, 3.1047, 3.104, 3.1036, 3.0992, 3.0815, 3.0511, 3.0391, 3.0022, 3.0337, 2.9836, 2.8789, 2.8514, 3.0358, 2.7124, 1.9251, 2.2205, 2.1361, 2.1742, 2.2095, 1.711, 1.8079, 1.0748, 1.8411, 1.8547, 0.4969, -0.0082, 3.4742, 3.4732, 3.472, 3.4704, 3.47, 3.4696, 3.4677, 3.4675, 3.4671, 3.4669, 3.4652, 3.465, 3.4649, 3.4636, 3.4624, 3.4618, 3.4612, 3.4607, 3.4601, 3.4601, 3.4598, 3.4597, 3.4591, 3.4588, 3.458, 3.4575, 3.4572, 3.4558, 3.4557, 3.4556, 3.3998, 3.2996, 3.4029, 3.201, 3.3967, 3.2174, 3.0376, 2.7721, 3.2653, 3.2572, 3.0899, 3.1089, 3.1404, 2.5748, 2.8247, 2.7113, 2.8291, 3.0998, 1.8817, 2.8282, 1.961, 1.9611, 1.3334, 2.21, 1.6029, 2.3219, 1.7375, 1.5472, 1.2944, 3.8608, 3.8583, 3.8573, 3.8562, 3.8559, 3.8558, 3.8555, 3.8555, 3.8529, 3.8524, 3.8523, 3.8499, 3.8497, 3.8487, 3.848, 3.8474, 3.8468, 3.8465, 3.8464, 3.845, 3.845, 3.8443, 3.8442, 3.844, 3.8438, 3.8436, 3.8431, 3.843, 3.8429, 3.8428, 3.7853, 3.8239, 3.6992, 3.4347, 3.5733, 3.5291, 3.5947, 2.9873, 3.5799, 3.641, 3.7418, 3.5749, 3.5919, 3.5348, 3.5545, 2.3672, 3.4102, 1.4225, 3.1327, 2.1731, 2.9926, 3.9381, 3.9378, 3.9369, 3.9369, 3.9361, 3.9358, 3.934, 3.9329, 3.9315, 3.9314, 3.9311, 3.9299, 3.9299, 3.928, 3.928, 3.9278, 3.9267, 3.925, 3.9235, 3.9233, 3.9226, 3.9206, 3.9203, 3.9203, 3.9194, 3.9193, 3.9188, 3.9183, 3.9176, 3.9175, 3.9093, 3.8983, 3.7458, 3.8153, 3.7877, 3.5899, 3.4041, 3.8399, 3.1416, 3.1951, 2.3085, 2.3089, 2.3686, 1.4032, 4.2539, 4.2523, 4.2523, 4.2513, 4.2488, 4.2483, 4.2473, 4.2467, 4.2405, 4.2402, 4.2391, 4.2352, 4.2351, 4.2348, 4.2346, 4.233, 4.2318, 4.2317, 4.2315, 4.2296, 4.228, 4.2259, 4.2252, 4.2247, 4.2235, 4.2234, 4.2229, 4.2223, 4.222, 4.2201, 4.1958, 4.0696, 3.8192, 4.1151, 4.0059, 4.1556, 4.1588, 4.1077, 3.8483, 3.1469, 3.4705, 3.2832, 2.8795, 3.7609, 3.537, 3.9533, 3.3896, 3.7973, 3.1047, 3.0409, 2.8688, 2.9682, 2.2582, 1.6143, 2.7133, 2.2878, 2.8806, 4.4333, 4.4296, 4.4247, 4.4232, 4.4232, 4.4213, 4.4207, 4.4202, 4.4168, 4.4162, 4.416, 4.4141, 4.4096, 4.4092, 4.4058, 4.4041, 4.4006, 4.4005, 4.4002, 4.3992, 4.3981, 4.3973, 4.3972, 4.3972, 4.396, 4.3959, 4.3952, 4.3952, 4.3942, 4.3941, 4.3018, 4.2129, 3.7795, 3.9565, 4.329, 4.1267, 4.1276, 3.6106, 3.8998, 4.1672, 2.6367, 3.6696, 2.9278, 2.3002, 2.2752, 2.6786, 2.4657, 2.6815, 2.156, 2.5584, 4.5901, 4.588, 4.5799, 4.5794, 4.5783, 4.5743, 4.5723, 4.5698, 4.5668, 4.5667, 4.5642, 4.5642, 4.5629, 4.5624, 4.5623, 4.5623, 4.5613, 4.5612, 4.5603, 4.5578, 4.5578, 4.555, 4.5543, 4.5539, 4.5527, 4.551, 4.5508, 4.5478, 4.5463, 4.5458, 4.5012, 4.508, 4.1469, 4.356, 4.1979, 4.3073, 3.3715, 3.5791, 3.8279, 4.5994, 4.5879, 4.5873, 4.583, 4.5827, 4.5827, 4.5817, 4.5791, 4.5764, 4.5731, 4.5721, 4.5701, 4.5701, 4.565, 4.5646, 4.5629, 4.5628, 4.5626, 4.5626, 4.5605, 4.5602, 4.558, 4.5568, 4.5541, 4.5529, 4.5514, 4.5513, 4.5511, 4.5494, 4.5492, 4.4584, 4.4881, 4.3893, 3.9631, 4.4413, 3.4805, 4.3191, 3.6878, 3.5734, 2.7244, 2.4454, 3.12, 1.3802, 3.2669, 2.7176, 3.4587, 3.0244, 1.8766, 4.71, 4.7061, 4.7055, 4.7043, 4.6982, 4.6975, 4.6975, 4.6926, 4.6911, 4.6901, 4.6893, 4.6784, 4.6781, 4.6778, 4.6766, 4.6756, 4.6677, 4.6654, 4.6644, 4.6598, 4.6587, 4.6558, 4.6555, 4.6552, 4.6548, 4.6543, 4.6453, 4.6424, 4.6409, 4.6385, 4.5683, 4.2294, 4.26, 4.252, 4.2112, 4.2489, 3.8928, 4.1296, 4.2461, 3.5685, 3.7056, 2.9772, 2.7151, 3.7422, 2.613, 2.794, 3.3424, 4.9066, 4.9056, 4.8926, 4.8914, 4.8801, 4.8741, 4.8713, 4.8706, 4.8704, 4.8679, 4.8673, 4.8634, 4.8621, 4.8609, 4.8565, 4.8555, 4.8551, 4.8543, 4.854, 4.8533, 4.8526, 4.8523, 4.8523, 4.8516, 4.8515, 4.8503, 4.8486, 4.847, 4.8454, 4.8448, 4.7775, 4.5673, 4.707, 4.5837, 4.4103, 4.6851, 3.9201, 3.228, 5.1844, 5.1781, 5.1729, 5.1705, 5.168, 5.1672, 5.1634, 5.1491, 5.1479, 5.1453, 5.1395, 5.1389, 5.136, 5.1351, 5.1343, 5.1337, 5.1308, 5.1302, 5.1258, 5.122, 5.1191, 5.1188, 5.1185, 5.1179, 5.1174, 5.1167, 5.1155, 5.1145, 5.114, 5.114, 4.9032, 4.3317, 4.6054, 4.5426, 4.1637, 4.6914, 2.2325, 3.6568, 5.482, 5.4809, 5.4755, 5.4752, 5.4749, 5.4749, 5.4749, 5.4745, 5.4745, 5.4683, 5.4565, 5.4489, 5.446, 5.4101, 5.3983, 5.3957, 5.3898, 5.3865, 5.3851, 5.3851, 5.3851, 5.3851, 5.3851, 5.3851, 5.3851, 5.3851, 5.3838, 5.3783, 5.3765, 5.3735, 5.2977, 5.036, 5.1498, 4.8755, 5.018, 3.8379, 4.4689, 2.8646, 3.1187, 3.7631, 4.8184, 5.4928, 5.4927, 5.4872, 5.4824, 5.4695, 5.4644, 5.464, 5.4616, 5.4595, 5.4538, 5.4521, 5.4483, 5.444, 5.4407, 5.4396, 5.4382, 5.4329, 5.4329, 5.4306, 5.4281, 5.4252, 5.4152, 5.4119, 5.4117, 5.4114, 5.4078, 5.4057, 5.4017, 5.3989, 5.3973, 5.3162, 5.2846, 5.1367, 4.6488, 5.0207, 3.9294, 4.2567, 5.5587, 5.5377, 5.536, 5.5338, 5.5254, 5.5141, 5.5116, 5.5073, 5.5044, 5.5031, 5.5015, 5.4983, 5.4949, 5.4802, 5.4762, 5.4732, 5.4632, 5.463, 5.4602, 5.452, 5.4452, 5.4415, 5.4382, 5.4381, 5.4365, 5.4339, 5.4285, 5.4274, 5.4248, 5.4246, 5.4129, 4.9362, 3.6238, 4.6833, 4.3756, 3.8692, 5.7901, 5.7737, 5.7634, 5.7621, 5.7567, 5.7555, 5.7553, 5.7511, 5.7474, 5.7395, 5.7304, 5.7228, 5.717, 5.7135, 5.7044, 5.7044, 5.7021, 5.7012, 5.6969, 5.6869, 5.6754, 5.6721, 5.6631, 5.6581, 5.651, 5.6439, 5.6423, 5.64, 5.638, 5.6347, 4.7517, 5.1835, 4.3912, 3.6852, 4.2303, 4.478, 2.997, 4.3211, 2.4597, 3.9163]}, \"token.table\": {\"Topic\": [14, 13, 17, 2, 3, 4, 6, 7, 7, 17, 13, 20, 5, 19, 18, 8, 17, 16, 2, 14, 2, 10, 2, 5, 8, 5, 8, 2, 17, 2, 13, 7, 17, 19, 17, 19, 2, 10, 20, 19, 7, 5, 7, 2, 4, 5, 7, 8, 9, 11, 7, 10, 10, 10, 17, 14, 8, 8, 9, 8, 13, 17, 17, 11, 14, 17, 8, 18, 13, 1, 2, 3, 1, 5, 7, 11, 16, 19, 17, 18, 4, 1, 9, 8, 16, 4, 11, 17, 12, 1, 2, 3, 4, 5, 6, 4, 3, 4, 5, 7, 9, 1, 2, 3, 4, 6, 11, 12, 15, 3, 14, 7, 2, 4, 19, 6, 8, 13, 20, 1, 2, 1, 2, 3, 3, 1, 2, 10, 1, 2, 2, 12, 1, 2, 3, 4, 5, 7, 8, 9, 11, 12, 14, 4, 4, 14, 11, 3, 14, 3, 14, 3, 14, 1, 2, 3, 7, 3, 4, 13, 1, 5, 9, 9, 7, 12, 6, 6, 6, 8, 18, 18, 14, 1, 2, 4, 3, 3, 3, 15, 20, 1, 10, 16, 1, 4, 17, 12, 5, 20, 3, 13, 10, 7, 1, 3, 5, 1, 6, 3, 6, 8, 1, 3, 4, 6, 1, 2, 3, 5, 6, 6, 1, 3, 18, 10, 19, 3, 13, 15, 15, 18, 1, 2, 3, 6, 7, 2, 10, 20, 7, 5, 12, 16, 1, 3, 1, 18, 3, 3, 3, 12, 1, 2, 7, 10, 13, 8, 13, 17, 5, 1, 2, 3, 5, 6, 11, 1, 2, 3, 5, 10, 11, 9, 1, 2, 3, 4, 6, 10, 15, 7, 2, 10, 2, 19, 6, 14, 2, 3, 4, 5, 7, 9, 11, 2, 11, 10, 3, 4, 8, 12, 2, 17, 2, 11, 14, 2, 16, 18, 5, 18, 3, 6, 11, 3, 1, 4, 10, 12, 1, 2, 4, 10, 8, 6, 5, 6, 6, 6, 8, 11, 6, 6, 14, 18, 12, 4, 7, 3, 4, 16, 2, 11, 13, 4, 10, 16, 1, 2, 4, 7, 2, 7, 12, 1, 3, 4, 5, 6, 8, 2, 20, 1, 2, 4, 9, 2, 13, 16, 8, 1, 2, 4, 7, 10, 1, 3, 7, 1, 7, 1, 20, 2, 5, 7, 10, 14, 4, 1, 2, 20, 13, 2, 10, 1, 4, 8, 20, 1, 2, 3, 4, 11, 13, 10, 20, 10, 11, 13, 16, 7, 19, 1, 2, 3, 4, 5, 8, 3, 4, 4, 16, 14, 3, 4, 13, 11, 15, 4, 4, 14, 1, 2, 4, 9, 10, 2, 3, 4, 8, 3, 1, 2, 3, 4, 5, 6, 7, 8, 1, 2, 3, 5, 2, 16, 4, 6, 15, 18, 4, 8, 19, 18, 1, 2, 17, 1, 8, 20, 11, 11, 5, 15, 8, 10, 17, 15, 1, 8, 16, 2, 1, 11, 7, 11, 11, 2, 10, 1, 10, 2, 10, 1, 2, 7, 13, 8, 6, 5, 7, 11, 13, 3, 8, 12, 18, 8, 9, 13, 17, 8, 11, 16, 18, 4, 12, 15, 1, 2, 3, 10, 2, 10, 10, 12, 12, 10, 10, 10, 17, 1, 3, 4, 6, 9, 2, 3, 10, 15, 20, 9, 18, 1, 2, 7, 11, 4, 4, 4, 1, 2, 13, 1, 2, 2, 5, 12, 19, 4, 10, 6, 1, 2, 3, 4, 5, 6, 19, 1, 3, 4, 17, 1, 3, 4, 6, 11, 1, 2, 5, 7, 8, 8, 12, 8, 11, 14, 9, 1, 2, 10, 12, 6, 19, 1, 5, 4, 3, 2, 2, 2, 3, 7, 1, 2, 3, 4, 6, 3, 13, 13, 11, 13, 1, 2, 3, 4, 5, 6, 7, 9, 15, 11, 3, 7, 9, 20, 10, 10, 1, 1, 2, 3, 4, 6, 7, 2, 3, 3, 20, 2, 18, 2, 7, 7, 8, 8, 1, 2, 3, 6, 12, 3, 5, 7, 15, 1, 2, 4, 8, 2, 2, 5, 7, 10, 5, 5, 5, 7, 6, 5, 15, 17, 17, 20, 19, 8, 14, 1, 2, 3, 14, 2, 3, 7, 14, 1, 2, 3, 5, 14, 7, 7, 18, 16, 6, 3, 6, 6, 18, 1, 3, 4, 5, 1, 2, 3, 5, 6, 7, 1, 17, 3, 4, 4, 2, 1, 2, 3, 5, 6, 7, 14, 6, 14, 14, 1, 2, 3, 20, 1, 3, 5, 1, 3, 4, 13, 14, 15, 18, 13, 13, 1, 3, 5, 10, 1, 2, 4, 10, 15, 15, 1, 3, 5, 1, 2, 3, 5, 10, 20, 1, 3, 4, 11, 15, 15, 15, 18, 11, 3, 4, 6, 7, 12, 14, 5, 3, 6, 1, 2, 3, 4, 5, 3, 15, 16, 13, 13, 8, 19, 1, 2, 3, 5, 7, 11, 18, 1, 2, 3, 4, 6, 15, 9, 17, 1, 2, 3, 8, 10, 12, 2, 16, 11, 2, 6, 8, 18, 3, 11, 12, 19, 19, 11, 11, 11, 15, 1, 2, 4, 7, 18, 13, 16, 20, 3, 8, 17, 19, 4, 7, 17, 1, 2, 10, 2, 7, 8, 11, 13, 17, 18, 15, 6, 15, 4, 4, 13, 1, 4, 9, 12, 16, 6, 6, 3, 4, 6, 14, 4, 6, 14, 16, 1, 5, 2, 6, 8, 10, 10, 2, 3, 7, 12, 15, 17, 11, 7, 11, 4, 2, 2, 4, 14, 1, 3, 4, 5, 3, 3, 1, 3, 5, 14, 17, 1, 2, 3, 5, 6, 1, 8, 3, 14, 4, 8, 12, 1, 2, 3, 5, 7, 9, 9, 4, 6, 19, 5, 5, 7, 1, 4, 15, 1, 2, 3, 5, 7, 1, 4, 7, 20, 12, 14, 15, 1, 3, 4, 6, 1, 2, 3, 4, 5, 7, 1, 2, 3, 5, 6, 1, 2, 5, 7, 9, 19, 3, 6, 16, 6, 1, 3, 5, 5, 1, 3, 6, 7, 9, 11, 20, 1, 2, 3, 4, 5, 6, 1, 2, 4, 1, 2, 3, 4, 5, 16, 1, 10, 1, 2, 3, 4, 6, 7, 9, 6, 19, 7, 6, 1, 3, 11, 1, 8, 11, 17, 8, 17, 3, 13, 20, 13, 1, 2, 5, 7, 9, 16, 1, 2, 3, 4, 5, 6, 12, 3, 4, 18, 1, 3, 4, 5, 14, 1, 18, 5, 6, 9, 11, 12, 9, 19, 13, 2, 10, 1, 7, 5, 9, 1, 3, 4, 6, 6, 10, 13, 2, 1, 13, 2, 8, 1, 2, 3, 5, 20, 2, 15, 18, 16, 3, 14, 3, 1, 2, 3, 4, 6, 7, 15, 17, 9, 2, 3, 4, 5, 7, 9, 11, 3, 4, 14, 14, 1, 2, 3, 4, 15, 13, 3, 4, 5, 20, 20, 1, 2, 3, 5, 6, 1, 2, 8, 2, 11, 1, 2, 3, 5, 7, 16, 7, 20, 1, 12, 16, 1, 2, 3, 4, 5, 18, 4, 8, 9, 13, 9, 15, 18, 20, 1, 2, 7, 10, 7, 17, 3, 15, 16, 1, 9, 9, 9, 8, 17, 14, 2, 12, 16, 17, 20, 2, 3, 7, 11, 1, 3, 7, 19, 4, 7, 15, 16, 8, 8, 11, 1, 9, 1, 3, 4, 6, 1, 1, 3, 4, 5, 9, 5, 19, 15, 5, 18, 15, 2, 9, 17, 14, 8, 11, 1, 2, 5, 1, 2, 3, 6, 7, 8, 7, 18, 5, 12, 5, 12, 2, 15, 2, 15, 9, 3, 12, 13, 1, 4, 5, 5, 3, 5, 5, 9, 10, 5, 1, 2, 7, 1, 12, 13, 1, 2, 3, 5, 6, 8, 4, 1, 3, 4, 14, 6, 3, 4, 14, 2, 10, 1, 10, 2, 1, 2, 3, 4, 5, 7, 9, 10, 13, 12, 16, 16, 9, 12, 1, 4, 5, 10, 2, 7, 14, 1, 5, 11, 1, 2, 3, 7, 9, 2, 7, 2, 15, 4, 8, 1, 4, 1, 2, 3, 5, 2, 9, 9, 8, 3, 4, 7, 1, 2, 4, 4, 2, 9, 17, 2, 3, 4, 13, 1, 2, 3, 4, 8, 5, 10, 6, 13, 17, 20, 1, 4, 6, 1, 19, 9, 11, 16, 1, 2, 4, 10, 13, 1, 2, 13, 3, 2, 15, 1, 3, 5, 6, 1, 9, 13, 12, 18, 13, 18, 12, 3, 6, 6, 3, 6, 2, 3, 4, 5, 11, 20, 2, 3, 14, 1, 2, 4, 7, 9, 11, 19, 12, 15, 2, 9, 20, 1, 15, 3, 3, 1, 2, 3, 4, 5, 2, 3, 4, 4, 1, 2, 6, 7, 3, 9, 20, 7, 1, 2, 3, 5, 12, 15, 3, 9, 14, 18, 20, 16, 20, 1, 3, 4, 5, 6, 1, 3, 5, 6, 2, 7, 10, 7, 7, 9, 9, 9, 5, 19, 16, 3, 5, 1, 3, 4, 7, 13, 1, 6, 7, 8, 9, 11, 12, 5, 5, 2, 4, 6, 10, 12, 12, 5, 5, 7, 1, 2, 3, 4, 5, 3, 4, 4, 2, 4, 1, 2, 3, 6, 1, 2, 3, 4, 6, 19, 13, 1, 2, 4, 7, 9, 10, 19, 1, 2, 7, 1, 11, 14, 2, 4, 10, 2, 16, 17, 7, 10, 3, 5, 19, 9, 12, 10, 10, 1, 2, 3, 4, 5, 6, 7, 10, 20, 4, 6, 19, 2, 7, 9, 3, 1, 3, 1, 3, 1, 2, 3, 6, 17, 1, 1, 3, 4, 6, 1, 3, 1, 2, 6, 2, 9, 9, 11, 7, 8, 1, 6, 5, 18, 17, 1, 2, 3, 5, 16, 1, 2, 3, 4, 3, 4, 6, 7, 4, 1, 3, 5, 9, 13, 5, 16, 7, 8, 10, 15, 18, 1, 2, 3, 5, 6, 12, 1, 3, 6, 9, 11, 12, 2, 4, 8, 13, 3, 3, 11, 1, 2, 3, 10, 1, 1, 2, 3, 4, 17, 14, 13, 7, 8, 11, 15, 1, 2, 4, 10, 1, 2, 3, 4, 5, 6, 3, 1, 2, 10, 5, 9, 5, 9, 1, 12, 1, 16, 1, 3, 5, 18, 1, 6, 1, 2, 3, 1, 3, 1, 3, 5, 6, 1, 3, 5, 6, 1, 2, 3, 4, 5, 6, 18, 1, 3, 1, 1, 2, 3, 5, 9, 1, 8, 1, 2, 3, 4, 5, 11, 9, 18, 1, 3, 1, 3, 5, 5, 10, 3, 17, 20, 3, 15, 1, 2, 4, 6, 3, 6, 6, 7, 14, 14, 14, 14, 14, 19, 2, 20, 2, 3, 4, 9, 16, 3, 4, 7, 1, 6, 8, 1, 2, 3, 4, 7, 11, 12, 16, 2, 1, 2, 3, 4, 2, 1, 2, 4, 7, 17, 3, 9, 9, 7, 1, 2, 6, 2, 3, 20, 1, 2, 5, 7, 3, 14, 15, 16, 3, 4, 13, 12, 13, 1, 20, 2, 3, 7, 11, 19, 13, 12, 16, 11, 8, 1, 2, 3, 19, 14, 5, 7, 11, 13, 1, 3, 11, 1, 8, 19, 3, 4, 13, 1, 2, 3, 4, 5, 1, 3, 5, 2, 3, 2, 3, 2, 14, 12, 2, 13, 20, 13, 4, 15, 3, 7, 3, 1, 1, 2, 3, 4, 6, 6, 19, 1, 3, 4, 5, 6, 7, 3, 8, 2, 19, 1, 2, 3, 5, 7, 1, 2, 3, 5, 1, 3, 4, 5, 7, 9, 3, 7, 11, 1, 3, 5], \"Freq\": [0.9524394012993195, 0.9249724901718989, 0.9828062194933154, 0.1297788608132528, 0.32533604834007207, 0.21689069889338136, 0.2791134403791875, 0.04800040057476473, 0.9909685851529362, 0.941333888314053, 0.9671650534165328, 0.881906751114097, 0.5418294098063857, 0.4063720573547893, 0.8277508106074534, 0.14160051957480013, 0.8024029442572007, 0.9195635518944256, 0.36309590475565057, 0.631786874274832, 0.5064165331554398, 0.48924987101457745, 0.35889387545943546, 0.15183971654053038, 0.4831263708107785, 0.9617524649958171, 0.03952407390393769, 0.5973988568018963, 0.3484826664677729, 0.995900273972361, 0.00345199401723522, 0.9893713454043292, 0.9845993908697063, 0.9508368104846847, 0.8709790770853754, 0.7807797733863174, 0.061063746947319114, 0.9159562042097866, 0.858971923536784, 0.8857390967134953, 0.993764601707157, 0.308353662038459, 0.6783780564846098, 0.31440115472868235, 0.25372724767577876, 0.08457574922525958, 0.11215479788567032, 0.08641435246928697, 0.0312562551484655, 0.11767060761775247, 0.9818617010207688, 0.986452522178094, 0.9685021109176298, 0.9877535386056686, 0.8709790770853754, 0.9796910369448211, 0.9881519007178012, 0.9912224547600912, 0.9958905640051329, 0.9812347822772202, 0.9697167194975287, 0.8709790770853754, 0.8709790770853754, 0.9706455486365599, 0.9519806929591519, 0.930121919891183, 0.982695624531335, 0.9042824869412674, 0.9489669229316083, 0.9639724785591083, 0.016445724699827306, 0.01897583619210843, 0.9844927398578757, 0.014549153791003088, 0.4683854877149856, 0.1170963719287464, 0.20491865087530622, 0.1756445578931196, 0.9178238259668261, 0.8837502151047417, 0.996475686757243, 0.9927108177529079, 0.9751010728818834, 0.33536405793465257, 0.586887101385642, 0.9916390172377195, 0.9720522810287097, 0.9651510294513065, 0.9723661539782561, 0.49002296929157185, 0.3484160971574892, 0.07439387400147544, 0.05974488722898414, 0.0020106452432831204, 0.0255639180931711, 0.9957050435961841, 0.17786128995819242, 0.6970725303411985, 0.11857419330546161, 0.005389736059339164, 0.9802694665427332, 0.013936548163744053, 0.15529296525314804, 0.42406925126821193, 0.18316606158063614, 0.10950144985798899, 0.1154742562138793, 0.8884406578936096, 0.0555275411183506, 0.9950109874116998, 0.9205440668612552, 0.9925563625652795, 0.9960008938087205, 0.002070687928916259, 0.9269587386057133, 0.18260111895589012, 0.7988798954320193, 0.9845242519010191, 0.7436903578147066, 0.8084357412624575, 0.19128411776311707, 0.9266649259289026, 0.0021575434829543714, 0.06904139145453989, 0.997016185126774, 0.10755474135866337, 0.5126776004762954, 0.3764415947553218, 0.03325060434337547, 0.9642675259578887, 0.9966548575080816, 0.9550032628169969, 0.006003699139742323, 0.026016029605550068, 0.0020012330465807742, 0.34020961791873167, 0.16810357591278505, 0.2021245377046582, 0.0020012330465807742, 0.04202589397819626, 0.1641011098196235, 0.008004932186323097, 0.03802342788503471, 0.9954077930914984, 0.9941801757140648, 0.9776713636971396, 0.9445959036343683, 0.12352735065926317, 0.8646914546148421, 0.38241260511302927, 0.6177434390287396, 0.5569188797404003, 0.4414952777216645, 0.3817877504274795, 0.18325812020519017, 0.03054302003419836, 0.40316786445141833, 0.14401983636997903, 0.4500619886561844, 0.39605455001744233, 0.9903605289630973, 0.005627048460017599, 0.9754882223096927, 0.9726732888755287, 0.9783299474135949, 0.9852831889995183, 0.9861638632461426, 0.991115199218609, 0.9942656462355004, 0.1533223466416495, 0.8177191820887973, 0.8904112532312525, 0.9404884135874153, 0.0020146629516460926, 0.9475631415908788, 0.050366573791152315, 0.9966816725480002, 0.9947465969074399, 0.2809531745345289, 0.7023829363363222, 0.8275400441332957, 0.38261836682041417, 0.6121893869126627, 0.8338438412098907, 0.24962175766313466, 0.21396150656840113, 0.5349037664210028, 0.9759130904490693, 0.995745677457153, 0.8689449465064868, 0.762354970619085, 0.22284222218096328, 0.986383282582876, 0.9801027270116575, 0.9909694836035785, 0.957002839994063, 0.04222071352914984, 0.030350755179906395, 0.9651540147210234, 0.015513533140142187, 0.9230552218384601, 0.054297365990497656, 0.6582965975348228, 0.03399993415839195, 0.003617014272169356, 0.3038291988622259, 0.8942905264028507, 0.011189390609467813, 0.008607223545744473, 0.08521151310287027, 0.9984092382658096, 0.997544263363742, 0.15444425292286187, 0.8437929915785625, 0.9049982920991442, 0.9880618147190273, 0.8401405093406894, 0.9951486802022903, 0.8301822959276244, 0.11069097279034991, 0.9550556817358782, 0.9451262783511811, 0.4066237047178479, 0.11876632959580706, 0.10467540913528758, 0.21538978418222637, 0.15298713642849723, 0.04554918264043963, 0.9413497745690856, 0.9549537379977789, 0.9923489538398998, 0.9944628158122822, 0.9740162050646122, 0.9303298960444549, 0.14674518482516297, 0.8487424203401317, 0.9969811317578664, 0.9470951299927071, 0.9916386766718484, 0.9970768467607853, 0.6260775146689188, 0.3604688720821048, 0.995052920043232, 0.4692299525082415, 0.07638627133855094, 0.2946327608772679, 0.15277254267710189, 0.044719151223856224, 0.8943830244771245, 0.044719151223856224, 0.9882935049443782, 0.22538735677101715, 0.050749471061023725, 0.5910820747107469, 0.10448420512563708, 0.025374735530511863, 0.9420673703076256, 0.9055563762924744, 0.03763550673310538, 0.038403578299087124, 0.017665646017580076, 0.9578450174633044, 0.9827683098161362, 0.9959912637597759, 0.38526542063286034, 0.25063735543029947, 0.01145770767681369, 0.10598379601052664, 0.24490850159189262, 0.9610518539768735, 0.8989105929172696, 0.9826166116811378, 0.7459946648018981, 0.2532096773479028, 0.9971424010862175, 0.9236430768501372, 0.995425319436203, 0.9718901271785114, 0.12489126195288962, 0.059607193204788224, 0.13340657526785935, 0.1277296997245462, 0.21855970841755681, 0.19585220624430416, 0.13908345081117252, 0.26194374342912924, 0.7203452944301054, 0.9881167635912986, 0.21704080688406396, 0.2411564520934044, 0.4099659685587875, 0.10852040344203198, 0.9989465114922713, 0.9828062194933154, 0.49232016529436856, 0.46155015496347057, 0.030770010330898035, 0.39604214681221694, 0.5280561957496226, 0.9463954615756599, 0.995739974461193, 0.8809792471844728, 0.9118085583077865, 0.07789319342327825, 0.00916390510862097, 0.9938711533464093, 0.16598202203536247, 0.6879518018570945, 0.1354063863972694, 0.008735895896598025, 0.12357095721951016, 0.12357095721951016, 0.4727932276224736, 0.274005166008479, 0.9856074402958277, 0.997357232154256, 0.014449788381606524, 0.9849939080128448, 0.9952169582951031, 0.9961901768500323, 0.9744218196017944, 0.9634176306607782, 0.9983119620089567, 0.9945306039653297, 0.9506072546636742, 0.9068207442383441, 0.9740471194359642, 0.997076166850299, 0.9840662867499114, 0.01668974901480102, 0.9791319422016597, 0.9637293785733351, 0.9970105359207128, 0.9723536400422219, 0.9873030523159512, 0.9960165826875582, 0.9704455116854369, 0.9503239995668264, 0.011030311288179832, 0.8698188330107525, 0.0945455253272557, 0.025212140087268187, 0.9921266839496957, 0.005669295336855404, 0.9538732034724924, 0.6782647153604644, 0.2466417146765325, 0.0008936294010019293, 0.0071490352080154345, 0.06612857567414278, 0.9798563315472617, 0.6962813800119476, 0.24867192143283845, 0.07731165879185488, 0.5330435421964731, 0.17903752562324288, 0.20752076833603153, 0.16919838264959636, 0.8036923175855828, 0.8301953703855589, 0.9745178472567656, 0.06845545856314578, 0.8240008901119399, 0.059581602823478734, 0.012676936770952921, 0.03549542295866818, 0.3382669007722084, 0.13781244105534415, 0.5199287548906165, 0.07595743595820711, 0.9209839109932614, 0.44340653305578664, 0.532087839666944, 0.20282078951648197, 0.33465430270219526, 0.4614172961499965, 0.949482366636245, 0.9458107017534028, 0.9965628993376519, 0.08418389786998728, 0.8571451419489614, 0.05357157137181009, 0.9518722524698893, 0.2547529777101102, 0.7446625502295529, 0.9964998171233604, 0.9968399066103257, 0.734993409717218, 0.19599824259125814, 0.21530564077199332, 0.4290045230307628, 0.05623654796283408, 0.2506543280629176, 0.006427034052895323, 0.04016896283059577, 0.9968535021555933, 0.8378006523640763, 0.977872821005029, 0.1660295097182197, 0.45658115172510416, 0.3320590194364394, 0.9941234044326992, 0.9544530765649857, 0.8385024818252653, 0.015117232244445888, 0.11153158011457856, 0.028890710511607697, 0.005710954403457336, 0.9799259120820136, 0.020023160077353004, 0.9744604570978461, 0.9985224012914682, 0.9352995102617266, 0.9365804471934633, 0.19452135800453071, 0.6900876748255971, 0.11578652262174448, 0.18515801983854635, 0.8023514193003676, 0.9907486740812009, 0.9888119081848146, 0.9916517291817828, 0.002384116476211774, 0.8733813357855799, 0.11205347438195337, 0.002384116476211774, 0.008741760412776505, 0.025121494898021342, 0.050242989796042685, 0.20097195918417074, 0.7159626045936083, 0.9945438051703751, 0.0026724536250471854, 0.2779351770049073, 0.14965740300264238, 0.16034721750283112, 0.06413888700113245, 0.16301967112787832, 0.17370948562806707, 0.005344907250094371, 0.1659506359222282, 0.015437268457881693, 0.802737959809848, 0.015437268457881693, 0.4437484664402535, 0.5071411045031469, 0.46213184234133825, 0.12836995620592728, 0.35943587737659644, 0.025673991241185457, 0.23112177984063484, 0.762701873474095, 0.8985152937694896, 0.960038439490623, 0.051751002747399986, 0.7417643727127332, 0.18975367674046661, 0.2809874557995449, 0.7132758493373064, 0.8288823239641121, 0.9737005974111109, 0.9728529349582855, 0.9921208408390862, 0.9813256527930218, 0.16977045099882299, 0.08488522549941149, 0.7215244167449977, 0.9093980827451812, 0.9985965000657425, 0.9561436160118182, 0.0329704695176489, 0.9964966368941724, 0.37490311225226597, 0.6185901352162388, 0.9773090019926789, 0.9753264240750061, 0.9637839832376344, 0.3527686941423063, 0.6460589456675959, 0.08916889861593111, 0.8916889861593111, 0.3278890765865466, 0.6644068130832655, 0.022293563902431323, 0.9748367488244969, 0.9178060619437433, 0.06715654111783487, 0.9858106768632277, 0.9896156856264273, 0.8084088162752356, 0.11687838307593769, 0.053569258909804775, 0.014609797884492211, 0.9702635769631197, 0.019405271539262393, 0.9685484482926155, 0.969228120295395, 0.7463045559629653, 0.06396896193968274, 0.12793792387936548, 0.02132298731322758, 0.9926787769130393, 0.9594272004074863, 0.8332775937866539, 0.836720401462421, 0.3127306895531941, 0.46909603432979113, 0.20848712636879607, 0.09992731253386028, 0.004914457993468538, 0.06552610657958051, 0.8289052482316934, 0.20878772662064712, 0.773742751594163, 0.9929304115275617, 0.9842708535442948, 0.9665224957065917, 0.9946199853498523, 0.9652475871835601, 0.9912485272080678, 0.8709790770853754, 0.170106952251592, 0.09450386236199555, 0.018900772472399113, 0.26461081461358754, 0.4488933462194789, 0.7328781116436514, 0.17717932369406955, 0.04026802811228854, 0.008053605622457707, 0.03221442248983083, 0.2882132336658247, 0.5764264673316494, 0.05749349384336923, 0.8974594160916172, 0.04487297080458086, 0.9551645113511713, 0.9921598753114298, 0.9974499946108495, 0.994442007547528, 0.4818988487066958, 0.178481055076554, 0.3212658991377972, 0.9920754953726502, 0.9973233077971179, 0.9745816396311539, 0.02440812693172836, 0.9780197341092859, 0.7993175195933072, 0.9974431356259855, 0.9644961101505444, 0.9940186329297289, 0.7234120566198979, 0.0015181785028749169, 0.19242912523939573, 0.04250899808049768, 0.007970437140093314, 0.032261293186091985, 0.9136429279914061, 0.5308092082955216, 0.22349861401916696, 0.08381198025718761, 0.16762396051437523, 0.31596109001414324, 0.15575546690838046, 0.11792913923063092, 0.38938866727095117, 0.020025702888220347, 0.22772117481234547, 0.05193640829053493, 0.07590705827078183, 0.6432124411366249, 0.9857500841147182, 0.907842065037559, 0.06484586178839707, 0.7465319059566825, 0.2052962741380877, 0.03732659529783413, 0.9920738921757248, 0.07258376889853474, 0.5008280053998897, 0.4209858596115015, 0.9707899591722504, 0.9974473118659515, 0.9590062202992117, 0.9907688280493034, 0.9943140706273776, 0.998353151576859, 0.9922091933701096, 0.9997579206090557, 0.9958871704523127, 0.9972209490012701, 0.0025471799463633975, 0.988977956832965, 0.6719961110803523, 0.20705762526285365, 0.06776431372238846, 0.021960657224848114, 0.03199981481335011, 0.9968890778381121, 0.9704267624527971, 0.990029959747354, 0.9746565083605575, 0.9671210828637633, 0.37774606001332167, 0.138355183426566, 0.2016162705854235, 0.08192083229204566, 0.17248886354825171, 0.004096041614602283, 0.013653472048674278, 0.010012546169027803, 0.945577575282038, 0.9733988658453573, 0.03329278532402635, 0.09987835597207906, 0.8572892220936786, 0.7883194045937778, 0.9735596316547663, 0.9923103188424661, 0.9961915451416796, 0.13084527748330402, 0.6160149347001569, 0.04863275800264397, 0.07526498262313946, 0.05905406328892482, 0.0683174457656189, 0.9984477266915562, 0.9986342429769722, 0.9925305735048398, 0.8193928467027365, 0.7898356627626023, 0.19745891569065058, 0.9961680700847937, 0.9694574478616619, 0.23175554930482353, 0.7665760477005702, 0.9707506002916825, 0.3833163440331905, 0.2962472575768979, 0.3174836201272132, 0.002123636255031526, 0.9828646470206036, 0.15694943723333155, 0.11771207792499865, 0.7160818073770752, 0.9848744837982477, 0.0036567231471200576, 0.4095529924774465, 0.17186598791464272, 0.41320971562456654, 0.9957400045545584, 0.01962761709431723, 0.9764739504422822, 0.0016356347578597693, 0.0032712695157195385, 0.9935501886434959, 0.9976563694413998, 0.9737006443754762, 0.023244842969175825, 0.9908410420684857, 0.9932492819382376, 0.9458394866474805, 0.8709790770853754, 0.958808987208592, 0.7974448530203457, 0.7879758155917456, 0.9827346931002559, 0.9963454924756768, 0.17313254727445396, 0.15490806861398512, 0.05467343598140651, 0.6014077957954717, 0.1800278282920184, 0.12001855219467894, 0.07201113131680736, 0.6240964714123305, 0.9403625076804589, 0.018888199580382247, 0.022935670919035585, 0.0175390424674978, 0.9591437307501226, 0.9838008773283102, 0.5525838860228506, 0.4144379145171379, 0.9580062038649568, 0.9959831288653312, 0.10037703954028623, 0.8922403514692109, 0.9978709697874382, 0.9055921334892844, 0.7893207840579082, 0.17913663184292952, 0.0006220021938990608, 0.02985610530715492, 0.9070698485131433, 0.015495279935178533, 0.011919446103983487, 0.05006167363673064, 0.0015892594805311316, 0.013906020454647401, 0.3506441009516902, 0.6233672905807826, 0.0473270606819526, 0.9521091031310465, 0.9977314235189895, 0.9991270333907848, 0.5572038854704393, 0.006232705654031759, 0.16454342926643845, 0.11343524290337802, 0.04238239844741597, 0.11717486629579708, 0.9879127637074275, 0.36218855441811726, 0.6364170313346917, 0.9859166548120791, 0.19666500603514772, 0.19666500603514772, 0.4916625150878693, 0.11238000344865584, 0.9798437600000368, 0.007517982813299516, 0.010023977084399354, 0.09555098497530157, 0.3091355396259757, 0.26417037022583373, 0.32599747815102886, 0.08387776332695428, 0.7129609882791114, 0.16775552665390855, 0.9788855653856718, 0.9723572229139964, 0.6056506074568946, 0.05660286050999015, 0.007075357563748769, 0.3297116624706926, 0.01794035065498934, 0.9598087600419298, 0.0022425438318736677, 0.01794035065498934, 0.973058089509474, 0.9501098159673657, 0.4098568642765599, 0.12195740839448854, 0.4658373140314071, 0.12791000931848032, 0.04263666977282677, 0.7354825535812618, 0.07461417210244685, 0.017765279072011156, 0.8528728894170239, 0.1233770259267592, 0.10439594501495009, 0.2562445923094229, 0.5156526981041474, 0.9420830257504441, 0.9327665494079074, 0.9943683757843406, 0.811904097831271, 0.980502031673714, 0.20434698682254374, 0.04808164395824559, 0.2884898637494735, 0.18030616484342094, 0.012020410989561397, 0.2524286307807893, 0.9988720113989955, 0.12060258814840476, 0.8771097319883983, 0.2007997305954989, 0.069241286412241, 0.3300501318983488, 0.013848257282448201, 0.3831351181477336, 0.9917025457488202, 0.9348408976795439, 0.8750150865560082, 0.9750787520085689, 0.9838407979235081, 0.9662902351998695, 0.8278620667471741, 0.9459974872342399, 0.0050229955074384425, 0.0468812914027588, 0.0016743318358128142, 0.9881230288511783, 0.31111460042813044, 0.6740816342609494, 0.11939764492917294, 0.0036737736901283984, 0.2828805741398867, 0.3085969899707855, 0.2828805741398867, 0.9252835339042366, 0.4115763336044725, 0.493891600325367, 0.9752094424439901, 0.02353052273993542, 0.0006536256316648728, 0.11043049968583228, 0.8613578975494918, 0.9736218218166279, 0.5572439019623826, 0.417932926471787, 0.9861525471008108, 0.9834053831505346, 0.01579191126227136, 0.9902906046479043, 0.9126559743270509, 0.21121119107779615, 0.7744410339519192, 0.9669393233648992, 0.885816449552166, 0.85209364836835, 0.9628739972559287, 0.9660581464776359, 0.9544445085869522, 0.9074441386858295, 0.054902011661993905, 0.7001789019750392, 0.22887721744805253, 0.015686289046283972, 0.9194784013572989, 0.9450429800813945, 0.9526384013416181, 0.754065337491215, 0.966805140278883, 0.02630762286473151, 0.9610558543934817, 0.9759956351852962, 0.05899924589995065, 0.9243215190992269, 0.9270736808022377, 0.34659288792949106, 0.337097192369779, 0.3181058012503548, 0.5579557888525108, 0.2458788222061912, 0.0189137555543224, 0.0851118999944508, 0.0189137555543224, 0.0756550222172896, 0.9023723522218234, 0.9500406219575154, 0.992461328711614, 0.9287776318957784, 0.9978911139523894, 0.9976775578593736, 0.9711637717984206, 0.35405495721300045, 0.29301099907282796, 0.061043958140172494, 0.29301099907282796, 0.9402141139713313, 0.9984958930593885, 0.991909548476535, 0.006720513847709981, 0.4603551985681337, 0.40995134471030886, 0.12096924925877967, 0.41919677800292504, 0.25883290990784635, 0.3179143349955069, 0.971195924014038, 0.9944883643602092, 0.9927263527226635, 0.9953879136304299, 0.9914934257124265, 0.9797781499852982, 0.9888431758840315, 0.9742643619013603, 0.18842467167771512, 0.0983085243535905, 0.6881596704751335, 0.01638475405893175, 0.9709886705656826, 0.9307421491609777, 0.9780584853119294, 0.26283633819918717, 0.7227999300477648, 0.9942642618234839, 0.9981846723601916, 0.2029866406644773, 0.7958365118115222, 0.9702360994256032, 0.08497510783957536, 0.8749288881259982, 0.009441678648841706, 0.03147226216280569, 0.9987052247385565, 0.9938033291095032, 0.944143934120808, 0.05489208919307023, 0.9931654671861624, 0.9667497722100605, 0.9513932734220607, 0.9251099740850487, 0.015281718752093186, 0.05857992188302388, 0.00028299479170542936, 0.00028299479170542936, 0.9932111858198268, 0.9891751959565709, 0.9971840667031739, 0.9881944112803692, 0.11465253318169033, 0.8885571321581001, 0.9455392558179793, 0.4460614175191347, 0.04238278266147542, 0.2438747002324241, 0.2661082911368047, 0.0006947997157618921, 0.997167732216146, 0.9832335239226856, 0.8959567559442277, 0.10164215298526953, 0.8852577288790565, 0.9928084066894374, 0.9746984713996222, 0.02515350893934509, 0.9827294755611703, 0.013400856484925049, 0.988261402906017, 0.17230478618429107, 0.05583951404120544, 0.5807309460285366, 0.17549561555807425, 0.012763317495132672, 0.09421226686567126, 0.9044377619104441, 0.9825656336305623, 0.8136270785161404, 0.7586032402814087, 0.13387116004966035, 0.0892474400331069, 0.3646517549729344, 0.24503054434689242, 0.013505620554553125, 0.37622800116255134, 0.8576689922026498, 0.05602404994207431, 0.0767483936198335, 0.0029606205253941706, 0.00478254084871366, 0.0018219203233194898, 0.1510464796311727, 0.6911886907922463, 0.066460451037716, 0.07491905389706167, 0.015708833881641963, 0.2420029698136787, 0.6804835982879678, 0.05151548367320883, 0.02156462107250602, 0.0035941035120843367, 0.7804012120133389, 0.938347910240036, 0.059767382817836695, 0.9207094624007374, 0.9960984088845382, 0.33089061125051483, 0.0746125888113906, 0.5936566848906295, 0.9903239192152349, 0.5446726637539688, 0.03683776469833606, 0.4052154116816966, 0.01315634453512002, 0.9925236829030425, 0.958422937518258, 0.8037349866686088, 0.6418274535570931, 0.026709086970219512, 0.22743192238277826, 0.03318401714481818, 0.03804021477576718, 0.03156528460116852, 0.08719469366049554, 0.9095603338702672, 0.001709699875695991, 0.8637533708155696, 0.08072852327719367, 0.032207752810072085, 0.018822712681210958, 0.004601107544296012, 0.9747777840001985, 0.12005787415498703, 0.8644166939159066, 0.5595571901384275, 0.13674457801062367, 0.16880042864219422, 0.05924245812923162, 0.07303864700864172, 0.002840391828113845, 0.9943724102133901, 0.9929669923634246, 0.9134415205402827, 0.9790807715665938, 0.9949271844628099, 0.004247007902638283, 0.19960937142399932, 0.7941904777933589, 0.3537415276800106, 0.04614019926261008, 0.584442523993061, 0.8709790770853754, 0.9797440806972252, 0.8802575538319551, 0.7828632302770027, 0.021158465683162233, 0.1904261911484601, 0.9626779099669293, 0.3911077430277439, 0.38499668454293545, 0.04888846787846799, 0.11611011121136147, 0.006111058484808499, 0.04888846787846799, 0.9584210314754958, 0.0034902441058830874, 0.0279219528470647, 0.004188292927059705, 0.00558439056941294, 0.0006980488211766175, 0.9829364691452223, 0.3105384592268092, 0.6883602512860938, 0.9466469424394366, 0.3437097173554652, 0.1523661633637629, 0.3047323267275258, 0.021260394887966917, 0.17716995739972433, 0.20969661553130833, 0.7863623082424063, 0.9964647096016361, 0.07400512144547425, 0.8798386660739715, 0.02466837381515808, 0.00822279127171936, 0.9898485946544594, 0.8362817674612423, 0.9464024763576503, 0.748608974405363, 0.24803309392948772, 0.992047491581834, 0.005723350912972119, 0.9946199602679565, 0.9833737184269854, 0.10211703203043122, 0.03829388701141171, 0.18721455872245726, 0.6680155845324043, 0.991838341223609, 0.9933689828781752, 0.9247036702356104, 0.9973757463304568, 0.9975853605045831, 0.9598108624941786, 0.9979618883936724, 0.9759934296656284, 0.965471482826726, 0.008387726645499678, 0.02030712766805185, 0.004856052268447182, 0.918203441409009, 0.3210503030080865, 0.36691463200924174, 0.2751859740069313, 0.9252915387974733, 0.6271201062334211, 0.36460471292640756, 0.9979327013977026, 0.40066657297377245, 0.2765435415388799, 0.07717494182480368, 0.11383303919158544, 0.12991115207175288, 0.0012862490304133948, 0.9897072185750785, 0.9828062194933154, 0.9965159257131183, 0.06723123050718745, 0.018762203862470916, 0.6770028560374922, 0.07035826448426594, 0.06723123050718745, 0.07973936641550139, 0.018762203862470916, 0.009737727809458623, 0.42846002361617946, 0.5550504851391416, 0.9729135095204133, 0.6793930906518189, 0.2821858435212972, 0.0005112062382632196, 0.03731805539321503, 0.9235161551477344, 0.9673409217220363, 0.10700866365529933, 0.30573903901514093, 0.3515998948674121, 0.22930427926135571, 0.9003220808138852, 0.6826208882001451, 0.01889869568660424, 0.26987337440470854, 0.001511895654928339, 0.026458173961245935, 0.5630136944637232, 0.24912110374501029, 0.1843496167713076, 0.02859606325324873, 0.9579681189838324, 0.5379618937036882, 0.14822703009412785, 0.09966989954605149, 0.20700671444179924, 0.007666915349696268, 0.9154242784620849, 0.9681771211422984, 0.9647333580057784, 0.9986242394200106, 0.06496041596844836, 0.909445823558277, 0.24035757099007393, 0.48837871670736765, 0.06618541809871602, 0.188802613734232, 0.015327149454439498, 0.9230133203126127, 0.3162191159300664, 0.6443710286876825, 0.02983199206887419, 0.9271647489227257, 0.9727115030249497, 0.9653173265551814, 0.9664688749743467, 0.8927688104565887, 0.40877983742767543, 0.250030385999452, 0.28178027628509666, 0.059531044285583805, 0.9942370900553804, 0.9082477702407112, 0.9939085685713512, 0.2094226523849001, 0.698075507949667, 0.9974817212704552, 0.9863514432230033, 0.9648677702089894, 0.9932157813532781, 0.9939289261198865, 0.9509388247128044, 0.9863789639690791, 0.9984109117350247, 0.9766619541521702, 0.8693652940507617, 0.8384428200221034, 0.8025697876522754, 0.5452036100709903, 0.09400062242603281, 0.13630090251774757, 0.2209014627011771, 0.5492342366804458, 0.1335975170303787, 0.3117275397375503, 0.9705368312014374, 0.9911577494385005, 0.9781837045636753, 0.9100414541438733, 0.9446067234018513, 0.9824510166018121, 0.9806738974869466, 0.995798145067409, 0.9953146460539283, 0.9916545347657811, 0.5143085452608288, 0.34877249385356257, 0.0927400769932275, 0.04412632695645502, 0.9912552008537795, 0.010548057037727467, 0.013185071297159333, 0.118665641674434, 0.8332965059804698, 0.023733128334886798, 0.4545703033184385, 0.4958948763473875, 0.8981047115126237, 0.992343622082453, 0.9676826638057991, 0.9014886915443039, 0.8643871516364684, 0.040518147732959454, 0.09454234471023873, 0.9617940704729684, 0.9758991409933765, 0.9815317551517371, 0.35379095931560123, 0.11172346083650565, 0.5325484966540103, 0.35419645959722007, 0.15526420146727454, 0.03396404407096631, 0.019408025183409318, 0.20863627072165017, 0.22319228960920717, 0.9756396129951169, 0.9364933702076275, 0.9865855316872749, 0.9306001969398597, 0.9653674371490902, 0.029703613450741236, 0.8073688658525093, 0.18838606869891883, 0.3664067184459617, 0.5862507495135387, 0.9812803869727817, 0.7159421167843483, 0.06711957344853266, 0.20135872034559796, 0.15079059317373456, 0.036009693892235115, 0.8124687184435548, 0.9969639194360694, 0.07930945910564623, 0.9143914108650977, 0.9897426193784344, 0.004758377977780935, 0.9622545779569988, 0.9961919782406362, 0.4329663770019585, 0.5441586029465073, 0.022362682312870166, 0.9970332862345012, 0.6307934673090106, 0.3485963898286638, 0.8686504351887183, 0.017842549479552054, 0.04131958826843633, 0.011268978618664454, 0.060101219299543755, 0.9825539960664336, 0.9954718162759473, 0.03956876784585367, 0.06594794640975611, 0.883702481890732, 0.009892191961463417, 0.9916451023738495, 0.3792001815565626, 0.47533543885259255, 0.14420288594404493, 0.7817022455268888, 0.21277102540968573, 0.36014212705238335, 0.6302487223416708, 0.9970319858340578, 0.48915734693497437, 0.04280126785681026, 0.05401112372407009, 0.03770587882623761, 0.2578266849469761, 0.01324801147948889, 0.03159141198955043, 0.07133544642801709, 0.0030572334183435897, 0.9696235783723031, 0.9825531289725296, 0.9618891604047745, 0.3256179654587134, 0.6512359309174268, 0.0019376084969892362, 0.9901179419614996, 0.005812825490967708, 0.9663162361489851, 0.10747569618590642, 0.8060677213942982, 0.08060677213942982, 0.9920445355379262, 0.006783210499404623, 0.9700325183616323, 0.5607640591608903, 0.28376012632237824, 0.004504128989244099, 0.14413212765581115, 0.004504128989244099, 0.47360461909915536, 0.5182843001462455, 0.9959798109273728, 0.9697571056804745, 0.9984831616320482, 0.956966824186608, 0.1121691718440921, 0.8836742074546768, 0.9101552994490696, 0.038349240145325966, 0.03238380278938637, 0.018748517404381583, 0.01742045212532893, 0.9755453190184201, 0.9632194301885239, 0.9764156861072321, 0.15973087664578334, 0.07099150073145927, 0.7720325704546195, 0.062095887080270376, 0.9102692537903271, 0.026814133057389482, 0.9913081765161356, 0.09196839994049426, 0.8966918994198191, 0.8614573121173501, 0.011321667459807064, 0.15095556613076086, 0.8302556137191847, 0.007547778306538043, 0.004964719860619597, 0.21596531393695245, 0.0037235398954646977, 0.7744962982566571, 0.0012411799651548992, 0.9910969610648372, 0.9839481380136078, 0.10902092740032791, 0.8721674192026233, 0.9839263172998468, 0.8482994444796407, 0.9187631648864073, 0.05675757003159273, 0.02483143688882182, 0.9930167101213864, 0.8351340759201431, 0.11928631719141325, 0.8707901154973167, 0.8754549669571836, 0.6531356472733175, 0.18610854465314963, 0.06320667554257912, 0.03511481974587729, 0.06671815751716685, 0.5789857040181772, 0.262473519154907, 0.1543961877381806, 0.9959491886677602, 0.16006291037432413, 0.8003145518716206, 0.9279855156669414, 0.0638493708174315, 0.007438761648632797, 0.0006198968040527331, 0.9956785879422146, 0.2345842773787015, 0.7506696876118448, 0.9630677672536737, 0.9312913742862503, 0.984281908383955, 0.9312773164422122, 0.9439944220159312, 0.06020349286163383, 0.9401006962239744, 0.9928653806342908, 0.20863846344391543, 0.7906299667348374, 0.1242882002811952, 0.46032666770813035, 0.24397313388530908, 0.018413066708325213, 0.151907800343683, 0.9092052458014026, 0.08075993796218583, 0.2826597828676504, 0.6258895192069402, 0.1412545580290797, 0.2870657147042588, 0.27795251741206006, 0.08201877562978822, 0.1093583675063843, 0.10252346953723528, 0.7655100763693645, 0.7726350216173573, 0.1817964756746723, 0.9986901935599858, 0.9827114750954553, 0.781961229366017, 0.9900746610329955, 0.9486728182765555, 0.9920741047960798, 0.9908066031282186, 0.5059566821067449, 0.0258141164340176, 0.22135604842170092, 0.18973375579002935, 0.05679105615483872, 0.04675616901697577, 0.0181829546177128, 0.9351233803395154, 0.996550925894625, 0.2405448774475846, 0.10612274005040498, 0.12734728806048598, 0.5235388509153311, 0.2908957736565047, 0.7021622122743217, 0.8682545260631231, 0.9782408659896085, 0.12544638595727034, 0.7969535107873645, 0.03542015603499398, 0.041323515374159646, 0.9444838412003267, 0.9384826590050069, 0.736752298925662, 0.1250451149552729, 0.1351839080597545, 0.9325106206227276, 0.8780509330354286, 0.11933571376359228, 0.835349996345146, 0.3564062346755459, 0.5816116922599042, 0.008115511985021919, 0.024346535955065755, 0.029080584612995206, 0.06713623175593264, 0.8727710128271244, 0.004475748783728843, 0.05370898540474612, 0.19030219313119645, 0.7544122656272431, 0.04757554828279911, 0.9874558432441765, 0.9893790747665359, 0.9964808967680445, 0.9835948876543334, 0.9798240135840826, 0.1070230609267539, 0.8561844874140312, 0.8866684070490813, 0.9725915122709163, 0.019950595123505974, 0.16962819646396923, 0.7470858865540773, 0.06857310069820033, 0.010827331689189526, 0.9658779181556045, 0.4460061915457575, 0.2186304860518419, 0.10202756015752623, 0.005830146294715784, 0.19530990087297878, 0.017490438884147353, 0.014575365736789461, 0.9909816324435263, 0.9974824852116806, 0.9915891585938247, 0.006418052806432522, 0.985756598724637, 0.9983208975465199, 0.9748452865553914, 0.9911482601595601, 0.9944566473305784, 0.9962272330263673, 0.986025994405576, 0.3329105415592397, 0.14207010372273288, 0.0720952765160137, 0.16645527077961986, 0.28626065675476026, 0.03415921108282366, 0.9607278117044155, 0.9978944698545952, 0.014151489864448303, 0.9858871272232318, 0.9892872787477788, 0.004320031784924798, 0.005760042379899731, 0.0014400105949749329, 0.9243276302322396, 0.0009548839155291732, 0.055383267100692045, 0.0009548839155291732, 0.019097678310583465, 0.8590985169643639, 0.9753309292535771, 0.5821100397981466, 0.12210113029912344, 0.04827253988569996, 0.21864621007052334, 0.005679122339494113, 0.022716489357976453, 0.8394192982085866, 0.2069797260407645, 0.7695400070746372, 0.023351558835368304, 0.09156829068143521, 0.9156829068143522, 0.9925300502746779, 0.5706797737623615, 0.28683381299050625, 0.14042905427660204, 0.9991646544241992, 0.9507824535501596, 0.970629701322882, 0.8350895216082458, 0.16183905457524142, 0.27295259546596373, 0.5848984188556365, 0.14297516905360003, 0.9919695499584004, 0.9600512609834205, 0.965285913973415, 0.9957209399789462, 0.8275520949406915, 0.0590702936676952, 0.04316675306485419, 0.04941457258739887, 0.019311442160592662, 0.0005679835929586078, 0.9758839431951062, 0.9716317067650315, 0.8411463720878082, 0.9893866258368899, 0.6934657425957435, 0.2971996039696043, 0.9932551295140393, 0.006201384783646447, 0.9927119963571904, 0.9948100796729419, 0.9905470336876159, 0.005105912544781525, 0.9263110249260604, 0.07273776260062725, 0.919087182973564, 0.0054241210798439835, 0.07352697463788511, 0.0018080403599479947, 0.958808987208592, 0.993995676357428, 0.9608190535500709, 0.028846761422981346, 0.006656944943764926, 0.0022189816479216418, 0.9970710563669598, 0.0038056147189578617, 0.1408239301849323, 0.8212258665521315, 0.037058928996034815, 0.17673826139461915, 0.8220654658289194, 0.9549754040523281, 0.02652709455700911, 0.9729023122265372, 0.9793575971576642, 0.0763334812814602, 0.9236351235056683, 0.9964140213352303, 0.8642849494526439, 0.8709790770853754, 0.12115572657069687, 0.06461638750437167, 0.7168380488766232, 0.09692458125655751, 0.9066076923811486, 0.1692875599810545, 0.0377641479957737, 0.11719907998688389, 0.6745458159245095, 0.008663800083837119, 0.9530180092220831, 0.02382545023055208, 0.012995700125755679, 0.9927392994392912, 0.04845409647669267, 0.2664975306218097, 0.09690819295338533, 0.581449157720312, 0.006056762059586583, 0.9909930595571714, 0.9604870562087223, 0.0903010557602967, 0.848829924146789, 0.05418063345617802, 0.8903736882905181, 0.05935824588603454, 0.754459496020469, 0.028753220229446208, 0.17877002142655685, 0.0368791302942897, 0.000625070004987961, 0.9596835419444236, 0.45459822851148396, 0.27946612408492866, 0.05961943980478478, 0.02980971990239239, 0.17140588943875623, 0.0037262149877990485, 0.9593974368394625, 0.023984935920986564, 0.015989957280657708, 0.9661680826477503, 0.9922725951173088, 0.9947477297265312, 0.9857793718835164, 0.3622718264459356, 0.2452301594403256, 0.13933531786382136, 0.2508035721548785, 0.9867389361921217, 0.8609072828836796, 0.0998390575207309, 0.02700564670642721, 0.012275293957466914, 0.972469470489481, 0.9556968302831986, 0.973720177258685, 0.2499385628102694, 0.7359302127191266, 0.9662671609686986, 0.9181559526060464, 0.18203700933052316, 0.6618964727018002, 0.13002643523608798, 0.026624460548341822, 0.7800321357359823, 0.0019134067107178636, 0.18687605541344465, 0.008929231316683363, 0.021685276054802454, 0.0006378022369059545, 0.9883137725324816, 0.04005924786117457, 0.5047465230507996, 0.4566754256173901, 0.9938706770404345, 0.004809051663098877, 0.9963676101411342, 0.9817549320540929, 0.9950433924290416, 0.9597708503558409, 0.9915752135941546, 0.9561395556311407, 0.8452782753624588, 0.12916414394831752, 0.02460269408539381, 0.8836481190331773, 0.9892108485783219, 0.0050213748658798065, 0.9466509381410678, 0.02743915762727733, 0.024009262923867663, 0.9487179771537874, 0.05024735818468987, 0.8548463116790893, 0.06489217953029525, 0.0008652290604039365, 0.07960107355716216, 0.9310165640179389, 0.045034661271425615, 0.013510398381427684, 0.010207856554856473, 0.024964098743875885, 0.10734562459866631, 0.27959790593140993, 0.13480613321692977, 0.42189326877150246, 0.027460508618263473, 0.974519015899418, 0.9879610197394947, 0.01105101811789144, 0.9974173805474947, 0.25937325103908926, 0.1971706161745113, 0.4248557324712684, 0.11149528890820579, 0.005868173100431884, 0.3600835481823753, 0.6254082678957045, 0.7338967823688859, 0.06704294601421004, 0.16447869422152864, 0.015643354069982345, 0.018772024883978812, 0.9742442281069955, 0.9652397573127914, 0.9076887495126298, 0.2955913805209431, 0.7035074856398446, 0.19173625156568927, 0.6827244097806319, 0.12364300334609869, 0.9977226518086278, 0.9552698335072767, 0.9829665292471625, 0.007679426009743457, 0.707158021395063, 0.9884591117628835, 0.008595296624025073, 0.4955614326460109, 0.11211061918876968, 0.1218593686834453, 0.27134019426847156, 0.22955045599014448, 0.7691953876160982, 0.9856954552094763, 0.9760452022483599, 0.9975742914876565, 0.9232466106361779, 0.9610532830749824, 0.998625212295199, 0.9933913816840652, 0.9423080539044675, 0.8293837261492499, 0.1244075589223875, 0.054251311908817136, 0.01582329930673833, 0.9087094744726871, 0.020344241965806427, 0.902611535201074, 0.004866221252632613, 0.9927091355370531, 0.0024331106263163066, 0.04061616956455293, 0.9240178575935792, 0.0304621271734147, 0.027442038311163295, 0.36955278259033236, 0.045736730518605495, 0.031100976752651735, 0.49212722038019513, 0.01646522298669798, 0.010976815324465318, 0.005488407662232659, 0.9964041817333901, 0.5221948263150179, 0.35230102567980937, 0.014919852180429084, 0.10973310635928488, 0.9978590249694935, 0.27245979524432756, 0.6639501222787622, 0.06333734719106612, 0.35661436770863675, 0.6419058618755462, 0.513995621179219, 0.4711626527476174, 0.9915294471782191, 0.9848928018103017, 0.044238813492601003, 0.9506200852828681, 0.004115238464428001, 0.9942965106545758, 0.9869415841444783, 0.9430033532026479, 0.011894210473712127, 0.967395785195253, 0.009911842061426772, 0.009911842061426772, 0.4689599231984844, 0.3751679385587875, 0.14068797695954532, 0.9332014892957944, 0.3233711161466778, 0.4077287986197242, 0.2671326611646469, 0.9806960048014333, 0.9282129474438555, 0.9921560693260073, 0.8459348346127582, 0.6801456788470839, 0.13602913576941678, 0.004122095023315659, 0.1731279909792577, 0.966921504214191, 0.9714910538163365, 0.8937132953083189, 0.05257137031225405, 0.9549444408439952, 0.980401721960443, 0.8434562603017945, 0.09521285207898508, 0.06081658614469204, 0.8229049041852773, 0.98054692653487, 0.1484841110156257, 0.675602705121097, 0.12621149436328186, 0.037121027753906424, 0.026019662355241138, 0.5360050445179674, 0.4371303275680511, 0.22286386631170976, 0.7354507588286422, 0.022286386631170975, 0.08334556761025601, 0.3929148187340641, 0.523886424978752, 0.6306633025765245, 0.10104946098101131, 0.20424891049353347, 0.025799862378130544, 0.0372664678795219, 0.06063827414964225, 0.7503986426018228, 0.18797864986389096, 0.9969806171100287, 0.9957832402414714, 0.9706665277097624, 0.028549015520875364, 0.9990159325085328, 0.9022447158759505, 0.9630254551350894, 0.5846111964021704, 0.08351588520031006, 0.32213270005833883, 0.9588623226655651, 0.9965611381650958, 0.975353374807451, 0.9827731066474423, 0.0126809433115799, 0.9976216925177093, 0.9960962320532587, 0.33110059164787703, 0.17871906935538817, 0.07336888110379093, 0.005643760084906995, 0.4082319794749393, 0.9943804366370422, 0.9363791993313241, 0.9148034839810859, 0.0528827839838916, 0.028982512780782153, 0.0017856524462093269, 0.0008241472828658432, 0.0006867894023882027, 0.9967968659579319, 0.9597046565571797, 0.9958328615978925, 0.9335878329076032, 0.36938088607030456, 0.16233937031115298, 0.10940261912273352, 0.33879520760588444, 0.017645583729473148, 0.29116015073513235, 0.11378672557464943, 0.030120015593289556, 0.5622402910747384, 0.5087179319904463, 0.3497435782434319, 0.07630768979856696, 0.06177289174169706, 0.0018168497571087372, 0.0009084248785543686, 0.13244538843088874, 0.7946723305853325, 0.0529781553723555, 0.1017096255027004, 0.6992536753310652, 0.20024082520844141], \"Term\": [\"\\\"freedom\", \"\\\"gun\", \"\\\"skepticism\", \"\\\"the\", \"\\\"the\", \"\\\"the\", \"\\\"the\", \"\\\"the\", \"(1st\", \"(205)\", \"(david\", \"(frank\", \"(pp)\", \"(pp)\", \"(read:\", \"*******\", \"*******\", \"*are*\", \"----\", \"----\", \"------\", \"------\", \"----------\", \"----------\", \"----------\", \"---------------\", \"---------------\", \"--------------------------------------------------------------------\", \"--------------------------------------------------------------------\", \"----------------------------------------------------------------------\", \"----------------------------------------------------------------------\", \"------------------------------------------------------------------------\", \"----------------------------------------------------------------------------\", \"--------------------------------------------------------------------------------\", \"...uunet!ingr!b30!catbyte!dtmedin\", \"0.10\", \"16-bit\", \"16-bit\", \"1914,\", \"1980\", \"1982\", \"1988\", \"1988\", \"1993\", \"1993\", \"1993\", \"1993\", \"1993\", \"1993\", \"1993\", \"24-bit\", \"2400\", \"256k\", \"3.5\\\"\", \"35894\", \"5.00\", \"5.25\\\"\", \"512k\", \"55.0\", \"64-bit\", \"640x480\", \"730-3169\", \"837-1174\", \"==================================================================\", \"[kk]\", \"_______________________________________________________________________________\", \"accelerators\", \"accident,\", \"accidental\", \"actually\", \"actually\", \"actually\", \"actually,\", \"actually,\", \"adams\", \"adams\", \"adams\", \"adams\", \"adapter,\", \"adjective\", \"administration\", \"advice\", \"aerospace\", \"afternoon\", \"afternoon\", \"agencies\", \"aids\", \"alan\", \"alomar\", \"also\", \"also\", \"also\", \"also\", \"also\", \"also\", \"amendment\", \"american\", \"american\", \"american\", \"american\", \"ames\", \"among\", \"among\", \"among\", \"among\", \"among\", \"among\", \"anecdotal\", \"anecdotal\", \"animals\", \"ankara\", \"annual\", \"anonymous\", \"anonymous\", \"answer:\", \"answering\", \"answering\", \"anti-gun\", \"antibiotic\", \"anyone\", \"anyone\", \"anything\", \"anything\", \"anything\", \"apartment\", \"apple\", \"apple\", \"apple\", \"application\", \"application\", \"applications\", \"apps\", \"april\", \"april\", \"april\", \"april\", \"april\", \"april\", \"april\", \"april\", \"april\", \"april\", \"april\", \"arab\", \"arabs\", \"argic\", \"ariane\", \"armenia\", \"armenia\", \"armenian\", \"armenian\", \"armenians\", \"armenians\", \"asking\", \"asking\", \"asking\", \"asking\", \"assault\", \"assault\", \"assault\", \"assuming\", \"assuming\", \"astronomical\", \"astronomy\", \"astros\", \"asynchronous\", \"atheism\", \"atheist\", \"atheists\", \"atlanta\", \"atlanta\", \"aunt\", \"austria\", \"available\", \"available\", \"available\", \"azerbaijan\", \"azerbaijani\", \"azeris\", \"azeris\", \"babies\", \"backup\", \"backup\", \"ball.\", \"banks\", \"banks\", \"banks\", \"bare\", \"baseball\", \"bat.\", \"batf\", \"batf\", \"baud\", \"beach\", \"before.\", \"began\", \"began\", \"belief\", \"belief\", \"beliefs\", \"beliefs\", \"beliefs\", \"believe\", \"believe\", \"believe\", \"believe\", \"better\", \"better\", \"better\", \"better\", \"bible\", \"biblical\", \"bike\", \"bike\", \"bikes.\", \"bios\", \"blatant\", \"bodies\", \"bolt\", \"bolt\", \"bombing\", \"bone\", \"book\", \"book\", \"book\", \"book\", \"book\", \"boot\", \"boot\", \"boots\", \"borland\", \"boston\", \"breaker\", \"brilliant\", \"brought\", \"brought\", \"btw,\", \"bullpen\", \"burned\", \"burning\", \"burst\", \"burst\", \"buying\", \"cable\", \"cable\", \"cable\", \"cable\", \"cables\", \"cables\", \"cables\", \"calgary\", \"came\", \"came\", \"came\", \"came\", \"came\", \"campbell\", \"can't\", \"can't\", \"can't\", \"can't\", \"canadiens\", \"cancer\", \"candida\", \"cannot\", \"cannot\", \"cannot\", \"cannot\", \"cannot\", \"cape\", \"capitalist\", \"captain\", \"card\", \"card\", \"card.\", \"carson\", \"catholic\", \"cd's\", \"center\", \"center\", \"center\", \"center\", \"center\", \"center\", \"center\", \"centers\", \"centers\", \"centris\", \"chain\", \"chain\", \"chain\", \"chain\", \"char\", \"chastity\", \"cheers,\", \"cheers,\", \"cheers,\", \"chemistry\", \"chemistry\", \"chest\", \"chicago\", \"chicken\", \"children\", \"children\", \"children\", \"children.\", \"chip\", \"chip\", \"chip\", \"chip\", \"chips\", \"chips\", \"chips\", \"chips\", \"chipset\", \"christ\", \"christian\", \"christian\", \"christianity\", \"christians\", \"christians.\", \"chronic\", \"church\", \"church.\", \"cica\", \"cincinnati\", \"ciphertext\", \"citizens\", \"civic\", \"civil\", \"civil\", \"cleveland\", \"client\", \"clinical\", \"clinton's\", \"clipper\", \"clone\", \"close.\", \"code\", \"code\", \"code\", \"code\", \"color\", \"color\", \"combat\", \"come\", \"come\", \"come\", \"come\", \"come\", \"command,\", \"comments:\", \"comments:\", \"commercial\", \"commercial\", \"commercial\", \"commercial\", \"committee.\", \"committee.\", \"compensate\", \"compiling\", \"computer\", \"computer\", \"computer\", \"computer\", \"computer\", \"condition\", \"condition\", \"condition\", \"condition.\", \"condition.\", \"conductor\", \"conductor\", \"conference\", \"conference\", \"conference\", \"config.sys\", \"conflict.\", \"congress\", \"connected\", \"connected\", \"connected\", \"connecting\", \"connector\", \"connector\", \"considering\", \"constitution\", \"contacts\", \"contacts\", \"control\", \"control\", \"control\", \"control\", \"control\", \"control\", \"controller\", \"controller,\", \"controllers\", \"cool\", \"cool\", \"cool\", \"copies)\", \"corn\", \"could\", \"could\", \"could\", \"could\", \"could\", \"countersteering\", \"countries\", \"countries\", \"court\", \"coverage.\", \"creed\", \"crime\", \"crime\", \"crime\", \"crisis\", \"crisis\", \"crypto\", \"cryptography\", \"cyprus\", \"data\", \"data\", \"data\", \"data\", \"data\", \"date:\", \"date:\", \"date:\", \"date:\", \"daughter\", \"david\", \"david\", \"david\", \"david\", \"david\", \"david\", \"david\", \"david\", \"dead\", \"dead\", \"dead\", \"dead\", \"deciding\", \"deciding\", \"defending\", \"defending\", \"defending\", \"defending\", \"definitions\", \"definitions\", \"denis\", \"denver\", \"dept\", \"dept\", \"dept\", \"designated\", \"designated\", \"desired.\", \"detector\", \"detectors\", \"detroit\", \"device.\", \"devils\", \"devils\", \"devils\", \"didn't.\", \"difference\", \"difference,\", \"difference,\", \"directory\", \"disease\", \"disease\", \"disease,\", \"diseases\", \"diseases,\", \"disk\", \"disk\", \"disk,\", \"disk,\", \"disks\", \"disks\", \"display\", \"display\", \"display.\", \"display.\", \"distribution:\", \"divine\", \"division\", \"division\", \"division\", \"division\", \"doctor\", \"doctor\", \"documentation.\", \"dodgers\", \"does,\", \"does,\", \"does,\", \"does,\", \"dos.\", \"doses\", \"doubled\", \"draft.\", \"drag\", \"drag\", \"drag\", \"drive\", \"drive\", \"drive\", \"drive\", \"drive,\", \"drive,\", \"drive.\", \"driver,\", \"driver.\", \"drives\", \"drives,\", \"drives.\", \"dtmedin@catbyte.b30.ingr.com\", \"earth\", \"earth\", \"earth\", \"earth\", \"earth\", \"electrical\", \"electrical\", \"electrical\", \"electrical\", \"electrical\", \"else's\", \"else's\", \"email\", \"email\", \"email\", \"empirical\", \"encrypted\", \"encryption\", \"enforcement\", \"england\", \"england\", \"england\", \"enjoy\", \"entries\", \"entry\", \"entry\", \"environment,\", \"ermeni\", \"escrow\", \"esdi\", \"eternal\", \"even\", \"even\", \"even\", \"even\", \"even\", \"even\", \"everytime\", \"everywhere\", \"everywhere\", \"everywhere\", \"everywhere\", \"evidence\", \"evidence\", \"evidence\", \"evidence\", \"evidence\", \"excellent\", \"excellent\", \"excellent\", \"excellent\", \"exists,\", \"exit\", \"exit\", \"experiences\", \"experiences\", \"experiences\", \"exploration\", \"external\", \"external\", \"external\", \"facing\", \"faith\", \"fallacy\", \"familiar\", \"fans\", \"federal\", \"fighting\", \"file\", \"file:\", \"files\", \"files\", \"financial\", \"find\", \"find\", \"find\", \"find\", \"find\", \"fire\", \"firearm\", \"firearms\", \"firearms,\", \"firearms.\", \"first\", \"first\", \"first\", \"first\", \"first\", \"first\", \"first\", \"first\", \"fixes\", \"fleet\", \"flight\", \"flight\", \"flight\", \"flood\", \"floppies\", \"floppy\", \"folks\", \"following\", \"following\", \"following\", \"following\", \"following\", \"following\", \"font\", \"food\", \"foot\", \"football,\", \"for?\", \"for?\", \"format\", \"formats.\", \"forum\", \"forum\", \"forwards\", \"found\", \"found\", \"found\", \"found\", \"francis\", \"francisco\", \"francisco\", \"francisco\", \"friday,\", \"from:\", \"from:\", \"from:\", \"from:\", \"functions\", \"game\", \"game\", \"game\", \"game\", \"game,\", \"game.\", \"games\", \"games\", \"games,\", \"games.\", \"gang\", \"gd3004\", \"geb@cadre.dsl.pitt.edu\", \"gender\", \"generated,\", \"genetic\", \"genocide\", \"german\", \"german\", \"german\", \"german\", \"germany\", \"germany\", \"germany\", \"germany\", \"getting\", \"getting\", \"getting\", \"getting\", \"ghetto\", \"ghost\", \"giants\", \"giants\", \"gladly\", \"god's\", \"god,\", \"god,\", \"god.\", \"goes:\", \"going\", \"going\", \"going\", \"going\", \"good\", \"good\", \"good\", \"good\", \"good\", \"good\", \"gordon\", \"gordon\", \"government\", \"government\", \"government.\", \"graphics\", \"great\", \"great\", \"great\", \"great\", \"great\", \"great\", \"greece\", \"greek\", \"greek\", \"greeks\", \"ground\", \"ground\", \"ground\", \"ground\", \"guess\", \"guess\", \"guess\", \"guns\", \"guns\", \"guns\", \"guns\", \"hair\", \"hair\", \"hair\", \"handgun\", \"handguns\", \"hard\", \"hard\", \"hard\", \"hard\", \"hardware\", \"hardware\", \"hardware\", \"hardware\", \"harley\", \"harris\", \"he's\", \"he's\", \"he's\", \"head\", \"head\", \"head\", \"head\", \"head\", \"heal\", \"health\", \"health\", \"health\", \"health\", \"heck\", \"hemisphere\", \"henrik]\", \"hernandez\", \"hicnet\", \"history,\", \"history,\", \"history,\", \"history,\", \"history,\", \"history,\", \"hockey\", \"holy\", \"holy\", \"home\", \"home\", \"home\", \"home\", \"home\", \"home.\", \"homeland\", \"homer\", \"homicide\", \"homicides\", \"hong\", \"hood\", \"hope\", \"hope\", \"hope\", \"hope\", \"hotel\", \"houston\", \"houston\", \"human\", \"human\", \"human\", \"human\", \"human\", \"humanitarian\", \"huntsville,\", \"huntsville,\", \"i've\", \"i've\", \"i've\", \"icon\", \"icon\", \"ideas?\", \"idle\", \"idle\", \"illness\", \"image\", \"image\", \"image,\", \"imho.\", \"immune\", \"immune\", \"implementing\", \"includes:\", \"incorrect.\", \"infection\", \"infections\", \"infectious\", \"inflated\", \"information\", \"information\", \"information\", \"information\", \"innings\", \"input.\", \"insisted\", \"insulated\", \"insurance\", \"insurance\", \"intellect,\", \"intentional\", \"interested.\", \"interested.\", \"intergraph\", \"internal\", \"internal\", \"internal\", \"internet:\", \"internet:\", \"internet:\", \"internet:\", \"internet:\", \"internet:\", \"invaded\", \"invading\", \"islam\", \"island.\", \"israel\", \"israeli\", \"janet\", \"japanese\", \"japanese\", \"japanese\", \"japanese\", \"jeep\", \"jesus\", \"jesus,\", \"jewish\", \"jewish\", \"jewish\", \"jewish\", \"jews\", \"jews\", \"jews\", \"jmd@handheld.com\", \"jobs\", \"jose\", \"jpeg\", \"judas\", \"judges\", \"jumper\", \"jumpers\", \"june\", \"june\", \"june\", \"june\", \"karabakh\", \"keenan\", \"keller\", \"kent\", \"kent\", \"key.\", \"keyboard\", \"keys\", \"keys\", \"kidney\", \"kill\", \"kill\", \"kill\", \"kill\", \"killed\", \"killing\", \"kind\", \"kind\", \"kings\", \"kirlian\", \"knee\", \"know\", \"know\", \"know\", \"know\", \"know\", \"know.\", \"kong\", \"koresh\", \"kurdish\", \"label\", \"label\", \"laboratories\", \"last\", \"last\", \"last\", \"last\", \"last\", \"launch\", \"launched\", \"laws\", \"laws\", \"lawsuit\", \"leafs\", \"league\", \"league\", \"learn\", \"learn\", \"lebanese\", \"left\", \"left\", \"left\", \"left\", \"left\", \"legal\", \"legal\", \"legislative\", \"lens\", \"liberty\", \"liberty\", \"liberty\", \"life\", \"life\", \"life\", \"life\", \"like\", \"like\", \"like\", \"like\", \"like\", \"like\", \"line\", \"line\", \"line\", \"line\", \"line\", \"list\", \"list\", \"list\", \"list\", \"list\", \"liturgy\", \"lived\", \"lived\", \"lopez\", \"lord\", \"lost\", \"lost\", \"lost\", \"louis\", \"love\", \"love\", \"love\", \"love\", \"lunar\", \"lyme\", \"machines:\", \"made\", \"made\", \"made\", \"made\", \"made\", \"made\", \"mail\", \"mail\", \"mail\", \"make\", \"make\", \"make\", \"make\", \"make\", \"managing\", \"manuals\", \"manuals\", \"many\", \"many\", \"many\", \"many\", \"many\", \"many\", \"mars\", \"mary\", \"mass.\", \"massachusetts\", \"matthew\", \"medical\", \"medical\", \"medical\", \"medicine\", \"medicine\", \"medicine\", \"medin\", \"memory.\", \"messier\", \"metal\", \"metal\", \"metal\", \"methanol\", \"michael\", \"michael\", \"michael\", \"michael\", \"michael\", \"michael\", \"might\", \"might\", \"might\", \"might\", \"might\", \"might\", \"mild\", \"military\", \"military\", \"militia.\", \"million\", \"million\", \"million\", \"million\", \"million\", \"milwaukee\", \"milwaukee\", \"minnesota\", \"mission\", \"mission\", \"mission\", \"mission\", \"missions\", \"mitch\", \"mixing\", \"modem\", \"modem\", \"money\", \"money\", \"montreal\", \"moon\", \"moral\", \"moral\", \"moral\", \"moral\", \"morality\", \"motherboard\", \"motherboard,\", \"motif\", \"motorcycle\", \"mounting\", \"mouse\", \"mouse,\", \"much\", \"much\", \"much\", \"much\", \"multi\", \"muscle\", \"muscle\", \"muscle\", \"muscles\", \"muslim\", \"muslim\", \"muslims\", \"must\", \"must\", \"must\", \"must\", \"must\", \"must\", \"myers:\", \"n3jxp\", \"nasa\", \"national\", \"national\", \"national\", \"national\", \"national\", \"national\", \"national\", \"nazi\", \"nazi\", \"nazi\", \"nazis\", \"need\", \"need\", \"need\", \"need\", \"negotiating\", \"neighborhood\", \"neutral\", \"neutral\", \"neutral\", \"neutral\", \"neutral.\", \"never\", \"never\", \"never\", \"never\", \"never\", \"newsgroup\", \"newsgroup\", \"newsgroup\", \"newsletter\", \"newsletter\", \"next\", \"next\", \"next\", \"next\", \"next\", \"nintendo\", \"nolan\", \"nonsense.\", \"now.\", \"nubus\", \"nubus\", \"number\", \"number\", \"number\", \"number\", \"number\", \"oakland\", \"objective\", \"objective\", \"objective\", \"objective.\", \"observatory\", \"occupying\", \"offense\", \"offense,\", \"offer\", \"offer\", \"offer\", \"offer\", \"offer.\", \"office)\", \"officer\", \"often.\", \"often.\", \"opinions\", \"orbit\", \"orbit.\", \"orbital\", \"os/2\", \"ottawa\", \"ottoman\", \"output\", \"outs\", \"overtime\", \"packard\", \"padded\", \"page\", \"page\", \"page\", \"page\", \"paid\", \"paid\", \"paid\", \"pain,\", \"palestinian\", \"paradox\", \"parliament\", \"passion\", \"patent\", \"patient\", \"patients\", \"paying\", \"payload\", \"people\", \"people\", \"people\", \"people\", \"perfectly\", \"period\", \"period\", \"period\", \"period\", \"period\", \"period:\", \"period:\", \"perpetrated\", \"philadelphia\", \"phillies\", \"philosophy.\", \"phone:\", \"phone:\", \"phone:\", \"photography\", \"physicians\", \"physicist\", \"pick\", \"pick\", \"pick\", \"picture\", \"picture\", \"picture\", \"picture\", \"picture\", \"picture\", \"pitcher\", \"pitchers\", \"pitching\", \"pitt\", \"pittsburgh\", \"pittsburgh\", \"plane\", \"plane\", \"planes\", \"planes\", \"planetary\", \"plastic\", \"plastic\", \"plastic\", \"play\", \"play\", \"play\", \"play:\", \"played\", \"played\", \"player\", \"player\", \"player.\", \"players\", \"please\", \"please\", \"please\", \"please,\", \"plug\", \"plug\", \"point\", \"point\", \"point\", \"point\", \"point\", \"pointer\", \"policy\", \"political\", \"political\", \"political\", \"political\", \"pope\", \"population\", \"population\", \"population\", \"port\", \"port\", \"ports\", \"ports\", \"postscript\", \"power\", \"power\", \"power\", \"power\", \"power\", \"power\", \"power\", \"power\", \"power\", \"powerbook\", \"powerpc\", \"prediction\", \"present.\", \"present.\", \"president\", \"president\", \"president\", \"president's\", \"press,\", \"press,\", \"press,\", \"pretty\", \"pretty\", \"prevention\", \"price\", \"price\", \"price\", \"price\", \"price\", \"prices\", \"prices\", \"printer\", \"printer,\", \"privacy\", \"privacy.\", \"private\", \"private\", \"probably\", \"probably\", \"probably\", \"probably\", \"probe\", \"probe\", \"probes\", \"product.\", \"professor\", \"professor\", \"professor\", \"program\", \"program\", \"program\", \"proposal\", \"propulsion\", \"propulsion\", \"prospects\", \"protect\", \"protect\", \"protect\", \"protect\", \"public\", \"public\", \"public\", \"public\", \"public\", \"puck\", \"quadra\", \"quantum\", \"quantum\", \"quebec\", \"quebec,\", \"question\", \"question\", \"question\", \"question,\", \"quicken\", \"radar\", \"radar\", \"range,\", \"rate\", \"rate\", \"rate\", \"rate\", \"rate\", \"rates\", \"rates\", \"rates\", \"reaction\", \"reality,\", \"reality,\", \"really\", \"really\", \"really\", \"really\", \"reason,\", \"recommendations\", \"recommendations\", \"recovery\", \"rectangle\", \"redesign\", \"reds\", \"relates\", \"religion\", \"religion\", \"religions\", \"religious\", \"religious\", \"reported\", \"reported\", \"reported\", \"reported\", \"reported\", \"reporter\", \"republic\", \"republic\", \"republic\", \"research\", \"research\", \"research\", \"research\", \"research\", \"research\", \"resembles\", \"residents\", \"residents\", \"resource\", \"resources.\", \"restart\", \"resulting\", \"return.\", \"ride\", \"riding\", \"right\", \"right\", \"right\", \"right\", \"right\", \"rights\", \"rights\", \"rights\", \"ripem\", \"robert\", \"robert\", \"robert\", \"robert\", \"rocket\", \"rocket\", \"rosicrucian\", \"rumors\", \"running\", \"running\", \"running\", \"running\", \"russell\", \"russia,\", \"russian\", \"russian\", \"russian\", \"rychel\", \"saab\", \"sabbath\", \"sabbath\", \"said\", \"said\", \"said\", \"said\", \"said\", \"said,\", \"said,\", \"said,\", \"said,\", \"sale\", \"sale\", \"sale\", \"sale.\", \"sale:\", \"satellite\", \"satellites\", \"saturn\", \"saves)\", \"saves)\", \"saying.\", \"says,\", \"says,\", \"school\", \"school\", \"school\", \"school\", \"sci.crypt,\", \"science\", \"science\", \"science\", \"science\", \"science\", \"science\", \"science\", \"scored\", \"scorer\", \"screen\", \"screen\", \"scripture\", \"scsi\", \"scsi-1\", \"scsi-2\", \"season\", \"season.\", \"seattle\", \"second\", \"second\", \"second\", \"second\", \"second\", \"secret\", \"secret\", \"secure\", \"security\", \"security\", \"seem\", \"seem\", \"seem\", \"seem\", \"seems\", \"seems\", \"seems\", \"seems\", \"seems\", \"sega\", \"self-defense\", \"sell\", \"sell\", \"sell\", \"sell\", \"sell\", \"sell\", \"semi\", \"send\", \"send\", \"send\", \"sensing\", \"sensing\", \"serdar\", \"serial\", \"serial\", \"serial\", \"server\", \"set.\", \"shameful\", \"shipping\", \"shipping\", \"shots\", \"shots\", \"shots\", \"shuttle\", \"sides.\", \"simm\", \"simms\", \"since\", \"since\", \"since\", \"since\", \"since\", \"since\", \"skip\", \"slots\", \"slots,\", \"smokeless\", \"smythe\", \"smythe\", \"software\", \"software\", \"solar\", \"soldiers\", \"somebody\", \"somebody\", \"someone\", \"someone\", \"something\", \"something\", \"something\", \"something\", \"soon.\\\"\", \"sorry,\", \"sort\", \"sort\", \"sort\", \"sort\", \"sounds\", \"sounds\", \"source\", \"source\", \"source\", \"space\", \"space\", \"spacecraft\", \"spacecraft\", \"speakers\", \"speedstar\", \"spirit\", \"spirit\", \"sports\", \"spots\", \"ssd--networking\", \"started\", \"started\", \"started\", \"started\", \"starter\", \"state\", \"state\", \"state\", \"state\", \"states\", \"states\", \"states\", \"states\", \"states,\", \"station\", \"station\", \"station\", \"station\", \"station\", \"stats\", \"steep\", \"stephen\", \"stephen\", \"stephen\", \"stewart\", \"stewart\", \"still\", \"still\", \"still\", \"still\", \"still\", \"studies,\", \"study\", \"study\", \"study\", \"study\", \"study\", \"study\", \"subject:\", \"subject:\", \"subject:\", \"suck\", \"suffered\", \"sumgait\", \"summaries\", \"supply\", \"supply\", \"supply\", \"supply\", \"supposedly\", \"sure\", \"sure\", \"sure\", \"sure\", \"surrender\", \"survivors\", \"sustained\", \"swap\", \"swap\", \"syndrome\", \"syrian\", \"system\", \"system\", \"system\", \"system\", \"take\", \"take\", \"take\", \"take\", \"take\", \"take\", \"tanks\", \"tape\", \"tape\", \"tape\", \"team\", \"team\", \"teams\", \"telescope\", \"tend\", \"tension\", \"terminal\", \"terminals\", \"that's\", \"that's\", \"that's\", \"them!\", \"theory\", \"theory\", \"there's\", \"there's\", \"there's\", \"thing\", \"thing\", \"things\", \"things\", \"things\", \"things\", \"think\", \"think\", \"think\", \"think\", \"third\", \"third\", \"third\", \"third\", \"third\", \"third\", \"third.\", \"this.\", \"this.\", \"though,\", \"three\", \"three\", \"three\", \"three\", \"three\", \"tiff\", \"tiff\", \"time\", \"time\", \"time\", \"time\", \"time\", \"tissue\", \"titan\", \"todd\", \"told\", \"told\", \"took\", \"took\", \"took\", \"toronto\", \"toshiba\", \"town\", \"town\", \"transformer\", \"troops\", \"troops\", \"true\", \"true\", \"true\", \"true\", \"truth\", \"truth\", \"truth,\", \"tube\", \"turkey\", \"turkey,\", \"turkey.\", \"turkish\", \"turks\", \"twin\", \"type:\", \"type:\", \"u.s.\", \"u.s.\", \"u.s.\", \"u.s.\", \"understand,\", \"united\", \"united\", \"united\", \"universe\", \"universe\", \"universe\", \"university\", \"university\", \"university\", \"university\", \"university\", \"university\", \"university\", \"university\", \"unix\", \"used\", \"used\", \"used\", \"used\", \"user\", \"using\", \"using\", \"using\", \"uucp:\", \"uucp:\", \"vehicle\", \"vehicle\", \"venus\", \"vernon\", \"version\", \"version\", \"version\", \"versions\", \"victims\", \"victor\", \"video\", \"video\", \"video\", \"video\", \"villages\", \"villages\", \"villages\", \"viola\", \"violent\", \"violent\", \"violent\", \"vitamin\", \"volt\", \"voltage\", \"volts\", \"volume\", \"volume\", \"volume\", \"volume\", \"w4wg\", \"waco\", \"wake\", \"wake\", \"wales\", \"walls\", \"want\", \"want\", \"want\", \"warranty.\", \"warsaw\", \"washington,\", \"washington,\", \"washington,\", \"washington,\", \"water\", \"water\", \"water\", \"wayne\", \"wayne\", \"wayne\", \"weapon\", \"weapon\", \"weapon\", \"well\", \"well\", \"well\", \"well\", \"well\", \"went\", \"went\", \"went\", \"widget\", \"wife\", \"window\", \"window\", \"windows\", \"winmarks\", \"wipe\", \"wire\", \"wire\", \"wire\", \"wires\", \"wiretap\", \"withdraw\", \"woman\", \"woman\", \"women\", \"wondering\", \"word\", \"word\", \"word\", \"word\", \"word\", \"worship\", \"worthless.\", \"would\", \"would\", \"would\", \"would\", \"would\", \"would\", \"x-soviet\", \"x-windows\", \"x11r5\", \"yeah\", \"year\", \"year\", \"year\", \"year\", \"year\", \"year.\", \"year.\", \"year.\", \"year.\", \"years\", \"years\", \"years\", \"years\", \"years\", \"years\", \"york,\", \"york,\", \"york,\", \"young\", \"young\", \"young\"]}, \"R\": 30, \"lambda.step\": 0.01, \"plot.opts\": {\"xlab\": \"PC1\", \"ylab\": \"PC2\"}, \"topic.order\": [18, 7, 15, 2, 19, 6, 12, 4, 11, 9, 1, 16, 3, 5, 10, 13, 8, 14, 17, 20]};\n",
       "\n",
       "function LDAvis_load_lib(url, callback){\n",
       "  var s = document.createElement('script');\n",
       "  s.src = url;\n",
       "  s.async = true;\n",
       "  s.onreadystatechange = s.onload = callback;\n",
       "  s.onerror = function(){console.warn(\"failed to load library \" + url);};\n",
       "  document.getElementsByTagName(\"head\")[0].appendChild(s);\n",
       "}\n",
       "\n",
       "if(typeof(LDAvis) !== \"undefined\"){\n",
       "   // already loaded: just create the visualization\n",
       "   !function(LDAvis){\n",
       "       new LDAvis(\"#\" + \"ldavis_el1681628800774170407536517996\", ldavis_el1681628800774170407536517996_data);\n",
       "   }(LDAvis);\n",
       "}else if(typeof define === \"function\" && define.amd){\n",
       "   // require.js is available: use it to load d3/LDAvis\n",
       "   require.config({paths: {d3: \"https://d3js.org/d3.v5\"}});\n",
       "   require([\"d3\"], function(d3){\n",
       "      window.d3 = d3;\n",
       "      LDAvis_load_lib(\"https://cdn.jsdelivr.net/gh/bmabey/pyLDAvis@3.4.0/pyLDAvis/js/ldavis.v3.0.0.js\", function(){\n",
       "        new LDAvis(\"#\" + \"ldavis_el1681628800774170407536517996\", ldavis_el1681628800774170407536517996_data);\n",
       "      });\n",
       "    });\n",
       "}else{\n",
       "    // require.js not available: dynamically load d3 & LDAvis\n",
       "    LDAvis_load_lib(\"https://d3js.org/d3.v5.js\", function(){\n",
       "         LDAvis_load_lib(\"https://cdn.jsdelivr.net/gh/bmabey/pyLDAvis@3.4.0/pyLDAvis/js/ldavis.v3.0.0.js\", function(){\n",
       "                 new LDAvis(\"#\" + \"ldavis_el1681628800774170407536517996\", ldavis_el1681628800774170407536517996_data);\n",
       "            })\n",
       "         });\n",
       "}\n",
       "</script>"
      ],
      "text/plain": [
       "<IPython.core.display.HTML object>"
      ]
     },
     "execution_count": 35,
     "metadata": {},
     "output_type": "execute_result"
    }
   ],
   "source": [
    "pyLDAvis.enable_notebook()\n",
    "vis = pyLDAvis.gensim_models.prepare(ldamodel, corpus, dictionary)\n",
    "pyLDAvis.display(vis)"
   ]
  },
  {
   "cell_type": "code",
   "execution_count": 36,
   "id": "db4041e5-8fd8-49f1-8fc8-6bb736c065ae",
   "metadata": {
    "tags": []
   },
   "outputs": [
    {
     "name": "stdout",
     "output_type": "stream",
     "text": [
      "0 번째 문서의 topic 비율은 [(1, 0.43423152), (6, 0.03037082), (14, 0.33694622), (17, 0.18623629)]\n",
      "1 번째 문서의 topic 비율은 [(5, 0.11636925), (17, 0.8616335)]\n",
      "2 번째 문서의 topic 비율은 [(1, 0.459273), (14, 0.0248515), (17, 0.4834385), (18, 0.019285263)]\n",
      "3 번째 문서의 topic 비율은 [(1, 0.48739505), (14, 0.029678218), (17, 0.46233174)]\n",
      "4 번째 문서의 topic 비율은 [(0, 0.29811487), (6, 0.078493126), (17, 0.22735545), (18, 0.36638296)]\n"
     ]
    }
   ],
   "source": [
    "for i, topic_list in enumerate(ldamodel[corpus]):\n",
    "    if i==5:\n",
    "        break\n",
    "    print(i,'번째 문서의 topic 비율은',topic_list)"
   ]
  }
 ],
 "metadata": {
  "kernelspec": {
   "display_name": "Python 3 (ipykernel)",
   "language": "python",
   "name": "python3"
  },
  "language_info": {
   "codemirror_mode": {
    "name": "ipython",
    "version": 3
   },
   "file_extension": ".py",
   "mimetype": "text/x-python",
   "name": "python",
   "nbconvert_exporter": "python",
   "pygments_lexer": "ipython3",
   "version": "3.11.4"
  }
 },
 "nbformat": 4,
 "nbformat_minor": 5
}
