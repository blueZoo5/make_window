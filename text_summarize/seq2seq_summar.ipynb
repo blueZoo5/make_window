{
 "cells": [
  {
   "cell_type": "code",
   "execution_count": 1,
   "id": "4aea6fb0-6a12-467b-8483-bd6cb94a6e67",
   "metadata": {
    "tags": []
   },
   "outputs": [
    {
     "name": "stderr",
     "output_type": "stream",
     "text": [
      "C:\\Users\\USER\\anaconda3\\Lib\\site-packages\\pandas\\core\\arrays\\masked.py:60: UserWarning: Pandas requires version '1.3.6' or newer of 'bottleneck' (version '1.3.5' currently installed).\n",
      "  from pandas.core import (\n"
     ]
    }
   ],
   "source": [
    "import numpy as np\n",
    "import pandas as pd\n",
    "import re\n",
    "import matplotlib.pyplot as plt\n",
    "from nltk.corpus import stopwords\n",
    "from bs4 import BeautifulSoup\n",
    "from tensorflow.keras.preprocessing.text import Tokenizer\n",
    "from tensorflow.keras.preprocessing.sequence import pad_sequences\n",
    "import urllib.request\n",
    "np.random.seed(seed=0)"
   ]
  },
  {
   "cell_type": "code",
   "execution_count": 2,
   "id": "8887391c-9075-44f3-858c-3398cf5d334c",
   "metadata": {
    "tags": []
   },
   "outputs": [
    {
     "name": "stdout",
     "output_type": "stream",
     "text": [
      "전체 리뷰 개수 : 100000\n"
     ]
    }
   ],
   "source": [
    "data = pd.read_csv(\"Reviews.csv\", nrows = 100000)\n",
    "print('전체 리뷰 개수 :',(len(data)))"
   ]
  },
  {
   "cell_type": "code",
   "execution_count": 3,
   "id": "72902918-1a22-4037-8d97-71877fe2c9cd",
   "metadata": {
    "tags": []
   },
   "outputs": [
    {
     "data": {
      "text/html": [
       "<div>\n",
       "<style scoped>\n",
       "    .dataframe tbody tr th:only-of-type {\n",
       "        vertical-align: middle;\n",
       "    }\n",
       "\n",
       "    .dataframe tbody tr th {\n",
       "        vertical-align: top;\n",
       "    }\n",
       "\n",
       "    .dataframe thead th {\n",
       "        text-align: right;\n",
       "    }\n",
       "</style>\n",
       "<table border=\"1\" class=\"dataframe\">\n",
       "  <thead>\n",
       "    <tr style=\"text-align: right;\">\n",
       "      <th></th>\n",
       "      <th>Id</th>\n",
       "      <th>ProductId</th>\n",
       "      <th>UserId</th>\n",
       "      <th>ProfileName</th>\n",
       "      <th>HelpfulnessNumerator</th>\n",
       "      <th>HelpfulnessDenominator</th>\n",
       "      <th>Score</th>\n",
       "      <th>Time</th>\n",
       "      <th>Summary</th>\n",
       "      <th>Text</th>\n",
       "    </tr>\n",
       "  </thead>\n",
       "  <tbody>\n",
       "    <tr>\n",
       "      <th>0</th>\n",
       "      <td>1</td>\n",
       "      <td>B001E4KFG0</td>\n",
       "      <td>A3SGXH7AUHU8GW</td>\n",
       "      <td>delmartian</td>\n",
       "      <td>1</td>\n",
       "      <td>1</td>\n",
       "      <td>5</td>\n",
       "      <td>1303862400</td>\n",
       "      <td>Good Quality Dog Food</td>\n",
       "      <td>I have bought several of the Vitality canned d...</td>\n",
       "    </tr>\n",
       "    <tr>\n",
       "      <th>1</th>\n",
       "      <td>2</td>\n",
       "      <td>B00813GRG4</td>\n",
       "      <td>A1D87F6ZCVE5NK</td>\n",
       "      <td>dll pa</td>\n",
       "      <td>0</td>\n",
       "      <td>0</td>\n",
       "      <td>1</td>\n",
       "      <td>1346976000</td>\n",
       "      <td>Not as Advertised</td>\n",
       "      <td>Product arrived labeled as Jumbo Salted Peanut...</td>\n",
       "    </tr>\n",
       "    <tr>\n",
       "      <th>2</th>\n",
       "      <td>3</td>\n",
       "      <td>B000LQOCH0</td>\n",
       "      <td>ABXLMWJIXXAIN</td>\n",
       "      <td>Natalia Corres \"Natalia Corres\"</td>\n",
       "      <td>1</td>\n",
       "      <td>1</td>\n",
       "      <td>4</td>\n",
       "      <td>1219017600</td>\n",
       "      <td>\"Delight\" says it all</td>\n",
       "      <td>This is a confection that has been around a fe...</td>\n",
       "    </tr>\n",
       "    <tr>\n",
       "      <th>3</th>\n",
       "      <td>4</td>\n",
       "      <td>B000UA0QIQ</td>\n",
       "      <td>A395BORC6FGVXV</td>\n",
       "      <td>Karl</td>\n",
       "      <td>3</td>\n",
       "      <td>3</td>\n",
       "      <td>2</td>\n",
       "      <td>1307923200</td>\n",
       "      <td>Cough Medicine</td>\n",
       "      <td>If you are looking for the secret ingredient i...</td>\n",
       "    </tr>\n",
       "    <tr>\n",
       "      <th>4</th>\n",
       "      <td>5</td>\n",
       "      <td>B006K2ZZ7K</td>\n",
       "      <td>A1UQRSCLF8GW1T</td>\n",
       "      <td>Michael D. Bigham \"M. Wassir\"</td>\n",
       "      <td>0</td>\n",
       "      <td>0</td>\n",
       "      <td>5</td>\n",
       "      <td>1350777600</td>\n",
       "      <td>Great taffy</td>\n",
       "      <td>Great taffy at a great price.  There was a wid...</td>\n",
       "    </tr>\n",
       "  </tbody>\n",
       "</table>\n",
       "</div>"
      ],
      "text/plain": [
       "   Id   ProductId          UserId                      ProfileName  \\\n",
       "0   1  B001E4KFG0  A3SGXH7AUHU8GW                       delmartian   \n",
       "1   2  B00813GRG4  A1D87F6ZCVE5NK                           dll pa   \n",
       "2   3  B000LQOCH0   ABXLMWJIXXAIN  Natalia Corres \"Natalia Corres\"   \n",
       "3   4  B000UA0QIQ  A395BORC6FGVXV                             Karl   \n",
       "4   5  B006K2ZZ7K  A1UQRSCLF8GW1T    Michael D. Bigham \"M. Wassir\"   \n",
       "\n",
       "   HelpfulnessNumerator  HelpfulnessDenominator  Score        Time  \\\n",
       "0                     1                       1      5  1303862400   \n",
       "1                     0                       0      1  1346976000   \n",
       "2                     1                       1      4  1219017600   \n",
       "3                     3                       3      2  1307923200   \n",
       "4                     0                       0      5  1350777600   \n",
       "\n",
       "                 Summary                                               Text  \n",
       "0  Good Quality Dog Food  I have bought several of the Vitality canned d...  \n",
       "1      Not as Advertised  Product arrived labeled as Jumbo Salted Peanut...  \n",
       "2  \"Delight\" says it all  This is a confection that has been around a fe...  \n",
       "3         Cough Medicine  If you are looking for the secret ingredient i...  \n",
       "4            Great taffy  Great taffy at a great price.  There was a wid...  "
      ]
     },
     "execution_count": 3,
     "metadata": {},
     "output_type": "execute_result"
    }
   ],
   "source": [
    "data.head()"
   ]
  },
  {
   "cell_type": "code",
   "execution_count": 4,
   "id": "b95d5652-70e0-4c52-b5e3-3c15e3472a81",
   "metadata": {
    "tags": []
   },
   "outputs": [
    {
     "data": {
      "text/html": [
       "<div>\n",
       "<style scoped>\n",
       "    .dataframe tbody tr th:only-of-type {\n",
       "        vertical-align: middle;\n",
       "    }\n",
       "\n",
       "    .dataframe tbody tr th {\n",
       "        vertical-align: top;\n",
       "    }\n",
       "\n",
       "    .dataframe thead th {\n",
       "        text-align: right;\n",
       "    }\n",
       "</style>\n",
       "<table border=\"1\" class=\"dataframe\">\n",
       "  <thead>\n",
       "    <tr style=\"text-align: right;\">\n",
       "      <th></th>\n",
       "      <th>Text</th>\n",
       "      <th>Summary</th>\n",
       "    </tr>\n",
       "  </thead>\n",
       "  <tbody>\n",
       "    <tr>\n",
       "      <th>0</th>\n",
       "      <td>I have bought several of the Vitality canned d...</td>\n",
       "      <td>Good Quality Dog Food</td>\n",
       "    </tr>\n",
       "    <tr>\n",
       "      <th>1</th>\n",
       "      <td>Product arrived labeled as Jumbo Salted Peanut...</td>\n",
       "      <td>Not as Advertised</td>\n",
       "    </tr>\n",
       "    <tr>\n",
       "      <th>2</th>\n",
       "      <td>This is a confection that has been around a fe...</td>\n",
       "      <td>\"Delight\" says it all</td>\n",
       "    </tr>\n",
       "    <tr>\n",
       "      <th>3</th>\n",
       "      <td>If you are looking for the secret ingredient i...</td>\n",
       "      <td>Cough Medicine</td>\n",
       "    </tr>\n",
       "    <tr>\n",
       "      <th>4</th>\n",
       "      <td>Great taffy at a great price.  There was a wid...</td>\n",
       "      <td>Great taffy</td>\n",
       "    </tr>\n",
       "  </tbody>\n",
       "</table>\n",
       "</div>"
      ],
      "text/plain": [
       "                                                Text                Summary\n",
       "0  I have bought several of the Vitality canned d...  Good Quality Dog Food\n",
       "1  Product arrived labeled as Jumbo Salted Peanut...      Not as Advertised\n",
       "2  This is a confection that has been around a fe...  \"Delight\" says it all\n",
       "3  If you are looking for the secret ingredient i...         Cough Medicine\n",
       "4  Great taffy at a great price.  There was a wid...            Great taffy"
      ]
     },
     "execution_count": 4,
     "metadata": {},
     "output_type": "execute_result"
    }
   ],
   "source": [
    "data = data[['Text','Summary']]\n",
    "data.head()"
   ]
  },
  {
   "cell_type": "code",
   "execution_count": 5,
   "id": "10d4e660-d3bc-4137-80b2-09a9587a4c7a",
   "metadata": {
    "tags": []
   },
   "outputs": [
    {
     "name": "stdout",
     "output_type": "stream",
     "text": [
      "Text       0\n",
      "Summary    2\n",
      "dtype: int64\n"
     ]
    }
   ],
   "source": [
    "print(data.isnull().sum())"
   ]
  },
  {
   "cell_type": "code",
   "execution_count": 6,
   "id": "4475f1ea-a426-4e4c-86a2-b332264ff6c6",
   "metadata": {
    "tags": []
   },
   "outputs": [
    {
     "name": "stdout",
     "output_type": "stream",
     "text": [
      "Text 열에서 중복을 배제한 유일한 샘플의 수 : 88426\n",
      "Summary 열에서 중복을 배제한 유일한 샘플의 수 : 72348\n"
     ]
    }
   ],
   "source": [
    "print('Text 열에서 중복을 배제한 유일한 샘플의 수 :', data['Text'].nunique())\n",
    "print('Summary 열에서 중복을 배제한 유일한 샘플의 수 :', data['Summary'].nunique())"
   ]
  },
  {
   "cell_type": "code",
   "execution_count": 7,
   "id": "87a2a091-1a5c-4881-8cd8-a9cd33b87bcf",
   "metadata": {
    "tags": []
   },
   "outputs": [
    {
     "data": {
      "text/html": [
       "<div>\n",
       "<style scoped>\n",
       "    .dataframe tbody tr th:only-of-type {\n",
       "        vertical-align: middle;\n",
       "    }\n",
       "\n",
       "    .dataframe tbody tr th {\n",
       "        vertical-align: top;\n",
       "    }\n",
       "\n",
       "    .dataframe thead th {\n",
       "        text-align: right;\n",
       "    }\n",
       "</style>\n",
       "<table border=\"1\" class=\"dataframe\">\n",
       "  <thead>\n",
       "    <tr style=\"text-align: right;\">\n",
       "      <th></th>\n",
       "      <th>Text</th>\n",
       "      <th>Summary</th>\n",
       "    </tr>\n",
       "  </thead>\n",
       "  <tbody>\n",
       "    <tr>\n",
       "      <th>0</th>\n",
       "      <td>I have bought several of the Vitality canned d...</td>\n",
       "      <td>Good Quality Dog Food</td>\n",
       "    </tr>\n",
       "    <tr>\n",
       "      <th>1</th>\n",
       "      <td>Product arrived labeled as Jumbo Salted Peanut...</td>\n",
       "      <td>Not as Advertised</td>\n",
       "    </tr>\n",
       "    <tr>\n",
       "      <th>2</th>\n",
       "      <td>This is a confection that has been around a fe...</td>\n",
       "      <td>\"Delight\" says it all</td>\n",
       "    </tr>\n",
       "    <tr>\n",
       "      <th>3</th>\n",
       "      <td>If you are looking for the secret ingredient i...</td>\n",
       "      <td>Cough Medicine</td>\n",
       "    </tr>\n",
       "    <tr>\n",
       "      <th>4</th>\n",
       "      <td>Great taffy at a great price.  There was a wid...</td>\n",
       "      <td>Great taffy</td>\n",
       "    </tr>\n",
       "    <tr>\n",
       "      <th>...</th>\n",
       "      <td>...</td>\n",
       "      <td>...</td>\n",
       "    </tr>\n",
       "    <tr>\n",
       "      <th>99995</th>\n",
       "      <td>I just love it and will buy another box when I...</td>\n",
       "      <td>yummy!</td>\n",
       "    </tr>\n",
       "    <tr>\n",
       "      <th>99996</th>\n",
       "      <td>My late father in law used to have a rating sy...</td>\n",
       "      <td>Tastes like More!</td>\n",
       "    </tr>\n",
       "    <tr>\n",
       "      <th>99997</th>\n",
       "      <td>This is my favorite brand of Korean ramen. It ...</td>\n",
       "      <td>Great ramen</td>\n",
       "    </tr>\n",
       "    <tr>\n",
       "      <th>99998</th>\n",
       "      <td>I do like these noodles although, to say they ...</td>\n",
       "      <td>Spicy!!</td>\n",
       "    </tr>\n",
       "    <tr>\n",
       "      <th>99999</th>\n",
       "      <td>I love this noodle and have it once or twice a...</td>\n",
       "      <td>This spicy noodle cures my cold, upset stomach...</td>\n",
       "    </tr>\n",
       "  </tbody>\n",
       "</table>\n",
       "<p>88426 rows × 2 columns</p>\n",
       "</div>"
      ],
      "text/plain": [
       "                                                    Text  \\\n",
       "0      I have bought several of the Vitality canned d...   \n",
       "1      Product arrived labeled as Jumbo Salted Peanut...   \n",
       "2      This is a confection that has been around a fe...   \n",
       "3      If you are looking for the secret ingredient i...   \n",
       "4      Great taffy at a great price.  There was a wid...   \n",
       "...                                                  ...   \n",
       "99995  I just love it and will buy another box when I...   \n",
       "99996  My late father in law used to have a rating sy...   \n",
       "99997  This is my favorite brand of Korean ramen. It ...   \n",
       "99998  I do like these noodles although, to say they ...   \n",
       "99999  I love this noodle and have it once or twice a...   \n",
       "\n",
       "                                                 Summary  \n",
       "0                                  Good Quality Dog Food  \n",
       "1                                      Not as Advertised  \n",
       "2                                  \"Delight\" says it all  \n",
       "3                                         Cough Medicine  \n",
       "4                                            Great taffy  \n",
       "...                                                  ...  \n",
       "99995                                             yummy!  \n",
       "99996                                  Tastes like More!  \n",
       "99997                                        Great ramen  \n",
       "99998                                            Spicy!!  \n",
       "99999  This spicy noodle cures my cold, upset stomach...  \n",
       "\n",
       "[88426 rows x 2 columns]"
      ]
     },
     "execution_count": 7,
     "metadata": {},
     "output_type": "execute_result"
    }
   ],
   "source": [
    "data.drop_duplicates(subset=['Text'])"
   ]
  },
  {
   "cell_type": "code",
   "execution_count": 8,
   "id": "06a73e44-81ec-405a-b18b-d415f270915c",
   "metadata": {
    "tags": []
   },
   "outputs": [],
   "source": [
    "# 전처리 함수 내 사용\n",
    "contractions = {\"'cause\": 'because',\n",
    " \"I'd\": 'I would',\n",
    " \"I'd've\": 'I would have',\n",
    " \"I'll\": 'I will',\n",
    " \"I'll've\": 'I will have',\n",
    " \"I'm\": 'I am',\n",
    " \"I've\": 'I have',\n",
    " \"ain't\": 'is not',\n",
    " \"aren't\": 'are not',\n",
    " \"can't\": 'cannot',\n",
    " \"could've\": 'could have',\n",
    " \"couldn't\": 'could not',\n",
    " \"didn't\": 'did not',\n",
    " \"doesn't\": 'does not',\n",
    " \"don't\": 'do not',\n",
    " \"hadn't\": 'had not',\n",
    " \"hasn't\": 'has not',\n",
    " \"haven't\": 'have not',\n",
    " \"he'd\": 'he would',\n",
    " \"he'll\": 'he will',\n",
    " \"he's\": 'he is',\n",
    " \"here's\": 'here is',\n",
    " \"how'd\": 'how did',\n",
    " \"how'd'y\": 'how do you',\n",
    " \"how'll\": 'how will',\n",
    " \"how's\": 'how is',\n",
    " \"i'd\": 'i would',\n",
    " \"i'd've\": 'i would have',\n",
    " \"i'll\": 'i will',\n",
    " \"i'll've\": 'i will have',\n",
    " \"i'm\": 'i am',\n",
    " \"i've\": 'i have',\n",
    " \"isn't\": 'is not',\n",
    " \"it'd\": 'it would',\n",
    " \"it'd've\": 'it would have',\n",
    " \"it'll\": 'it will',\n",
    " \"it'll've\": 'it will have',\n",
    " \"it's\": 'it is',\n",
    " \"let's\": 'let us',\n",
    " \"ma'am\": 'madam',\n",
    " \"mayn't\": 'may not',\n",
    " \"might've\": 'might have',\n",
    " \"mightn't\": 'might not',\n",
    " \"mightn't've\": 'might not have',\n",
    " \"must've\": 'must have',\n",
    " \"mustn't\": 'must not',\n",
    " \"mustn't've\": 'must not have',\n",
    " \"needn't\": 'need not',\n",
    " \"needn't've\": 'need not have',\n",
    " \"o'clock\": 'of the clock',\n",
    " \"oughtn't\": 'ought not',\n",
    " \"oughtn't've\": 'ought not have',\n",
    " \"sha'n't\": 'shall not',\n",
    " \"shan't\": 'shall not',\n",
    " \"shan't've\": 'shall not have',\n",
    " \"she'd\": 'she would',\n",
    " \"she'd've\": 'she would have',\n",
    " \"she'll\": 'she will',\n",
    " \"she'll've\": 'she will have',\n",
    " \"she's\": 'she is',\n",
    " \"should've\": 'should have',\n",
    " \"shouldn't\": 'should not',\n",
    " \"shouldn't've\": 'should not have',\n",
    " \"so's\": 'so as',\n",
    " \"so've\": 'so have',\n",
    " \"that'd\": 'that would',\n",
    " \"that'd've\": 'that would have',\n",
    " \"that's\": 'that is',\n",
    " \"there'd\": 'there would',\n",
    " \"there'd've\": 'there would have',\n",
    " \"there's\": 'there is',\n",
    " \"they'd\": 'they would',\n",
    " \"they'd've\": 'they would have',\n",
    " \"they'll\": 'they will',\n",
    " \"they'll've\": 'they will have',\n",
    " \"they're\": 'they are',\n",
    " \"they've\": 'they have',\n",
    " \"this's\": 'this is',\n",
    " \"to've\": 'to have',\n",
    " \"wasn't\": 'was not',\n",
    " \"we'd\": 'we would',\n",
    " \"we'd've\": 'we would have',\n",
    " \"we'll\": 'we will',\n",
    " \"we'll've\": 'we will have',\n",
    " \"we're\": 'we are',\n",
    " \"we've\": 'we have',\n",
    " \"weren't\": 'were not',\n",
    " \"what'll\": 'what will',\n",
    " \"what'll've\": 'what will have',\n",
    " \"what're\": 'what are',\n",
    " \"what's\": 'what is',\n",
    " \"what've\": 'what have',\n",
    " \"when's\": 'when is',\n",
    " \"when've\": 'when have',\n",
    " \"where'd\": 'where did',\n",
    " \"where's\": 'where is',\n",
    " \"where've\": 'where have',\n",
    " \"who'll\": 'who will',\n",
    " \"who'll've\": 'who will have',\n",
    " \"who's\": 'who is',\n",
    " \"who've\": 'who have',\n",
    " \"why's\": 'why is',\n",
    " \"why've\": 'why have',\n",
    " \"will've\": 'will have',\n",
    " \"won't\": 'will not',\n",
    " \"won't've\": 'will not have',\n",
    " \"would've\": 'would have',\n",
    " \"wouldn't\": 'would not',\n",
    " \"wouldn't've\": 'would not have',\n",
    " \"y'all\": 'you all',\n",
    " \"y'all'd\": 'you all would',\n",
    " \"y'all'd've\": 'you all would have',\n",
    " \"y'all're\": 'you all are',\n",
    " \"y'all've\": 'you all have',\n",
    " \"you'd\": 'you would',\n",
    " \"you'd've\": 'you would have',\n",
    " \"you'll\": 'you will',\n",
    " \"you'll've\": 'you will have',\n",
    " \"you're\": 'you are',\n",
    " \"you've\": 'you have'}"
   ]
  },
  {
   "cell_type": "code",
   "execution_count": 9,
   "id": "7708916e-1b34-4846-8cf8-44d6e7c5eaa3",
   "metadata": {
    "tags": []
   },
   "outputs": [
    {
     "name": "stdout",
     "output_type": "stream",
     "text": [
      "불용어 개수 : 179\n",
      "{'how', \"hasn't\", \"you'd\", 'him', 'its', 'm', 'at', 'below', 'own', 'don', 'an', 'but', 'from', \"didn't\", 'my', \"shan't\", 'over', 'y', 's', \"doesn't\", 'have', \"you've\", 'ma', 'whom', 'too', 'above', 'your', 'having', 'haven', 'mightn', 'wasn', 'while', 'was', 'such', 'shouldn', 'didn', \"it's\", 'on', 'through', 'ourselves', 'any', 'most', 'd', 'only', 'them', 'is', 'she', 'as', 'before', 'will', 'couldn', \"mightn't\", 're', \"aren't\", 'during', 'are', 'again', 'shan', 'once', 'under', 'no', 'had', \"you're\", 'a', 'against', \"won't\", 'off', 't', 'same', 'that', \"needn't\", 'it', 'which', 'just', 'has', 'each', 'myself', 'ours', \"isn't\", \"mustn't\", 'his', 'when', 'am', 'should', 've', 'why', \"hadn't\", 'do', 'other', 'both', 'by', 'more', 'down', 'be', 'her', 'being', 'himself', 'were', 'out', 'very', \"that'll\", 'yourselves', 'this', 'or', 'so', 'the', 'won', 'can', 'wouldn', \"shouldn't\", 'yourself', 'there', 'did', 'our', 'between', 'than', 'needn', \"weren't\", 'll', 'nor', 'of', 'hadn', 'o', 'up', 'itself', 'what', 'doesn', 'now', 'those', 'because', 'i', 'yours', 'their', \"don't\", 'weren', 'into', 'these', 'herself', 'to', \"you'll\", 'who', 'not', 'does', 'some', 'been', 'here', 'and', 'doing', 'in', 'where', 'if', 'until', 'aren', 'we', 'hasn', 'for', 'me', 'theirs', 'about', 'hers', \"wouldn't\", \"couldn't\", 'after', 'they', 'then', \"should've\", 'few', \"haven't\", 'further', 'ain', 'themselves', 'you', 'isn', 'mustn', \"she's\", 'all', 'he', \"wasn't\", 'with'}\n"
     ]
    }
   ],
   "source": [
    "stop_words = set(stopwords.words('english'))\n",
    "print('불용어 개수 :', len(stop_words))\n",
    "print(stop_words)"
   ]
  },
  {
   "cell_type": "code",
   "execution_count": 10,
   "id": "474c47ce-d780-4cd4-9f9c-6a5723e00053",
   "metadata": {
    "tags": []
   },
   "outputs": [],
   "source": [
    "# 전처리 함수\n",
    "def preprocess_sentence(sentence, remove_stopwords = True):\n",
    "    if isinstance(sentence, float):\n",
    "        sentence = str(sentence)  # float 타입을 문자열로 변환\n",
    "    sentence = sentence.lower() # 텍스트 소문자화\n",
    "    sentence = BeautifulSoup(sentence, \"lxml\").text # <br />, <a href = ...> 등의 html 태그 제거\n",
    "    sentence = re.sub(r'\\([^)]*\\)', '', sentence) # 괄호로 닫힌 문자열  제거 Ex) my husband (and myself) for => my husband for\n",
    "    sentence = re.sub('\"','', sentence) # 쌍따옴표 \" 제거\n",
    "    sentence = ' '.join([contractions[t] if t in contractions else t for t in sentence.split(\" \")]) # 약어 정규화\n",
    "    sentence = re.sub(r\"'s\\b\",\"\",sentence) # 소유격 제거. Ex) roland's -> roland\n",
    "    sentence = re.sub(\"[^a-zA-Z]\", \" \", sentence) # 영어 외 문자(숫자, 특수문자 등) 공백으로 변환\n",
    "    sentence = re.sub('[m]{2,}', 'mm', sentence) # m이 3개 이상이면 2개로 변경. Ex) ummmmmmm yeah -> umm yeah\n",
    "\n",
    "    # 불용어 제거 (Text)\n",
    "    if remove_stopwords:\n",
    "        tokens = ' '.join(word for word in sentence.split() if not word in stop_words if len(word) > 1)\n",
    "    # 불용어 미제거 (Summary)\n",
    "    else:\n",
    "        tokens = ' '.join(word for word in sentence.split() if len(word) > 1)\n",
    "    return tokens"
   ]
  },
  {
   "cell_type": "code",
   "execution_count": 11,
   "id": "c8d2968c-f391-4698-a6bf-eb5883e456e5",
   "metadata": {
    "tags": []
   },
   "outputs": [
    {
     "name": "stdout",
     "output_type": "stream",
     "text": [
      "everything bought great infact ordered twice third ordered wasfor mother father\n",
      "great way to start the day\n"
     ]
    }
   ],
   "source": [
    "temp_text = 'Everything I bought was great, infact I ordered twice and the third ordered was<br />for my mother and father.'\n",
    "temp_summary = 'Great way to start (or finish) the day!!!'\n",
    "print(preprocess_sentence(temp_text))\n",
    "print(preprocess_sentence(temp_summary, 0))"
   ]
  },
  {
   "cell_type": "code",
   "execution_count": 12,
   "id": "c42e483e-e7ef-4091-bef0-af80447ed78c",
   "metadata": {
    "tags": []
   },
   "outputs": [
    {
     "name": "stderr",
     "output_type": "stream",
     "text": [
      "<ipython-input-10-502ff4db7e7a>:6: MarkupResemblesLocatorWarning: The input looks more like a filename than markup. You may want to open this file and pass the filehandle into Beautiful Soup.\n",
      "  sentence = BeautifulSoup(sentence, \"lxml\").text # <br />, <a href = ...> 등의 html 태그 제거\n"
     ]
    },
    {
     "data": {
      "text/plain": [
       "['bought several vitality canned dog food products found good quality product looks like stew processed meat smells better labrador finicky appreciates product better',\n",
       " 'product arrived labeled jumbo salted peanuts peanuts actually small sized unsalted sure error vendor intended represent product jumbo',\n",
       " 'confection around centuries light pillowy citrus gelatin nuts case filberts cut tiny squares liberally coated powdered sugar tiny mouthful heaven chewy flavorful highly recommend yummy treat familiar story lewis lion witch wardrobe treat seduces edmund selling brother sisters witch',\n",
       " 'looking secret ingredient robitussin believe found got addition root beer extract ordered made cherry soda flavor medicinal',\n",
       " 'great taffy great price wide assortment yummy taffy delivery quick taffy lover deal']"
      ]
     },
     "execution_count": 12,
     "metadata": {},
     "output_type": "execute_result"
    }
   ],
   "source": [
    "# Text 열 전처리\n",
    "clean_text = []\n",
    "for s in data['Text']:\n",
    "    clean_text.append(preprocess_sentence(s))\n",
    "clean_text[:5]"
   ]
  },
  {
   "cell_type": "code",
   "execution_count": 13,
   "id": "6dea146b-c74c-449e-9542-9ff3ddd8b019",
   "metadata": {
    "tags": []
   },
   "outputs": [
    {
     "name": "stderr",
     "output_type": "stream",
     "text": [
      "<ipython-input-10-502ff4db7e7a>:6: MarkupResemblesLocatorWarning: The input looks more like a filename than markup. You may want to open this file and pass the filehandle into Beautiful Soup.\n",
      "  sentence = BeautifulSoup(sentence, \"lxml\").text # <br />, <a href = ...> 등의 html 태그 제거\n",
      "<ipython-input-10-502ff4db7e7a>:6: MarkupResemblesLocatorWarning: The input looks more like a URL than markup. You may want to use an HTTP client like requests to get the document behind the URL, and feed that document to Beautiful Soup.\n",
      "  sentence = BeautifulSoup(sentence, \"lxml\").text # <br />, <a href = ...> 등의 html 태그 제거\n"
     ]
    },
    {
     "data": {
      "text/plain": [
       "['good quality dog food',\n",
       " 'not as advertised',\n",
       " 'delight says it all',\n",
       " 'cough medicine',\n",
       " 'great taffy']"
      ]
     },
     "execution_count": 13,
     "metadata": {},
     "output_type": "execute_result"
    }
   ],
   "source": [
    "# Summary 열 전처리\n",
    "clean_summary = []\n",
    "for s in data['Summary']:\n",
    "    clean_summary.append(preprocess_sentence(s, 0))\n",
    "clean_summary[:5]"
   ]
  },
  {
   "cell_type": "code",
   "execution_count": 14,
   "id": "2b4fc1ca-f457-40e7-83c0-bf20209bc585",
   "metadata": {
    "tags": []
   },
   "outputs": [],
   "source": [
    "data['Text'] = clean_text\n",
    "data['Summary'] = clean_summary"
   ]
  },
  {
   "cell_type": "code",
   "execution_count": 15,
   "id": "135a1f1a-d8f7-47e1-ad91-2d0cd99fb03f",
   "metadata": {
    "tags": []
   },
   "outputs": [
    {
     "name": "stdout",
     "output_type": "stream",
     "text": [
      "Text        0\n",
      "Summary    81\n",
      "dtype: int64\n"
     ]
    }
   ],
   "source": [
    "# 길이가 공백인 샘플은 NULL 값으로 변환\n",
    "data.replace('', np.nan, inplace=True)\n",
    "print(data.isnull().sum())"
   ]
  },
  {
   "cell_type": "code",
   "execution_count": 16,
   "id": "d7df3fe7-f2e6-4b93-a685-2103c2746b33",
   "metadata": {
    "tags": []
   },
   "outputs": [
    {
     "name": "stdout",
     "output_type": "stream",
     "text": [
      "전체 샘플수 : 99919\n"
     ]
    }
   ],
   "source": [
    "data.dropna(axis = 0, inplace = True)\n",
    "print('전체 샘플수 :',(len(data)))"
   ]
  },
  {
   "cell_type": "code",
   "execution_count": 17,
   "id": "c89a6f98-6050-409e-b996-ae61a36db875",
   "metadata": {
    "tags": []
   },
   "outputs": [],
   "source": [
    "text_len = [len(s.split()) for s in data['Text']]\n",
    "summary_len = [len(s.split()) for s in data['Summary']]"
   ]
  },
  {
   "cell_type": "code",
   "execution_count": 18,
   "id": "02547982-bd2c-40ba-abe2-91f395d3cade",
   "metadata": {
    "tags": []
   },
   "outputs": [
    {
     "name": "stdout",
     "output_type": "stream",
     "text": [
      "텍스트의 최소 길이 : 2\n",
      "텍스트의 최대 길이 : 1235\n",
      "텍스트의 평균 길이 : 38.708213653058976\n",
      "요약의 최소 길이 : 1\n",
      "요약의 최대 길이 : 28\n",
      "요약의 평균 길이 : 4.010368398402706\n"
     ]
    }
   ],
   "source": [
    "print('텍스트의 최소 길이 : {}'.format(np.min(text_len)))\n",
    "print('텍스트의 최대 길이 : {}'.format(np.max(text_len)))\n",
    "print('텍스트의 평균 길이 : {}'.format(np.mean(text_len)))\n",
    "print('요약의 최소 길이 : {}'.format(np.min(summary_len)))\n",
    "print('요약의 최대 길이 : {}'.format(np.max(summary_len)))\n",
    "print('요약의 평균 길이 : {}'.format(np.mean(summary_len)))"
   ]
  },
  {
   "cell_type": "code",
   "execution_count": 19,
   "id": "0ba32e8a-8137-4208-8732-14f84a6f92a7",
   "metadata": {
    "tags": []
   },
   "outputs": [
    {
     "data": {
      "image/png": "[encoded data removed]",
      "text/plain": [
       "<Figure size 432x288 with 1 Axes>"
      ]
     },
     "metadata": {
      "needs_background": "light"
     },
     "output_type": "display_data"
    }
   ],
   "source": [
    "plt.boxplot(summary_len)\n",
    "plt.title('Summary')\n",
    "\n",
    "plt.show()"
   ]
  },
  {
   "cell_type": "code",
   "execution_count": 20,
   "id": "685a8797-4cbd-458b-8916-0049fa9208ab",
   "metadata": {
    "tags": []
   },
   "outputs": [
    {
     "data": {
      "image/png": "[encoded data removed]",
      "text/plain": [
       "<Figure size 432x288 with 1 Axes>"
      ]
     },
     "metadata": {
      "needs_background": "light"
     },
     "output_type": "display_data"
    }
   ],
   "source": [
    "plt.boxplot(text_len)\n",
    "plt.title('Text')\n",
    "plt.tight_layout()\n",
    "plt.show()"
   ]
  },
  {
   "cell_type": "code",
   "execution_count": 21,
   "id": "8b8829c9-b41f-4fe0-b6b6-dcab9888faf2",
   "metadata": {
    "tags": []
   },
   "outputs": [
    {
     "data": {
      "image/png": "[encoded data removed]",
      "text/plain": [
       "<Figure size 432x288 with 1 Axes>"
      ]
     },
     "metadata": {
      "needs_background": "light"
     },
     "output_type": "display_data"
    }
   ],
   "source": [
    "plt.title('Summary')\n",
    "plt.hist(summary_len, bins=40)\n",
    "plt.xlabel('length of samples')\n",
    "plt.ylabel('number of samples')\n",
    "plt.show()\n"
   ]
  },
  {
   "cell_type": "code",
   "execution_count": 22,
   "id": "99a0a071-2239-4a8b-b689-f02843ffd232",
   "metadata": {
    "tags": []
   },
   "outputs": [
    {
     "data": {
      "image/png": "[encoded data removed]",
      "text/plain": [
       "<Figure size 432x288 with 1 Axes>"
      ]
     },
     "metadata": {
      "needs_background": "light"
     },
     "output_type": "display_data"
    }
   ],
   "source": [
    "plt.title('Text')\n",
    "plt.hist(text_len, bins=40)\n",
    "plt.xlabel('length of samples')\n",
    "plt.ylabel('number of samples')\n",
    "plt.show()"
   ]
  },
  {
   "cell_type": "code",
   "execution_count": 23,
   "id": "e3f65e96-195c-49bf-94bb-95a95c29200d",
   "metadata": {
    "tags": []
   },
   "outputs": [],
   "source": [
    "text_max_len = 50\n",
    "summary_max_len = 8"
   ]
  },
  {
   "cell_type": "code",
   "execution_count": 24,
   "id": "5b7b6fe4-d247-430a-ab38-cc1f789d4c9d",
   "metadata": {
    "tags": []
   },
   "outputs": [],
   "source": [
    "def below_threshold_len(max_len, nested_list):\n",
    "    cnt = 0\n",
    "    for s in nested_list:\n",
    "        if(len(s.split()) <= max_len):\n",
    "            cnt +=1\n",
    "    print('전체 샘플 중 길이가 %s 이하인 샘플의 비율: %s'%(max_len, (cnt / len(nested_list))))"
   ]
  },
  {
   "cell_type": "code",
   "execution_count": 25,
   "id": "f6cc2505-2f2a-45a0-8085-69ad7114c0e2",
   "metadata": {
    "tags": []
   },
   "outputs": [
    {
     "name": "stdout",
     "output_type": "stream",
     "text": [
      "전체 샘플 중 길이가 50 이하인 샘플의 비율: 0.7771995316206127\n"
     ]
    }
   ],
   "source": [
    "below_threshold_len(text_max_len, data['Text'])"
   ]
  },
  {
   "cell_type": "code",
   "execution_count": 26,
   "id": "8cc87d84-a0d6-4be6-a310-c9a61761ba52",
   "metadata": {
    "tags": []
   },
   "outputs": [
    {
     "name": "stdout",
     "output_type": "stream",
     "text": [
      "전체 샘플 중 길이가 8 이하인 샘플의 비율: 0.9421331278335452\n"
     ]
    }
   ],
   "source": [
    "below_threshold_len(summary_max_len, data['Summary'])"
   ]
  },
  {
   "cell_type": "code",
   "execution_count": 27,
   "id": "63156b14-c19f-4248-b1ae-c2a762c784d2",
   "metadata": {
    "tags": []
   },
   "outputs": [
    {
     "name": "stdout",
     "output_type": "stream",
     "text": [
      "전체 샘플수 : 74706\n"
     ]
    }
   ],
   "source": [
    "data = data[data['Text'].apply(lambda x: len(x.split()) <= text_max_len)]\n",
    "data = data[data['Summary'].apply(lambda x: len(x.split()) <= summary_max_len)]\n",
    "print('전체 샘플수 :',(len(data)))"
   ]
  },
  {
   "cell_type": "code",
   "execution_count": 28,
   "id": "505474b9-b436-42f7-a623-71e2400d5570",
   "metadata": {
    "tags": []
   },
   "outputs": [
    {
     "data": {
      "text/html": [
       "<div>\n",
       "<style scoped>\n",
       "    .dataframe tbody tr th:only-of-type {\n",
       "        vertical-align: middle;\n",
       "    }\n",
       "\n",
       "    .dataframe tbody tr th {\n",
       "        vertical-align: top;\n",
       "    }\n",
       "\n",
       "    .dataframe thead th {\n",
       "        text-align: right;\n",
       "    }\n",
       "</style>\n",
       "<table border=\"1\" class=\"dataframe\">\n",
       "  <thead>\n",
       "    <tr style=\"text-align: right;\">\n",
       "      <th></th>\n",
       "      <th>Text</th>\n",
       "      <th>Summary</th>\n",
       "      <th>decoder_input</th>\n",
       "      <th>decoder_target</th>\n",
       "    </tr>\n",
       "  </thead>\n",
       "  <tbody>\n",
       "    <tr>\n",
       "      <th>0</th>\n",
       "      <td>bought several vitality canned dog food produc...</td>\n",
       "      <td>good quality dog food</td>\n",
       "      <td>sostoken good quality dog food</td>\n",
       "      <td>good quality dog food eostoken</td>\n",
       "    </tr>\n",
       "    <tr>\n",
       "      <th>1</th>\n",
       "      <td>product arrived labeled jumbo salted peanuts p...</td>\n",
       "      <td>not as advertised</td>\n",
       "      <td>sostoken not as advertised</td>\n",
       "      <td>not as advertised eostoken</td>\n",
       "    </tr>\n",
       "    <tr>\n",
       "      <th>2</th>\n",
       "      <td>confection around centuries light pillowy citr...</td>\n",
       "      <td>delight says it all</td>\n",
       "      <td>sostoken delight says it all</td>\n",
       "      <td>delight says it all eostoken</td>\n",
       "    </tr>\n",
       "    <tr>\n",
       "      <th>3</th>\n",
       "      <td>looking secret ingredient robitussin believe f...</td>\n",
       "      <td>cough medicine</td>\n",
       "      <td>sostoken cough medicine</td>\n",
       "      <td>cough medicine eostoken</td>\n",
       "    </tr>\n",
       "    <tr>\n",
       "      <th>4</th>\n",
       "      <td>great taffy great price wide assortment yummy ...</td>\n",
       "      <td>great taffy</td>\n",
       "      <td>sostoken great taffy</td>\n",
       "      <td>great taffy eostoken</td>\n",
       "    </tr>\n",
       "  </tbody>\n",
       "</table>\n",
       "</div>"
      ],
      "text/plain": [
       "                                                Text                Summary  \\\n",
       "0  bought several vitality canned dog food produc...  good quality dog food   \n",
       "1  product arrived labeled jumbo salted peanuts p...      not as advertised   \n",
       "2  confection around centuries light pillowy citr...    delight says it all   \n",
       "3  looking secret ingredient robitussin believe f...         cough medicine   \n",
       "4  great taffy great price wide assortment yummy ...            great taffy   \n",
       "\n",
       "                    decoder_input                  decoder_target  \n",
       "0  sostoken good quality dog food  good quality dog food eostoken  \n",
       "1      sostoken not as advertised      not as advertised eostoken  \n",
       "2    sostoken delight says it all    delight says it all eostoken  \n",
       "3         sostoken cough medicine         cough medicine eostoken  \n",
       "4            sostoken great taffy            great taffy eostoken  "
      ]
     },
     "execution_count": 28,
     "metadata": {},
     "output_type": "execute_result"
    }
   ],
   "source": [
    "data['decoder_input'] = data['Summary'].apply(lambda x : 'sostoken '+ x)\n",
    "data['decoder_target'] = data['Summary'].apply(lambda x : x + ' eostoken')\n",
    "data.head()"
   ]
  },
  {
   "cell_type": "code",
   "execution_count": 29,
   "id": "69677dc2-a179-4d00-b6fa-d59c67cd86ee",
   "metadata": {
    "tags": []
   },
   "outputs": [],
   "source": [
    "encoder_input = np.array(data['Text'])\n",
    "decoder_input = np.array(data['decoder_input'])\n",
    "decoder_target = np.array(data['decoder_target'])"
   ]
  },
  {
   "cell_type": "code",
   "execution_count": 30,
   "id": "83f68532-d10f-4b09-b7bb-2d77a4f98fc9",
   "metadata": {
    "tags": []
   },
   "outputs": [
    {
     "name": "stdout",
     "output_type": "stream",
     "text": [
      "[68775  4280 53133 ... 42613 43567 68268]\n"
     ]
    }
   ],
   "source": [
    "indices = np.arange(encoder_input.shape[0])\n",
    "np.random.shuffle(indices)\n",
    "print(indices)"
   ]
  },
  {
   "cell_type": "code",
   "execution_count": 31,
   "id": "fbe8daf5-9602-458a-895f-03f41728ac55",
   "metadata": {
    "tags": []
   },
   "outputs": [],
   "source": [
    "encoder_input = encoder_input[indices]\n",
    "decoder_input = decoder_input[indices]\n",
    "decoder_target = decoder_target[indices]"
   ]
  },
  {
   "cell_type": "code",
   "execution_count": 32,
   "id": "40aa3b0b-1683-4268-a354-12a3e2c45b32",
   "metadata": {
    "tags": []
   },
   "outputs": [
    {
     "name": "stdout",
     "output_type": "stream",
     "text": [
      "테스트 데이터의 수 : 14941\n"
     ]
    }
   ],
   "source": [
    "n_of_val = int(len(encoder_input)*0.2)\n",
    "print('테스트 데이터의 수 :',n_of_val)"
   ]
  },
  {
   "cell_type": "code",
   "execution_count": 33,
   "id": "35e776db-f39a-4941-80be-948a19e2de4d",
   "metadata": {
    "tags": []
   },
   "outputs": [],
   "source": [
    "encoder_input_train = encoder_input[:-n_of_val]\n",
    "decoder_input_train = decoder_input[:-n_of_val]\n",
    "decoder_target_train = decoder_target[:-n_of_val]\n",
    "\n",
    "encoder_input_test = encoder_input[-n_of_val:]\n",
    "decoder_input_test = decoder_input[-n_of_val:]\n",
    "decoder_target_test = decoder_target[-n_of_val:]"
   ]
  },
  {
   "cell_type": "code",
   "execution_count": 34,
   "id": "509889ff-3855-4eff-a278-59506c62dc0c",
   "metadata": {
    "tags": []
   },
   "outputs": [
    {
     "name": "stdout",
     "output_type": "stream",
     "text": [
      "훈련 데이터의 개수 : 59765\n",
      "훈련 레이블의 개수 : 59765\n",
      "테스트 데이터의 개수 : 14941\n",
      "테스트 레이블의 개수 : 14941\n"
     ]
    }
   ],
   "source": [
    "print('훈련 데이터의 개수 :', len(encoder_input_train))\n",
    "print('훈련 레이블의 개수 :',len(decoder_input_train))\n",
    "print('테스트 데이터의 개수 :',len(encoder_input_test))\n",
    "print('테스트 레이블의 개수 :',len(decoder_input_test))"
   ]
  },
  {
   "cell_type": "code",
   "execution_count": 35,
   "id": "1ffb1695-f9df-4527-8c8b-ad81375d9b12",
   "metadata": {
    "tags": []
   },
   "outputs": [],
   "source": [
    "src_tokenizer = Tokenizer()\n",
    "src_tokenizer.fit_on_texts(encoder_input_train)"
   ]
  },
  {
   "cell_type": "code",
   "execution_count": 36,
   "id": "f4ee147f-cce2-431b-9c3f-a6273245d1b7",
   "metadata": {
    "tags": []
   },
   "outputs": [],
   "source": [
    "threshold = 7\n",
    "total_cnt = len(src_tokenizer.word_index) # 단어의 수\n",
    "rare_cnt = 0 # 등장 빈도수가 threshold보다 작은 단어의 개수를 카운트\n",
    "total_freq = 0 # 훈련 데이터의 전체 단어 빈도수 총 합\n",
    "rare_freq = 0 # 등장 빈도수가 threshold보다 작은 단어의 등장 빈도수의 총 합"
   ]
  },
  {
   "cell_type": "code",
   "execution_count": 37,
   "id": "9bc66955-323b-449a-bf0d-ea44ada7667b",
   "metadata": {
    "tags": []
   },
   "outputs": [],
   "source": [
    "for key, value in src_tokenizer.word_counts.items():\n",
    "    total_freq = total_freq + value\n",
    "\n",
    "    # 단어의 등장 빈도수가 threshold보다 작으면\n",
    "    if(value < threshold):\n",
    "        rare_cnt = rare_cnt + 1\n",
    "        rare_freq = rare_freq + value"
   ]
  },
  {
   "cell_type": "code",
   "execution_count": 38,
   "id": "734fbaab-7580-445e-8a9f-f376b6dfd4ca",
   "metadata": {
    "tags": []
   },
   "outputs": [
    {
     "name": "stdout",
     "output_type": "stream",
     "text": [
      "단어 집합(vocabulary)의 크기 : 32199\n",
      "등장 빈도가 6번 이하인 희귀 단어의 수: 23475\n",
      "단어 집합에서 희귀 단어를 제외시킬 경우의 단어 집합의 크기 8724\n",
      "단어 집합에서 희귀 단어의 비율: 72.90599086928165\n",
      "전체 등장 빈도에서 희귀 단어 등장 빈도 비율: 3.06553300992819\n"
     ]
    }
   ],
   "source": [
    "print('단어 집합(vocabulary)의 크기 :',total_cnt)\n",
    "print('등장 빈도가 %s번 이하인 희귀 단어의 수: %s'%(threshold - 1, rare_cnt))\n",
    "print('단어 집합에서 희귀 단어를 제외시킬 경우의 단어 집합의 크기 %s'%(total_cnt - rare_cnt))\n",
    "print(\"단어 집합에서 희귀 단어의 비율:\", (rare_cnt / total_cnt)*100)\n",
    "print(\"전체 등장 빈도에서 희귀 단어 등장 빈도 비율:\", (rare_freq / total_freq)*100)"
   ]
  },
  {
   "cell_type": "code",
   "execution_count": 39,
   "id": "ac930d2c-6f86-478c-add0-53f44e450fca",
   "metadata": {
    "tags": []
   },
   "outputs": [],
   "source": [
    "src_vocab = 8000\n",
    "src_tokenizer = Tokenizer(num_words = src_vocab) \n",
    "src_tokenizer.fit_on_texts(encoder_input_train)\n",
    "\n",
    "# 텍스트 시퀀스를 정수 시퀀스로 변환\n",
    "encoder_input_train = src_tokenizer.texts_to_sequences(encoder_input_train) \n",
    "encoder_input_test = src_tokenizer.texts_to_sequences(encoder_input_test)"
   ]
  },
  {
   "cell_type": "code",
   "execution_count": 40,
   "id": "23d70d0a-f370-46e2-be21-261056ce119c",
   "metadata": {
    "tags": []
   },
   "outputs": [
    {
     "name": "stdout",
     "output_type": "stream",
     "text": [
      "[[1347, 154, 304, 1328, 1316, 800, 123, 102, 2655, 901, 156, 1856, 1085, 801, 101, 333, 414], [1, 258, 153, 26, 870, 1857, 1256, 779, 1857, 55, 137], [2340, 2296, 814, 576, 1518, 1448, 51, 632, 2865, 1274, 27, 554, 164, 266, 2, 16]]\n"
     ]
    }
   ],
   "source": [
    "print(encoder_input_train[:3])"
   ]
  },
  {
   "cell_type": "code",
   "execution_count": 41,
   "id": "8f6f7f0b-50f3-45ef-a0e7-cba1833df2db",
   "metadata": {
    "tags": []
   },
   "outputs": [],
   "source": [
    "tar_tokenizer = Tokenizer()\n",
    "tar_tokenizer.fit_on_texts(decoder_input_train)"
   ]
  },
  {
   "cell_type": "code",
   "execution_count": 42,
   "id": "adf99e9c-33e8-47ef-8ae4-40e782067aae",
   "metadata": {
    "tags": []
   },
   "outputs": [
    {
     "name": "stdout",
     "output_type": "stream",
     "text": [
      "단어 집합(vocabulary)의 크기 : 10504\n",
      "등장 빈도가 5번 이하인 희귀 단어의 수: 7941\n",
      "단어 집합에서 희귀 단어를 제외시킬 경우의 단어 집합의 크기 2563\n",
      "단어 집합에서 희귀 단어의 비율: 75.5997715156131\n",
      "전체 등장 빈도에서 희귀 단어 등장 빈도 비율: 5.306426085405336\n"
     ]
    }
   ],
   "source": [
    "threshold = 6\n",
    "total_cnt = len(tar_tokenizer.word_index) # 단어의 수\n",
    "rare_cnt = 0 # 등장 빈도수가 threshold보다 작은 단어의 개수를 카운트\n",
    "total_freq = 0 # 훈련 데이터의 전체 단어 빈도수 총 합\n",
    "rare_freq = 0 # 등장 빈도수가 threshold보다 작은 단어의 등장 빈도수의 총 합\n",
    "\n",
    "# 단어와 빈도수의 쌍(pair)을 key와 value로 받는다.\n",
    "for key, value in tar_tokenizer.word_counts.items():\n",
    "    total_freq = total_freq + value\n",
    "\n",
    "    # 단어의 등장 빈도수가 threshold보다 작으면\n",
    "    if(value < threshold):\n",
    "        rare_cnt = rare_cnt + 1\n",
    "        rare_freq = rare_freq + value\n",
    "\n",
    "print('단어 집합(vocabulary)의 크기 :',total_cnt)\n",
    "print('등장 빈도가 %s번 이하인 희귀 단어의 수: %s'%(threshold - 1, rare_cnt))\n",
    "print('단어 집합에서 희귀 단어를 제외시킬 경우의 단어 집합의 크기 %s'%(total_cnt - rare_cnt))\n",
    "print(\"단어 집합에서 희귀 단어의 비율:\", (rare_cnt / total_cnt)*100)\n",
    "print(\"전체 등장 빈도에서 희귀 단어 등장 빈도 비율:\", (rare_freq / total_freq)*100)"
   ]
  },
  {
   "cell_type": "code",
   "execution_count": 43,
   "id": "e8d12a27-0062-4cd1-971a-c145792ae454",
   "metadata": {
    "tags": []
   },
   "outputs": [],
   "source": [
    "tar_vocab = 2000\n",
    "tar_tokenizer = Tokenizer(num_words = tar_vocab) \n",
    "tar_tokenizer.fit_on_texts(decoder_input_train)\n",
    "tar_tokenizer.fit_on_texts(decoder_target_train)"
   ]
  },
  {
   "cell_type": "code",
   "execution_count": 44,
   "id": "fbf0ab1a-8ab4-4ee3-99d0-625c2779a559",
   "metadata": {
    "tags": []
   },
   "outputs": [],
   "source": [
    "# 텍스트 시퀀스를 정수 시퀀스로 변환\n",
    "decoder_input_train = tar_tokenizer.texts_to_sequences(decoder_input_train) \n",
    "decoder_target_train = tar_tokenizer.texts_to_sequences(decoder_target_train)\n",
    "decoder_input_test = tar_tokenizer.texts_to_sequences(decoder_input_test)\n",
    "decoder_target_test = tar_tokenizer.texts_to_sequences(decoder_target_test)"
   ]
  },
  {
   "cell_type": "code",
   "execution_count": 45,
   "id": "fbcb4b61-b13e-4108-be76-8f2eec05c3be",
   "metadata": {
    "tags": []
   },
   "outputs": [
    {
     "name": "stdout",
     "output_type": "stream",
     "text": [
      "[[1, 12, 116, 4], [1, 976, 33, 5, 1488], [1, 573, 866], [1, 56, 1083, 13], [1, 134, 631, 67, 13]]\n"
     ]
    }
   ],
   "source": [
    "print(decoder_input_train[:5])"
   ]
  },
  {
   "cell_type": "code",
   "execution_count": 46,
   "id": "09b85a63-e6a5-430c-99f8-9a9ae0645279",
   "metadata": {
    "tags": []
   },
   "outputs": [
    {
     "name": "stdout",
     "output_type": "stream",
     "text": [
      "[[12, 116, 4, 2], [976, 33, 5, 1488, 2], [573, 866, 2], [56, 1083, 13, 2], [134, 631, 67, 13, 2]]\n"
     ]
    }
   ],
   "source": [
    "print(decoder_target_train[:5])"
   ]
  },
  {
   "cell_type": "code",
   "execution_count": 47,
   "id": "b4e5f169-b4ab-4281-a737-59940be784ad",
   "metadata": {
    "tags": []
   },
   "outputs": [],
   "source": [
    "drop_train = [index for index, sentence in enumerate(decoder_input_train) if len(sentence) == 1]\n",
    "drop_test = [index for index, sentence in enumerate(decoder_input_test) if len(sentence) == 1]"
   ]
  },
  {
   "cell_type": "code",
   "execution_count": 48,
   "id": "3ba81d69-e468-4f5d-850e-f22325066222",
   "metadata": {
    "tags": []
   },
   "outputs": [
    {
     "name": "stdout",
     "output_type": "stream",
     "text": [
      "삭제할 훈련 데이터의 개수 : 1395\n",
      "삭제할 테스트 데이터의 개수 : 398\n"
     ]
    }
   ],
   "source": [
    "print('삭제할 훈련 데이터의 개수 :',len(drop_train))\n",
    "print('삭제할 테스트 데이터의 개수 :',len(drop_test))"
   ]
  },
  {
   "cell_type": "code",
   "execution_count": 49,
   "id": "aa64becf-ce38-4e22-ba99-02785de4c2d3",
   "metadata": {
    "tags": []
   },
   "outputs": [
    {
     "data": {
      "text/plain": [
       "list"
      ]
     },
     "execution_count": 49,
     "metadata": {},
     "output_type": "execute_result"
    }
   ],
   "source": [
    "type(drop_train)"
   ]
  },
  {
   "cell_type": "code",
   "execution_count": 50,
   "id": "de548949-8096-4130-a439-aa089114bc52",
   "metadata": {
    "tags": []
   },
   "outputs": [],
   "source": [
    "encoder_input_train = [item for idx, item in enumerate(encoder_input_train) if idx not in drop_train]\n",
    "decoder_input_train = [item for idx, item in enumerate(decoder_input_train) if idx not in drop_train]\n",
    "decoder_target_train = [item for idx, item in enumerate(decoder_target_train) if idx not in drop_train]\n",
    "\n",
    "encoder_input_test = [item for idx, item in enumerate(encoder_input_test) if idx not in drop_test]\n",
    "decoder_input_test = [item for idx, item in enumerate(decoder_input_test) if idx not in drop_test]\n",
    "decoder_target_test = [item for idx, item in enumerate(decoder_target_test) if idx not in drop_test]"
   ]
  },
  {
   "cell_type": "code",
   "execution_count": 51,
   "id": "02ee9def-1233-42e9-ab21-5f6dc2b070ee",
   "metadata": {
    "tags": []
   },
   "outputs": [
    {
     "name": "stdout",
     "output_type": "stream",
     "text": [
      "훈련 데이터의 개수 : 58370\n",
      "훈련 레이블의 개수 : 58370\n",
      "테스트 데이터의 개수 : 14543\n",
      "테스트 레이블의 개수 : 14543\n"
     ]
    }
   ],
   "source": [
    "print('훈련 데이터의 개수 :', len(encoder_input_train))\n",
    "print('훈련 레이블의 개수 :',len(decoder_input_train))\n",
    "print('테스트 데이터의 개수 :',len(encoder_input_test))\n",
    "print('테스트 레이블의 개수 :',len(decoder_input_test))"
   ]
  },
  {
   "cell_type": "code",
   "execution_count": 52,
   "id": "437781c7-7d2b-409b-a72a-10dca2e509d7",
   "metadata": {
    "tags": []
   },
   "outputs": [],
   "source": [
    "encoder_input_train = pad_sequences(encoder_input_train, maxlen = text_max_len, padding='post')\n",
    "encoder_input_test = pad_sequences(encoder_input_test, maxlen = text_max_len, padding='post')\n",
    "decoder_input_train = pad_sequences(decoder_input_train, maxlen = summary_max_len, padding='post')\n",
    "decoder_target_train = pad_sequences(decoder_target_train, maxlen = summary_max_len, padding='post')\n",
    "decoder_input_test = pad_sequences(decoder_input_test, maxlen = summary_max_len, padding='post')\n",
    "decoder_target_test = pad_sequences(decoder_target_test, maxlen = summary_max_len, padding='post')"
   ]
  },
  {
   "cell_type": "code",
   "execution_count": 53,
   "id": "98451428-2028-43a8-910e-1dd9ccdffcd6",
   "metadata": {
    "tags": []
   },
   "outputs": [],
   "source": [
    "from tensorflow.keras.layers import Input, LSTM, Embedding, Dense, Concatenate\n",
    "from tensorflow.keras.models import Model\n",
    "from tensorflow.keras.callbacks import EarlyStopping, ModelCheckpoint"
   ]
  },
  {
   "cell_type": "code",
   "execution_count": 54,
   "id": "7e9fcced-2123-486d-bed8-320e9d71a891",
   "metadata": {},
   "outputs": [],
   "source": [
    "embedding_dim = 128\n",
    "hidden_size = 256\n",
    "\n",
    "encoder_inputs = Input(shape=(text_max_len,))\n",
    "\n",
    "enc_emb = Embedding(src_vocab, embedding_dim)(encoder_inputs)\n",
    "\n",
    "encoder_lstm1 = LSTM(hidden_size, return_sequences=True, return_state=True, dropout=0.4, recurrent_dropout=0.4)\n",
    "encoder_output1, state_h1, state_c1 = encoder_lstm1(enc_emb)\n",
    "\n",
    "encoder_lstm2 = LSTM(hidden_size, return_sequences=True, return_state = True, dropout=0.4, recurrent_dropout=0.4)\n",
    "encoder_output2, state_h2, state_c2 = encoder_lstm2(encoder_output1)\n",
    "\n",
    "encoder_lstm3 = LSTM(hidden_size, return_sequences=True, return_state = True, dropout=0.4, recurrent_dropout=0.4)\n",
    "encoder_outputs, state_h, state_c = encoder_lstm3(encoder_output2)"
   ]
  },
  {
   "cell_type": "code",
   "execution_count": 55,
   "id": "c2d6976d-5927-4f4a-a96b-2a85de9f8a2d",
   "metadata": {
    "tags": []
   },
   "outputs": [],
   "source": [
    "# 디코더\n",
    "decoder_inputs = Input(shape=(None,))\n",
    "\n",
    "# 디코더의 임베딩 층\n",
    "dec_emb_layer = Embedding(tar_vocab, embedding_dim)\n",
    "dec_emb = dec_emb_layer(decoder_inputs)\n",
    "\n",
    "# 디코더의 LSTM\n",
    "decoder_lstm = LSTM(hidden_size, return_sequences = True, return_state = True, dropout = 0.4, recurrent_dropout=0.2)\n",
    "decoder_outputs, _, _ = decoder_lstm(dec_emb, initial_state = [state_h, state_c])"
   ]
  },
  {
   "cell_type": "code",
   "execution_count": 56,
   "id": "a6f9b87a-1d39-4c38-8679-7bdc28d1c154",
   "metadata": {
    "tags": []
   },
   "outputs": [
    {
     "name": "stdout",
     "output_type": "stream",
     "text": [
      "Model: \"model\"\n",
      "__________________________________________________________________________________________________\n",
      " Layer (type)                Output Shape                 Param #   Connected to                  \n",
      "==================================================================================================\n",
      " input_1 (InputLayer)        [(None, 50)]                 0         []                            \n",
      "                                                                                                  \n",
      " embedding (Embedding)       (None, 50, 128)              1024000   ['input_1[0][0]']             \n",
      "                                                                                                  \n",
      " lstm (LSTM)                 [(None, 50, 256),            394240    ['embedding[0][0]']           \n",
      "                              (None, 256),                                                        \n",
      "                              (None, 256)]                                                        \n",
      "                                                                                                  \n",
      " input_2 (InputLayer)        [(None, None)]               0         []                            \n",
      "                                                                                                  \n",
      " lstm_1 (LSTM)               [(None, 50, 256),            525312    ['lstm[0][0]']                \n",
      "                              (None, 256),                                                        \n",
      "                              (None, 256)]                                                        \n",
      "                                                                                                  \n",
      " embedding_1 (Embedding)     (None, None, 128)            256000    ['input_2[0][0]']             \n",
      "                                                                                                  \n",
      " lstm_2 (LSTM)               [(None, 50, 256),            525312    ['lstm_1[0][0]']              \n",
      "                              (None, 256),                                                        \n",
      "                              (None, 256)]                                                        \n",
      "                                                                                                  \n",
      " lstm_3 (LSTM)               [(None, None, 256),          394240    ['embedding_1[0][0]',         \n",
      "                              (None, 256),                           'lstm_2[0][1]',              \n",
      "                              (None, 256)]                           'lstm_2[0][2]']              \n",
      "                                                                                                  \n",
      " dense (Dense)               (None, None, 2000)           514000    ['lstm_3[0][0]']              \n",
      "                                                                                                  \n",
      "==================================================================================================\n",
      "Total params: 3633104 (13.86 MB)\n",
      "Trainable params: 3633104 (13.86 MB)\n",
      "Non-trainable params: 0 (0.00 Byte)\n",
      "__________________________________________________________________________________________________\n"
     ]
    }
   ],
   "source": [
    "decoder_softmax_layer = Dense(tar_vocab, activation='softmax')\n",
    "decoder_softmax_outputs=decoder_softmax_layer(decoder_outputs)\n",
    "\n",
    "model = Model([encoder_inputs, decoder_inputs], decoder_softmax_outputs)\n",
    "model.summary()"
   ]
  },
  {
   "cell_type": "code",
   "execution_count": 58,
   "id": "3b920768-a8bd-4770-b9bd-e82314d36334",
   "metadata": {
    "tags": []
   },
   "outputs": [],
   "source": [
    "model.compile(optimizer='rmsprop', loss='sparse_categorical_crossentropy')"
   ]
  },
  {
   "cell_type": "code",
   "execution_count": 59,
   "id": "83cb7d6a-72b6-4d8d-82e1-c24512bb96e0",
   "metadata": {
    "tags": []
   },
   "outputs": [
    {
     "name": "stdout",
     "output_type": "stream",
     "text": [
      "Epoch 1/50\n",
      "229/229 [==============================] - 1259s 5s/step - loss: 2.9463 - val_loss: 2.5734\n",
      "Epoch 2/50\n",
      "229/229 [==============================] - 1601s 7s/step - loss: 2.5497 - val_loss: 2.5470\n",
      "Epoch 3/50\n",
      "229/229 [==============================] - 1803s 8s/step - loss: 2.4806 - val_loss: 2.4682\n",
      "Epoch 4/50\n",
      "229/229 [==============================] - 1981s 9s/step - loss: 2.4420 - val_loss: 2.4177\n",
      "Epoch 5/50\n",
      "229/229 [==============================] - 2070s 9s/step - loss: 2.4091 - val_loss: 2.4495\n",
      "Epoch 6/50\n",
      "229/229 [==============================] - 2046s 9s/step - loss: 2.3744 - val_loss: 2.4454\n",
      "Epoch 6: early stopping\n"
     ]
    }
   ],
   "source": [
    "es = EarlyStopping(monitor='val_loss', mode='min', verbose=1, patience = 2)\n",
    "history = model.fit(x = [encoder_input_train, decoder_input_train], y = decoder_target_train, \\\n",
    "          validation_data = ([encoder_input_test, decoder_input_test], decoder_target_test),\n",
    "          batch_size = 256, callbacks=[es], epochs = 50)"
   ]
  },
  {
   "cell_type": "code",
   "execution_count": 60,
   "id": "b75e916a-7ea1-46df-82a2-df888f3d27c8",
   "metadata": {
    "tags": []
   },
   "outputs": [
    {
     "name": "stdout",
     "output_type": "stream",
     "text": [
      "INFO:tensorflow:Assets written to: seq2seq_summary\\assets\n"
     ]
    },
    {
     "name": "stderr",
     "output_type": "stream",
     "text": [
      "INFO:tensorflow:Assets written to: seq2seq_summary\\assets\n"
     ]
    }
   ],
   "source": [
    "model.save_pretrained('seq2seq_summary')\n",
    "tokenizer.save_pretrained(\"seq2seq_summary_tokenizer\")"
   ]
  },
  {
   "cell_type": "code",
   "execution_count": 61,
   "id": "6a8eac80-2adf-4c7b-9807-8f1bb3abbfcc",
   "metadata": {
    "tags": []
   },
   "outputs": [],
   "source": [
    "src_index_to_word = src_tokenizer.index_word # 원문 단어 집합에서 정수 -> 단어를 얻음\n",
    "tar_word_to_index = tar_tokenizer.word_index # 요약 단어 집합에서 단어 -> 정수를 얻음\n",
    "tar_index_to_word = tar_tokenizer.index_word # 요약 단어 집합에서 정수 -> 단어를 얻음"
   ]
  },
  {
   "cell_type": "code",
   "execution_count": 62,
   "id": "7e979312-812f-40c7-a95c-4c4884d43221",
   "metadata": {
    "tags": []
   },
   "outputs": [],
   "source": [
    "encoder_model = Model(inputs=encoder_inputs, outputs=[encoder_outputs, state_h, state_c])"
   ]
  },
  {
   "cell_type": "code",
   "execution_count": 63,
   "id": "a45db302-762f-47f4-9b2f-fb74df1275ec",
   "metadata": {
    "tags": []
   },
   "outputs": [],
   "source": [
    "# 이전 시점의 상태들을 저장하는 텐서\n",
    "decoder_state_input_h = Input(shape=(hidden_size,))\n",
    "decoder_state_input_c = Input(shape=(hidden_size,))\n",
    "\n",
    "dec_emb2 = dec_emb_layer(decoder_inputs)\n",
    "# 문장의 다음 단어를 예측하기 위해서 초기 상태(initial_state)를 이전 시점의 상태로 사용. 이는 뒤의 함수 decode_sequence()에 구현\n",
    "# 훈련 과정에서와 달리 LSTM의 리턴하는 은닉 상태와 셀 상태인 state_h와 state_c를 버리지 않음.\n",
    "decoder_outputs2, state_h2, state_c2 = decoder_lstm(dec_emb2, initial_state=[decoder_state_input_h, decoder_state_input_c])"
   ]
  },
  {
   "cell_type": "code",
   "execution_count": 66,
   "id": "5d4e0b97-c3c8-40c2-9f4d-d488f735aec7",
   "metadata": {
    "tags": []
   },
   "outputs": [],
   "source": [
    "# 최종 디코더 모델\n",
    "decoder_model = Model(\n",
    "    [decoder_inputs] + [decoder_hidden_state_input,decoder_state_input_h, decoder_state_input_c],\n",
    "    [decoder_outputs2] + [state_h2, state_c2])"
   ]
  },
  {
   "cell_type": "code",
   "execution_count": 67,
   "id": "f200c767-63eb-4ca6-88a6-86ef18164137",
   "metadata": {
    "tags": []
   },
   "outputs": [],
   "source": [
    "def decode_sequence(input_seq):\n",
    "    # 입력으로부터 인코더의 상태를 얻음\n",
    "    e_out, e_h, e_c = encoder_model.predict(input_seq)\n",
    "\n",
    "     # <SOS>에 해당하는 토큰 생성\n",
    "    target_seq = np.zeros((1,1))\n",
    "    target_seq[0, 0] = tar_word_to_index['sostoken']\n",
    "\n",
    "    stop_condition = False\n",
    "    decoded_sentence = ''\n",
    "    while not stop_condition: # stop_condition이 True가 될 때까지 루프 반복\n",
    "\n",
    "        output_tokens, h, c = decoder_model.predict([target_seq] + [e_out, e_h, e_c])\n",
    "        sampled_token_index = np.argmax(output_tokens[0, -1, :])\n",
    "        sampled_token = tar_index_to_word[sampled_token_index]\n",
    "\n",
    "        if(sampled_token!='eostoken'):\n",
    "            decoded_sentence += ' '+sampled_token\n",
    "\n",
    "        #  <eos>에 도달하거나 최대 길이를 넘으면 중단.\n",
    "        if (sampled_token == 'eostoken'  or len(decoded_sentence.split()) >= (summary_max_len-1)):\n",
    "            stop_condition = True\n",
    "\n",
    "        # 길이가 1인 타겟 시퀀스를 업데이트\n",
    "        target_seq = np.zeros((1,1))\n",
    "        target_seq[0, 0] = sampled_token_index\n",
    "\n",
    "        # 상태를 업데이트 합니다.\n",
    "        e_h, e_c = h, c\n",
    "\n",
    "    return decoded_sentence\n"
   ]
  },
  {
   "cell_type": "code",
   "execution_count": 68,
   "id": "97189752-4d42-4902-be6f-2def7a61cde8",
   "metadata": {
    "tags": []
   },
   "outputs": [],
   "source": [
    "# 원문의 정수 시퀀스를 텍스트 시퀀스로 변환\n",
    "def seq2text(input_seq):\n",
    "    sentence=''\n",
    "    for i in input_seq:\n",
    "        if(i!=0):\n",
    "            sentence = sentence + src_index_to_word[i]+' '\n",
    "    return sentence\n",
    "\n",
    "# 요약문의 정수 시퀀스를 텍스트 시퀀스로 변환\n",
    "def seq2summary(input_seq):\n",
    "    sentence=''\n",
    "    for i in input_seq:\n",
    "        if((i!=0 and i!=tar_word_to_index['sostoken']) and i!=tar_word_to_index['eostoken']):\n",
    "            sentence = sentence + tar_index_to_word[i] + ' '\n",
    "    return sentence"
   ]
  },
  {
   "cell_type": "code",
   "execution_count": 70,
   "id": "65eb4c54-6480-4cb2-b776-e2b97d045aa7",
   "metadata": {
    "tags": []
   },
   "outputs": [
    {
     "name": "stdout",
     "output_type": "stream",
     "text": [
      "원문 :  product exactly presented arrived date stated ordering recommend anyone loved folgers drip coffee makers \n",
      "실제 요약문 : folgers cups for keurig \n",
      "1/1 [==============================] - 0s 71ms/step\n",
      "1/1 [==============================] - 0s 23ms/step\n",
      "1/1 [==============================] - 0s 21ms/step\n",
      "1/1 [==============================] - 0s 23ms/step\n",
      "1/1 [==============================] - 0s 22ms/step\n",
      "1/1 [==============================] - 0s 23ms/step\n",
      "1/1 [==============================] - 0s 23ms/step\n",
      "1/1 [==============================] - 0s 23ms/step\n",
      "예측 요약문 :  does amazing roast roast roast roast treats\n",
      "\n",
      "\n",
      "원문 :  love treats great training also put treat ball keep dog occupied home perfect size treat balls price great thanks \n",
      "실제 요약문 : great treats \n",
      "1/1 [==============================] - 0s 78ms/step\n",
      "1/1 [==============================] - 0s 22ms/step\n",
      "1/1 [==============================] - 0s 22ms/step\n",
      "1/1 [==============================] - 0s 22ms/step\n",
      "1/1 [==============================] - 0s 22ms/step\n",
      "1/1 [==============================] - 0s 23ms/step\n",
      "1/1 [==============================] - 0s 22ms/step\n",
      "1/1 [==============================] - 0s 22ms/step\n",
      "예측 요약문 :  does amazing roast roast roast roast treats\n",
      "\n",
      "\n",
      "원문 :  light flavorful definitely describes cup often find hard find flavored cups either strong lose flavor light would better drinking water however admit found new favorite hawaiian hazelnut \n",
      "실제 요약문 : my favorite cup yet \n",
      "1/1 [==============================] - 0s 71ms/step\n",
      "1/1 [==============================] - 0s 22ms/step\n",
      "1/1 [==============================] - 0s 24ms/step\n",
      "1/1 [==============================] - 0s 22ms/step\n",
      "1/1 [==============================] - 0s 23ms/step\n",
      "1/1 [==============================] - 0s 23ms/step\n",
      "1/1 [==============================] - 0s 22ms/step\n",
      "1/1 [==============================] - 0s 21ms/step\n",
      "예측 요약문 :  does amazing roast roast roast roast treats\n",
      "\n",
      "\n",
      "원문 :  like chai tea strong spicey tea perfect tried brands far favorite look forward drinking relaxing fragrant tea every day get home work \n",
      "실제 요약문 : my favorite tea very fragrant and spicey \n",
      "1/1 [==============================] - 0s 75ms/step\n",
      "1/1 [==============================] - 0s 22ms/step\n",
      "1/1 [==============================] - 0s 24ms/step\n",
      "1/1 [==============================] - 0s 23ms/step\n",
      "1/1 [==============================] - 0s 24ms/step\n",
      "1/1 [==============================] - 0s 24ms/step\n",
      "1/1 [==============================] - 0s 24ms/step\n",
      "1/1 [==============================] - 0s 25ms/step\n",
      "예측 요약문 :  does amazing roast roast roast roast treats\n",
      "\n",
      "\n",
      "원문 :  good need add anything brewed ice yummy really enjoyed ice coffee treat look forward flavors future hope \n",
      "실제 요약문 : creamy \n",
      "1/1 [==============================] - 0s 78ms/step\n",
      "1/1 [==============================] - 0s 23ms/step\n",
      "1/1 [==============================] - 0s 24ms/step\n",
      "1/1 [==============================] - 0s 25ms/step\n",
      "1/1 [==============================] - 0s 22ms/step\n",
      "1/1 [==============================] - 0s 23ms/step\n",
      "1/1 [==============================] - 0s 23ms/step\n",
      "1/1 [==============================] - 0s 24ms/step\n",
      "예측 요약문 :  does amazing roast roast roast roast treats\n",
      "\n",
      "\n",
      "원문 :  would many years ago seen glad find baked cheese nothing else flavor intensely cheesy bit salty side something buy outstanding carbohydrate restrictions also like portion control buy \n",
      "실제 요약문 : low carb cheesy snack must try \n",
      "1/1 [==============================] - 0s 73ms/step\n",
      "1/1 [==============================] - 0s 21ms/step\n",
      "1/1 [==============================] - 0s 23ms/step\n",
      "1/1 [==============================] - 0s 21ms/step\n",
      "1/1 [==============================] - 0s 21ms/step\n",
      "1/1 [==============================] - 0s 24ms/step\n",
      "1/1 [==============================] - 0s 23ms/step\n",
      "1/1 [==============================] - 0s 24ms/step\n",
      "예측 요약문 :  does amazing roast roast roast roast treats\n",
      "\n",
      "\n",
      "원문 :  coffee great flavor sure would say creme brulee good overpowering weak perfect \n",
      "실제 요약문 : wow \n",
      "1/1 [==============================] - 0s 75ms/step\n",
      "1/1 [==============================] - 0s 24ms/step\n",
      "1/1 [==============================] - 0s 24ms/step\n",
      "1/1 [==============================] - 0s 22ms/step\n",
      "1/1 [==============================] - 0s 24ms/step\n",
      "1/1 [==============================] - 0s 23ms/step\n",
      "1/1 [==============================] - 0s 24ms/step\n",
      "1/1 [==============================] - 0s 23ms/step\n",
      "예측 요약문 :  does amazing roast roast roast roast treats\n",
      "\n",
      "\n",
      "원문 :  hesitant buying something online could get local grocery store however ability read reviews kinds sugar products helped decision making others considering buying pack highly recommend whether work drink ton coffee like buying large quantity makes sense sugar also perfect complement coffee type bold mild \n",
      "실제 요약문 : great sugar \n",
      "1/1 [==============================] - 0s 81ms/step\n",
      "1/1 [==============================] - 0s 22ms/step\n",
      "1/1 [==============================] - 0s 23ms/step\n",
      "1/1 [==============================] - 0s 22ms/step\n",
      "1/1 [==============================] - 0s 23ms/step\n",
      "1/1 [==============================] - 0s 24ms/step\n",
      "1/1 [==============================] - 0s 23ms/step\n",
      "1/1 [==============================] - 0s 20ms/step\n",
      "예측 요약문 :  does amazing roast roast roast roast treats\n",
      "\n",
      "\n",
      "원문 :  made pancakes biscuits mix found mediocre best really tried like product taste far wanted break making things scratch worth \n",
      "실제 요약문 : it just does not taste that good \n",
      "1/1 [==============================] - 0s 77ms/step\n",
      "1/1 [==============================] - 0s 22ms/step\n",
      "1/1 [==============================] - 0s 21ms/step\n",
      "1/1 [==============================] - 0s 24ms/step\n",
      "1/1 [==============================] - 0s 23ms/step\n",
      "1/1 [==============================] - 0s 23ms/step\n",
      "1/1 [==============================] - 0s 21ms/step\n",
      "1/1 [==============================] - 0s 22ms/step\n",
      "예측 요약문 :  does amazing just roast roast roast roast\n",
      "\n",
      "\n",
      "원문 :  yeast choice delivering consistent tasty results prefer sweet yeast never failed give dryer results less one note caution take significant amount time finish said continue use patient good worth wait \n",
      "실제 요약문 : my of choice \n",
      "1/1 [==============================] - 0s 75ms/step\n",
      "1/1 [==============================] - 0s 23ms/step\n",
      "1/1 [==============================] - 0s 22ms/step\n",
      "1/1 [==============================] - 0s 23ms/step\n",
      "1/1 [==============================] - 0s 22ms/step\n",
      "1/1 [==============================] - 0s 21ms/step\n",
      "1/1 [==============================] - 0s 21ms/step\n",
      "1/1 [==============================] - 0s 22ms/step\n",
      "예측 요약문 :  does amazing just roast roast roast roast\n",
      "\n",
      "\n",
      "원문 :  absolute favorite flavor simply bar tasty seems stick longer bars calories lot protein sticks \n",
      "실제 요약문 : yum yum yum \n",
      "1/1 [==============================] - 0s 75ms/step\n",
      "1/1 [==============================] - 0s 22ms/step\n",
      "1/1 [==============================] - 0s 20ms/step\n",
      "1/1 [==============================] - 0s 22ms/step\n",
      "1/1 [==============================] - 0s 22ms/step\n",
      "1/1 [==============================] - 0s 21ms/step\n",
      "1/1 [==============================] - 0s 22ms/step\n",
      "1/1 [==============================] - 0s 20ms/step\n",
      "예측 요약문 :  does amazing roast roast roast roast treats\n",
      "\n",
      "\n",
      "원문 :  staff visitors alike love starbucks french roast however probably able afford got time enjoying lasts \n",
      "실제 요약문 : our loves this coffee \n",
      "1/1 [==============================] - 0s 79ms/step\n",
      "1/1 [==============================] - 0s 22ms/step\n",
      "1/1 [==============================] - 0s 22ms/step\n",
      "1/1 [==============================] - 0s 21ms/step\n",
      "1/1 [==============================] - 0s 24ms/step\n",
      "1/1 [==============================] - 0s 22ms/step\n",
      "1/1 [==============================] - 0s 23ms/step\n",
      "1/1 [==============================] - 0s 21ms/step\n",
      "예측 요약문 :  does amazing roast roast roast roast treats\n",
      "\n",
      "\n",
      "원문 :  soup like combination vegetable lentil spanish rice soups slightly texture though never add much water stars exact \n",
      "실제 요약문 : and better than expected \n",
      "1/1 [==============================] - 0s 105ms/step\n",
      "1/1 [==============================] - 0s 22ms/step\n",
      "1/1 [==============================] - 0s 22ms/step\n",
      "1/1 [==============================] - 0s 23ms/step\n",
      "1/1 [==============================] - 0s 21ms/step\n",
      "1/1 [==============================] - 0s 24ms/step\n",
      "1/1 [==============================] - 0s 21ms/step\n",
      "1/1 [==============================] - 0s 24ms/step\n",
      "예측 요약문 :  does just roast roast roast roast roast\n",
      "\n",
      "\n",
      "원문 :  found little peach flavor peach tea poor substitute twinings \n",
      "실제 요약문 : peach tea \n",
      "1/1 [==============================] - 0s 80ms/step\n",
      "1/1 [==============================] - 0s 27ms/step\n",
      "1/1 [==============================] - 0s 21ms/step\n",
      "1/1 [==============================] - 0s 24ms/step\n",
      "1/1 [==============================] - 0s 23ms/step\n",
      "1/1 [==============================] - 0s 24ms/step\n",
      "1/1 [==============================] - 0s 23ms/step\n",
      "1/1 [==============================] - 0s 22ms/step\n",
      "예측 요약문 :  does amazing roast roast roast roast treats\n",
      "\n",
      "\n",
      "원문 :  kellogg raisin bran perfect balance bran flakes lots juicy slightly sugared raisins sweet cereal people always like sweet cereal classic \n",
      "실제 요약문 : gotta love it \n",
      "1/1 [==============================] - 0s 79ms/step\n",
      "1/1 [==============================] - 0s 22ms/step\n",
      "1/1 [==============================] - 0s 22ms/step\n",
      "1/1 [==============================] - 0s 24ms/step\n",
      "1/1 [==============================] - 0s 24ms/step\n",
      "1/1 [==============================] - 0s 25ms/step\n",
      "1/1 [==============================] - 0s 24ms/step\n",
      "1/1 [==============================] - 0s 23ms/step\n",
      "예측 요약문 :  does amazing roast roast roast roast treats\n",
      "\n",
      "\n",
      "원문 :  deal overpriced whole peppercorns quality local supermarket decided give amazon grocery price quality peppercorns better supermarket cons lifetime supply peppercorns use much still amazon grocery appears superior way get spices mark lack quantity control lower selection certain items \n",
      "실제 요약문 : much better than you local supermarket \n",
      "1/1 [==============================] - 0s 80ms/step\n",
      "1/1 [==============================] - 0s 24ms/step\n",
      "1/1 [==============================] - 0s 25ms/step\n",
      "1/1 [==============================] - 0s 25ms/step\n",
      "1/1 [==============================] - 0s 24ms/step\n",
      "1/1 [==============================] - 0s 25ms/step\n",
      "1/1 [==============================] - 0s 24ms/step\n",
      "1/1 [==============================] - 0s 23ms/step\n",
      "예측 요약문 :  does amazing roast roast roast roast treats\n",
      "\n",
      "\n",
      "원문 :  month old loves mash ups flavors also loves brands may slightly tastier cost much \n",
      "실제 요약문 : and delicious and affordable too \n",
      "1/1 [==============================] - 0s 79ms/step\n",
      "1/1 [==============================] - 0s 22ms/step\n",
      "1/1 [==============================] - 0s 22ms/step\n",
      "1/1 [==============================] - 0s 23ms/step\n",
      "1/1 [==============================] - 0s 22ms/step\n",
      "1/1 [==============================] - 0s 23ms/step\n",
      "1/1 [==============================] - 0s 24ms/step\n",
      "1/1 [==============================] - 0s 23ms/step\n",
      "예측 요약문 :  does amazing roast roast roast roast treats\n",
      "\n",
      "\n",
      "원문 :  two versions tea one organic without artificial flavor original version artificial flavor artificial cinnamon gives wonderful taste organic bland bothered artificial flavor buy version \n",
      "실제 요약문 : artificial flavor not problem \n",
      "1/1 [==============================] - 0s 82ms/step\n",
      "1/1 [==============================] - 0s 22ms/step\n",
      "1/1 [==============================] - 0s 22ms/step\n",
      "1/1 [==============================] - 0s 23ms/step\n",
      "1/1 [==============================] - 0s 21ms/step\n",
      "1/1 [==============================] - 0s 21ms/step\n",
      "1/1 [==============================] - 0s 23ms/step\n",
      "1/1 [==============================] - 0s 22ms/step\n",
      "예측 요약문 :  does amazing roast roast roast roast treats\n",
      "\n",
      "\n",
      "원문 :  bought item concerned increasing cost cups find amazon com great item use coffee per cup \n",
      "실제 요약문 : awesome product \n",
      "1/1 [==============================] - 0s 79ms/step\n",
      "1/1 [==============================] - 0s 23ms/step\n",
      "1/1 [==============================] - 0s 22ms/step\n",
      "1/1 [==============================] - 0s 24ms/step\n",
      "1/1 [==============================] - 0s 22ms/step\n",
      "1/1 [==============================] - 0s 24ms/step\n",
      "1/1 [==============================] - 0s 22ms/step\n",
      "1/1 [==============================] - 0s 23ms/step\n",
      "예측 요약문 :  does amazing roast roast roast roast treats\n",
      "\n",
      "\n",
      "원문 :  cats really love cats munch buying walmart seem changing product line sometimes cannot get \n",
      "실제 요약문 : cats love this food \n",
      "1/1 [==============================] - 0s 80ms/step\n",
      "1/1 [==============================] - 0s 23ms/step\n",
      "1/1 [==============================] - 0s 24ms/step\n",
      "1/1 [==============================] - 0s 21ms/step\n",
      "1/1 [==============================] - 0s 23ms/step\n",
      "1/1 [==============================] - 0s 23ms/step\n",
      "1/1 [==============================] - 0s 22ms/step\n",
      "1/1 [==============================] - 0s 21ms/step\n",
      "예측 요약문 :  does amazing just roast roast roast roast\n",
      "\n",
      "\n",
      "원문 :  favorite soup since child many many years ago still heat eat smaller oz least week comfort food husband also likes soup one smaller oz cans enough two people thrilled campbell came oz open one large fix enough yummy creamy delicious soup us satisfied large bowls soup get \n",
      "실제 요약문 : creamy and delicious \n",
      "1/1 [==============================] - 0s 79ms/step\n",
      "1/1 [==============================] - 0s 26ms/step\n",
      "1/1 [==============================] - 0s 22ms/step\n",
      "1/1 [==============================] - 0s 25ms/step\n",
      "1/1 [==============================] - 0s 22ms/step\n",
      "1/1 [==============================] - 0s 24ms/step\n",
      "1/1 [==============================] - 0s 23ms/step\n",
      "1/1 [==============================] - 0s 22ms/step\n",
      "예측 요약문 :  does amazing roast roast roast roast treats\n",
      "\n",
      "\n",
      "원문 :  know stomach eat ended throwing away wants bag white worms cannot get beyond look things black worms \n",
      "실제 요약문 : its miracle anyone would eat this \n",
      "1/1 [==============================] - 0s 81ms/step\n",
      "1/1 [==============================] - 0s 22ms/step\n",
      "1/1 [==============================] - 0s 22ms/step\n",
      "1/1 [==============================] - 0s 24ms/step\n",
      "1/1 [==============================] - 0s 23ms/step\n",
      "1/1 [==============================] - 0s 22ms/step\n",
      "1/1 [==============================] - 0s 24ms/step\n",
      "1/1 [==============================] - 0s 22ms/step\n",
      "예측 요약문 :  does just roast roast roast roast roast\n",
      "\n",
      "\n",
      "원문 :  idea heat unit kind doubt frontier either hey proof spicy works one teaspoon makes four quarts chili nice toasty two tsp make killer hot local co op food store carries frontier brand spices sell crap satisfied \n",
      "실제 요약문 : this pepper is as advertised hot \n",
      "1/1 [==============================] - 0s 81ms/step\n",
      "1/1 [==============================] - 0s 23ms/step\n",
      "1/1 [==============================] - 0s 23ms/step\n",
      "1/1 [==============================] - 0s 23ms/step\n",
      "1/1 [==============================] - 0s 24ms/step\n",
      "1/1 [==============================] - 0s 23ms/step\n",
      "1/1 [==============================] - 0s 22ms/step\n",
      "1/1 [==============================] - 0s 22ms/step\n",
      "예측 요약문 :  does just roast roast roast roast roast\n",
      "\n",
      "\n",
      "원문 :  jimmies sprinkles best love soft unlike hard sprinkles get stuck teeth lol great buy better deal anywhere else \n",
      "실제 요약문 : great price and delicious sprinkles \n",
      "1/1 [==============================] - 0s 85ms/step\n",
      "1/1 [==============================] - 0s 22ms/step\n",
      "1/1 [==============================] - 0s 21ms/step\n",
      "1/1 [==============================] - 0s 25ms/step\n",
      "1/1 [==============================] - 0s 21ms/step\n",
      "1/1 [==============================] - 0s 20ms/step\n",
      "1/1 [==============================] - 0s 22ms/step\n",
      "1/1 [==============================] - 0s 23ms/step\n",
      "예측 요약문 :  does amazing roast roast roast roast treats\n",
      "\n",
      "\n",
      "원문 :  peach flavored tea one family favorites peach taste right strong syrupy tasting also chemical taste sometimes happens artificially sweetened drinks really easy make pour two packs large pitcher stir keep refrigerator always nice cold drink refreshing shop price sale local supermarket buy packs six dollars \n",
      "실제 요약문 : delicious iced tea \n",
      "1/1 [==============================] - 0s 80ms/step\n",
      "1/1 [==============================] - 0s 24ms/step\n",
      "1/1 [==============================] - 0s 25ms/step\n",
      "1/1 [==============================] - 0s 22ms/step\n",
      "1/1 [==============================] - 0s 23ms/step\n",
      "1/1 [==============================] - 0s 22ms/step\n",
      "1/1 [==============================] - 0s 23ms/step\n",
      "1/1 [==============================] - 0s 23ms/step\n",
      "예측 요약문 :  does amazing roast roast roast roast treats\n",
      "\n",
      "\n",
      "원문 :  love tea combined russian caravan blend assam combined hint lapsang souchong oolong delicious like knowing exactly teas blend purchased blends give details labels \n",
      "실제 요약문 : love it \n",
      "1/1 [==============================] - 0s 81ms/step\n",
      "1/1 [==============================] - 0s 24ms/step\n",
      "1/1 [==============================] - 0s 23ms/step\n",
      "1/1 [==============================] - 0s 22ms/step\n",
      "1/1 [==============================] - 0s 23ms/step\n",
      "1/1 [==============================] - 0s 22ms/step\n",
      "1/1 [==============================] - 0s 23ms/step\n",
      "1/1 [==============================] - 0s 23ms/step\n",
      "예측 요약문 :  does amazing roast roast roast roast treats\n",
      "\n",
      "\n",
      "원문 :  drink lots hot tea confuse lipton tea find grocery comparison good stuff bought local farmers market since closed one else carries ordered amazon specify yellow label tea \n",
      "실제 요약문 : tea \n",
      "1/1 [==============================] - 0s 84ms/step\n",
      "1/1 [==============================] - 0s 22ms/step\n",
      "1/1 [==============================] - 0s 29ms/step\n",
      "1/1 [==============================] - 0s 23ms/step\n",
      "1/1 [==============================] - 0s 22ms/step\n",
      "1/1 [==============================] - 0s 22ms/step\n",
      "1/1 [==============================] - 0s 23ms/step\n",
      "1/1 [==============================] - 0s 23ms/step\n",
      "예측 요약문 :  does amazing roast roast roast roast treats\n",
      "\n",
      "\n",
      "원문 :  love bars discovered years ago needed eat foods better glycemic response great really keep satisfied auto delivery plan much cheaper grocery store used try wait went sale grocery store amazon auto delivery cheap price wish would make little healthier stop palm kernel oil little less sugar would suit better \n",
      "실제 요약문 : love these cannot stop buying them \n",
      "1/1 [==============================] - 0s 86ms/step\n",
      "1/1 [==============================] - 0s 23ms/step\n",
      "1/1 [==============================] - 0s 21ms/step\n",
      "1/1 [==============================] - 0s 22ms/step\n",
      "1/1 [==============================] - 0s 22ms/step\n",
      "1/1 [==============================] - 0s 22ms/step\n",
      "1/1 [==============================] - 0s 23ms/step\n",
      "1/1 [==============================] - 0s 24ms/step\n",
      "예측 요약문 :  does amazing roast roast roast roast treats\n",
      "\n",
      "\n",
      "원문 :  product buy less website buy product \n",
      "실제 요약문 : rip off \n",
      "1/1 [==============================] - 0s 86ms/step\n",
      "1/1 [==============================] - 0s 21ms/step\n",
      "1/1 [==============================] - 0s 25ms/step\n",
      "1/1 [==============================] - 0s 21ms/step\n",
      "1/1 [==============================] - 0s 22ms/step\n",
      "1/1 [==============================] - 0s 23ms/step\n",
      "1/1 [==============================] - 0s 21ms/step\n",
      "1/1 [==============================] - 0s 22ms/step\n",
      "예측 요약문 :  does amazing roast roast roast roast treats\n",
      "\n",
      "\n",
      "원문 :  like boxed meals require refrigeration handy office quick lunches tried taco bell meals tend dry processed tasting healthy choice take little worth time taste better rice pasta taste feel like natural kind \n",
      "실제 요약문 : better than \n",
      "1/1 [==============================] - 0s 87ms/step\n",
      "1/1 [==============================] - 0s 22ms/step\n",
      "1/1 [==============================] - 0s 21ms/step\n",
      "1/1 [==============================] - 0s 24ms/step\n",
      "1/1 [==============================] - 0s 22ms/step\n",
      "1/1 [==============================] - 0s 22ms/step\n",
      "1/1 [==============================] - 0s 23ms/step\n",
      "1/1 [==============================] - 0s 22ms/step\n",
      "예측 요약문 :  does amazing roast roast roast roast treats\n",
      "\n",
      "\n",
      "원문 :  dachshund dog loves toy loves us put dog food kibble hours knows exactly get cookies jug rolls get solid surface upside gets cookies toy great two dogs usually always fighting share toys dachshund like toy strongly recommend toy \n",
      "실제 요약문 : of fun \n",
      "1/1 [==============================] - 0s 93ms/step\n",
      "1/1 [==============================] - 0s 23ms/step\n",
      "1/1 [==============================] - 0s 23ms/step\n",
      "1/1 [==============================] - 0s 23ms/step\n",
      "1/1 [==============================] - 0s 25ms/step\n",
      "1/1 [==============================] - 0s 23ms/step\n",
      "1/1 [==============================] - 0s 23ms/step\n",
      "1/1 [==============================] - 0s 23ms/step\n",
      "예측 요약문 :  does amazing just roast roast roast roast\n",
      "\n",
      "\n",
      "원문 :  coffee best decaf coffee ever taste finally found coffee trying dozens decaf coffees rich flavorful would know decaf coffee \n",
      "실제 요약문 : decaf whole bean coffee \n",
      "1/1 [==============================] - 0s 93ms/step\n",
      "1/1 [==============================] - 0s 22ms/step\n",
      "1/1 [==============================] - 0s 25ms/step\n",
      "1/1 [==============================] - 0s 22ms/step\n",
      "1/1 [==============================] - 0s 23ms/step\n",
      "1/1 [==============================] - 0s 22ms/step\n",
      "1/1 [==============================] - 0s 22ms/step\n",
      "1/1 [==============================] - 0s 24ms/step\n",
      "예측 요약문 :  does amazing roast roast roast roast treats\n",
      "\n",
      "\n",
      "원문 :  really liked product almonds right amount chocolate dust add flavor sweeten experience need worry melting hands etc kept car ate couple day way home work know dinner time highly recommended \n",
      "실제 요약문 : nutty and delicious \n",
      "1/1 [==============================] - 0s 95ms/step\n",
      "1/1 [==============================] - 0s 24ms/step\n",
      "1/1 [==============================] - 0s 23ms/step\n",
      "1/1 [==============================] - 0s 23ms/step\n",
      "1/1 [==============================] - 0s 24ms/step\n",
      "1/1 [==============================] - 0s 23ms/step\n",
      "1/1 [==============================] - 0s 24ms/step\n",
      "1/1 [==============================] - 0s 23ms/step\n",
      "예측 요약문 :  does amazing roast roast roast roast treats\n",
      "\n",
      "\n",
      "원문 :  worked well hot air popper kernels popped except popcorn taste good little salt overall worth price \n",
      "실제 요약문 : great product \n",
      "1/1 [==============================] - 0s 93ms/step\n",
      "1/1 [==============================] - 0s 23ms/step\n",
      "1/1 [==============================] - 0s 24ms/step\n",
      "1/1 [==============================] - 0s 24ms/step\n",
      "1/1 [==============================] - 0s 26ms/step\n",
      "1/1 [==============================] - 0s 24ms/step\n",
      "1/1 [==============================] - 0s 21ms/step\n",
      "1/1 [==============================] - 0s 23ms/step\n",
      "예측 요약문 :  does amazing roast roast roast roast treats\n",
      "\n",
      "\n",
      "원문 :  organic pomegranate gluten free hard candies ounce bags found item store bit expensive really great checked amazon pleased offered item great price scheduled deliveries excellent product excellent price service amazon \n",
      "실제 요약문 : excellent \n",
      "1/1 [==============================] - 0s 99ms/step\n",
      "1/1 [==============================] - 0s 22ms/step\n",
      "1/1 [==============================] - 0s 23ms/step\n",
      "1/1 [==============================] - 0s 23ms/step\n",
      "1/1 [==============================] - 0s 25ms/step\n",
      "1/1 [==============================] - 0s 23ms/step\n",
      "1/1 [==============================] - 0s 21ms/step\n",
      "1/1 [==============================] - 0s 24ms/step\n",
      "예측 요약문 :  does amazing just roast roast roast roast\n",
      "\n",
      "\n",
      "원문 :  bought along several ann hot cocoas blue pink hot chocolate came dented cans sure came seller way happened shipping process decided keep anyway set hot cocoas sticker wrapped around tin actual tin kids seem love turns blue touches milk water \n",
      "실제 요약문 : not impressed \n",
      "1/1 [==============================] - 0s 100ms/step\n",
      "1/1 [==============================] - 0s 22ms/step\n",
      "1/1 [==============================] - 0s 23ms/step\n",
      "1/1 [==============================] - 0s 23ms/step\n",
      "1/1 [==============================] - 0s 25ms/step\n",
      "1/1 [==============================] - 0s 24ms/step\n",
      "1/1 [==============================] - 0s 23ms/step\n",
      "1/1 [==============================] - 0s 23ms/step\n",
      "예측 요약문 :  does amazing roast roast roast roast treats\n",
      "\n",
      "\n",
      "원문 :  tried lot coconut oils best ever tastes amazing reason lighter taste cold pressed extra virgin cook eat straight jar put lips face make yummy desserts healthy \n",
      "실제 요약문 : the best have ever had \n",
      "1/1 [==============================] - 0s 97ms/step\n",
      "1/1 [==============================] - 0s 23ms/step\n",
      "1/1 [==============================] - 0s 22ms/step\n",
      "1/1 [==============================] - 0s 27ms/step\n",
      "1/1 [==============================] - 0s 22ms/step\n",
      "1/1 [==============================] - 0s 25ms/step\n",
      "1/1 [==============================] - 0s 25ms/step\n",
      "1/1 [==============================] - 0s 22ms/step\n",
      "예측 요약문 :  does amazing roast roast roast roast treats\n",
      "\n",
      "\n",
      "원문 :  wonderful exactly like originals miniature form delicious crispy wonderful amaretto flavor rapid shipping seller well \n",
      "실제 요약문 : just what wanted \n",
      "1/1 [==============================] - 0s 99ms/step\n",
      "1/1 [==============================] - 0s 21ms/step\n",
      "1/1 [==============================] - 0s 23ms/step\n",
      "1/1 [==============================] - 0s 23ms/step\n",
      "1/1 [==============================] - 0s 25ms/step\n",
      "1/1 [==============================] - 0s 22ms/step\n",
      "1/1 [==============================] - 0s 24ms/step\n",
      "1/1 [==============================] - 0s 22ms/step\n",
      "예측 요약문 :  does amazing roast roast roast roast treats\n",
      "\n",
      "\n",
      "원문 :  brush dogs teeth morning feed day evening time give greenie eats clean teeth breath give sardine oil meal works great fish breath loves greenies \n",
      "실제 요약문 : teenie lite greenies \n",
      "1/1 [==============================] - 0s 96ms/step\n",
      "1/1 [==============================] - 0s 22ms/step\n",
      "1/1 [==============================] - 0s 24ms/step\n",
      "1/1 [==============================] - 0s 24ms/step\n",
      "1/1 [==============================] - 0s 24ms/step\n",
      "1/1 [==============================] - 0s 22ms/step\n",
      "1/1 [==============================] - 0s 23ms/step\n",
      "1/1 [==============================] - 0s 21ms/step\n",
      "예측 요약문 :  does amazing roast roast roast roast treats\n",
      "\n",
      "\n",
      "원문 :  thrilled sugar bees use cupcakes held baby shower theme focused food decor honey bees things wood cupcakes looked like dripping honey bees perfect size place couple \n",
      "실제 요약문 : cake \n",
      "1/1 [==============================] - 0s 96ms/step\n",
      "1/1 [==============================] - 0s 23ms/step\n",
      "1/1 [==============================] - 0s 22ms/step\n",
      "1/1 [==============================] - 0s 22ms/step\n",
      "1/1 [==============================] - 0s 24ms/step\n",
      "1/1 [==============================] - 0s 24ms/step\n",
      "1/1 [==============================] - 0s 22ms/step\n",
      "1/1 [==============================] - 0s 23ms/step\n",
      "예측 요약문 :  does amazing roast roast roast roast treats\n",
      "\n",
      "\n",
      "원문 :  ordered amazon could find locally mom constantly used said kept dry mouth bay fast service mom \n",
      "실제 요약문 : mom loved them \n",
      "1/1 [==============================] - 0s 107ms/step\n",
      "1/1 [==============================] - 0s 23ms/step\n",
      "1/1 [==============================] - 0s 22ms/step\n",
      "1/1 [==============================] - 0s 21ms/step\n",
      "1/1 [==============================] - 0s 22ms/step\n",
      "1/1 [==============================] - 0s 24ms/step\n",
      "1/1 [==============================] - 0s 22ms/step\n",
      "1/1 [==============================] - 0s 24ms/step\n",
      "예측 요약문 :  does amazing roast roast roast roast treats\n",
      "\n",
      "\n",
      "원문 :  great ham guest wanted know purchased get occasions also christmas \n",
      "실제 요약문 : do not leave off holiday list \n",
      "1/1 [==============================] - 0s 94ms/step\n",
      "1/1 [==============================] - 0s 21ms/step\n",
      "1/1 [==============================] - 0s 23ms/step\n",
      "1/1 [==============================] - 0s 22ms/step\n",
      "1/1 [==============================] - 0s 23ms/step\n",
      "1/1 [==============================] - 0s 24ms/step\n",
      "1/1 [==============================] - 0s 23ms/step\n",
      "1/1 [==============================] - 0s 22ms/step\n",
      "예측 요약문 :  does amazing roast roast roast roast treats\n",
      "\n",
      "\n",
      "원문 :  best tasted hands wife makes dip everyone tried far also really good hot dogs allot protein content \n",
      "실제 요약문 : best chili ever \n",
      "1/1 [==============================] - 0s 92ms/step\n",
      "1/1 [==============================] - 0s 23ms/step\n",
      "1/1 [==============================] - 0s 23ms/step\n",
      "1/1 [==============================] - 0s 24ms/step\n",
      "1/1 [==============================] - 0s 23ms/step\n",
      "1/1 [==============================] - 0s 23ms/step\n",
      "1/1 [==============================] - 0s 23ms/step\n",
      "1/1 [==============================] - 0s 23ms/step\n",
      "예측 요약문 :  does amazing roast roast roast roast treats\n",
      "\n",
      "\n",
      "원문 :  would never heard sauce found web tried hands best pizza sauce buy literally eat spoon good brand family buys anymore using several years homemade pizza \n",
      "실제 요약문 : amazing sauce delicious \n",
      "1/1 [==============================] - 0s 91ms/step\n",
      "1/1 [==============================] - 0s 22ms/step\n",
      "1/1 [==============================] - 0s 23ms/step\n",
      "1/1 [==============================] - 0s 25ms/step\n",
      "1/1 [==============================] - 0s 22ms/step\n",
      "1/1 [==============================] - 0s 22ms/step\n",
      "1/1 [==============================] - 0s 23ms/step\n",
      "1/1 [==============================] - 0s 20ms/step\n",
      "예측 요약문 :  does amazing roast roast roast roast treats\n",
      "\n",
      "\n",
      "원문 :  filled capsules yesterday coffee little messy used capsules morning worked fine lot less expensive buying capsules company \n",
      "실제 요약문 : for nespresso coffee machine \n",
      "1/1 [==============================] - 0s 92ms/step\n",
      "1/1 [==============================] - 0s 22ms/step\n",
      "1/1 [==============================] - 0s 23ms/step\n",
      "1/1 [==============================] - 0s 23ms/step\n",
      "1/1 [==============================] - 0s 23ms/step\n",
      "1/1 [==============================] - 0s 23ms/step\n",
      "1/1 [==============================] - 0s 24ms/step\n",
      "1/1 [==============================] - 0s 21ms/step\n",
      "예측 요약문 :  does amazing roast roast roast roast treats\n",
      "\n",
      "\n",
      "원문 :  popcorn excellent hulls pops almost completely good flavor quite expensive popcorn goes \n",
      "실제 요약문 : excellent popcorn fairly expensive \n",
      "1/1 [==============================] - 0s 115ms/step\n",
      "1/1 [==============================] - 0s 23ms/step\n",
      "1/1 [==============================] - 0s 24ms/step\n",
      "1/1 [==============================] - 0s 23ms/step\n",
      "1/1 [==============================] - 0s 24ms/step\n",
      "1/1 [==============================] - 0s 23ms/step\n",
      "1/1 [==============================] - 0s 23ms/step\n",
      "1/1 [==============================] - 0s 23ms/step\n",
      "예측 요약문 :  does amazing roast roast roast roast treats\n",
      "\n",
      "\n",
      "원문 :  one much flavor split pea still good found thick satisfying \n",
      "실제 요약문 : very filling \n",
      "1/1 [==============================] - 0s 89ms/step\n",
      "1/1 [==============================] - 0s 22ms/step\n",
      "1/1 [==============================] - 0s 24ms/step\n",
      "1/1 [==============================] - 0s 23ms/step\n",
      "1/1 [==============================] - 0s 23ms/step\n",
      "1/1 [==============================] - 0s 24ms/step\n",
      "1/1 [==============================] - 0s 23ms/step\n",
      "1/1 [==============================] - 0s 24ms/step\n",
      "예측 요약문 :  does amazing roast roast roast roast treats\n",
      "\n",
      "\n",
      "원문 :  grandson gluten allergy led cookies animal cookies christmas gift children family entire family loves real test gluten consuming individuals past test recently came afternoon son years old looked hungry offered cookies dad almost wiped bag good cookies \n",
      "실제 요약문 : great cookies \n",
      "1/1 [==============================] - 0s 92ms/step\n",
      "1/1 [==============================] - 0s 24ms/step\n",
      "1/1 [==============================] - 0s 23ms/step\n",
      "1/1 [==============================] - 0s 21ms/step\n",
      "1/1 [==============================] - 0s 22ms/step\n",
      "1/1 [==============================] - 0s 24ms/step\n",
      "1/1 [==============================] - 0s 23ms/step\n",
      "1/1 [==============================] - 0s 24ms/step\n",
      "예측 요약문 :  does just roast roast roast roast roast\n",
      "\n",
      "\n",
      "원문 :  little disappointed first made muffins let bread machine make bake loaf ok next try mixing baking oven keep mind though potato bread dense heavier say white bread convenient plus \n",
      "실제 요약문 : potato bread mix \n",
      "1/1 [==============================] - 0s 111ms/step\n",
      "1/1 [==============================] - 0s 39ms/step\n",
      "1/1 [==============================] - 0s 23ms/step\n",
      "1/1 [==============================] - 0s 25ms/step\n",
      "1/1 [==============================] - 0s 24ms/step\n",
      "1/1 [==============================] - 0s 23ms/step\n",
      "1/1 [==============================] - 0s 22ms/step\n",
      "1/1 [==============================] - 0s 24ms/step\n",
      "예측 요약문 :  does amazing just roast roast roast roast\n",
      "\n",
      "\n",
      "원문 :  enjoyed cookies much fact saw sale grocery store bought good stuff \n",
      "실제 요약문 : excellent cookies \n",
      "1/1 [==============================] - 0s 95ms/step\n",
      "1/1 [==============================] - 0s 23ms/step\n",
      "1/1 [==============================] - 0s 23ms/step\n",
      "1/1 [==============================] - 0s 23ms/step\n",
      "1/1 [==============================] - 0s 23ms/step\n",
      "1/1 [==============================] - 0s 25ms/step\n",
      "1/1 [==============================] - 0s 24ms/step\n",
      "1/1 [==============================] - 0s 22ms/step\n",
      "예측 요약문 :  does amazing roast roast roast roast treats\n",
      "\n",
      "\n",
      "원문 :  delicious satisfying coffee inviting aroma good stand favorite sumatra whenever want temporary alternative price good amazon \n",
      "실제 요약문 : surprisingly delicious \n",
      "1/1 [==============================] - 0s 91ms/step\n",
      "1/1 [==============================] - 0s 22ms/step\n",
      "1/1 [==============================] - 0s 24ms/step\n",
      "1/1 [==============================] - 0s 23ms/step\n",
      "1/1 [==============================] - 0s 24ms/step\n",
      "1/1 [==============================] - 0s 24ms/step\n",
      "1/1 [==============================] - 0s 23ms/step\n",
      "1/1 [==============================] - 0s 22ms/step\n",
      "예측 요약문 :  does amazing roast roast roast roast treats\n",
      "\n",
      "\n",
      "원문 :  satisfactory price firm eggs tad much salt still delightful use product \n",
      "실제 요약문 : caviar \n",
      "1/1 [==============================] - 0s 98ms/step\n",
      "1/1 [==============================] - 0s 23ms/step\n",
      "1/1 [==============================] - 0s 52ms/step\n",
      "1/1 [==============================] - 0s 22ms/step\n",
      "1/1 [==============================] - 0s 24ms/step\n",
      "1/1 [==============================] - 0s 24ms/step\n",
      "1/1 [==============================] - 0s 23ms/step\n",
      "1/1 [==============================] - 0s 24ms/step\n",
      "예측 요약문 :  does amazing roast roast roast roast treats\n",
      "\n",
      "\n",
      "원문 :  usually like timothy coffees thought sure would like hazelnut version taste smell like hazelnut coffee drink think van houtte gloria jeans makes better version \n",
      "실제 요약문 : do not taste the hazelnut \n",
      "1/1 [==============================] - 0s 94ms/step\n",
      "1/1 [==============================] - 0s 24ms/step\n",
      "1/1 [==============================] - 0s 23ms/step\n",
      "1/1 [==============================] - 0s 25ms/step\n",
      "1/1 [==============================] - 0s 23ms/step\n",
      "1/1 [==============================] - 0s 22ms/step\n",
      "1/1 [==============================] - 0s 24ms/step\n",
      "1/1 [==============================] - 0s 24ms/step\n",
      "예측 요약문 :  does amazing roast roast roast roast treats\n",
      "\n",
      "\n",
      "원문 :  mix makes delicious pancakes gluten eating family wanted mine instead also make sausage balls biscuits biscuits gravy good \n",
      "실제 요약문 : best pancakes \n",
      "1/1 [==============================] - 0s 93ms/step\n",
      "1/1 [==============================] - 0s 23ms/step\n",
      "1/1 [==============================] - 0s 22ms/step\n",
      "1/1 [==============================] - 0s 24ms/step\n",
      "1/1 [==============================] - 0s 24ms/step\n",
      "1/1 [==============================] - 0s 24ms/step\n",
      "1/1 [==============================] - 0s 24ms/step\n",
      "1/1 [==============================] - 0s 24ms/step\n",
      "예측 요약문 :  does amazing roast roast roast roast treats\n",
      "\n",
      "\n",
      "원문 :  bought heinz pudding mainly curiosity heard years never tasted found quite good \n",
      "실제 요약문 : delicious \n",
      "1/1 [==============================] - 0s 94ms/step\n",
      "1/1 [==============================] - 0s 24ms/step\n",
      "1/1 [==============================] - 0s 27ms/step\n",
      "1/1 [==============================] - 0s 23ms/step\n",
      "1/1 [==============================] - 0s 26ms/step\n",
      "1/1 [==============================] - 0s 24ms/step\n",
      "1/1 [==============================] - 0s 24ms/step\n",
      "1/1 [==============================] - 0s 24ms/step\n",
      "예측 요약문 :  does amazing roast roast roast roast treats\n",
      "\n",
      "\n",
      "원문 :  smart fries oz flavor variety fries going staple household one ounce bag almost one eat lunch tried jalepeno cheddar honey mustard bar que far flavors delish jalepeno good maybe little much kick would recommended anyone looking calorie snack percent less fat regular chips awesome \n",
      "실제 요약문 : guilt free snack \n",
      "1/1 [==============================] - 0s 99ms/step\n",
      "1/1 [==============================] - 0s 24ms/step\n",
      "1/1 [==============================] - 0s 24ms/step\n",
      "1/1 [==============================] - 0s 24ms/step\n",
      "1/1 [==============================] - 0s 23ms/step\n",
      "1/1 [==============================] - 0s 26ms/step\n",
      "1/1 [==============================] - 0s 28ms/step\n",
      "1/1 [==============================] - 0s 22ms/step\n",
      "예측 요약문 :  does amazing just roast roast roast roast\n",
      "\n",
      "\n",
      "원문 :  husband absolutely loves sauce picked way ca bought next trip adds great flavor tacos eggs potatoes breakfast burrito lots \n",
      "실제 요약문 : great flavor \n",
      "1/1 [==============================] - 0s 100ms/step\n",
      "1/1 [==============================] - 0s 24ms/step\n",
      "1/1 [==============================] - 0s 26ms/step\n",
      "1/1 [==============================] - 0s 25ms/step\n",
      "1/1 [==============================] - 0s 24ms/step\n",
      "1/1 [==============================] - 0s 26ms/step\n",
      "1/1 [==============================] - 0s 24ms/step\n",
      "1/1 [==============================] - 0s 22ms/step\n",
      "예측 요약문 :  does amazing roast roast roast roast treats\n",
      "\n",
      "\n",
      "원문 :  great tasting tea good also jasmine lemon flavored green tea superb \n",
      "실제 요약문 : bigelow green tea \n",
      "1/1 [==============================] - 0s 106ms/step\n",
      "1/1 [==============================] - 0s 26ms/step\n",
      "1/1 [==============================] - 0s 22ms/step\n",
      "1/1 [==============================] - 0s 24ms/step\n",
      "1/1 [==============================] - 0s 24ms/step\n",
      "1/1 [==============================] - 0s 24ms/step\n",
      "1/1 [==============================] - 0s 23ms/step\n",
      "1/1 [==============================] - 0s 23ms/step\n",
      "예측 요약문 :  does amazing roast roast roast roast treats\n",
      "\n",
      "\n",
      "원문 :  bars good honestly real banana bread oven got voxbox mail given one try anyway real banana bread oven baking tried bar soft chewy full banana flavor great nutty top later cut banana bread disappointed wasnt nearly good quaker bar \n",
      "실제 요약문 : amazingly delicious \n",
      "1/1 [==============================] - 0s 102ms/step\n",
      "1/1 [==============================] - 0s 23ms/step\n",
      "1/1 [==============================] - 0s 23ms/step\n",
      "1/1 [==============================] - 0s 23ms/step\n",
      "1/1 [==============================] - 0s 30ms/step\n",
      "1/1 [==============================] - 0s 25ms/step\n",
      "1/1 [==============================] - 0s 23ms/step\n",
      "1/1 [==============================] - 0s 22ms/step\n",
      "예측 요약문 :  does amazing roast roast roast roast treats\n",
      "\n",
      "\n",
      "원문 :  make loose tea coffeemaker never used coffee use filters hold tea tea fresh flavorful wont believe dust tea teabags real tea dont understand loose tea available everywhere glad found source price reasonable especially compared loose teas google search loose tea found \n",
      "실제 요약문 : the very best way to drink tea \n",
      "1/1 [==============================] - 0s 98ms/step\n",
      "1/1 [==============================] - 0s 24ms/step\n",
      "1/1 [==============================] - 0s 23ms/step\n",
      "1/1 [==============================] - 0s 24ms/step\n",
      "1/1 [==============================] - 0s 23ms/step\n",
      "1/1 [==============================] - 0s 22ms/step\n",
      "1/1 [==============================] - 0s 24ms/step\n",
      "1/1 [==============================] - 0s 27ms/step\n",
      "예측 요약문 :  does amazing roast roast roast roast treats\n",
      "\n",
      "\n",
      "원문 :  gave beagles pretty picky ate nice low calorie since dogs kind \n",
      "실제 요약문 : dogs love them \n",
      "1/1 [==============================] - 0s 95ms/step\n",
      "1/1 [==============================] - 0s 22ms/step\n",
      "1/1 [==============================] - 0s 24ms/step\n",
      "1/1 [==============================] - 0s 25ms/step\n",
      "1/1 [==============================] - 0s 25ms/step\n",
      "1/1 [==============================] - 0s 24ms/step\n",
      "1/1 [==============================] - 0s 22ms/step\n",
      "1/1 [==============================] - 0s 23ms/step\n",
      "예측 요약문 :  does amazing roast roast roast roast treats\n",
      "\n",
      "\n",
      "원문 :  actually think great husband loves use salad dressing rather sauce stir frying really bring asian experience could boring old dish give stars \n",
      "실제 요약문 : not me but my husband \n",
      "1/1 [==============================] - 0s 100ms/step\n",
      "1/1 [==============================] - 0s 29ms/step\n",
      "1/1 [==============================] - 0s 24ms/step\n",
      "1/1 [==============================] - 0s 25ms/step\n",
      "1/1 [==============================] - 0s 28ms/step\n",
      "1/1 [==============================] - 0s 24ms/step\n",
      "1/1 [==============================] - 0s 22ms/step\n",
      "1/1 [==============================] - 0s 23ms/step\n",
      "예측 요약문 :  does amazing roast roast roast roast treats\n",
      "\n",
      "\n",
      "원문 :  cannot seem find little rolls life savers around anymore stores carry rolls carry one two flavors wintergreen good spearmint absolute favorite candy came fresh unbroken easiest way keep life saver supply \n",
      "실제 요약문 : best flavor \n",
      "1/1 [==============================] - 0s 108ms/step\n",
      "1/1 [==============================] - 0s 24ms/step\n",
      "1/1 [==============================] - 0s 23ms/step\n",
      "1/1 [==============================] - 0s 24ms/step\n",
      "1/1 [==============================] - 0s 25ms/step\n",
      "1/1 [==============================] - 0s 23ms/step\n",
      "1/1 [==============================] - 0s 23ms/step\n",
      "1/1 [==============================] - 0s 23ms/step\n",
      "예측 요약문 :  does amazing roast roast roast roast treats\n",
      "\n",
      "\n",
      "원문 :  applesauce decent tasting low number ingredients best thing portable \n",
      "실제 요약문 : tastes decent and quite \n",
      "1/1 [==============================] - 0s 104ms/step\n",
      "1/1 [==============================] - 0s 22ms/step\n",
      "1/1 [==============================] - 0s 23ms/step\n",
      "1/1 [==============================] - 0s 21ms/step\n",
      "1/1 [==============================] - 0s 22ms/step\n",
      "1/1 [==============================] - 0s 23ms/step\n",
      "1/1 [==============================] - 0s 26ms/step\n",
      "1/1 [==============================] - 0s 25ms/step\n",
      "예측 요약문 :  does amazing roast roast roast roast treats\n",
      "\n",
      "\n",
      "원문 :  nuts stale tried get refund said could refunded threw \n",
      "실제 요약문 : beer nuts \n",
      "1/1 [==============================] - 0s 105ms/step\n",
      "1/1 [==============================] - 0s 22ms/step\n",
      "1/1 [==============================] - 0s 22ms/step\n",
      "1/1 [==============================] - 0s 24ms/step\n",
      "1/1 [==============================] - 0s 23ms/step\n",
      "1/1 [==============================] - 0s 21ms/step\n",
      "1/1 [==============================] - 0s 21ms/step\n",
      "1/1 [==============================] - 0s 24ms/step\n",
      "예측 요약문 :  does amazing roast roast roast roast treats\n",
      "\n",
      "\n",
      "원문 :  flavor far best flavors available whether served hot brewed hot chilled iced cappuccino would still like see better coffee producer nescafe see nescafe improve quality coffee capsules system one bad terms taste system lends presentation easy clean \n",
      "실제 요약문 : best of flavors available \n",
      "1/1 [==============================] - 0s 110ms/step\n",
      "1/1 [==============================] - 0s 23ms/step\n",
      "1/1 [==============================] - 0s 24ms/step\n",
      "1/1 [==============================] - 0s 22ms/step\n",
      "1/1 [==============================] - 0s 23ms/step\n",
      "1/1 [==============================] - 0s 23ms/step\n",
      "1/1 [==============================] - 0s 24ms/step\n",
      "1/1 [==============================] - 0s 25ms/step\n",
      "예측 요약문 :  does amazing roast roast roast roast treats\n",
      "\n",
      "\n",
      "원문 :  liked taste hard make terrible consistency thick like smooth sauce made three times result possible something wrong believe following directions said taste really good definitely satisfies cheese craving continue use probably serve guests figure consistency issues \n",
      "실제 요약문 : so so \n",
      "1/1 [==============================] - 0s 104ms/step\n",
      "1/1 [==============================] - 0s 26ms/step\n",
      "1/1 [==============================] - 0s 23ms/step\n",
      "1/1 [==============================] - 0s 23ms/step\n",
      "1/1 [==============================] - 0s 23ms/step\n",
      "1/1 [==============================] - 0s 23ms/step\n",
      "1/1 [==============================] - 0s 22ms/step\n",
      "1/1 [==============================] - 0s 23ms/step\n",
      "예측 요약문 :  does amazing just roast roast roast roast\n",
      "\n",
      "\n",
      "원문 :  told doctor years ago problems liver due excess drinking stopped drinking started days drinking rishi liver using product called deep liver support ten years ago last time tested tests came back better ever doctor cannot work tea tastes great combination worked \n",
      "실제 요약문 : try it you will like it \n",
      "1/1 [==============================] - 0s 104ms/step\n",
      "1/1 [==============================] - 0s 24ms/step\n",
      "1/1 [==============================] - 0s 24ms/step\n",
      "1/1 [==============================] - 0s 27ms/step\n",
      "1/1 [==============================] - 0s 26ms/step\n",
      "1/1 [==============================] - 0s 23ms/step\n",
      "1/1 [==============================] - 0s 23ms/step\n",
      "1/1 [==============================] - 0s 22ms/step\n",
      "예측 요약문 :  does amazing roast roast roast roast treats\n",
      "\n",
      "\n",
      "원문 :  dogs loved treats gave gsd runs know ingredients pup sensitive stomach far mellow cause issues \n",
      "실제 요약문 : the \n",
      "1/1 [==============================] - 0s 101ms/step\n",
      "1/1 [==============================] - 0s 23ms/step\n",
      "1/1 [==============================] - 0s 24ms/step\n",
      "1/1 [==============================] - 0s 24ms/step\n",
      "1/1 [==============================] - 0s 24ms/step\n",
      "1/1 [==============================] - 0s 25ms/step\n",
      "1/1 [==============================] - 0s 21ms/step\n",
      "1/1 [==============================] - 0s 24ms/step\n",
      "예측 요약문 :  does amazing roast roast roast roast treats\n",
      "\n",
      "\n",
      "원문 :  grass sprouted quickly great rate cats love much tried get knocking town pot upside least day looked like grass going die however week later almost fully pretty hearty \n",
      "실제 요약문 : good grass \n",
      "1/1 [==============================] - 0s 99ms/step\n",
      "1/1 [==============================] - 0s 23ms/step\n",
      "1/1 [==============================] - 0s 25ms/step\n",
      "1/1 [==============================] - 0s 22ms/step\n",
      "1/1 [==============================] - 0s 24ms/step\n",
      "1/1 [==============================] - 0s 24ms/step\n",
      "1/1 [==============================] - 0s 22ms/step\n",
      "1/1 [==============================] - 0s 21ms/step\n",
      "예측 요약문 :  does amazing roast roast roast roast treats\n",
      "\n",
      "\n",
      "원문 :  excited find amazon great price pack due lactose intolerance love thai curries go lot stuff make coconut milk icecream using ice cream maker attachment brand coconut milk works better others imo organic option plus us \n",
      "실제 요약문 : love this stuff \n",
      "1/1 [==============================] - 0s 98ms/step\n",
      "1/1 [==============================] - 0s 24ms/step\n",
      "1/1 [==============================] - 0s 22ms/step\n",
      "1/1 [==============================] - 0s 24ms/step\n",
      "1/1 [==============================] - 0s 22ms/step\n",
      "1/1 [==============================] - 0s 23ms/step\n",
      "1/1 [==============================] - 0s 25ms/step\n",
      "1/1 [==============================] - 0s 22ms/step\n",
      "예측 요약문 :  does amazing roast roast roast roast treats\n",
      "\n",
      "\n",
      "원문 :  stuff fantastic little girl loves gives piece mind knowing feeding huge amount sugar mainstream formulas mention things found recently closest thing mothers milk baby spits lot definitely try stuff little girl spit since switched ever love wish could buy even time \n",
      "실제 요약문 : powdered goat milk \n",
      "1/1 [==============================] - 0s 114ms/step\n",
      "1/1 [==============================] - 0s 24ms/step\n",
      "1/1 [==============================] - 0s 23ms/step\n",
      "1/1 [==============================] - 0s 24ms/step\n",
      "1/1 [==============================] - 0s 21ms/step\n",
      "1/1 [==============================] - 0s 21ms/step\n",
      "1/1 [==============================] - 0s 23ms/step\n",
      "1/1 [==============================] - 0s 23ms/step\n",
      "예측 요약문 :  does amazing roast roast roast roast treats\n",
      "\n",
      "\n",
      "원문 :  beef nuggets soft easy teeth tasty slightly less salty excellent good snack \n",
      "실제 요약문 : jack links beef steak nuggets \n",
      "1/1 [==============================] - 0s 99ms/step\n",
      "1/1 [==============================] - 0s 25ms/step\n",
      "1/1 [==============================] - 0s 23ms/step\n",
      "1/1 [==============================] - 0s 22ms/step\n",
      "1/1 [==============================] - 0s 22ms/step\n",
      "1/1 [==============================] - 0s 24ms/step\n",
      "1/1 [==============================] - 0s 21ms/step\n",
      "1/1 [==============================] - 0s 22ms/step\n",
      "예측 요약문 :  does amazing roast roast roast roast treats\n",
      "\n",
      "\n",
      "원문 :  happy quality value peanut butter dont really like sugar added least corn syrup trans fat \n",
      "실제 요약문 : good quality and taste but has sugar added \n",
      "1/1 [==============================] - 0s 110ms/step\n",
      "1/1 [==============================] - 0s 22ms/step\n",
      "1/1 [==============================] - 0s 31ms/step\n",
      "1/1 [==============================] - 0s 22ms/step\n",
      "1/1 [==============================] - 0s 22ms/step\n",
      "1/1 [==============================] - 0s 26ms/step\n",
      "1/1 [==============================] - 0s 26ms/step\n",
      "1/1 [==============================] - 0s 23ms/step\n",
      "예측 요약문 :  does amazing roast roast roast roast treats\n",
      "\n",
      "\n",
      "원문 :  maple syrup delicious product shipped quickly needed talk shipper minor problem would definitely buy \n",
      "실제 요약문 : yum \n",
      "1/1 [==============================] - 0s 99ms/step\n",
      "1/1 [==============================] - 0s 23ms/step\n",
      "1/1 [==============================] - 0s 24ms/step\n",
      "1/1 [==============================] - 0s 27ms/step\n",
      "1/1 [==============================] - 0s 24ms/step\n",
      "1/1 [==============================] - 0s 25ms/step\n",
      "1/1 [==============================] - 0s 26ms/step\n",
      "1/1 [==============================] - 0s 23ms/step\n",
      "예측 요약문 :  does amazing roast roast roast roast treats\n",
      "\n",
      "\n",
      "원문 :  miniature schnauzer allergic chicken treat safe eat without problems continue buy \n",
      "실제 요약문 : blue dog molasses peanut butter cookies \n",
      "1/1 [==============================] - 0s 100ms/step\n",
      "1/1 [==============================] - 0s 24ms/step\n",
      "1/1 [==============================] - 0s 23ms/step\n",
      "1/1 [==============================] - 0s 24ms/step\n",
      "1/1 [==============================] - 0s 21ms/step\n",
      "1/1 [==============================] - 0s 23ms/step\n",
      "1/1 [==============================] - 0s 22ms/step\n",
      "1/1 [==============================] - 0s 24ms/step\n",
      "예측 요약문 :  does amazing roast roast roast roast treats\n",
      "\n",
      "\n",
      "원문 :  cannot believe huge bag chips get price pitbull gets two every day ordered probably times excellent value \n",
      "실제 요약문 : great price my dog loves these \n",
      "1/1 [==============================] - 0s 102ms/step\n",
      "1/1 [==============================] - 0s 22ms/step\n",
      "1/1 [==============================] - 0s 23ms/step\n",
      "1/1 [==============================] - 0s 22ms/step\n",
      "1/1 [==============================] - 0s 23ms/step\n",
      "1/1 [==============================] - 0s 26ms/step\n",
      "1/1 [==============================] - 0s 23ms/step\n",
      "1/1 [==============================] - 0s 25ms/step\n",
      "예측 요약문 :  does amazing roast roast roast roast treats\n",
      "\n",
      "\n",
      "원문 :  intrigued particular blend got exotic name disappointed ever slight coconut aftertaste makes delicious like strong coffee perfect husband get send regularly one favorites second jamaica crazy wolfgang puck wolfgang much tastier brands \n",
      "실제 요약문 : wonderfully yummy \n",
      "1/1 [==============================] - 0s 104ms/step\n",
      "1/1 [==============================] - 0s 22ms/step\n",
      "1/1 [==============================] - 0s 23ms/step\n",
      "1/1 [==============================] - 0s 25ms/step\n",
      "1/1 [==============================] - 0s 25ms/step\n",
      "1/1 [==============================] - 0s 25ms/step\n",
      "1/1 [==============================] - 0s 26ms/step\n",
      "1/1 [==============================] - 0s 23ms/step\n",
      "예측 요약문 :  does amazing roast roast roast roast treats\n",
      "\n",
      "\n",
      "원문 :  nice smooth blend real dark blend states bold could full bodied organic nice \n",
      "실제 요약문 : smooth \n",
      "1/1 [==============================] - 0s 103ms/step\n",
      "1/1 [==============================] - 0s 25ms/step\n",
      "1/1 [==============================] - 0s 22ms/step\n",
      "1/1 [==============================] - 0s 24ms/step\n",
      "1/1 [==============================] - 0s 24ms/step\n",
      "1/1 [==============================] - 0s 24ms/step\n",
      "1/1 [==============================] - 0s 38ms/step\n",
      "1/1 [==============================] - 0s 25ms/step\n",
      "예측 요약문 :  does amazing roast roast roast roast treats\n",
      "\n",
      "\n",
      "원문 :  china organic white tea used available local store stopped carrying switched another inferior brand pleased see amazon drink often sometimes want soothing relaxing benefits white tea \n",
      "실제 요약문 : refreshing \n",
      "1/1 [==============================] - 0s 114ms/step\n",
      "1/1 [==============================] - 0s 23ms/step\n",
      "1/1 [==============================] - 0s 24ms/step\n",
      "1/1 [==============================] - 0s 22ms/step\n",
      "1/1 [==============================] - 0s 24ms/step\n",
      "1/1 [==============================] - 0s 23ms/step\n",
      "1/1 [==============================] - 0s 49ms/step\n",
      "1/1 [==============================] - 0s 24ms/step\n",
      "예측 요약문 :  does amazing roast roast roast roast treats\n",
      "\n",
      "\n",
      "원문 :  looking good quality coffe keurig tried many options found coffe good robust flavor bitterness \n",
      "실제 요약문 : great flavor \n",
      "1/1 [==============================] - 0s 106ms/step\n",
      "1/1 [==============================] - 0s 22ms/step\n",
      "1/1 [==============================] - 0s 21ms/step\n",
      "1/1 [==============================] - 0s 24ms/step\n",
      "1/1 [==============================] - 0s 23ms/step\n",
      "1/1 [==============================] - 0s 23ms/step\n",
      "1/1 [==============================] - 0s 27ms/step\n",
      "1/1 [==============================] - 0s 23ms/step\n",
      "예측 요약문 :  does amazing roast roast roast roast treats\n",
      "\n",
      "\n",
      "원문 :  oh boy guess nut person pistachio real winner comes flavoring halva sesame flavor great blending pistachio takes another level nutty goodness times two \n",
      "실제 요약문 : yum \n",
      "1/1 [==============================] - 0s 106ms/step\n",
      "1/1 [==============================] - 0s 23ms/step\n",
      "1/1 [==============================] - 0s 22ms/step\n",
      "1/1 [==============================] - 0s 22ms/step\n",
      "1/1 [==============================] - 0s 25ms/step\n",
      "1/1 [==============================] - 0s 24ms/step\n",
      "1/1 [==============================] - 0s 25ms/step\n",
      "1/1 [==============================] - 0s 24ms/step\n",
      "예측 요약문 :  does just roast roast roast roast roast\n",
      "\n",
      "\n",
      "원문 :  comparison larger softer even bit juicy usually buy major generic brand dried cranberries carried local grocery organic dried cranberries ever cannot say best organic category taste much better non organic brand local grocer buy \n",
      "실제 요약문 : best dried have ever had \n",
      "1/1 [==============================] - 0s 109ms/step\n",
      "1/1 [==============================] - 0s 25ms/step\n",
      "1/1 [==============================] - 0s 23ms/step\n",
      "1/1 [==============================] - 0s 22ms/step\n",
      "1/1 [==============================] - 0s 23ms/step\n",
      "1/1 [==============================] - 0s 25ms/step\n",
      "1/1 [==============================] - 0s 25ms/step\n",
      "1/1 [==============================] - 0s 26ms/step\n",
      "예측 요약문 :  does amazing roast roast roast roast treats\n",
      "\n",
      "\n",
      "원문 :  love product easy make done minutes great flavor love many packs soon finish one want another \n",
      "실제 요약문 : very very good \n",
      "1/1 [==============================] - 0s 106ms/step\n",
      "1/1 [==============================] - 0s 26ms/step\n",
      "1/1 [==============================] - 0s 24ms/step\n",
      "1/1 [==============================] - 0s 23ms/step\n",
      "1/1 [==============================] - 0s 24ms/step\n",
      "1/1 [==============================] - 0s 23ms/step\n",
      "1/1 [==============================] - 0s 33ms/step\n",
      "1/1 [==============================] - 0s 25ms/step\n",
      "예측 요약문 :  does amazing roast roast roast roast treats\n",
      "\n",
      "\n",
      "원문 :  great product low calorie decaffeinated source antioxidants tastes delicious also convenient pour mix water bottle shake see lipton could possibly improve \n",
      "실제 요약문 : love it \n",
      "1/1 [==============================] - 0s 115ms/step\n",
      "1/1 [==============================] - 0s 22ms/step\n",
      "1/1 [==============================] - 0s 24ms/step\n",
      "1/1 [==============================] - 0s 25ms/step\n",
      "1/1 [==============================] - 0s 23ms/step\n",
      "1/1 [==============================] - 0s 22ms/step\n",
      "1/1 [==============================] - 0s 21ms/step\n",
      "1/1 [==============================] - 0s 24ms/step\n",
      "예측 요약문 :  does amazing roast roast roast roast treats\n",
      "\n",
      "\n",
      "원문 :  absolutely love sauce use eggs sandwiches anything good kick watched product nothing chef product get try \n",
      "실제 요약문 : best hot sauce around \n",
      "1/1 [==============================] - 0s 109ms/step\n",
      "1/1 [==============================] - 0s 24ms/step\n",
      "1/1 [==============================] - 0s 21ms/step\n",
      "1/1 [==============================] - 0s 23ms/step\n",
      "1/1 [==============================] - 0s 23ms/step\n",
      "1/1 [==============================] - 0s 22ms/step\n",
      "1/1 [==============================] - 0s 31ms/step\n",
      "1/1 [==============================] - 0s 25ms/step\n",
      "예측 요약문 :  does amazing roast roast roast roast treats\n",
      "\n",
      "\n",
      "원문 :  cookies turn perfect every time people work could believe made tell gluten free probably would tried need eat gluten free sometimes think healthier alternative sweet treats \n",
      "실제 요약문 : this is really delicious \n",
      "1/1 [==============================] - 0s 106ms/step\n",
      "1/1 [==============================] - 0s 24ms/step\n",
      "1/1 [==============================] - 0s 24ms/step\n",
      "1/1 [==============================] - 0s 23ms/step\n",
      "1/1 [==============================] - 0s 24ms/step\n",
      "1/1 [==============================] - 0s 23ms/step\n",
      "1/1 [==============================] - 0s 24ms/step\n",
      "1/1 [==============================] - 0s 25ms/step\n",
      "예측 요약문 :  does amazing roast roast roast roast treats\n",
      "\n",
      "\n",
      "원문 :  good drank cold could used mix little steep price high calories mind price want natural alternative soda good \n",
      "실제 요약문 : switch \n",
      "1/1 [==============================] - 0s 103ms/step\n",
      "1/1 [==============================] - 0s 23ms/step\n",
      "1/1 [==============================] - 0s 24ms/step\n",
      "1/1 [==============================] - 0s 25ms/step\n",
      "1/1 [==============================] - 0s 22ms/step\n",
      "1/1 [==============================] - 0s 25ms/step\n",
      "1/1 [==============================] - 0s 30ms/step\n",
      "1/1 [==============================] - 0s 24ms/step\n",
      "예측 요약문 :  does amazing roast roast roast roast treats\n",
      "\n",
      "\n",
      "원문 :  tried several spicy chai teas far best much better bigelow green chai generous addition honey bit milk wonderful stuff \n",
      "실제 요약문 : the best have found \n",
      "1/1 [==============================] - 0s 113ms/step\n",
      "1/1 [==============================] - 0s 24ms/step\n",
      "1/1 [==============================] - 0s 25ms/step\n",
      "1/1 [==============================] - 0s 21ms/step\n",
      "1/1 [==============================] - 0s 24ms/step\n",
      "1/1 [==============================] - 0s 23ms/step\n",
      "1/1 [==============================] - 0s 25ms/step\n",
      "1/1 [==============================] - 0s 24ms/step\n",
      "예측 요약문 :  does amazing roast roast roast roast treats\n",
      "\n",
      "\n",
      "원문 :  really really good expensive almost like eating candy bar cookie crumbly cookie soft one \n",
      "실제 요약문 : really good \n",
      "1/1 [==============================] - 0s 112ms/step\n",
      "1/1 [==============================] - 0s 23ms/step\n",
      "1/1 [==============================] - 0s 23ms/step\n",
      "1/1 [==============================] - 0s 27ms/step\n",
      "1/1 [==============================] - 0s 24ms/step\n",
      "1/1 [==============================] - 0s 24ms/step\n",
      "1/1 [==============================] - 0s 23ms/step\n",
      "1/1 [==============================] - 0s 26ms/step\n",
      "예측 요약문 :  does amazing roast roast roast roast treats\n",
      "\n",
      "\n",
      "원문 :  sugar coated almonds even need review like almonds sugar like \n",
      "실제 요약문 : delish \n",
      "1/1 [==============================] - 0s 119ms/step\n",
      "1/1 [==============================] - 0s 23ms/step\n",
      "1/1 [==============================] - 0s 24ms/step\n",
      "1/1 [==============================] - 0s 27ms/step\n",
      "1/1 [==============================] - 0s 23ms/step\n",
      "1/1 [==============================] - 0s 23ms/step\n",
      "1/1 [==============================] - 0s 27ms/step\n",
      "1/1 [==============================] - 0s 25ms/step\n",
      "예측 요약문 :  does amazing roast roast roast roast treats\n",
      "\n",
      "\n",
      "원문 :  thought ordered brand ended organic company little upset want sure getting gummy bears order directly company \n",
      "실제 요약문 : disappointed \n",
      "1/1 [==============================] - 0s 132ms/step\n",
      "1/1 [==============================] - 0s 35ms/step\n",
      "1/1 [==============================] - 0s 29ms/step\n",
      "1/1 [==============================] - 0s 31ms/step\n",
      "1/1 [==============================] - 0s 28ms/step\n",
      "1/1 [==============================] - 0s 32ms/step\n",
      "1/1 [==============================] - 0s 27ms/step\n",
      "1/1 [==============================] - 0s 30ms/step\n",
      "예측 요약문 :  does amazing roast roast roast roast treats\n",
      "\n",
      "\n",
      "원문 :  many different versions earl grey tea fan read raving reviews tea received try three canisters rishi version earl grey perhaps impressed second third canister far however impressed suspect perhaps received stale batch product drinking definitely superior trader joe earl grey tea bags terms strength flavor \n",
      "실제 요약문 : good not great \n",
      "1/1 [==============================] - 0s 155ms/step\n",
      "1/1 [==============================] - 0s 24ms/step\n",
      "1/1 [==============================] - 0s 25ms/step\n",
      "1/1 [==============================] - 0s 30ms/step\n",
      "1/1 [==============================] - 0s 27ms/step\n",
      "1/1 [==============================] - 0s 34ms/step\n",
      "1/1 [==============================] - 0s 37ms/step\n",
      "1/1 [==============================] - 0s 30ms/step\n",
      "예측 요약문 :  does amazing roast roast roast roast treats\n",
      "\n",
      "\n",
      "원문 :  easy snack throw purse way door daughter eats like going style excited sneak veggies \n",
      "실제 요약문 : love the \n",
      "1/1 [==============================] - 0s 163ms/step\n",
      "1/1 [==============================] - 0s 28ms/step\n",
      "1/1 [==============================] - 0s 30ms/step\n",
      "1/1 [==============================] - 0s 24ms/step\n",
      "1/1 [==============================] - 0s 58ms/step\n",
      "1/1 [==============================] - 0s 26ms/step\n",
      "1/1 [==============================] - 0s 23ms/step\n",
      "1/1 [==============================] - 0s 23ms/step\n",
      "예측 요약문 :  does amazing roast roast roast roast treats\n",
      "\n",
      "\n",
      "원문 :  plenty go around since siblings healthy growing teenager wonderful customer service looking forward order seller future \n",
      "실제 요약문 : yummy \n",
      "1/1 [==============================] - 0s 120ms/step\n",
      "1/1 [==============================] - 0s 23ms/step\n",
      "1/1 [==============================] - 0s 22ms/step\n",
      "1/1 [==============================] - 0s 33ms/step\n",
      "1/1 [==============================] - 0s 22ms/step\n",
      "1/1 [==============================] - 0s 26ms/step\n",
      "1/1 [==============================] - 0s 25ms/step\n",
      "1/1 [==============================] - 0s 25ms/step\n",
      "예측 요약문 :  does amazing roast roast roast roast treats\n",
      "\n",
      "\n",
      "원문 :  many bahlsen cookies sweet taste light flaky cookies taste stale rich nice taste like sugared cardboard crave eat realize better average boxed cookies unexpectedly delicate fresh tasting given supermarket price \n",
      "실제 요약문 : excellent for \n",
      "1/1 [==============================] - 0s 106ms/step\n",
      "1/1 [==============================] - 0s 25ms/step\n",
      "1/1 [==============================] - 0s 26ms/step\n",
      "1/1 [==============================] - 0s 24ms/step\n",
      "1/1 [==============================] - 0s 26ms/step\n",
      "1/1 [==============================] - 0s 23ms/step\n",
      "1/1 [==============================] - 0s 27ms/step\n",
      "1/1 [==============================] - 0s 27ms/step\n",
      "예측 요약문 :  does amazing roast roast roast roast treats\n",
      "\n",
      "\n",
      "원문 :  cheese mind ever since trying restaurant sf one things though im bored want burn money shipping would order worth yes cheese fan goes great wine much curious \n",
      "실제 요약문 : worth the shipping \n",
      "1/1 [==============================] - 0s 118ms/step\n",
      "1/1 [==============================] - 0s 54ms/step\n",
      "1/1 [==============================] - 0s 26ms/step\n",
      "1/1 [==============================] - 0s 26ms/step\n",
      "1/1 [==============================] - 0s 25ms/step\n",
      "1/1 [==============================] - 0s 25ms/step\n",
      "1/1 [==============================] - 0s 23ms/step\n",
      "1/1 [==============================] - 0s 26ms/step\n",
      "예측 요약문 :  does amazing just roast roast roast roast\n",
      "\n",
      "\n",
      "원문 :  kids love plum organic blends review blends apple sauce first ingredient \n",
      "실제 요약문 : kids love it \n",
      "1/1 [==============================] - 0s 144ms/step\n",
      "1/1 [==============================] - 0s 26ms/step\n",
      "1/1 [==============================] - 0s 24ms/step\n",
      "1/1 [==============================] - 0s 26ms/step\n",
      "1/1 [==============================] - 0s 25ms/step\n",
      "1/1 [==============================] - 0s 26ms/step\n",
      "1/1 [==============================] - 0s 25ms/step\n",
      "1/1 [==============================] - 0s 26ms/step\n",
      "예측 요약문 :  does amazing just roast roast roast roast\n",
      "\n",
      "\n",
      "원문 :  entire bag ounce popchips calories low fat snack even replace lunch right amount salt despite produced unlike traditional chips expected crunch still present complaint material chip actually fairly coarse eating quickly find roof mouth gets little raw \n",
      "실제 요약문 : popchips are amazing \n",
      "1/1 [==============================] - 0s 107ms/step\n",
      "1/1 [==============================] - 0s 24ms/step\n",
      "1/1 [==============================] - 0s 23ms/step\n",
      "1/1 [==============================] - 0s 25ms/step\n",
      "1/1 [==============================] - 0s 25ms/step\n",
      "1/1 [==============================] - 0s 24ms/step\n",
      "1/1 [==============================] - 0s 48ms/step\n",
      "1/1 [==============================] - 0s 26ms/step\n",
      "예측 요약문 :  does amazing just roast roast roast roast\n",
      "\n",
      "\n",
      "원문 :  like quality jack link products one sweet hot little hot overall flavor good price good compared individual prices \n",
      "실제 요약문 : nice flavor \n",
      "1/1 [==============================] - 0s 116ms/step\n",
      "1/1 [==============================] - 0s 25ms/step\n",
      "1/1 [==============================] - 0s 23ms/step\n",
      "1/1 [==============================] - 0s 23ms/step\n",
      "1/1 [==============================] - 0s 23ms/step\n",
      "1/1 [==============================] - 0s 24ms/step\n",
      "1/1 [==============================] - 0s 23ms/step\n",
      "1/1 [==============================] - 0s 23ms/step\n",
      "예측 요약문 :  does amazing roast roast roast roast treats\n",
      "\n",
      "\n"
     ]
    }
   ],
   "source": [
    "for i in range(5000, 5100):\n",
    "    print(\"원문 : \",seq2text(encoder_input_test[i]))\n",
    "    print(\"실제 요약문 :\",seq2summary(decoder_input_test[i]))\n",
    "    print(\"예측 요약문 :\",decode_sequence(encoder_input_test[i].reshape(1, text_max_len)))\n",
    "    print(\"\\n\")"
   ]
  }
 ],
 "metadata": {
  "kernelspec": {
   "display_name": "Python 3",
   "language": "python",
   "name": "python3"
  },
  "language_info": {
   "codemirror_mode": {
    "name": "ipython",
    "version": 3
   },
   "file_extension": ".py",
   "mimetype": "text/x-python",
   "name": "python",
   "nbconvert_exporter": "python",
   "pygments_lexer": "ipython3",
   "version": "3.11.4"
  }
 },
 "nbformat": 4,
 "nbformat_minor": 5
}
