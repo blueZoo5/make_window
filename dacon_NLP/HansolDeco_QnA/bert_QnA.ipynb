{
 "cells": [
  {
   "cell_type": "code",
   "execution_count": 1,
   "id": "bc7a6727-a42e-4fee-9a14-087b2a8a6987",
   "metadata": {
    "tags": []
   },
   "outputs": [
    {
     "name": "stderr",
     "output_type": "stream",
     "text": [
      "C:\\Users\\USER\\anaconda3\\Lib\\site-packages\\sentence_transformers\\cross_encoder\\CrossEncoder.py:11: TqdmExperimentalWarning: Using `tqdm.autonotebook.tqdm` in notebook mode. Use `tqdm.tqdm` instead to force console mode (e.g. in jupyter console)\n",
      "  from tqdm.autonotebook import tqdm, trange\n"
     ]
    }
   ],
   "source": [
    "import numpy as np\n",
    "import pandas as pd\n",
    "from numpy import dot\n",
    "from numpy.linalg import norm\n",
    "from sentence_transformers import SentenceTransformer"
   ]
  },
  {
   "cell_type": "code",
   "execution_count": 2,
   "id": "9f51ffbc-bbe5-4626-a0e8-0de0bf7fe0cc",
   "metadata": {
    "tags": []
   },
   "outputs": [
    {
     "data": {
      "text/html": [
       "<div>\n",
       "<style scoped>\n",
       "    .dataframe tbody tr th:only-of-type {\n",
       "        vertical-align: middle;\n",
       "    }\n",
       "\n",
       "    .dataframe tbody tr th {\n",
       "        vertical-align: top;\n",
       "    }\n",
       "\n",
       "    .dataframe thead th {\n",
       "        text-align: right;\n",
       "    }\n",
       "</style>\n",
       "<table border=\"1\" class=\"dataframe\">\n",
       "  <thead>\n",
       "    <tr style=\"text-align: right;\">\n",
       "      <th></th>\n",
       "      <th>id</th>\n",
       "      <th>질문_1</th>\n",
       "      <th>질문_2</th>\n",
       "      <th>category</th>\n",
       "      <th>답변_1</th>\n",
       "      <th>답변_2</th>\n",
       "      <th>답변_3</th>\n",
       "      <th>답변_4</th>\n",
       "      <th>답변_5</th>\n",
       "    </tr>\n",
       "  </thead>\n",
       "  <tbody>\n",
       "    <tr>\n",
       "      <th>0</th>\n",
       "      <td>TRAIN_000</td>\n",
       "      <td>면진장치가 뭐야?</td>\n",
       "      <td>면진장치에 사용되는 주요 기술은 무엇인가요?</td>\n",
       "      <td>건축구조</td>\n",
       "      <td>면진장치란 지반에서 오는 진동 에너지를 흡수하여 건물에 주는 진동을 줄여주는 진동 ...</td>\n",
       "      <td>면진장치란 건물의 지반에서 발생하는 진동 에너지를 흡수하여 건물을 보호하고, 진동을...</td>\n",
       "      <td>면진장치란 지반으로부터 발생하는 진동 에너지를 흡수하여 건물에 전달되는 진동을 줄여...</td>\n",
       "      <td>면진장치는 건물의 지반으로부터 오는 진동 에너지를 흡수하여 건물에 전달되는 진동을 ...</td>\n",
       "      <td>면진장치는 건물에 오는 지반 진동의 영향을 최대한으로 흡수하여 건물에 전달되는 진동...</td>\n",
       "    </tr>\n",
       "    <tr>\n",
       "      <th>1</th>\n",
       "      <td>TRAIN_001</td>\n",
       "      <td>내진설계의 종류 좀 알려줘</td>\n",
       "      <td>내진설계에는 어떤 종류가 있는지 자세히 알려주실 수 있나요?</td>\n",
       "      <td>건축구조</td>\n",
       "      <td>내진 설계의 종류로 내진구조, 제진구조, 면진구조가 있습니다.</td>\n",
       "      <td>내진설계에는 내진구조, 제진구조, 면진구조가 있습니다. 내진구조는 건물 구조물이 지...</td>\n",
       "      <td>내진설계에는 주로 내진구조, 제진구조, 면진구조의 세 가지 종류가 있습니다. 이들은...</td>\n",
       "      <td>내진설계에는 주로 내진구조, 제진구조, 면진구조가 사용됩니다. 내진구조는 건물 구조...</td>\n",
       "      <td>내진 설계에는 다양한 종류가 있지만, 대표적으로 내진구조, 제진구조, 면진구조가 있...</td>\n",
       "    </tr>\n",
       "    <tr>\n",
       "      <th>2</th>\n",
       "      <td>TRAIN_002</td>\n",
       "      <td>철골구조의 장점이 뭐야?</td>\n",
       "      <td>철골구조의 장점을 알려줘?</td>\n",
       "      <td>건축구조</td>\n",
       "      <td>철골구조는 건물의 외벽에는 그다지 하중이 걸리지 않기 때문에 고층 건물의 건축이 가...</td>\n",
       "      <td>철골구조의 장점은 건물의 외벽에는 그다지 하중이 걸리지 않기 때문에 고층 건물의 건...</td>\n",
       "      <td>철골구조의 장점은 건물의 외벽에 하중이 적게 걸리기 때문에 고층 건물의 건축이 용이...</td>\n",
       "      <td>철골구조의 장점은 건물의 외벽이 하중이 걸리지 않아 공간 활용이 용이하고, 고층 건...</td>\n",
       "      <td>철골구조의 장점은 건물의 외벽에 하중이 크게 걸리지 않아 고층 건물을 건축할 수 있...</td>\n",
       "    </tr>\n",
       "    <tr>\n",
       "      <th>3</th>\n",
       "      <td>TRAIN_003</td>\n",
       "      <td>철골철근 콘크리트 구조가 뭐야?</td>\n",
       "      <td>철골철근 콘크리트 구조의 장점과 단점에는 무엇이 있을까요?</td>\n",
       "      <td>건축구조</td>\n",
       "      <td>철근철골콘크리트는 철골과 철근, 그리고 콘크리트를 함께 사용하는 건축 구조입니다. ...</td>\n",
       "      <td>철골철근콘크리트 구조는 건축물을 지탱하는 주요 구조물인 철골과 철근, 그리고 콘크리...</td>\n",
       "      <td>철골철근 콘크리트 구조는 건축물을 지탱하기 위한 구조물에서 일반적으로 사용되는 방식...</td>\n",
       "      <td>철골철근콘크리트 구조는 철골과 철근, 그리고 콘크리트를 함께 사용하여 만들어지는 건...</td>\n",
       "      <td>철골철근 콘크리트 구조는 강철 골조와 강철 철근, 그리고 콘크리트를 함께 사용하여 ...</td>\n",
       "    </tr>\n",
       "    <tr>\n",
       "      <th>4</th>\n",
       "      <td>TRAIN_004</td>\n",
       "      <td>철골구조는 어떤 방식이 있어?</td>\n",
       "      <td>철골구조의 다양한 방식이 무엇인가요?</td>\n",
       "      <td>건축구조</td>\n",
       "      <td>철골구조는 일반철골구조와 경량철골구조가 있습니다.</td>\n",
       "      <td>철골구조는 일반철골구조와 경량철골구조가 있습니다. 일반철골구조는 주로 대형 건물이나...</td>\n",
       "      <td>철골구조는 주로 일반철골구조와 경량철골구조로 나뉘어집니다. 이들은 건축 시스템에 따...</td>\n",
       "      <td>철골구조는 주로 일반철골구조와 경량철골구조로 구분됩니다. 이외에도 최근에는 고층 건...</td>\n",
       "      <td>철골구조는 일반철골구조와 경량철골구조 두 가지 방식이 주로 사용됩니다. 일반철골구조...</td>\n",
       "    </tr>\n",
       "  </tbody>\n",
       "</table>\n",
       "</div>"
      ],
      "text/plain": [
       "          id               질문_1                               질문_2 category  \\\n",
       "0  TRAIN_000          면진장치가 뭐야?           면진장치에 사용되는 주요 기술은 무엇인가요?     건축구조   \n",
       "1  TRAIN_001     내진설계의 종류 좀 알려줘  내진설계에는 어떤 종류가 있는지 자세히 알려주실 수 있나요?     건축구조   \n",
       "2  TRAIN_002      철골구조의 장점이 뭐야?                     철골구조의 장점을 알려줘?     건축구조   \n",
       "3  TRAIN_003  철골철근 콘크리트 구조가 뭐야?   철골철근 콘크리트 구조의 장점과 단점에는 무엇이 있을까요?     건축구조   \n",
       "4  TRAIN_004   철골구조는 어떤 방식이 있어?               철골구조의 다양한 방식이 무엇인가요?     건축구조   \n",
       "\n",
       "                                                답변_1  \\\n",
       "0  면진장치란 지반에서 오는 진동 에너지를 흡수하여 건물에 주는 진동을 줄여주는 진동 ...   \n",
       "1                 내진 설계의 종류로 내진구조, 제진구조, 면진구조가 있습니다.   \n",
       "2  철골구조는 건물의 외벽에는 그다지 하중이 걸리지 않기 때문에 고층 건물의 건축이 가...   \n",
       "3  철근철골콘크리트는 철골과 철근, 그리고 콘크리트를 함께 사용하는 건축 구조입니다. ...   \n",
       "4                        철골구조는 일반철골구조와 경량철골구조가 있습니다.   \n",
       "\n",
       "                                                답변_2  \\\n",
       "0  면진장치란 건물의 지반에서 발생하는 진동 에너지를 흡수하여 건물을 보호하고, 진동을...   \n",
       "1  내진설계에는 내진구조, 제진구조, 면진구조가 있습니다. 내진구조는 건물 구조물이 지...   \n",
       "2  철골구조의 장점은 건물의 외벽에는 그다지 하중이 걸리지 않기 때문에 고층 건물의 건...   \n",
       "3  철골철근콘크리트 구조는 건축물을 지탱하는 주요 구조물인 철골과 철근, 그리고 콘크리...   \n",
       "4  철골구조는 일반철골구조와 경량철골구조가 있습니다. 일반철골구조는 주로 대형 건물이나...   \n",
       "\n",
       "                                                답변_3  \\\n",
       "0  면진장치란 지반으로부터 발생하는 진동 에너지를 흡수하여 건물에 전달되는 진동을 줄여...   \n",
       "1  내진설계에는 주로 내진구조, 제진구조, 면진구조의 세 가지 종류가 있습니다. 이들은...   \n",
       "2  철골구조의 장점은 건물의 외벽에 하중이 적게 걸리기 때문에 고층 건물의 건축이 용이...   \n",
       "3  철골철근 콘크리트 구조는 건축물을 지탱하기 위한 구조물에서 일반적으로 사용되는 방식...   \n",
       "4  철골구조는 주로 일반철골구조와 경량철골구조로 나뉘어집니다. 이들은 건축 시스템에 따...   \n",
       "\n",
       "                                                답변_4  \\\n",
       "0  면진장치는 건물의 지반으로부터 오는 진동 에너지를 흡수하여 건물에 전달되는 진동을 ...   \n",
       "1  내진설계에는 주로 내진구조, 제진구조, 면진구조가 사용됩니다. 내진구조는 건물 구조...   \n",
       "2  철골구조의 장점은 건물의 외벽이 하중이 걸리지 않아 공간 활용이 용이하고, 고층 건...   \n",
       "3  철골철근콘크리트 구조는 철골과 철근, 그리고 콘크리트를 함께 사용하여 만들어지는 건...   \n",
       "4  철골구조는 주로 일반철골구조와 경량철골구조로 구분됩니다. 이외에도 최근에는 고층 건...   \n",
       "\n",
       "                                                답변_5  \n",
       "0  면진장치는 건물에 오는 지반 진동의 영향을 최대한으로 흡수하여 건물에 전달되는 진동...  \n",
       "1  내진 설계에는 다양한 종류가 있지만, 대표적으로 내진구조, 제진구조, 면진구조가 있...  \n",
       "2  철골구조의 장점은 건물의 외벽에 하중이 크게 걸리지 않아 고층 건물을 건축할 수 있...  \n",
       "3  철골철근 콘크리트 구조는 강철 골조와 강철 철근, 그리고 콘크리트를 함께 사용하여 ...  \n",
       "4  철골구조는 일반철골구조와 경량철골구조 두 가지 방식이 주로 사용됩니다. 일반철골구조...  "
      ]
     },
     "execution_count": 2,
     "metadata": {},
     "output_type": "execute_result"
    }
   ],
   "source": [
    "train_data = pd.read_csv('./data/train.csv')\n",
    "train_data.head()"
   ]
  },
  {
   "cell_type": "code",
   "execution_count": 8,
   "id": "0545a27d-5d1c-467b-84a5-2c96e5c70844",
   "metadata": {
    "tags": []
   },
   "outputs": [
    {
     "data": {
      "text/plain": [
       "644"
      ]
     },
     "execution_count": 8,
     "metadata": {},
     "output_type": "execute_result"
    }
   ],
   "source": [
    "len(train_data.질문_1)"
   ]
  },
  {
   "cell_type": "code",
   "execution_count": 31,
   "id": "d95a2b3a-b019-4255-b94e-0c4ee08257a1",
   "metadata": {
    "tags": []
   },
   "outputs": [],
   "source": [
    "Q1_list = list(train_data.질문_1) * 5\n",
    "Q2_list = list(train_data.질문_2) * 5"
   ]
  },
  {
   "cell_type": "code",
   "execution_count": 32,
   "id": "c3b9ed5b-3e87-496d-9f46-f49ada221711",
   "metadata": {
    "tags": []
   },
   "outputs": [],
   "source": [
    "Q_list = Q1_list + Q2_list"
   ]
  },
  {
   "cell_type": "code",
   "execution_count": 33,
   "id": "9940b478-57a1-4088-a8f8-f7c98fbe5672",
   "metadata": {
    "tags": []
   },
   "outputs": [
    {
     "data": {
      "text/plain": [
       "6440"
      ]
     },
     "execution_count": 33,
     "metadata": {},
     "output_type": "execute_result"
    }
   ],
   "source": [
    "len(Q_list)"
   ]
  },
  {
   "cell_type": "code",
   "execution_count": 36,
   "id": "09f9b987-eb21-472c-8a94-e8b6c5d6b350",
   "metadata": {
    "tags": []
   },
   "outputs": [],
   "source": [
    "A_list = list(train_data.답변_1) + list(train_data.답변_2) \\\n",
    "+ list(train_data.답변_3) + list(train_data.답변_4)\\\n",
    "+ list(train_data.답변_5)"
   ]
  },
  {
   "cell_type": "code",
   "execution_count": 39,
   "id": "210ee639-3798-487d-8e19-12134a3eb457",
   "metadata": {
    "tags": []
   },
   "outputs": [],
   "source": [
    "A_list = A_list * 2"
   ]
  },
  {
   "cell_type": "code",
   "execution_count": 40,
   "id": "d18e41d5-f565-4284-b421-730d96e7ae52",
   "metadata": {
    "tags": []
   },
   "outputs": [
    {
     "data": {
      "text/plain": [
       "6440"
      ]
     },
     "execution_count": 40,
     "metadata": {},
     "output_type": "execute_result"
    }
   ],
   "source": [
    "len(A_list)"
   ]
  },
  {
   "cell_type": "code",
   "execution_count": 41,
   "id": "b835ac71-1496-43d1-802a-f0e37c437123",
   "metadata": {
    "tags": []
   },
   "outputs": [
    {
     "name": "stderr",
     "output_type": "stream",
     "text": [
      "C:\\Users\\USER\\anaconda3\\Lib\\site-packages\\huggingface_hub\\file_download.py:1132: FutureWarning: `resume_download` is deprecated and will be removed in version 1.0.0. Downloads always resume when possible. If you want to force a new download, use `force_download=True`.\n",
      "  warnings.warn(\n"
     ]
    }
   ],
   "source": [
    "model = SentenceTransformer('sentence-transformers/xlm-r-100langs-bert-base-nli-stsb-mean-tokens')"
   ]
  },
  {
   "cell_type": "code",
   "execution_count": 48,
   "id": "2175ef2a-28f5-4378-aa08-be1170046865",
   "metadata": {
    "tags": []
   },
   "outputs": [],
   "source": [
    "qna_df = pd.DataFrame({\n",
    "    'Q': Q_list,\n",
    "    'A': A_list\n",
    "})"
   ]
  },
  {
   "cell_type": "code",
   "execution_count": 49,
   "id": "c40176a5-00f6-408c-bc6d-740e1c0b9693",
   "metadata": {
    "tags": []
   },
   "outputs": [
    {
     "data": {
      "text/html": [
       "<div>\n",
       "<style scoped>\n",
       "    .dataframe tbody tr th:only-of-type {\n",
       "        vertical-align: middle;\n",
       "    }\n",
       "\n",
       "    .dataframe tbody tr th {\n",
       "        vertical-align: top;\n",
       "    }\n",
       "\n",
       "    .dataframe thead th {\n",
       "        text-align: right;\n",
       "    }\n",
       "</style>\n",
       "<table border=\"1\" class=\"dataframe\">\n",
       "  <thead>\n",
       "    <tr style=\"text-align: right;\">\n",
       "      <th></th>\n",
       "      <th>Q</th>\n",
       "      <th>A</th>\n",
       "    </tr>\n",
       "  </thead>\n",
       "  <tbody>\n",
       "    <tr>\n",
       "      <th>0</th>\n",
       "      <td>면진장치가 뭐야?</td>\n",
       "      <td>면진장치란 지반에서 오는 진동 에너지를 흡수하여 건물에 주는 진동을 줄여주는 진동 ...</td>\n",
       "    </tr>\n",
       "    <tr>\n",
       "      <th>1</th>\n",
       "      <td>내진설계의 종류 좀 알려줘</td>\n",
       "      <td>내진 설계의 종류로 내진구조, 제진구조, 면진구조가 있습니다.</td>\n",
       "    </tr>\n",
       "    <tr>\n",
       "      <th>2</th>\n",
       "      <td>철골구조의 장점이 뭐야?</td>\n",
       "      <td>철골구조는 건물의 외벽에는 그다지 하중이 걸리지 않기 때문에 고층 건물의 건축이 가...</td>\n",
       "    </tr>\n",
       "    <tr>\n",
       "      <th>3</th>\n",
       "      <td>철골철근 콘크리트 구조가 뭐야?</td>\n",
       "      <td>철근철골콘크리트는 철골과 철근, 그리고 콘크리트를 함께 사용하는 건축 구조입니다. ...</td>\n",
       "    </tr>\n",
       "    <tr>\n",
       "      <th>4</th>\n",
       "      <td>철골구조는 어떤 방식이 있어?</td>\n",
       "      <td>철골구조는 일반철골구조와 경량철골구조가 있습니다.</td>\n",
       "    </tr>\n",
       "    <tr>\n",
       "      <th>...</th>\n",
       "      <td>...</td>\n",
       "      <td>...</td>\n",
       "    </tr>\n",
       "    <tr>\n",
       "      <th>6435</th>\n",
       "      <td>벽장 부위 결로가 발생하는 주된 원인은 무엇일까요?</td>\n",
       "      <td>벽장 부위 결로의 주된 원인은 충분한 환기가 이루어지지 않는 환경과 과도한 습기가 ...</td>\n",
       "    </tr>\n",
       "    <tr>\n",
       "      <th>6436</th>\n",
       "      <td>벽체 결로가 AD나 PD에 면한다면 그 원인이 무엇인가요?</td>\n",
       "      <td>AD, PD에 면한 벽체 결로의 원인으로는 외부 공기에 노출된 벽면이 실내보다 냉각...</td>\n",
       "    </tr>\n",
       "    <tr>\n",
       "      <th>6437</th>\n",
       "      <td>외벽 모서리 부위에 결로가 발생하는 것을 예방하는 방법이 있을까요?</td>\n",
       "      <td>외벽 모서리 부위에 결로가 발생하는 주요 원인은 높은 온도차입니다. 외벽 모서리는 ...</td>\n",
       "    </tr>\n",
       "    <tr>\n",
       "      <th>6438</th>\n",
       "      <td>창호 결로를 해결하기 위한 가장 효과적인 방법은 무엇인가요?</td>\n",
       "      <td>창호 결로를 방지하기 위한 대책으로는 KS에 규정된 프레임을 사용하고, 열관류율 및...</td>\n",
       "    </tr>\n",
       "    <tr>\n",
       "      <th>6439</th>\n",
       "      <td>AD, PD에 면한 벽체 결로에 대한 대책은 어떤 것이 있나요?</td>\n",
       "      <td>AD, PD에 면한 벽체의 결로에 대한 대책으로는 단열재를 미실하게 시공하여 결로가...</td>\n",
       "    </tr>\n",
       "  </tbody>\n",
       "</table>\n",
       "<p>6440 rows × 2 columns</p>\n",
       "</div>"
      ],
      "text/plain": [
       "                                          Q  \\\n",
       "0                                 면진장치가 뭐야?   \n",
       "1                            내진설계의 종류 좀 알려줘   \n",
       "2                             철골구조의 장점이 뭐야?   \n",
       "3                         철골철근 콘크리트 구조가 뭐야?   \n",
       "4                          철골구조는 어떤 방식이 있어?   \n",
       "...                                     ...   \n",
       "6435           벽장 부위 결로가 발생하는 주된 원인은 무엇일까요?   \n",
       "6436       벽체 결로가 AD나 PD에 면한다면 그 원인이 무엇인가요?   \n",
       "6437  외벽 모서리 부위에 결로가 발생하는 것을 예방하는 방법이 있을까요?   \n",
       "6438      창호 결로를 해결하기 위한 가장 효과적인 방법은 무엇인가요?   \n",
       "6439    AD, PD에 면한 벽체 결로에 대한 대책은 어떤 것이 있나요?   \n",
       "\n",
       "                                                      A  \n",
       "0     면진장치란 지반에서 오는 진동 에너지를 흡수하여 건물에 주는 진동을 줄여주는 진동 ...  \n",
       "1                    내진 설계의 종류로 내진구조, 제진구조, 면진구조가 있습니다.  \n",
       "2     철골구조는 건물의 외벽에는 그다지 하중이 걸리지 않기 때문에 고층 건물의 건축이 가...  \n",
       "3     철근철골콘크리트는 철골과 철근, 그리고 콘크리트를 함께 사용하는 건축 구조입니다. ...  \n",
       "4                           철골구조는 일반철골구조와 경량철골구조가 있습니다.  \n",
       "...                                                 ...  \n",
       "6435  벽장 부위 결로의 주된 원인은 충분한 환기가 이루어지지 않는 환경과 과도한 습기가 ...  \n",
       "6436  AD, PD에 면한 벽체 결로의 원인으로는 외부 공기에 노출된 벽면이 실내보다 냉각...  \n",
       "6437  외벽 모서리 부위에 결로가 발생하는 주요 원인은 높은 온도차입니다. 외벽 모서리는 ...  \n",
       "6438  창호 결로를 방지하기 위한 대책으로는 KS에 규정된 프레임을 사용하고, 열관류율 및...  \n",
       "6439  AD, PD에 면한 벽체의 결로에 대한 대책으로는 단열재를 미실하게 시공하여 결로가...  \n",
       "\n",
       "[6440 rows x 2 columns]"
      ]
     },
     "execution_count": 49,
     "metadata": {},
     "output_type": "execute_result"
    }
   ],
   "source": [
    "qna_df"
   ]
  },
  {
   "cell_type": "code",
   "execution_count": 50,
   "id": "94a91bd4-36c1-4815-8342-840ef34fa96f",
   "metadata": {
    "tags": []
   },
   "outputs": [],
   "source": [
    "qna_df['embedding'] = qna_df.apply(lambda row: model.encode(row.Q), axis = 1)"
   ]
  },
  {
   "cell_type": "code",
   "execution_count": 44,
   "id": "21ef4fe2-7777-407d-a6a3-5cb139b2dea7",
   "metadata": {
    "tags": []
   },
   "outputs": [],
   "source": [
    "def cos_sim(A, B):\n",
    "  return dot(A, B)/(norm(A)*norm(B))"
   ]
  },
  {
   "cell_type": "code",
   "execution_count": 54,
   "id": "eb9b0e6c-3d42-4e4d-9103-b0999fc07a23",
   "metadata": {
    "tags": []
   },
   "outputs": [],
   "source": [
    "def return_answer(question):\n",
    "    embedding = model.encode(question)\n",
    "    qna_df['score'] = qna_df.apply(lambda x: cos_sim(x['embedding'], embedding), axis=1)\n",
    "    return qna_df.loc[qna_df['score'].idxmax()]['A']"
   ]
  },
  {
   "cell_type": "code",
   "execution_count": 57,
   "id": "b7621718-6471-45a8-b224-9f770c75d5f4",
   "metadata": {
    "tags": []
   },
   "outputs": [
    {
     "data": {
      "text/plain": [
       "'오리지널징크는 다른 징크에 비해 수명이 길고 다양한 패턴과 디자인이 가능하며 친환경적이고 금속 부식에 대한 내식성이 뛰어나 유지보수가 용이하다는 장점이 있습니다.'"
      ]
     },
     "execution_count": 57,
     "metadata": {},
     "output_type": "execute_result"
    }
   ],
   "source": [
    "return_answer('카페트의 기대 수명은 얼마나 될까요? 그리고 오리지널징크의 장점에는 무엇이 있나요?')"
   ]
  }
 ],
 "metadata": {
  "kernelspec": {
   "display_name": "Python 3 (ipykernel)",
   "language": "python",
   "name": "python3"
  },
  "language_info": {
   "codemirror_mode": {
    "name": "ipython",
    "version": 3
   },
   "file_extension": ".py",
   "mimetype": "text/x-python",
   "name": "python",
   "nbconvert_exporter": "python",
   "pygments_lexer": "ipython3",
   "version": "3.11.4"
  }
 },
 "nbformat": 4,
 "nbformat_minor": 5
}
