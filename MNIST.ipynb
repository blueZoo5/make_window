{
 "cells": [
  {
   "cell_type": "code",
   "execution_count": 1,
   "metadata": {
    "scrolled": true
   },
   "outputs": [
    {
     "name": "stdout",
     "output_type": "stream",
     "text": [
      "WARNING:tensorflow:From D:\\anaconda\\lib\\site-packages\\tensorflow\\python\\compat\\v2_compat.py:96: disable_resource_variables (from tensorflow.python.ops.variable_scope) is deprecated and will be removed in a future version.\n",
      "Instructions for updating:\n",
      "non-resource variables are not supported in the long term\n"
     ]
    }
   ],
   "source": [
    "import tensorflow.compat.v1 as tf\n",
    "tf.disable_v2_behavior()\n",
    "import matplotlib.pyplot as plt\n",
    "%matplotlib inline\n",
    "import numpy as np\n",
    "\n",
    "import tensorflow.keras\n",
    "import sklearn\n",
    "import seaborn as sns"
   ]
  },
  {
   "cell_type": "code",
   "execution_count": 2,
   "metadata": {},
   "outputs": [
    {
     "name": "stdout",
     "output_type": "stream",
     "text": [
      "x_train의 shape :  (60000, 28, 28)\n",
      "y_train의 shape :  (60000,)\n",
      "x_test의 shape :  (10000, 28, 28)\n",
      "y_test의 shape :  (10000,)\n",
      "x_train의 행렬 차원 :  3\n",
      "y_train의 행렬 차원 :  1\n",
      "x_test의 행렬 차원 :  3\n",
      "y_test의 행렬 차원 :  1\n"
     ]
    }
   ],
   "source": [
    "(x_train, y_train), (x_test, y_test) = tf.keras.datasets.mnist.load_data()\n",
    "\n",
    "print(\"x_train의 shape : \", x_train.shape)\n",
    "print(\"y_train의 shape : \", y_train.shape)\n",
    "print(\"x_test의 shape : \", x_test.shape)\n",
    "print(\"y_test의 shape : \", y_test.shape)\n",
    "# train 데이터는 60,000개 28 * 28 픽셀\n",
    "# test 데이터는 10,000개 28 * 28 픽셀\n",
    "print(\"x_train의 행렬 차원 : \", x_train.ndim)\n",
    "print(\"y_train의 행렬 차원 : \",y_train.ndim)\n",
    "print(\"x_test의 행렬 차원 : \",x_test.ndim)\n",
    "print(\"y_test의 행렬 차원 : \",y_test.ndim)\n",
    "# 이미지는 3차원 행렬, 레이블은 1차원 배열로 이루어짐"
   ]
  },
  {
   "cell_type": "code",
   "execution_count": 3,
   "metadata": {},
   "outputs": [
    {
     "data": {
      "image/png": "[encoded data removed]",
      "text/plain": [
       "<Figure size 2016x2016 with 10 Axes>"
      ]
     },
     "metadata": {
      "needs_background": "light"
     },
     "output_type": "display_data"
    }
   ],
   "source": [
    "num_classes = 10 # 0부터 9까지의 레이블\n",
    "f, ax = plt.subplots(1, num_classes, figsize = (28, 28))\n",
    "\n",
    "# 0 - 9 레이블을 포문을 활용하여 파악\n",
    "for i in range(num_classes):\n",
    "    sample = x_train[y_train == i][0]\n",
    "    ax[i].imshow(sample, cmap = 'gray')\n",
    "    ax[i].set_title(\"label : {}\" .format(i), fontsize = 16)"
   ]
  },
  {
   "cell_type": "markdown",
   "metadata": {},
   "source": [
    "y_train = tf.keras.utils.to_categorical(y_train, num_classes)\n",
    "y_test = tf.keras.utils.to_categorical(y_test, num_classes)"
   ]
  },
  {
   "cell_type": "markdown",
   "metadata": {},
   "source": [
    "for i in range(num_classes):\n",
    "    print(y_train[i])"
   ]
  },
  {
   "cell_type": "code",
   "execution_count": 4,
   "metadata": {},
   "outputs": [
    {
     "data": {
      "text/plain": [
       "(28, 28)"
      ]
     },
     "execution_count": 4,
     "metadata": {},
     "output_type": "execute_result"
    }
   ],
   "source": [
    "# 정규화(0부터 1 사이의 실수로 값을 변경)를 위해 255로 나눔\n",
    "x_train = x_train / 255.0\n",
    "x_test = x_test / 255.0\n",
    "x_train[0].shape"
   ]
  },
  {
   "cell_type": "markdown",
   "metadata": {},
   "source": [
    "x_train = x_train.reshape(x_train.shape[0], -1)\n",
    "x_test = x_test.reshape(x_test.shape[0], -1)\n",
    "\n",
    "print(x_train.shape, x_test.shape)"
   ]
  },
  {
   "cell_type": "code",
   "execution_count": 5,
   "metadata": {},
   "outputs": [
    {
     "name": "stdout",
     "output_type": "stream",
     "text": [
      "Train on 60000 samples\n",
      "Epoch 1/10\n",
      "60000/60000 [==============================] - 18s 306us/sample - loss: 0.2519 - acc: 0.9263\n",
      "Epoch 2/10\n",
      "60000/60000 [==============================] - 16s 268us/sample - loss: 0.1125 - acc: 0.9659\n",
      "Epoch 3/10\n",
      "60000/60000 [==============================] - 16s 267us/sample - loss: 0.0803 - acc: 0.9749 - ETA: 1s - lo\n",
      "Epoch 4/10\n",
      "60000/60000 [==============================] - 17s 275us/sample - loss: 0.0633 - acc: 0.9796\n",
      "Epoch 5/10\n",
      "60000/60000 [==============================] - 16s 272us/sample - loss: 0.0530 - acc: 0.9833\n",
      "Epoch 6/10\n",
      "60000/60000 [==============================] - 17s 280us/sample - loss: 0.0442 - acc: 0.9848\n",
      "Epoch 7/10\n",
      "60000/60000 [==============================] - 29s 484us/sample - loss: 0.0382 - acc: 0.9874 - l\n",
      "Epoch 8/10\n",
      "60000/60000 [==============================] - 21s 358us/sample - loss: 0.0342 - acc: 0.9887 - loss: 0.0343 - acc: - ETA: 1s -\n",
      "Epoch 9/10\n",
      "60000/60000 [==============================] - 17s 278us/sample - loss: 0.0283 - acc: 0.9905 -  - ETA: 4s  - ETA: 0s - loss: 0.0283 \n",
      "Epoch 10/10\n",
      "60000/60000 [==============================] - 16s 272us/sample - loss: 0.0294 - acc: 0.9903 - loss: 0.0297 - acc: 0.990 - ETA: 0s - loss: 0.0297 - \n"
     ]
    }
   ],
   "source": [
    "# 은닉층은 1개, 256개 뉴런으로 구성\n",
    "# hidden layer 활성화 방법으로 시그모이드 대신\n",
    "# 입력값을 민감하게 반영하는 relu 사용\n",
    "model = tf.keras.models.Sequential([\n",
    "    tf.keras.layers.Flatten(input_shape = (28, 28)),\n",
    "    tf.keras.layers.Dense(256, activation = 'relu'),\n",
    "    tf.keras.layers.Dropout(0.2), # 80% 노드만 사용, overfit 방지\n",
    "    tf.keras.layers.Dense(10, activation = 'softmax')\n",
    "])\n",
    "# 모델은 경사하강법 중 adam 알고리즘 사용\n",
    "# 손실함수는 'sparse_categorical_crossentropy'\n",
    "# 원핫인코딩이 아닌 정수 그대로 출력\n",
    "# 원핫인코딩(피처의 갯수만큼 컬럼을 만들어서 0과 1로 채워넣는 방식)\n",
    "\n",
    "model.compile(\n",
    "    loss = 'sparse_categorical_crossentropy',\n",
    "    optimizer = 'adam',\n",
    "    metrics = ['acc']\n",
    ")\n",
    "# 에폭은 10으로 설정(train데이터를 10회 돌며 학습)\n",
    "history = model.fit(x_train, y_train, epochs = 10)"
   ]
  },
  {
   "cell_type": "code",
   "execution_count": 6,
   "metadata": {},
   "outputs": [
    {
     "name": "stdout",
     "output_type": "stream",
     "text": [
      "Model: \"sequential\"\n",
      "_________________________________________________________________\n",
      "Layer (type)                 Output Shape              Param #   \n",
      "=================================================================\n",
      "flatten (Flatten)            (None, 784)               0         \n",
      "_________________________________________________________________\n",
      "dense (Dense)                (None, 256)               200960    \n",
      "_________________________________________________________________\n",
      "dropout (Dropout)            (None, 256)               0         \n",
      "_________________________________________________________________\n",
      "dense_1 (Dense)              (None, 10)                2570      \n",
      "=================================================================\n",
      "Total params: 203,530\n",
      "Trainable params: 203,530\n",
      "Non-trainable params: 0\n",
      "_________________________________________________________________\n"
     ]
    }
   ],
   "source": [
    "# 모델 summary 확인\n",
    "\n",
    "model.summary()"
   ]
  },
  {
   "cell_type": "code",
   "execution_count": 7,
   "metadata": {},
   "outputs": [],
   "source": [
    "# 손실도와 정확도 확인을 위한 변수 설정\n",
    "\n",
    "loss = history.history['loss']\n",
    "acc = history.history['acc']\n",
    "epochs = range(1, len(loss) + 1)"
   ]
  },
  {
   "cell_type": "code",
   "execution_count": 8,
   "metadata": {},
   "outputs": [
    {
     "data": {
      "image/png": "[encoded data removed]",
      "text/plain": [
       "<Figure size 432x288 with 1 Axes>"
      ]
     },
     "metadata": {
      "needs_background": "light"
     },
     "output_type": "display_data"
    }
   ],
   "source": [
    "# 손실도와 정확도 확인\n",
    "\n",
    "plt.plot(epochs, loss, label = 'loss')\n",
    "plt.plot(epochs, acc, label = 'acc')\n",
    "plt.title('loss & acc')\n",
    "plt.xlabel('Epochs')\n",
    "plt.ylabel('loss & acc')\n",
    "plt.grid()\n",
    "plt.show()"
   ]
  },
  {
   "cell_type": "code",
   "execution_count": 9,
   "metadata": {},
   "outputs": [
    {
     "name": "stderr",
     "output_type": "stream",
     "text": [
      "D:\\anaconda\\lib\\site-packages\\tensorflow\\python\\keras\\engine\\training.py:2426: UserWarning: `Model.state_updates` will be removed in a future version. This property should not be used in TensorFlow 2.0, as `updates` are applied automatically.\n",
      "  warnings.warn('`Model.state_updates` will be removed in a future version. '\n"
     ]
    },
    {
     "data": {
      "text/plain": [
       "[0.06784222781475546, 0.9819]"
      ]
     },
     "execution_count": 9,
     "metadata": {},
     "output_type": "execute_result"
    }
   ],
   "source": [
    "# 손실도와 정확도 평가 결과\n",
    "results = model.evaluate(x_test, y_test)\n",
    "results"
   ]
  },
  {
   "cell_type": "code",
   "execution_count": 10,
   "metadata": {},
   "outputs": [
    {
     "name": "stdout",
     "output_type": "stream",
     "text": [
      "y_pred shape :  (10000, 10)\n",
      "[6.9637585e-10 8.3087148e-11 1.5198127e-07 1.0872317e-05 4.0796651e-14\n",
      " 5.0572879e-10 3.4694234e-16 9.9995518e-01 1.2506746e-08 3.3844226e-05]\n",
      "7\n"
     ]
    }
   ],
   "source": [
    "# test 데이터로 예측 시작\n",
    "\n",
    "y_pred = model.predict(x_test)\n",
    "print('y_pred shape : ', y_pred.shape)\n",
    "print(y_pred[0])\n",
    "print(y_test[0])"
   ]
  },
  {
   "cell_type": "code",
   "execution_count": 11,
   "metadata": {},
   "outputs": [
    {
     "name": "stdout",
     "output_type": "stream",
     "text": [
      "최대값을 갖는(예측된) 레이블 :  7\n"
     ]
    }
   ],
   "source": [
    "# 예측값을 레이블화하여 표현하는 포문\n",
    "max_value = y_pred[0][0]\n",
    "max_index = 0\n",
    "for index, value in enumerate(y_pred[0]):\n",
    "    if value > max_value: # 정렬 알고리즘으로 최대값 찾기\n",
    "        max_value = value\n",
    "        max_index = index\n",
    "        \n",
    "print('최대값을 갖는(예측된) 레이블 : ', max_index)"
   ]
  },
  {
   "cell_type": "code",
   "execution_count": 12,
   "metadata": {},
   "outputs": [
    {
     "name": "stdout",
     "output_type": "stream",
     "text": [
      "최대값을 갖는(예측된) 레이블 :  12\n"
     ]
    }
   ],
   "source": [
    "# 위 포문을 지원하는 넘파이 모듈의 함수 사용\n",
    "print('최대값을 갖는(예측된) 레이블 : ', np.argmax(y_pred))"
   ]
  },
  {
   "cell_type": "code",
   "execution_count": 13,
   "metadata": {},
   "outputs": [
    {
     "name": "stdout",
     "output_type": "stream",
     "text": [
      "실제 레이블 : 7, 예측 레이블 : 7\n",
      "실제 레이블 : 2, 예측 레이블 : 2\n",
      "실제 레이블 : 1, 예측 레이블 : 1\n",
      "실제 레이블 : 0, 예측 레이블 : 0\n",
      "실제 레이블 : 4, 예측 레이블 : 4\n",
      "실제 레이블 : 1, 예측 레이블 : 1\n",
      "실제 레이블 : 4, 예측 레이블 : 4\n",
      "실제 레이블 : 9, 예측 레이블 : 9\n",
      "실제 레이블 : 5, 예측 레이블 : 6\n",
      "실제 레이블 : 9, 예측 레이블 : 9\n",
      "실제 레이블 : 0, 예측 레이블 : 0\n",
      "실제 레이블 : 6, 예측 레이블 : 6\n",
      "실제 레이블 : 9, 예측 레이블 : 9\n",
      "실제 레이블 : 0, 예측 레이블 : 0\n",
      "실제 레이블 : 1, 예측 레이블 : 1\n",
      "실제 레이블 : 5, 예측 레이블 : 5\n",
      "실제 레이블 : 9, 예측 레이블 : 9\n",
      "실제 레이블 : 7, 예측 레이블 : 7\n",
      "실제 레이블 : 3, 예측 레이블 : 3\n",
      "실제 레이블 : 4, 예측 레이블 : 4\n"
     ]
    }
   ],
   "source": [
    "# 20개 이미지의 예측 레이블 결과 확인\n",
    "for i in range(20):\n",
    "    print(\"실제 레이블 : {}, 예측 레이블 : {}\" .format(y_test[i], np.argmax(y_pred[i])))"
   ]
  },
  {
   "cell_type": "code",
   "execution_count": 14,
   "metadata": {},
   "outputs": [
    {
     "name": "stdout",
     "output_type": "stream",
     "text": [
      "실제 레이블 : 5, 예측 레이블 : 6\n",
      "실제 레이블 : 2, 예측 레이블 : 8\n",
      "실제 레이블 : 2, 예측 레이블 : 9\n",
      "실제 레이블 : 4, 예측 레이블 : 6\n",
      "실제 레이블 : 2, 예측 레이블 : 7\n",
      "실제 레이블 : 6, 예측 레이블 : 0\n",
      "실제 레이블 : 4, 예측 레이블 : 9\n",
      "실제 레이블 : 8, 예측 레이블 : 0\n",
      "실제 레이블 : 8, 예측 레이블 : 2\n",
      "실제 레이블 : 4, 예측 레이블 : 6\n",
      "실제 레이블 : 1, 예측 레이블 : 8\n",
      "실제 레이블 : 2, 예측 레이블 : 1\n",
      "실제 레이블 : 7, 예측 레이블 : 3\n",
      "실제 레이블 : 8, 예측 레이블 : 4\n",
      "실제 레이블 : 5, 예측 레이블 : 8\n",
      "실제 레이블 : 7, 예측 레이블 : 9\n",
      "실제 레이블 : 6, 예측 레이블 : 5\n",
      "실제 레이블 : 8, 예측 레이블 : 9\n",
      "실제 레이블 : 5, 예측 레이블 : 4\n",
      "실제 레이블 : 6, 예측 레이블 : 0\n",
      "실제 레이블 : 6, 예측 레이블 : 5\n",
      "실제 레이블 : 7, 예측 레이블 : 1\n",
      "실제 레이블 : 4, 예측 레이블 : 6\n",
      "실제 레이블 : 7, 예측 레이블 : 8\n",
      "실제 레이블 : 6, 예측 레이블 : 8\n",
      "실제 레이블 : 7, 예측 레이블 : 2\n",
      "실제 레이블 : 9, 예측 레이블 : 4\n",
      "실제 레이블 : 9, 예측 레이블 : 5\n",
      "실제 레이블 : 7, 예측 레이블 : 1\n",
      "실제 레이블 : 5, 예측 레이블 : 7\n",
      "실제 레이블 : 8, 예측 레이블 : 3\n",
      "실제 레이블 : 7, 예측 레이블 : 9\n",
      "실제 레이블 : 5, 예측 레이블 : 6\n",
      "실제 레이블 : 5, 예측 레이블 : 3\n",
      "실제 레이블 : 7, 예측 레이블 : 9\n",
      "실제 레이블 : 8, 예측 레이블 : 7\n",
      "실제 레이블 : 4, 예측 레이블 : 6\n",
      "실제 레이블 : 9, 예측 레이블 : 5\n",
      "실제 레이블 : 2, 예측 레이블 : 6\n",
      "실제 레이블 : 0, 예측 레이블 : 6\n",
      "실제 레이블 : 3, 예측 레이블 : 7\n",
      "실제 레이블 : 7, 예측 레이블 : 2\n",
      "실제 레이블 : 2, 예측 레이블 : 8\n",
      "실제 레이블 : 8, 예측 레이블 : 3\n",
      "실제 레이블 : 9, 예측 레이블 : 4\n",
      "실제 레이블 : 7, 예측 레이블 : 2\n",
      "실제 레이블 : 0, 예측 레이블 : 9\n",
      "실제 레이블 : 8, 예측 레이블 : 3\n",
      "실제 레이블 : 7, 예측 레이블 : 9\n",
      "실제 레이블 : 4, 예측 레이블 : 9\n",
      "실제 레이블 : 7, 예측 레이블 : 9\n",
      "실제 레이블 : 3, 예측 레이블 : 7\n",
      "실제 레이블 : 4, 예측 레이블 : 9\n",
      "실제 레이블 : 6, 예측 레이블 : 1\n",
      "실제 레이블 : 1, 예측 레이블 : 2\n",
      "실제 레이블 : 9, 예측 레이블 : 6\n",
      "실제 레이블 : 5, 예측 레이블 : 8\n",
      "실제 레이블 : 9, 예측 레이블 : 1\n",
      "실제 레이블 : 9, 예측 레이블 : 8\n",
      "실제 레이블 : 9, 예측 레이블 : 4\n",
      "실제 레이블 : 9, 예측 레이블 : 5\n",
      "실제 레이블 : 5, 예측 레이블 : 3\n",
      "실제 레이블 : 7, 예측 레이블 : 1\n",
      "실제 레이블 : 6, 예측 레이블 : 1\n",
      "실제 레이블 : 9, 예측 레이블 : 4\n",
      "실제 레이블 : 9, 예측 레이블 : 4\n",
      "실제 레이블 : 4, 예측 레이블 : 9\n",
      "실제 레이블 : 8, 예측 레이블 : 0\n",
      "실제 레이블 : 3, 예측 레이블 : 2\n",
      "실제 레이블 : 3, 예측 레이블 : 2\n",
      "실제 레이블 : 9, 예측 레이블 : 7\n",
      "실제 레이블 : 3, 예측 레이블 : 5\n",
      "실제 레이블 : 5, 예측 레이블 : 3\n",
      "실제 레이블 : 1, 예측 레이블 : 2\n",
      "실제 레이블 : 4, 예측 레이블 : 6\n",
      "실제 레이블 : 5, 예측 레이블 : 9\n",
      "실제 레이블 : 0, 예측 레이블 : 9\n",
      "실제 레이블 : 8, 예측 레이블 : 9\n",
      "실제 레이블 : 9, 예측 레이블 : 1\n",
      "실제 레이블 : 6, 예측 레이블 : 4\n",
      "실제 레이블 : 3, 예측 레이블 : 2\n",
      "실제 레이블 : 5, 예측 레이블 : 0\n",
      "실제 레이블 : 9, 예측 레이블 : 3\n",
      "실제 레이블 : 7, 예측 레이블 : 9\n",
      "실제 레이블 : 7, 예측 레이블 : 2\n",
      "실제 레이블 : 4, 예측 레이블 : 6\n",
      "실제 레이블 : 7, 예측 레이블 : 8\n",
      "실제 레이블 : 2, 예측 레이블 : 0\n",
      "실제 레이블 : 0, 예측 레이블 : 6\n",
      "실제 레이블 : 6, 예측 레이블 : 2\n",
      "실제 레이블 : 5, 예측 레이블 : 6\n",
      "실제 레이블 : 1, 예측 레이블 : 3\n",
      "실제 레이블 : 4, 예측 레이블 : 6\n",
      "실제 레이블 : 3, 예측 레이블 : 5\n",
      "실제 레이블 : 9, 예측 레이블 : 4\n",
      "실제 레이블 : 3, 예측 레이블 : 5\n",
      "실제 레이블 : 7, 예측 레이블 : 1\n",
      "실제 레이블 : 0, 예측 레이블 : 2\n",
      "실제 레이블 : 9, 예측 레이블 : 3\n",
      "실제 레이블 : 2, 예측 레이블 : 7\n",
      "실제 레이블 : 7, 예측 레이블 : 9\n",
      "실제 레이블 : 1, 예측 레이블 : 7\n",
      "실제 레이블 : 2, 예측 레이블 : 8\n",
      "실제 레이블 : 2, 예측 레이블 : 8\n",
      "실제 레이블 : 5, 예측 레이블 : 9\n",
      "실제 레이블 : 9, 예측 레이블 : 4\n",
      "실제 레이블 : 8, 예측 레이블 : 7\n",
      "실제 레이블 : 6, 예측 레이블 : 5\n",
      "실제 레이블 : 3, 예측 레이블 : 5\n",
      "실제 레이블 : 3, 예측 레이블 : 5\n",
      "실제 레이블 : 9, 예측 레이블 : 8\n",
      "실제 레이블 : 8, 예측 레이블 : 0\n",
      "실제 레이블 : 9, 예측 레이블 : 4\n",
      "실제 레이블 : 4, 예측 레이블 : 9\n",
      "실제 레이블 : 8, 예측 레이블 : 6\n",
      "실제 레이블 : 0, 예측 레이블 : 8\n",
      "실제 레이블 : 3, 예측 레이블 : 5\n",
      "실제 레이블 : 3, 예측 레이블 : 6\n",
      "실제 레이블 : 3, 예측 레이블 : 6\n",
      "실제 레이블 : 1, 예측 레이블 : 6\n",
      "실제 레이블 : 1, 예측 레이블 : 8\n",
      "실제 레이블 : 1, 예측 레이블 : 8\n",
      "실제 레이블 : 4, 예측 레이블 : 2\n",
      "실제 레이블 : 3, 예측 레이블 : 7\n",
      "실제 레이블 : 8, 예측 레이블 : 5\n",
      "실제 레이블 : 7, 예측 레이블 : 8\n",
      "실제 레이블 : 4, 예측 레이블 : 7\n",
      "실제 레이블 : 7, 예측 레이블 : 0\n",
      "실제 레이블 : 4, 예측 레이블 : 6\n",
      "실제 레이블 : 4, 예측 레이블 : 9\n",
      "실제 레이블 : 3, 예측 레이블 : 8\n",
      "실제 레이블 : 5, 예측 레이블 : 3\n",
      "실제 레이블 : 3, 예측 레이블 : 8\n",
      "실제 레이블 : 5, 예측 레이블 : 9\n",
      "실제 레이블 : 3, 예측 레이블 : 9\n",
      "실제 레이블 : 3, 예측 레이블 : 9\n",
      "실제 레이블 : 3, 예측 레이블 : 9\n",
      "실제 레이블 : 9, 예측 레이블 : 3\n",
      "실제 레이블 : 8, 예측 레이블 : 9\n",
      "실제 레이블 : 9, 예측 레이블 : 7\n",
      "실제 레이블 : 2, 예측 레이블 : 6\n",
      "실제 레이블 : 7, 예측 레이블 : 1\n",
      "실제 레이블 : 0, 예측 레이블 : 7\n",
      "실제 레이블 : 8, 예측 레이블 : 3\n",
      "실제 레이블 : 9, 예측 레이블 : 5\n",
      "실제 레이블 : 8, 예측 레이블 : 9\n",
      "실제 레이블 : 1, 예측 레이블 : 6\n",
      "실제 레이블 : 0, 예측 레이블 : 6\n",
      "실제 레이블 : 0, 예측 레이블 : 3\n",
      "실제 레이블 : 4, 예측 레이블 : 8\n",
      "실제 레이블 : 3, 예측 레이블 : 2\n",
      "실제 레이블 : 3, 예측 레이블 : 2\n",
      "실제 레이블 : 2, 예측 레이블 : 4\n",
      "실제 레이블 : 3, 예측 레이블 : 5\n",
      "실제 레이블 : 3, 예측 레이블 : 5\n",
      "실제 레이블 : 3, 예측 레이블 : 5\n",
      "실제 레이블 : 0, 예측 레이블 : 6\n",
      "실제 레이블 : 4, 예측 레이블 : 9\n",
      "실제 레이블 : 7, 예측 레이블 : 2\n",
      "실제 레이블 : 7, 예측 레이블 : 2\n",
      "실제 레이블 : 7, 예측 레이블 : 2\n",
      "실제 레이블 : 7, 예측 레이블 : 2\n",
      "실제 레이블 : 8, 예측 레이블 : 5\n",
      "실제 레이블 : 9, 예측 레이블 : 4\n",
      "실제 레이블 : 9, 예측 레이블 : 4\n",
      "실제 레이블 : 0, 예측 레이블 : 8\n",
      "실제 레이블 : 2, 예측 레이블 : 7\n",
      "실제 레이블 : 4, 예측 레이블 : 7\n",
      "실제 레이블 : 6, 예측 레이블 : 3\n",
      "실제 레이블 : 9, 예측 레이블 : 7\n",
      "실제 레이블 : 2, 예측 레이블 : 8\n",
      "실제 레이블 : 5, 예측 레이블 : 6\n",
      "실제 레이블 : 4, 예측 레이블 : 6\n",
      "실제 레이블 : 5, 예측 레이블 : 6\n",
      "실제 레이블 : 2, 예측 레이블 : 0\n",
      "실제 레이블 : 5, 예측 레이블 : 0\n",
      "실제 레이블 : 2, 예측 레이블 : 7\n",
      "실제 레이블 : 6, 예측 레이블 : 8\n",
      "실제 레이블 : 2, 예측 레이블 : 0\n",
      "실제 레이블 : 3, 예측 레이블 : 8\n",
      "실제 레이블 : 5, 예측 레이블 : 6\n"
     ]
    }
   ],
   "source": [
    "# 실제 레이블과 예측 레이블이 틀린 값의 개수 확인\n",
    "count = 0\n",
    "\n",
    "for i in range(len(y_test)):\n",
    "    if (y_test[i] != np.argmax(y_pred[i])):\n",
    "        print(\"실제 레이블 : {}, 예측 레이블 : {}\" .format(y_test[i], np.argmax(y_pred[i])))\n",
    "        count += 1"
   ]
  },
  {
   "cell_type": "code",
   "execution_count": 15,
   "metadata": {},
   "outputs": [
    {
     "name": "stdout",
     "output_type": "stream",
     "text": [
      "예측이 틀린 레이블 값의 개수 :  181\n",
      "정확도 백분율 환산 :  98.19\n"
     ]
    }
   ],
   "source": [
    "print(\"예측이 틀린 레이블 값의 개수 : \", count)\n",
    "print(\"정확도 백분율 환산 : \", (1 - count/len(y_test)) * 100.0)"
   ]
  }
 ],
 "metadata": {
  "kernelspec": {
   "display_name": "Python 3",
   "language": "python",
   "name": "python3"
  },
  "language_info": {
   "codemirror_mode": {
    "name": "ipython",
    "version": 3
   },
   "file_extension": ".py",
   "mimetype": "text/x-python",
   "name": "python",
   "nbconvert_exporter": "python",
   "pygments_lexer": "ipython3",
   "version": "3.8.8"
  },
  "metadata": {
   "interpreter": {
    "hash": "4ce0e62306dd6a5716965d4519ada776f947e6dfc145b604b11307c10277ef29"
   }
  }
 },
 "nbformat": 4,
 "nbformat_minor": 2
}
