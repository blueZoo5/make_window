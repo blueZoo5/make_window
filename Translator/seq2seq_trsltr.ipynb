{
 "cells": [
  {
   "cell_type": "code",
   "execution_count": 1,
   "id": "86a6f4b2-c4bd-4b0a-a654-a06309fd905e",
   "metadata": {
    "tags": []
   },
   "outputs": [],
   "source": [
    "import os\n",
    "import re\n",
    "import shutil\n",
    "import zipfile\n",
    "\n",
    "import numpy as np\n",
    "import pandas as pd\n",
    "import tensorflow as tf\n",
    "import unicodedata\n",
    "import urllib3\n",
    "from tensorflow.keras.layers import Embedding, GRU, Dense\n",
    "from tensorflow.keras.preprocessing.sequence import pad_sequences\n",
    "from tensorflow.keras.preprocessing.text import Tokenizer"
   ]
  },
  {
   "cell_type": "code",
   "execution_count": 2,
   "id": "b901dd90-f432-42b1-8cbe-a5179d740a8c",
   "metadata": {
    "tags": []
   },
   "outputs": [],
   "source": [
    "def to_ascii(s):\n",
    "  # 프랑스어 악센트(accent) 삭제\n",
    "  # 예시 : 'déjà diné' -> deja dine\n",
    "  return ''.join(c for c in unicodedata.normalize('NFD', s)\n",
    "                   if unicodedata.category(c) != 'Mn')"
   ]
  },
  {
   "cell_type": "code",
   "execution_count": 3,
   "id": "94d77f35-9bc4-4eeb-979a-856ef665de27",
   "metadata": {
    "tags": []
   },
   "outputs": [],
   "source": [
    "def preprocess_sentence(sent):\n",
    "  # 악센트 제거 함수 호출\n",
    "  sent = to_ascii(sent.lower())\n",
    "\n",
    "  # 단어와 구두점 사이에 공백 추가.\n",
    "  # ex) \"I am a student.\" => \"I am a student .\"\n",
    "  sent = re.sub(r\"([?.!,¿])\", r\" \\1\", sent)\n",
    "\n",
    "  # (a-z, A-Z, \".\", \"?\", \"!\", \",\") 이들을 제외하고는 전부 공백으로 변환.\n",
    "  sent = re.sub(r\"[^a-zA-Z!.?]+\", r\" \", sent)\n",
    "\n",
    "  # 다수 개의 공백을 하나의 공백으로 치환\n",
    "  sent = re.sub(r\"\\s+\", \" \", sent)\n",
    "  return sent"
   ]
  },
  {
   "cell_type": "code",
   "execution_count": 10,
   "id": "2599731c-7c74-4f3d-85b2-9c732f708a1e",
   "metadata": {
    "tags": []
   },
   "outputs": [],
   "source": [
    "num_samples = 33000 # 샘플 개수"
   ]
  },
  {
   "cell_type": "code",
   "execution_count": 8,
   "id": "a92e920e-f073-4df8-91f1-2990f7c2101c",
   "metadata": {
    "tags": []
   },
   "outputs": [],
   "source": [
    "def load_preprocessed_data():\n",
    "  encoder_input, decoder_input, decoder_target = [], [], []\n",
    "\n",
    "  with open(\"fra.txt\", \"r\", encoding = 'utf-8') as lines:\n",
    "    for i, line in enumerate(lines):\n",
    "      # source 데이터와 target 데이터 분리\n",
    "      src_line, tar_line, _ = line.strip().split('\\t')\n",
    "\n",
    "      # source 데이터 전처리\n",
    "      src_line = [w for w in preprocess_sentence(src_line).split()]\n",
    "\n",
    "      # target 데이터 전처리\n",
    "      tar_line = preprocess_sentence(tar_line)\n",
    "      tar_line_in = [w for w in (\"<sos> \" + tar_line).split()]\n",
    "      tar_line_out = [w for w in (tar_line + \" <eos>\").split()]\n",
    "\n",
    "      encoder_input.append(src_line)\n",
    "      decoder_input.append(tar_line_in)\n",
    "      decoder_target.append(tar_line_out)\n",
    "\n",
    "      if i == num_samples - 1:\n",
    "        break\n",
    "\n",
    "  return encoder_input, decoder_input, decoder_target"
   ]
  },
  {
   "cell_type": "code",
   "execution_count": 11,
   "id": "0228db62-de99-4867-85b8-90a87a1175da",
   "metadata": {
    "tags": []
   },
   "outputs": [
    {
     "name": "stdout",
     "output_type": "stream",
     "text": [
      "인코더의 입력 : [['go', '.'], ['go', '.'], ['go', '.'], ['go', '.'], ['hi', '.']]\n",
      "디코더의 입력 : [['<sos>', 'va', '!'], ['<sos>', 'marche', '.'], ['<sos>', 'en', 'route', '!'], ['<sos>', 'bouge', '!'], ['<sos>', 'salut', '!']]\n",
      "디코더의 레이블 : [['va', '!', '<eos>'], ['marche', '.', '<eos>'], ['en', 'route', '!', '<eos>'], ['bouge', '!', '<eos>'], ['salut', '!', '<eos>']]\n"
     ]
    }
   ],
   "source": [
    "sents_en_in, sents_fra_in, sents_fra_out = load_preprocessed_data()\n",
    "print('인코더의 입력 :',sents_en_in[:5])\n",
    "print('디코더의 입력 :',sents_fra_in[:5])\n",
    "print('디코더의 레이블 :',sents_fra_out[:5])"
   ]
  },
  {
   "cell_type": "code",
   "execution_count": 12,
   "id": "3eec60c8-3dc0-4749-876c-8579c5b18af4",
   "metadata": {
    "tags": []
   },
   "outputs": [],
   "source": [
    "tokenizer_en = Tokenizer(filters=\"\", lower=False)\n",
    "tokenizer_en.fit_on_texts(sents_en_in)\n",
    "encoder_input = tokenizer_en.texts_to_sequences(sents_en_in)\n",
    "encoder_input = pad_sequences(encoder_input, padding=\"post\")\n",
    "\n",
    "tokenizer_fra = Tokenizer(filters=\"\", lower=False)\n",
    "tokenizer_fra.fit_on_texts(sents_fra_in)\n",
    "tokenizer_fra.fit_on_texts(sents_fra_out)\n",
    "\n",
    "decoder_input = tokenizer_fra.texts_to_sequences(sents_fra_in)\n",
    "decoder_input = pad_sequences(decoder_input, padding=\"post\")\n",
    "\n",
    "decoder_target = tokenizer_fra.texts_to_sequences(sents_fra_out)\n",
    "decoder_target = pad_sequences(decoder_target, padding=\"post\")"
   ]
  },
  {
   "cell_type": "code",
   "execution_count": 13,
   "id": "cc5392c6-bcc9-4030-bed0-bbe27627208e",
   "metadata": {
    "tags": []
   },
   "outputs": [
    {
     "name": "stdout",
     "output_type": "stream",
     "text": [
      "인코더의 입력의 크기(shape) : (33000, 7)\n",
      "디코더의 입력의 크기(shape) : (33000, 16)\n",
      "디코더의 레이블의 크기(shape) : (33000, 16)\n"
     ]
    }
   ],
   "source": [
    "print('인코더의 입력의 크기(shape) :',encoder_input.shape)\n",
    "print('디코더의 입력의 크기(shape) :',decoder_input.shape)\n",
    "print('디코더의 레이블의 크기(shape) :',decoder_target.shape)"
   ]
  },
  {
   "cell_type": "code",
   "execution_count": 15,
   "id": "744da747-61ca-4d6c-bd15-63f5d48823cd",
   "metadata": {
    "tags": []
   },
   "outputs": [
    {
     "name": "stdout",
     "output_type": "stream",
     "text": [
      "영어 단어 집합의 크기 : 4485, 프랑스어 단어 집합의 크기 : 7878\n"
     ]
    }
   ],
   "source": [
    "src_vocab_size = len(tokenizer_en.word_index) + 1\n",
    "tar_vocab_size = len(tokenizer_fra.word_index) + 1\n",
    "print(\"영어 단어 집합의 크기 : {:d}, 프랑스어 단어 집합의 크기 : {:d}\".format(src_vocab_size, tar_vocab_size))"
   ]
  },
  {
   "cell_type": "code",
   "execution_count": 16,
   "id": "4128ecee-9c81-410f-84f8-89bd4acf673e",
   "metadata": {
    "tags": []
   },
   "outputs": [],
   "source": [
    "src_to_index = tokenizer_en.word_index\n",
    "index_to_src = tokenizer_en.index_word\n",
    "tar_to_index = tokenizer_fra.word_index\n",
    "index_to_tar = tokenizer_fra.index_word"
   ]
  },
  {
   "cell_type": "code",
   "execution_count": 17,
   "id": "2a160976-3599-47cc-abb7-d1a1f63b11ea",
   "metadata": {
    "tags": []
   },
   "outputs": [
    {
     "name": "stdout",
     "output_type": "stream",
     "text": [
      "랜덤 시퀀스 : [   91 24949  8913 ... 23560 30965 16036]\n"
     ]
    }
   ],
   "source": [
    "indices = np.arange(encoder_input.shape[0])\n",
    "np.random.shuffle(indices)\n",
    "print('랜덤 시퀀스 :',indices)"
   ]
  },
  {
   "cell_type": "code",
   "execution_count": 18,
   "id": "3bfcb9d9-28de-4976-9d25-71393a171c57",
   "metadata": {
    "tags": []
   },
   "outputs": [],
   "source": [
    "encoder_input = encoder_input[indices]\n",
    "decoder_input = decoder_input[indices]\n",
    "decoder_target = decoder_target[indices]"
   ]
  },
  {
   "cell_type": "code",
   "execution_count": 19,
   "id": "f0d956c3-8419-4b16-a156-b835c81303b6",
   "metadata": {
    "tags": []
   },
   "outputs": [
    {
     "data": {
      "text/plain": [
       "array([ 19,   3, 384,   4,   0,   0,   0])"
      ]
     },
     "execution_count": 19,
     "metadata": {},
     "output_type": "execute_result"
    }
   ],
   "source": [
    "encoder_input[30997]"
   ]
  },
  {
   "cell_type": "code",
   "execution_count": 20,
   "id": "f6c938e3-2d55-4c8e-8f62-58f55537c53a",
   "metadata": {
    "tags": []
   },
   "outputs": [
    {
     "data": {
      "text/plain": [
       "array([   2,    5,   26,   31,   17, 1019,    6,    0,    0,    0,    0,\n",
       "          0,    0,    0,    0,    0])"
      ]
     },
     "execution_count": 20,
     "metadata": {},
     "output_type": "execute_result"
    }
   ],
   "source": [
    "decoder_input[30997]"
   ]
  },
  {
   "cell_type": "code",
   "execution_count": 21,
   "id": "cef8f441-de35-49ec-8228-b81fab0218a7",
   "metadata": {
    "tags": []
   },
   "outputs": [
    {
     "data": {
      "text/plain": [
       "array([   5,   26,   31,   17, 1019,    6,    3,    0,    0,    0,    0,\n",
       "          0,    0,    0,    0,    0])"
      ]
     },
     "execution_count": 21,
     "metadata": {},
     "output_type": "execute_result"
    }
   ],
   "source": [
    "decoder_target[30997]"
   ]
  },
  {
   "cell_type": "code",
   "execution_count": 22,
   "id": "f56647bd-2d4e-49bd-bd28-76ee1017e44c",
   "metadata": {
    "tags": []
   },
   "outputs": [
    {
     "name": "stdout",
     "output_type": "stream",
     "text": [
      "검증 데이터의 개수 : 3300\n"
     ]
    }
   ],
   "source": [
    "n_of_val = int(33000*0.1)\n",
    "print('검증 데이터의 개수 :',n_of_val)"
   ]
  },
  {
   "cell_type": "code",
   "execution_count": 23,
   "id": "bd261613-aa9a-45bf-9ac5-90bdeaeaf20b",
   "metadata": {
    "tags": []
   },
   "outputs": [],
   "source": [
    "encoder_input_train = encoder_input[:-n_of_val]\n",
    "decoder_input_train = decoder_input[:-n_of_val]\n",
    "decoder_target_train = decoder_target[:-n_of_val]\n",
    "\n",
    "encoder_input_test = encoder_input[-n_of_val:]\n",
    "decoder_input_test = decoder_input[-n_of_val:]\n",
    "decoder_target_test = decoder_target[-n_of_val:]"
   ]
  },
  {
   "cell_type": "code",
   "execution_count": 24,
   "id": "13e41f21-f8b5-4246-abd7-6558960af349",
   "metadata": {
    "tags": []
   },
   "outputs": [
    {
     "name": "stdout",
     "output_type": "stream",
     "text": [
      "훈련 source 데이터의 크기 : (29700, 7)\n",
      "훈련 target 데이터의 크기 : (29700, 16)\n",
      "훈련 target 레이블의 크기 : (29700, 16)\n",
      "테스트 source 데이터의 크기 : (3300, 7)\n",
      "테스트 target 데이터의 크기 : (3300, 16)\n",
      "테스트 target 레이블의 크기 : (3300, 16)\n"
     ]
    }
   ],
   "source": [
    "print('훈련 source 데이터의 크기 :',encoder_input_train.shape)\n",
    "print('훈련 target 데이터의 크기 :',decoder_input_train.shape)\n",
    "print('훈련 target 레이블의 크기 :',decoder_target_train.shape)\n",
    "print('테스트 source 데이터의 크기 :',encoder_input_test.shape)\n",
    "print('테스트 target 데이터의 크기 :',decoder_input_test.shape)\n",
    "print('테스트 target 레이블의 크기 :',decoder_target_test.shape)"
   ]
  },
  {
   "cell_type": "code",
   "execution_count": 25,
   "id": "68672da9-e6e4-4fb6-b6f0-53719e857962",
   "metadata": {
    "tags": []
   },
   "outputs": [],
   "source": [
    "from tensorflow.keras.layers import Input, LSTM, Embedding, Dense, Masking\n",
    "from tensorflow.keras.models import Model"
   ]
  },
  {
   "cell_type": "code",
   "execution_count": 26,
   "id": "545dd3e0-b196-4b80-88c4-8d4238308f60",
   "metadata": {
    "tags": []
   },
   "outputs": [],
   "source": [
    "embedding_dim = 64\n",
    "hidden_units = 64"
   ]
  },
  {
   "cell_type": "code",
   "execution_count": 27,
   "id": "3549de13-6b19-48a9-b7ec-065b25a94160",
   "metadata": {
    "tags": []
   },
   "outputs": [],
   "source": [
    "# 인코더\n",
    "encoder_inputs = Input(shape=(None,))\n",
    "enc_emb = Embedding(src_vocab_size, embedding_dim)(encoder_inputs) # 임베딩 층\n",
    "enc_masking = Masking(mask_value=0.0)(enc_emb) # 패딩 0은 연산에서 제외\n",
    "encoder_lstm = LSTM(hidden_units, return_state=True) # 상태값 리턴을 위해 return_state는 True\n",
    "encoder_outputs, state_h, state_c = encoder_lstm(enc_masking) # 은닉 상태와 셀 상태를 리턴\n",
    "encoder_states = [state_h, state_c] # 인코더의 은닉 상태와 셀 상태를 저장"
   ]
  },
  {
   "cell_type": "code",
   "execution_count": 29,
   "id": "455b681f-6cdf-483f-9e24-7c8ac2ee6d69",
   "metadata": {
    "tags": []
   },
   "outputs": [],
   "source": [
    "# 디코더\n",
    "decoder_inputs = Input(shape=(None,))\n",
    "dec_emb_layer = Embedding(tar_vocab_size, hidden_units) # 임베딩 층\n",
    "dec_emb = dec_emb_layer(decoder_inputs) # 패딩 0은 연산에서 제외\n",
    "dec_masking = Masking(mask_value=0.0)(dec_emb)\n",
    "\n",
    "# 상태값 리턴을 위해 return_state는 True, 모든 시점에 대해서 단어를 예측하기 위해 return_sequences는 True\n",
    "decoder_lstm = LSTM(hidden_units, return_sequences=True, return_state=True) \n",
    "\n",
    "# 인코더의 은닉 상태를 초기 은닉 상태(initial_state)로 사용\n",
    "decoder_outputs, _, _ = decoder_lstm(dec_masking,\n",
    "                                     initial_state=encoder_states)\n",
    "\n",
    "# 모든 시점의 결과에 대해서 소프트맥스 함수를 사용한 출력층을 통해 단어 예측\n",
    "decoder_dense = Dense(tar_vocab_size, activation='softmax')\n",
    "decoder_outputs = decoder_dense(decoder_outputs)\n",
    "\n",
    "# 모델의 입력과 출력을 정의.\n",
    "model = Model([encoder_inputs, decoder_inputs], decoder_outputs)\n",
    "\n",
    "model.compile(optimizer='adam', loss='sparse_categorical_crossentropy', metrics=['acc'])"
   ]
  },
  {
   "cell_type": "code",
   "execution_count": 30,
   "id": "304066ac-e3b5-4abc-86d9-9d6804233f50",
   "metadata": {
    "collapsed": true,
    "jupyter": {
     "outputs_hidden": true
    },
    "tags": []
   },
   "outputs": [
    {
     "name": "stdout",
     "output_type": "stream",
     "text": [
      "Epoch 1/50\n",
      "233/233 [==============================] - 49s 178ms/step - loss: 3.3739 - acc: 0.6159 - val_loss: 2.0499 - val_acc: 0.6195\n",
      "Epoch 2/50\n",
      "233/233 [==============================] - 40s 170ms/step - loss: 1.8718 - acc: 0.6549 - val_loss: 1.7750 - val_acc: 0.7170\n",
      "Epoch 3/50\n",
      "233/233 [==============================] - 40s 171ms/step - loss: 1.6718 - acc: 0.7385 - val_loss: 1.6152 - val_acc: 0.7495\n",
      "Epoch 4/50\n",
      "233/233 [==============================] - 39s 169ms/step - loss: 1.5298 - acc: 0.7578 - val_loss: 1.4994 - val_acc: 0.7608\n",
      "Epoch 5/50\n",
      "233/233 [==============================] - 40s 171ms/step - loss: 1.4186 - acc: 0.7692 - val_loss: 1.3995 - val_acc: 0.7783\n",
      "Epoch 6/50\n",
      "233/233 [==============================] - 40s 172ms/step - loss: 1.3179 - acc: 0.7858 - val_loss: 1.3159 - val_acc: 0.7870\n",
      "Epoch 7/50\n",
      "233/233 [==============================] - 40s 173ms/step - loss: 1.2378 - acc: 0.7989 - val_loss: 1.2494 - val_acc: 0.8016\n",
      "Epoch 8/50\n",
      "233/233 [==============================] - 39s 169ms/step - loss: 1.1748 - acc: 0.8080 - val_loss: 1.2016 - val_acc: 0.8078\n",
      "Epoch 9/50\n",
      "233/233 [==============================] - 40s 170ms/step - loss: 1.1218 - acc: 0.8141 - val_loss: 1.1600 - val_acc: 0.8137\n",
      "Epoch 10/50\n",
      "233/233 [==============================] - 39s 169ms/step - loss: 1.0726 - acc: 0.8215 - val_loss: 1.1211 - val_acc: 0.8202\n",
      "Epoch 11/50\n",
      "233/233 [==============================] - 40s 173ms/step - loss: 1.0273 - acc: 0.8276 - val_loss: 1.0881 - val_acc: 0.8249\n",
      "Epoch 12/50\n",
      "233/233 [==============================] - 39s 169ms/step - loss: 0.9874 - acc: 0.8323 - val_loss: 1.0589 - val_acc: 0.8284\n",
      "Epoch 13/50\n",
      "233/233 [==============================] - 40s 171ms/step - loss: 0.9514 - acc: 0.8362 - val_loss: 1.0367 - val_acc: 0.8307\n",
      "Epoch 14/50\n",
      "233/233 [==============================] - 40s 171ms/step - loss: 0.9182 - acc: 0.8397 - val_loss: 1.0104 - val_acc: 0.8335\n",
      "Epoch 15/50\n",
      "233/233 [==============================] - 40s 170ms/step - loss: 0.8865 - acc: 0.8430 - val_loss: 0.9901 - val_acc: 0.8361\n",
      "Epoch 16/50\n",
      "233/233 [==============================] - 40s 171ms/step - loss: 0.8582 - acc: 0.8459 - val_loss: 0.9698 - val_acc: 0.8380\n",
      "Epoch 17/50\n",
      "233/233 [==============================] - 40s 171ms/step - loss: 0.8313 - acc: 0.8488 - val_loss: 0.9544 - val_acc: 0.8395\n",
      "Epoch 18/50\n",
      "233/233 [==============================] - 40s 171ms/step - loss: 0.8061 - acc: 0.8515 - val_loss: 0.9363 - val_acc: 0.8414\n",
      "Epoch 19/50\n",
      "233/233 [==============================] - 40s 171ms/step - loss: 0.7806 - acc: 0.8542 - val_loss: 0.9230 - val_acc: 0.8428\n",
      "Epoch 20/50\n",
      "233/233 [==============================] - 40s 171ms/step - loss: 0.7573 - acc: 0.8563 - val_loss: 0.9079 - val_acc: 0.8452\n",
      "Epoch 21/50\n",
      "233/233 [==============================] - 40s 171ms/step - loss: 0.7341 - acc: 0.8592 - val_loss: 0.8955 - val_acc: 0.8462\n",
      "Epoch 22/50\n",
      "233/233 [==============================] - 40s 171ms/step - loss: 0.7124 - acc: 0.8615 - val_loss: 0.8833 - val_acc: 0.8476\n",
      "Epoch 23/50\n",
      "233/233 [==============================] - 40s 171ms/step - loss: 0.6921 - acc: 0.8639 - val_loss: 0.8738 - val_acc: 0.8491\n",
      "Epoch 24/50\n",
      "233/233 [==============================] - 40s 172ms/step - loss: 0.6727 - acc: 0.8662 - val_loss: 0.8614 - val_acc: 0.8502\n",
      "Epoch 25/50\n",
      "233/233 [==============================] - 40s 171ms/step - loss: 0.6526 - acc: 0.8684 - val_loss: 0.8526 - val_acc: 0.8521\n",
      "Epoch 26/50\n",
      "233/233 [==============================] - 40s 173ms/step - loss: 0.6347 - acc: 0.8708 - val_loss: 0.8422 - val_acc: 0.8527\n",
      "Epoch 27/50\n",
      "233/233 [==============================] - 40s 172ms/step - loss: 0.6172 - acc: 0.8727 - val_loss: 0.8356 - val_acc: 0.8536\n",
      "Epoch 28/50\n",
      "233/233 [==============================] - 40s 171ms/step - loss: 0.6004 - acc: 0.8747 - val_loss: 0.8274 - val_acc: 0.8546\n",
      "Epoch 29/50\n",
      "233/233 [==============================] - 40s 171ms/step - loss: 0.5846 - acc: 0.8768 - val_loss: 0.8215 - val_acc: 0.8560\n",
      "Epoch 30/50\n",
      "233/233 [==============================] - 40s 172ms/step - loss: 0.5688 - acc: 0.8788 - val_loss: 0.8143 - val_acc: 0.8568\n",
      "Epoch 31/50\n",
      "233/233 [==============================] - 40s 173ms/step - loss: 0.5535 - acc: 0.8812 - val_loss: 0.8089 - val_acc: 0.8576\n",
      "Epoch 32/50\n",
      "233/233 [==============================] - 40s 171ms/step - loss: 0.5397 - acc: 0.8826 - val_loss: 0.8023 - val_acc: 0.8572\n",
      "Epoch 33/50\n",
      "233/233 [==============================] - 40s 172ms/step - loss: 0.5247 - acc: 0.8851 - val_loss: 0.7978 - val_acc: 0.8582\n",
      "Epoch 34/50\n",
      "233/233 [==============================] - 40s 171ms/step - loss: 0.5110 - acc: 0.8872 - val_loss: 0.7926 - val_acc: 0.8593\n",
      "Epoch 35/50\n",
      "233/233 [==============================] - 40s 173ms/step - loss: 0.4976 - acc: 0.8892 - val_loss: 0.7877 - val_acc: 0.8595\n",
      "Epoch 36/50\n",
      "233/233 [==============================] - 40s 172ms/step - loss: 0.4848 - acc: 0.8914 - val_loss: 0.7830 - val_acc: 0.8612\n",
      "Epoch 37/50\n",
      "233/233 [==============================] - 40s 173ms/step - loss: 0.4715 - acc: 0.8934 - val_loss: 0.7837 - val_acc: 0.8602\n",
      "Epoch 38/50\n",
      "233/233 [==============================] - 40s 173ms/step - loss: 0.4609 - acc: 0.8951 - val_loss: 0.7753 - val_acc: 0.8612\n",
      "Epoch 39/50\n",
      "233/233 [==============================] - 40s 170ms/step - loss: 0.4473 - acc: 0.8973 - val_loss: 0.7731 - val_acc: 0.8626\n",
      "Epoch 40/50\n",
      "233/233 [==============================] - 40s 170ms/step - loss: 0.4358 - acc: 0.8993 - val_loss: 0.7695 - val_acc: 0.8633\n",
      "Epoch 41/50\n",
      "233/233 [==============================] - 39s 169ms/step - loss: 0.4247 - acc: 0.9015 - val_loss: 0.7694 - val_acc: 0.8628\n",
      "Epoch 42/50\n",
      "233/233 [==============================] - 39s 169ms/step - loss: 0.4148 - acc: 0.9032 - val_loss: 0.7628 - val_acc: 0.8646\n",
      "Epoch 43/50\n",
      "233/233 [==============================] - 42s 181ms/step - loss: 0.4041 - acc: 0.9047 - val_loss: 0.7617 - val_acc: 0.8650\n",
      "Epoch 44/50\n",
      "233/233 [==============================] - 41s 174ms/step - loss: 0.3931 - acc: 0.9071 - val_loss: 0.7596 - val_acc: 0.8654\n",
      "Epoch 45/50\n",
      "233/233 [==============================] - 40s 174ms/step - loss: 0.3832 - acc: 0.9087 - val_loss: 0.7563 - val_acc: 0.8655\n",
      "Epoch 46/50\n",
      "233/233 [==============================] - 40s 173ms/step - loss: 0.3750 - acc: 0.9106 - val_loss: 0.7548 - val_acc: 0.8664\n",
      "Epoch 47/50\n",
      "233/233 [==============================] - 40s 173ms/step - loss: 0.3650 - acc: 0.9125 - val_loss: 0.7532 - val_acc: 0.8668\n",
      "Epoch 48/50\n",
      "233/233 [==============================] - 41s 175ms/step - loss: 0.3561 - acc: 0.9143 - val_loss: 0.7514 - val_acc: 0.8680\n",
      "Epoch 49/50\n",
      "233/233 [==============================] - 41s 174ms/step - loss: 0.3480 - acc: 0.9159 - val_loss: 0.7506 - val_acc: 0.8673\n",
      "Epoch 50/50\n",
      "233/233 [==============================] - 40s 172ms/step - loss: 0.3399 - acc: 0.9176 - val_loss: 0.7487 - val_acc: 0.8688\n"
     ]
    },
    {
     "data": {
      "text/plain": [
       "<keras.src.callbacks.History at 0x18467485590>"
      ]
     },
     "execution_count": 30,
     "metadata": {},
     "output_type": "execute_result"
    }
   ],
   "source": [
    "model.fit(x=[encoder_input_train, decoder_input_train], y=decoder_target_train, \\\n",
    "          validation_data=([encoder_input_test, decoder_input_test], decoder_target_test),\n",
    "          batch_size=128, epochs=50)"
   ]
  },
  {
   "cell_type": "code",
   "execution_count": 31,
   "id": "b9de7692-1f3c-4214-8043-11a56a853895",
   "metadata": {
    "tags": []
   },
   "outputs": [],
   "source": [
    "# 인코더\n",
    "encoder_model = Model(encoder_inputs, encoder_states)\n",
    "\n",
    "# 디코더 설계 시작\n",
    "# 이전 시점의 상태를 보관할 텐서\n",
    "decoder_state_input_h = Input(shape=(hidden_units,))\n",
    "decoder_state_input_c = Input(shape=(hidden_units,))\n",
    "decoder_states_inputs = [decoder_state_input_h, decoder_state_input_c]\n",
    "\n",
    "# 훈련 때 사용했던 임베딩 층을 재사용\n",
    "dec_emb2 = dec_emb_layer(decoder_inputs)\n",
    "\n",
    "# 다음 단어 예측을 위해 이전 시점의 상태를 현 시점의 초기 상태로 사용\n",
    "decoder_outputs2, state_h2, state_c2 = decoder_lstm(dec_emb2, initial_state=decoder_states_inputs)\n",
    "decoder_states2 = [state_h2, state_c2]\n",
    "\n",
    "# 모든 시점에 대해서 단어 예측\n",
    "decoder_outputs2 = decoder_dense(decoder_outputs2)\n",
    "\n",
    "# 수정된 디코더\n",
    "decoder_model = Model(\n",
    "    [decoder_inputs] + decoder_states_inputs,\n",
    "    [decoder_outputs2] + decoder_states2)"
   ]
  },
  {
   "cell_type": "code",
   "execution_count": 32,
   "id": "8a684634-84d0-4755-ae65-97c9c0ada7be",
   "metadata": {
    "tags": []
   },
   "outputs": [],
   "source": [
    "def decode_sequence(input_seq):\n",
    "  # 입력으로부터 인코더의 마지막 시점의 상태(은닉 상태, 셀 상태)를 얻음\n",
    "  states_value = encoder_model.predict(input_seq)\n",
    "\n",
    "  # <SOS>에 해당하는 정수 생성\n",
    "  target_seq = np.zeros((1,1))\n",
    "  target_seq[0, 0] = tar_to_index['<sos>']\n",
    "\n",
    "  stop_condition = False\n",
    "  decoded_sentence = ''\n",
    "\n",
    "  # stop_condition이 True가 될 때까지 루프 반복\n",
    "  # 구현의 간소화를 위해서 이 함수는 배치 크기를 1로 가정합니다.\n",
    "  while not stop_condition:\n",
    "    # 이점 시점의 상태 states_value를 현 시점의 초기 상태로 사용\n",
    "    output_tokens, h, c = decoder_model.predict([target_seq] + states_value)\n",
    "\n",
    "    # 예측 결과를 단어로 변환\n",
    "    sampled_token_index = np.argmax(output_tokens[0, -1, :])\n",
    "    sampled_char = index_to_tar[sampled_token_index]\n",
    "\n",
    "    # 현재 시점의 예측 단어를 예측 문장에 추가\n",
    "    decoded_sentence += ' '+sampled_char\n",
    "\n",
    "    # <eos>에 도달하거나 정해진 길이를 넘으면 중단.\n",
    "    if (sampled_char == '<eos>' or\n",
    "        len(decoded_sentence) > 50):\n",
    "        stop_condition = True\n",
    "\n",
    "    # 현재 시점의 예측 결과를 다음 시점의 입력으로 사용하기 위해 저장\n",
    "    target_seq = np.zeros((1,1))\n",
    "    target_seq[0, 0] = sampled_token_index\n",
    "\n",
    "    # 현재 시점의 상태를 다음 시점의 상태로 사용하기 위해 저장\n",
    "    states_value = [h, c]\n",
    "\n",
    "  return decoded_sentence"
   ]
  },
  {
   "cell_type": "code",
   "execution_count": 34,
   "id": "92a2a271-5aed-4670-839d-4d148830ee58",
   "metadata": {
    "tags": []
   },
   "outputs": [],
   "source": [
    "# 원문의 정수 시퀀스를 텍스트 시퀀스로 변환\n",
    "def seq_to_src(input_seq):\n",
    "  sentence = ''\n",
    "  for encoded_word in input_seq:\n",
    "    if(encoded_word != 0):\n",
    "      sentence = sentence + index_to_src[encoded_word] + ' '\n",
    "  return sentence\n",
    "\n",
    "# 번역문의 정수 시퀀스를 텍스트 시퀀스로 변환\n",
    "def seq_to_tar(input_seq):\n",
    "  sentence = ''\n",
    "  for encoded_word in input_seq:\n",
    "    if(encoded_word != 0 and encoded_word != tar_to_index['<sos>'] and encoded_word != tar_to_index['<eos>']):\n",
    "      sentence = sentence + index_to_tar[encoded_word] + ' '\n",
    "  return sentence"
   ]
  },
  {
   "cell_type": "code",
   "execution_count": 35,
   "id": "9ca743dc-3d10-40ce-bdec-ca5cf4bc0ccc",
   "metadata": {
    "tags": []
   },
   "outputs": [
    {
     "name": "stdout",
     "output_type": "stream",
     "text": [
      "1/1 [==============================] - 0s 19ms/step\n",
      "1/1 [==============================] - 0s 20ms/step\n",
      "1/1 [==============================] - 0s 22ms/step\n",
      "1/1 [==============================] - 0s 22ms/step\n",
      "1/1 [==============================] - 0s 19ms/step\n",
      "1/1 [==============================] - 0s 21ms/step\n",
      "입력문장 : see you soon then . \n",
      "정답문장 : a bientot donc . \n",
      "번역문장 : a bientot bientot . \n",
      "--------------------------------------------------\n",
      "1/1 [==============================] - 0s 20ms/step\n",
      "1/1 [==============================] - 0s 21ms/step\n",
      "1/1 [==============================] - 0s 20ms/step\n",
      "1/1 [==============================] - 0s 21ms/step\n",
      "1/1 [==============================] - 0s 23ms/step\n",
      "1/1 [==============================] - 0s 20ms/step\n",
      "1/1 [==============================] - 0s 22ms/step\n",
      "입력문장 : i had a breakdown . \n",
      "정답문장 : j avais une panne . \n",
      "번역문장 : j ai un peu . \n",
      "--------------------------------------------------\n",
      "1/1 [==============================] - 0s 19ms/step\n",
      "1/1 [==============================] - 0s 21ms/step\n",
      "1/1 [==============================] - 0s 20ms/step\n",
      "1/1 [==============================] - 0s 20ms/step\n",
      "1/1 [==============================] - 0s 20ms/step\n",
      "1/1 [==============================] - 0s 21ms/step\n",
      "1/1 [==============================] - 0s 21ms/step\n",
      "1/1 [==============================] - 0s 21ms/step\n",
      "1/1 [==============================] - 0s 21ms/step\n",
      "입력문장 : i just moved in . \n",
      "정답문장 : je viens d emmenager . \n",
      "번역문장 : je viens de faire mes excuses . \n",
      "--------------------------------------------------\n",
      "1/1 [==============================] - 0s 22ms/step\n",
      "1/1 [==============================] - 0s 22ms/step\n",
      "1/1 [==============================] - 0s 22ms/step\n",
      "1/1 [==============================] - 0s 21ms/step\n",
      "1/1 [==============================] - 0s 23ms/step\n",
      "1/1 [==============================] - 0s 21ms/step\n",
      "1/1 [==============================] - 0s 19ms/step\n",
      "1/1 [==============================] - 0s 21ms/step\n",
      "입력문장 : i need subtitles . \n",
      "정답문장 : j ai besoin de sous titres . \n",
      "번역문장 : j ai besoin de preuves . \n",
      "--------------------------------------------------\n"
     ]
    }
   ],
   "source": [
    "for seq_index in [50, 500, 1000, 3001]:\n",
    "  input_seq = encoder_input_train[seq_index: seq_index + 1]\n",
    "  decoded_sentence = decode_sequence(input_seq)\n",
    "\n",
    "  print(\"입력문장 :\",seq_to_src(encoder_input_train[seq_index]))\n",
    "  print(\"정답문장 :\",seq_to_tar(decoder_input_train[seq_index]))\n",
    "  print(\"번역문장 :\",decoded_sentence[1:-5])\n",
    "  print(\"-\"*50)"
   ]
  },
  {
   "cell_type": "code",
   "execution_count": 36,
   "id": "2ff7c225-9a58-46a6-9304-34b192468028",
   "metadata": {
    "tags": []
   },
   "outputs": [
    {
     "name": "stdout",
     "output_type": "stream",
     "text": [
      "1/1 [==============================] - 0s 21ms/step\n",
      "1/1 [==============================] - 0s 20ms/step\n",
      "1/1 [==============================] - 0s 21ms/step\n",
      "1/1 [==============================] - 0s 20ms/step\n",
      "1/1 [==============================] - 0s 21ms/step\n",
      "1/1 [==============================] - 0s 21ms/step\n",
      "1/1 [==============================] - 0s 22ms/step\n",
      "입력문장 : he is thick headed . \n",
      "정답문장 : il est borne . \n",
      "번역문장 : il est la retraite . \n",
      "--------------------------------------------------\n",
      "1/1 [==============================] - 0s 20ms/step\n",
      "1/1 [==============================] - 0s 21ms/step\n",
      "1/1 [==============================] - 0s 21ms/step\n",
      "1/1 [==============================] - 0s 21ms/step\n",
      "1/1 [==============================] - 0s 22ms/step\n",
      "1/1 [==============================] - 0s 21ms/step\n",
      "1/1 [==============================] - 0s 21ms/step\n",
      "입력문장 : this is my wife . \n",
      "정답문장 : voici mon epouse . \n",
      "번역문장 : c est mon chien . \n",
      "--------------------------------------------------\n",
      "1/1 [==============================] - 0s 17ms/step\n",
      "1/1 [==============================] - 0s 23ms/step\n",
      "1/1 [==============================] - 0s 22ms/step\n",
      "1/1 [==============================] - 0s 22ms/step\n",
      "1/1 [==============================] - 0s 22ms/step\n",
      "1/1 [==============================] - 0s 22ms/step\n",
      "1/1 [==============================] - 0s 20ms/step\n",
      "1/1 [==============================] - 0s 21ms/step\n",
      "입력문장 : are you relaxed ? \n",
      "정답문장 : etes vous detendues ? \n",
      "번역문장 : es tu doue de sagesse ? \n",
      "--------------------------------------------------\n",
      "1/1 [==============================] - 0s 20ms/step\n",
      "1/1 [==============================] - 0s 22ms/step\n",
      "1/1 [==============================] - 0s 20ms/step\n",
      "1/1 [==============================] - 0s 20ms/step\n",
      "1/1 [==============================] - 0s 21ms/step\n",
      "1/1 [==============================] - 0s 22ms/step\n",
      "1/1 [==============================] - 0s 23ms/step\n",
      "1/1 [==============================] - 0s 20ms/step\n",
      "입력문장 : you ve done it ! \n",
      "정답문장 : tu l as fait ! \n",
      "번역문장 : vous avez fait du poisson . \n",
      "--------------------------------------------------\n",
      "1/1 [==============================] - 0s 20ms/step\n",
      "1/1 [==============================] - 0s 22ms/step\n",
      "1/1 [==============================] - 0s 20ms/step\n",
      "1/1 [==============================] - 0s 22ms/step\n",
      "1/1 [==============================] - 0s 22ms/step\n",
      "1/1 [==============================] - 0s 21ms/step\n",
      "1/1 [==============================] - 0s 22ms/step\n",
      "1/1 [==============================] - 0s 21ms/step\n",
      "1/1 [==============================] - 0s 21ms/step\n",
      "입력문장 : i feel useless . \n",
      "정답문장 : je me sens inutile . \n",
      "번역문장 : je ne sens pas encore ceci . \n",
      "--------------------------------------------------\n"
     ]
    }
   ],
   "source": [
    "for seq_index in [3, 50, 100, 300, 1001]:\n",
    "  input_seq = encoder_input_test[seq_index: seq_index + 1]\n",
    "  decoded_sentence = decode_sequence(input_seq)\n",
    "\n",
    "  print(\"입력문장 :\",seq_to_src(encoder_input_test[seq_index]))\n",
    "  print(\"정답문장 :\",seq_to_tar(decoder_input_test[seq_index]))\n",
    "  print(\"번역문장 :\",decoded_sentence[1:-5])\n",
    "  print(\"-\"*50)"
   ]
  },
  {
   "cell_type": "code",
   "execution_count": 37,
   "id": "8c422034-b9e8-4ea2-8fea-35255593fc55",
   "metadata": {
    "tags": []
   },
   "outputs": [
    {
     "name": "stderr",
     "output_type": "stream",
     "text": [
      "C:\\Users\\USER\\anaconda3\\Lib\\site-packages\\keras\\src\\engine\\training.py:3000: UserWarning: You are saving your model as an HDF5 file via `model.save()`. This file format is considered legacy. We recommend using instead the native Keras format, e.g. `model.save('my_model.keras')`.\n",
      "  saving_api.save_model(\n"
     ]
    }
   ],
   "source": [
    "model.save('seq2seq_eng_fra_trsltr.h5')"
   ]
  }
 ],
 "metadata": {
  "kernelspec": {
   "display_name": "Python 3 (ipykernel)",
   "language": "python",
   "name": "python3"
  },
  "language_info": {
   "codemirror_mode": {
    "name": "ipython",
    "version": 3
   },
   "file_extension": ".py",
   "mimetype": "text/x-python",
   "name": "python",
   "nbconvert_exporter": "python",
   "pygments_lexer": "ipython3",
   "version": "3.11.4"
  }
 },
 "nbformat": 4,
 "nbformat_minor": 5
}
